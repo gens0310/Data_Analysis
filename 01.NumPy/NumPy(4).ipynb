{
  "nbformat": 4,
  "nbformat_minor": 0,
  "metadata": {
    "colab": {
      "name": "NumPy(4).ipynb",
      "provenance": [],
      "collapsed_sections": []
    },
    "kernelspec": {
      "name": "python3",
      "display_name": "Python 3"
    },
    "language_info": {
      "name": "python"
    }
  },
  "cells": [
    {
      "cell_type": "markdown",
      "metadata": {
        "id": "XgjWsytRKAmU"
      },
      "source": [
        "# Exercise"
      ]
    },
    {
      "cell_type": "code",
      "metadata": {
        "id": "24I0ms8sKfeY"
      },
      "source": [
        "import numpy as np"
      ],
      "execution_count": null,
      "outputs": []
    },
    {
      "cell_type": "markdown",
      "metadata": {
        "id": "IU4IWGsXKG1O"
      },
      "source": [
        "## 1.\n",
        "- ([[10, 20, 30, 40],\n",
        "    [50, 60, 70, 80]])"
      ]
    },
    {
      "cell_type": "code",
      "metadata": {
        "colab": {
          "base_uri": "https://localhost:8080/"
        },
        "id": "xZju_eyPJ917",
        "outputId": "96f4d3fe-cb7b-41ba-8465-dc88f4cbd9a7"
      },
      "source": [
        "np.arange(1, 9).reshape(2, 4) * 10"
      ],
      "execution_count": null,
      "outputs": [
        {
          "output_type": "execute_result",
          "data": {
            "text/plain": [
              "array([[10, 20, 30, 40],\n",
              "       [50, 60, 70, 80]])"
            ]
          },
          "metadata": {
            "tags": []
          },
          "execution_count": 2
        }
      ]
    },
    {
      "cell_type": "markdown",
      "metadata": {
        "id": "MmPz7iDfKHcV"
      },
      "source": [
        "## 2.\n",
        "- a = np.array([[0, 1, 2, 3, 4],[5, 6, 7, 8, 9],[10, 11, 12, 13, 14]])\n",
        "- 값 7 인덱싱\n",
        "- 값 14 인덱싱\n",
        "- 배열 [6, 7] 슬라이싱\n",
        "- 배열 [7, 12] 슬라이싱\n",
        "- 배열 [[3, 4], [8, 9]] 슬라이싱"
      ]
    },
    {
      "cell_type": "code",
      "metadata": {
        "colab": {
          "base_uri": "https://localhost:8080/"
        },
        "id": "zftraRJxKH9-",
        "outputId": "266b0acf-0aeb-46b3-c312-3ff7b8d6a2e6"
      },
      "source": [
        "a = np.arange(15).reshape(3, -1)\n",
        "a"
      ],
      "execution_count": null,
      "outputs": [
        {
          "output_type": "execute_result",
          "data": {
            "text/plain": [
              "array([[ 0,  1,  2,  3,  4],\n",
              "       [ 5,  6,  7,  8,  9],\n",
              "       [10, 11, 12, 13, 14]])"
            ]
          },
          "metadata": {
            "tags": []
          },
          "execution_count": 3
        }
      ]
    },
    {
      "cell_type": "code",
      "metadata": {
        "colab": {
          "base_uri": "https://localhost:8080/"
        },
        "id": "HcohpfTSLgvF",
        "outputId": "5a9cae1f-da60-4157-9316-de813ff0ba7d"
      },
      "source": [
        "a[1, 2]"
      ],
      "execution_count": null,
      "outputs": [
        {
          "output_type": "execute_result",
          "data": {
            "text/plain": [
              "7"
            ]
          },
          "metadata": {
            "tags": []
          },
          "execution_count": 4
        }
      ]
    },
    {
      "cell_type": "code",
      "metadata": {
        "colab": {
          "base_uri": "https://localhost:8080/"
        },
        "id": "bzOC8KETLgNq",
        "outputId": "f6c9c141-bcb9-4b44-d2f2-c9964ca9489c"
      },
      "source": [
        "a[-1, -1]"
      ],
      "execution_count": null,
      "outputs": [
        {
          "output_type": "execute_result",
          "data": {
            "text/plain": [
              "14"
            ]
          },
          "metadata": {
            "tags": []
          },
          "execution_count": 5
        }
      ]
    },
    {
      "cell_type": "code",
      "metadata": {
        "colab": {
          "base_uri": "https://localhost:8080/"
        },
        "id": "W_2iAq4YLgFC",
        "outputId": "125e6add-c528-432c-a1b4-9586bf701feb"
      },
      "source": [
        "a[1, 1:3]"
      ],
      "execution_count": null,
      "outputs": [
        {
          "output_type": "execute_result",
          "data": {
            "text/plain": [
              "array([6, 7])"
            ]
          },
          "metadata": {
            "tags": []
          },
          "execution_count": 6
        }
      ]
    },
    {
      "cell_type": "code",
      "metadata": {
        "colab": {
          "base_uri": "https://localhost:8080/"
        },
        "id": "FZ9R6jQfLf9b",
        "outputId": "c7a4a7a0-72b3-4d31-e658-5d9adf9d4d97"
      },
      "source": [
        "a[1:, 2]"
      ],
      "execution_count": null,
      "outputs": [
        {
          "output_type": "execute_result",
          "data": {
            "text/plain": [
              "array([ 7, 12])"
            ]
          },
          "metadata": {
            "tags": []
          },
          "execution_count": 7
        }
      ]
    },
    {
      "cell_type": "code",
      "metadata": {
        "colab": {
          "base_uri": "https://localhost:8080/"
        },
        "id": "1tUfpJqZLfxx",
        "outputId": "b8a7d769-896c-40f0-9e8f-47f695358312"
      },
      "source": [
        "a[:2, 3:]"
      ],
      "execution_count": null,
      "outputs": [
        {
          "output_type": "execute_result",
          "data": {
            "text/plain": [
              "array([[3, 4],\n",
              "       [8, 9]])"
            ]
          },
          "metadata": {
            "tags": []
          },
          "execution_count": 8
        }
      ]
    },
    {
      "cell_type": "markdown",
      "metadata": {
        "id": "kGH7_IhhKIaf"
      },
      "source": [
        "## 3. 행렬 a를 1차원 벡터 f로 변환\n",
        "- 3의 배수\n",
        "- 4로 나누면 1이 남는 수\n",
        "- 3으로 나누어지고 4로 나누면 1이 남는 수"
      ]
    },
    {
      "cell_type": "code",
      "metadata": {
        "colab": {
          "base_uri": "https://localhost:8080/"
        },
        "id": "Yqis85T2KIxC",
        "outputId": "737558d1-8e52-46f6-bf3e-f6572b6c8a25"
      },
      "source": [
        "f = a.flatten()\n",
        "f"
      ],
      "execution_count": null,
      "outputs": [
        {
          "output_type": "execute_result",
          "data": {
            "text/plain": [
              "array([ 0,  1,  2,  3,  4,  5,  6,  7,  8,  9, 10, 11, 12, 13, 14])"
            ]
          },
          "metadata": {
            "tags": []
          },
          "execution_count": 9
        }
      ]
    },
    {
      "cell_type": "code",
      "metadata": {
        "colab": {
          "base_uri": "https://localhost:8080/"
        },
        "id": "CVOxploeLy5L",
        "outputId": "1af41e37-307f-4d86-8a30-8303c6b0b16a"
      },
      "source": [
        "f[f % 3 == 0]"
      ],
      "execution_count": null,
      "outputs": [
        {
          "output_type": "execute_result",
          "data": {
            "text/plain": [
              "array([ 0,  3,  6,  9, 12])"
            ]
          },
          "metadata": {
            "tags": []
          },
          "execution_count": 10
        }
      ]
    },
    {
      "cell_type": "code",
      "metadata": {
        "colab": {
          "base_uri": "https://localhost:8080/"
        },
        "id": "gCpIwoYVLzIg",
        "outputId": "cdae42e4-4f72-449c-c35d-63899ae9da00"
      },
      "source": [
        "f[f % 4 == 1]"
      ],
      "execution_count": null,
      "outputs": [
        {
          "output_type": "execute_result",
          "data": {
            "text/plain": [
              "array([ 1,  5,  9, 13])"
            ]
          },
          "metadata": {
            "tags": []
          },
          "execution_count": 11
        }
      ]
    },
    {
      "cell_type": "code",
      "metadata": {
        "colab": {
          "base_uri": "https://localhost:8080/"
        },
        "id": "W3J1lp5iLzBZ",
        "outputId": "cc276f62-f6b4-45b6-86e8-b4a174a0c0b8"
      },
      "source": [
        "f[np.logical_and(f % 3 == 0, f % 4 == 1)]"
      ],
      "execution_count": null,
      "outputs": [
        {
          "output_type": "execute_result",
          "data": {
            "text/plain": [
              "array([9])"
            ]
          },
          "metadata": {
            "tags": []
          },
          "execution_count": 12
        }
      ]
    },
    {
      "cell_type": "markdown",
      "metadata": {
        "id": "kDs_pGg7KJO_"
      },
      "source": [
        "## 4. [[2, 1, 0, 0, 0],[3, 2, 1, 0, 0],[0, 3, 2, 1, 0],[0, 0, 3, 2, 1],[0, 0, 0, 3, 2]]"
      ]
    },
    {
      "cell_type": "code",
      "metadata": {
        "colab": {
          "base_uri": "https://localhost:8080/"
        },
        "id": "lUi_tKSrKJkE",
        "outputId": "77cb0358-3bf2-4dca-baa1-ac2636b9ef4b"
      },
      "source": [
        "np.eye(5, 5, k = -1) * 3 + np.eye(5, 5) * 2 + np.eye(5, 5, k = 1)"
      ],
      "execution_count": null,
      "outputs": [
        {
          "output_type": "execute_result",
          "data": {
            "text/plain": [
              "array([[2., 1., 0., 0., 0.],\n",
              "       [3., 2., 1., 0., 0.],\n",
              "       [0., 3., 2., 1., 0.],\n",
              "       [0., 0., 3., 2., 1.],\n",
              "       [0., 0., 0., 3., 2.]])"
            ]
          },
          "metadata": {
            "tags": []
          },
          "execution_count": 15
        }
      ]
    },
    {
      "cell_type": "markdown",
      "metadata": {
        "id": "4MLHLUnNMznJ"
      },
      "source": [
        "## 5. 0~10 랜덤 실수, 5 * 6 행렬\n",
        "- 최대값\n",
        "- 각 행의 합\n",
        "- 각 행의 최대값\n",
        "- 각 열의 평균\n",
        "- 각 열의 최소값"
      ]
    },
    {
      "cell_type": "code",
      "metadata": {
        "colab": {
          "base_uri": "https://localhost:8080/"
        },
        "id": "H5Ub_vtuNDpQ",
        "outputId": "6faa9fa6-736c-4ffa-9a98-7d0f0e6c9690"
      },
      "source": [
        "np.random.seed(2021)\n",
        "e = np.random.uniform(0, 10, 30).reshape(5, 6).round(4)\n",
        "e"
      ],
      "execution_count": null,
      "outputs": [
        {
          "output_type": "execute_result",
          "data": {
            "text/plain": [
              "array([[6.0598, 7.3337, 1.3895, 3.1267, 9.9724, 1.2816],\n",
              "       [1.7899, 7.5293, 6.6216, 7.8431, 0.9689, 0.5857],\n",
              "       [9.624 , 6.1656, 0.8663, 5.6127, 6.1652, 9.6384],\n",
              "       [5.743 , 3.7116, 4.5215, 2.0185, 5.6931, 1.951 ],\n",
              "       [5.837 , 4.7631, 5.1781, 8.231 , 7.3223, 0.6906]])"
            ]
          },
          "metadata": {
            "tags": []
          },
          "execution_count": 16
        }
      ]
    },
    {
      "cell_type": "code",
      "metadata": {
        "colab": {
          "base_uri": "https://localhost:8080/"
        },
        "id": "qTxZgKOpNFAZ",
        "outputId": "00d36348-b8eb-419c-c857-b7303aff3f46"
      },
      "source": [
        "np.max(e)"
      ],
      "execution_count": null,
      "outputs": [
        {
          "output_type": "execute_result",
          "data": {
            "text/plain": [
              "9.9724"
            ]
          },
          "metadata": {
            "tags": []
          },
          "execution_count": 17
        }
      ]
    },
    {
      "cell_type": "code",
      "metadata": {
        "colab": {
          "base_uri": "https://localhost:8080/"
        },
        "id": "1xxxpVU7NFeS",
        "outputId": "665146a3-13d2-4f28-cf65-8b48ee421dc1"
      },
      "source": [
        "np.sum(e, axis = 1)"
      ],
      "execution_count": null,
      "outputs": [
        {
          "output_type": "execute_result",
          "data": {
            "text/plain": [
              "array([29.1637, 25.3385, 38.0722, 23.6387, 32.0221])"
            ]
          },
          "metadata": {
            "tags": []
          },
          "execution_count": 18
        }
      ]
    },
    {
      "cell_type": "code",
      "metadata": {
        "colab": {
          "base_uri": "https://localhost:8080/"
        },
        "id": "78XhIo03NFI9",
        "outputId": "eb026f5a-c5c0-4eb0-ef37-97322942c839"
      },
      "source": [
        "np.max(e, axis = 1)"
      ],
      "execution_count": null,
      "outputs": [
        {
          "output_type": "execute_result",
          "data": {
            "text/plain": [
              "array([9.9724, 7.8431, 9.6384, 5.743 , 8.231 ])"
            ]
          },
          "metadata": {
            "tags": []
          },
          "execution_count": 19
        }
      ]
    },
    {
      "cell_type": "code",
      "metadata": {
        "colab": {
          "base_uri": "https://localhost:8080/"
        },
        "id": "nn51juX_NEne",
        "outputId": "c713b9e6-0d44-4b22-a10a-c4ddfdf43baf"
      },
      "source": [
        "np.mean(e, axis = 0)"
      ],
      "execution_count": null,
      "outputs": [
        {
          "output_type": "execute_result",
          "data": {
            "text/plain": [
              "array([5.81074, 5.90066, 3.7154 , 5.3664 , 6.02438, 2.82946])"
            ]
          },
          "metadata": {
            "tags": []
          },
          "execution_count": 20
        }
      ]
    },
    {
      "cell_type": "code",
      "metadata": {
        "colab": {
          "base_uri": "https://localhost:8080/"
        },
        "id": "hbnGrQsINE26",
        "outputId": "5f9cb2bf-998b-49f0-d04a-f1e67f37e106"
      },
      "source": [
        "np.min(e, axis = 0)"
      ],
      "execution_count": null,
      "outputs": [
        {
          "output_type": "execute_result",
          "data": {
            "text/plain": [
              "array([1.7899, 3.7116, 0.8663, 2.0185, 0.9689, 0.5857])"
            ]
          },
          "metadata": {
            "tags": []
          },
          "execution_count": 21
        }
      ]
    },
    {
      "cell_type": "markdown",
      "metadata": {
        "id": "nMZ4ZMPoNF4H"
      },
      "source": [
        "## 6. 첫번째 행: 학번, 두번째 행: 영어 성적, 세번째 행: 수학 성적 - 영어 성적 기준 각 열 재정렬"
      ]
    },
    {
      "cell_type": "code",
      "metadata": {
        "id": "w_OTdYmbNYj8"
      },
      "source": [
        "g = np.array([[1, 2, 3, 4],\n",
        "             [46, 99, 100, 71],\n",
        "             [81, 59, 90, 100]])"
      ],
      "execution_count": null,
      "outputs": []
    },
    {
      "cell_type": "code",
      "metadata": {
        "colab": {
          "base_uri": "https://localhost:8080/"
        },
        "id": "AiO3lHSMNoBB",
        "outputId": "40eb50e5-d6b2-4207-d584-53946257f7db"
      },
      "source": [
        "np.sort(g, axis = 1)"
      ],
      "execution_count": null,
      "outputs": [
        {
          "output_type": "execute_result",
          "data": {
            "text/plain": [
              "array([[  1,   2,   3,   4],\n",
              "       [ 46,  71,  99, 100],\n",
              "       [ 59,  81,  90, 100]])"
            ]
          },
          "metadata": {
            "tags": []
          },
          "execution_count": 24
        }
      ]
    },
    {
      "cell_type": "code",
      "metadata": {
        "colab": {
          "base_uri": "https://localhost:8080/"
        },
        "id": "Nvhe3Z5Xc35k",
        "outputId": "87e4fe64-a875-4183-873d-56ed73586452"
      },
      "source": [
        "s = np.argsort(g[1])\n",
        "s"
      ],
      "execution_count": null,
      "outputs": [
        {
          "output_type": "execute_result",
          "data": {
            "text/plain": [
              "array([0, 3, 1, 2])"
            ]
          },
          "metadata": {
            "tags": []
          },
          "execution_count": 26
        }
      ]
    },
    {
      "cell_type": "code",
      "metadata": {
        "colab": {
          "base_uri": "https://localhost:8080/"
        },
        "id": "wh495tTgc_OD",
        "outputId": "5a4b7bb3-7c25-4ddb-fc6a-3df8590dbf6f"
      },
      "source": [
        "s[::-1]"
      ],
      "execution_count": null,
      "outputs": [
        {
          "output_type": "execute_result",
          "data": {
            "text/plain": [
              "array([2, 1, 3, 0])"
            ]
          },
          "metadata": {
            "tags": []
          },
          "execution_count": 27
        }
      ]
    },
    {
      "cell_type": "code",
      "metadata": {
        "colab": {
          "base_uri": "https://localhost:8080/"
        },
        "id": "wC7gYMJLdB4t",
        "outputId": "0d386aea-eb2d-4fe2-e873-796dc58d2c4e"
      },
      "source": [
        "g[:, s]"
      ],
      "execution_count": null,
      "outputs": [
        {
          "output_type": "execute_result",
          "data": {
            "text/plain": [
              "array([[  1,   4,   2,   3],\n",
              "       [ 46,  71,  99, 100],\n",
              "       [ 81, 100,  59,  90]])"
            ]
          },
          "metadata": {
            "tags": []
          },
          "execution_count": 29
        }
      ]
    },
    {
      "cell_type": "code",
      "metadata": {
        "colab": {
          "base_uri": "https://localhost:8080/"
        },
        "id": "d1W0_0D1dNv8",
        "outputId": "4842df67-109e-45fe-c65b-c48a75955bec"
      },
      "source": [
        "g[:, np.argsort(g[1])[::-1]]"
      ],
      "execution_count": null,
      "outputs": [
        {
          "output_type": "execute_result",
          "data": {
            "text/plain": [
              "array([[  3,   2,   4,   1],\n",
              "       [100,  99,  71,  46],\n",
              "       [ 90,  59, 100,  81]])"
            ]
          },
          "metadata": {
            "tags": []
          },
          "execution_count": 30
        }
      ]
    },
    {
      "cell_type": "markdown",
      "metadata": {
        "id": "x1yDwjRvNna8"
      },
      "source": [
        "## 7. 주사위 100번 가상 실험, 나온 숫자의 평균"
      ]
    },
    {
      "cell_type": "code",
      "metadata": {
        "colab": {
          "base_uri": "https://localhost:8080/"
        },
        "id": "40h14v2HNo6l",
        "outputId": "ef84bb47-efa3-45ee-b77c-5c67754a7e22"
      },
      "source": [
        "np.random.seed(2021)\n",
        "d = np.random.randint(1, 7, 100)\n",
        "d"
      ],
      "execution_count": null,
      "outputs": [
        {
          "output_type": "execute_result",
          "data": {
            "text/plain": [
              "array([5, 6, 2, 1, 6, 5, 4, 6, 6, 6, 1, 5, 2, 6, 2, 2, 5, 6, 3, 3, 1, 4,\n",
              "       2, 1, 3, 4, 5, 6, 1, 6, 2, 3, 6, 2, 6, 2, 3, 3, 5, 6, 3, 4, 2, 3,\n",
              "       3, 1, 3, 5, 6, 4, 4, 2, 2, 2, 3, 6, 4, 4, 5, 4, 2, 5, 2, 2, 5, 4,\n",
              "       6, 4, 4, 4, 3, 2, 4, 3, 6, 3, 3, 1, 5, 4, 2, 4, 2, 5, 3, 4, 2, 3,\n",
              "       6, 3, 6, 3, 4, 5, 6, 2, 2, 6, 1, 6])"
            ]
          },
          "metadata": {
            "tags": []
          },
          "execution_count": 31
        }
      ]
    },
    {
      "cell_type": "code",
      "metadata": {
        "colab": {
          "base_uri": "https://localhost:8080/"
        },
        "id": "HNx9pqKOdg66",
        "outputId": "a06cee41-e3c9-4a6c-b428-8b184ec186c7"
      },
      "source": [
        "np.mean(d)"
      ],
      "execution_count": null,
      "outputs": [
        {
          "output_type": "execute_result",
          "data": {
            "text/plain": [
              "3.7"
            ]
          },
          "metadata": {
            "tags": []
          },
          "execution_count": 32
        }
      ]
    },
    {
      "cell_type": "markdown",
      "metadata": {
        "id": "vBrM7ADMNwFs"
      },
      "source": [
        "## 8. 주식 10,000원, 일간 수익률 기대값 0%, 표준편차 1% 표준 정규 분포, 250일 간 무작위 주가 생성"
      ]
    },
    {
      "cell_type": "code",
      "metadata": {
        "colab": {
          "base_uri": "https://localhost:8080/"
        },
        "id": "NWWJEsvmNwyk",
        "outputId": "2614293f-504f-48fd-f595-b107507ecf56"
      },
      "source": [
        "np.random.seed(2021)\n",
        "p = 10000\n",
        "r = np.random.normal(0, 1, 10)\n",
        "for i in range(10):\n",
        "    p += np.round(p * r[i] * 0.01)\n",
        "    print(p, end = ', ')"
      ],
      "execution_count": null,
      "outputs": [
        {
          "output_type": "stream",
          "text": [
            "10149.0, 10218.0, 10175.0, 10093.0, 10149.0, 10077.0, 10191.0, 10257.0, 10268.0, 10311.0, "
          ],
          "name": "stdout"
        }
      ]
    },
    {
      "cell_type": "code",
      "metadata": {
        "id": "_4HamHsHd3EL"
      },
      "source": [
        "np.random.seed(2021)\n",
        "p_list = []\n",
        "r = np.random.normal(0, 1, 250)\n",
        "p = 10000\n",
        "for i in range(250):\n",
        "    p += np.round(p * r[i] * 0.01)\n",
        "    p_list.append(p)\n",
        "p_array = np.array(p_list, int)"
      ],
      "execution_count": null,
      "outputs": []
    },
    {
      "cell_type": "code",
      "metadata": {
        "colab": {
          "base_uri": "https://localhost:8080/"
        },
        "id": "ihJSWmgFeRQh",
        "outputId": "008a0969-67aa-430d-8bf5-eb4f234cf6cf"
      },
      "source": [
        "print(p_array[:10])"
      ],
      "execution_count": null,
      "outputs": [
        {
          "output_type": "stream",
          "text": [
            "[10149 10218 10175 10093 10149 10077 10191 10257 10268 10311]\n"
          ],
          "name": "stdout"
        }
      ]
    },
    {
      "cell_type": "code",
      "metadata": {
        "colab": {
          "base_uri": "https://localhost:8080/"
        },
        "id": "Za5yk9EMeVAY",
        "outputId": "ada1d290-7013-4959-de53-24eb2376accc"
      },
      "source": [
        "print(p_array[-10:])"
      ],
      "execution_count": null,
      "outputs": [
        {
          "output_type": "stream",
          "text": [
            "[12072 12210 12255 12359 12292 12262 12136 12010 11984 12113]\n"
          ],
          "name": "stdout"
        }
      ]
    }
  ]
}