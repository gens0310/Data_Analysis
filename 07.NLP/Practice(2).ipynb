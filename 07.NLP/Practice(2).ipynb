{
  "nbformat": 4,
  "nbformat_minor": 0,
  "metadata": {
    "colab": {
      "name": "Practice(2).ipynb",
      "provenance": [],
      "collapsed_sections": []
    },
    "kernelspec": {
      "name": "python3",
      "display_name": "Python 3"
    },
    "language_info": {
      "name": "python"
    }
  },
  "cells": [
    {
      "cell_type": "markdown",
      "metadata": {
        "id": "vZyOwsD9wIPV"
      },
      "source": [
        "# Movie Recommendation"
      ]
    },
    {
      "cell_type": "code",
      "metadata": {
        "id": "dfV5l7Qs-PrA"
      },
      "source": [
        "import numpy as np\n",
        "import pandas as pd\n",
        "import warnings\n",
        "warnings.filterwarnings('ignore')"
      ],
      "execution_count": 1,
      "outputs": []
    },
    {
      "cell_type": "code",
      "metadata": {
        "colab": {
          "resources": {
            "http://localhost:8080/nbextensions/google.colab/files.js": {
              "data": "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",
              "ok": true,
              "headers": [
                [
                  "content-type",
                  "application/javascript"
                ]
              ],
              "status": 200,
              "status_text": ""
            }
          },
          "base_uri": "https://localhost:8080/",
          "height": 93
        },
        "id": "9GzC5LDwwF6g",
        "outputId": "e36e95e1-3ca7-4075-d31c-31268e953ce3"
      },
      "source": [
        "from google.colab import files\n",
        "uploaded = files.upload()\n",
        "filename1 = list(uploaded.keys())[0]"
      ],
      "execution_count": 2,
      "outputs": [
        {
          "output_type": "display_data",
          "data": {
            "text/html": [
              "\n",
              "     <input type=\"file\" id=\"files-1556c2fd-94f6-4506-8f30-5d76d327f875\" name=\"files[]\" multiple disabled\n",
              "        style=\"border:none\" />\n",
              "     <output id=\"result-1556c2fd-94f6-4506-8f30-5d76d327f875\">\n",
              "      Upload widget is only available when the cell has been executed in the\n",
              "      current browser session. Please rerun this cell to enable.\n",
              "      </output>\n",
              "      <script src=\"/nbextensions/google.colab/files.js\"></script> "
            ],
            "text/plain": [
              "<IPython.core.display.HTML object>"
            ]
          },
          "metadata": {}
        },
        {
          "output_type": "stream",
          "name": "stdout",
          "text": [
            "Saving movies_metadata.csv to movies_metadata.csv\n"
          ]
        }
      ]
    },
    {
      "cell_type": "code",
      "metadata": {
        "colab": {
          "resources": {
            "http://localhost:8080/nbextensions/google.colab/files.js": {
              "data": "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",
              "ok": true,
              "headers": [
                [
                  "content-type",
                  "application/javascript"
                ]
              ],
              "status": 200,
              "status_text": ""
            }
          },
          "base_uri": "https://localhost:8080/",
          "height": 93
        },
        "id": "rRm3YVhh-KK6",
        "outputId": "070180b1-a1cc-4672-be53-4e171989e28e"
      },
      "source": [
        "uploaded = files.upload()\n",
        "filename2 = list(uploaded.keys())[0]"
      ],
      "execution_count": 3,
      "outputs": [
        {
          "output_type": "display_data",
          "data": {
            "text/html": [
              "\n",
              "     <input type=\"file\" id=\"files-11c0d87e-bcb7-49ca-b288-84882982430c\" name=\"files[]\" multiple disabled\n",
              "        style=\"border:none\" />\n",
              "     <output id=\"result-11c0d87e-bcb7-49ca-b288-84882982430c\">\n",
              "      Upload widget is only available when the cell has been executed in the\n",
              "      current browser session. Please rerun this cell to enable.\n",
              "      </output>\n",
              "      <script src=\"/nbextensions/google.colab/files.js\"></script> "
            ],
            "text/plain": [
              "<IPython.core.display.HTML object>"
            ]
          },
          "metadata": {}
        },
        {
          "output_type": "stream",
          "name": "stdout",
          "text": [
            "Saving credits.csv to credits.csv\n"
          ]
        }
      ]
    },
    {
      "cell_type": "code",
      "metadata": {
        "colab": {
          "base_uri": "https://localhost:8080/",
          "height": 185
        },
        "id": "v90J3QWA-MX6",
        "outputId": "4e28d050-22a0-4976-fdcf-5d916c76e36b"
      },
      "source": [
        "movie_df = pd.read_csv(filename1, low_memory = False)\n",
        "movie_df.head(1)"
      ],
      "execution_count": 4,
      "outputs": [
        {
          "output_type": "execute_result",
          "data": {
            "text/html": [
              "<div>\n",
              "<style scoped>\n",
              "    .dataframe tbody tr th:only-of-type {\n",
              "        vertical-align: middle;\n",
              "    }\n",
              "\n",
              "    .dataframe tbody tr th {\n",
              "        vertical-align: top;\n",
              "    }\n",
              "\n",
              "    .dataframe thead th {\n",
              "        text-align: right;\n",
              "    }\n",
              "</style>\n",
              "<table border=\"1\" class=\"dataframe\">\n",
              "  <thead>\n",
              "    <tr style=\"text-align: right;\">\n",
              "      <th></th>\n",
              "      <th>adult</th>\n",
              "      <th>belongs_to_collection</th>\n",
              "      <th>budget</th>\n",
              "      <th>genres</th>\n",
              "      <th>homepage</th>\n",
              "      <th>id</th>\n",
              "      <th>imdb_id</th>\n",
              "      <th>original_language</th>\n",
              "      <th>original_title</th>\n",
              "      <th>overview</th>\n",
              "      <th>popularity</th>\n",
              "      <th>poster_path</th>\n",
              "      <th>production_companies</th>\n",
              "      <th>production_countries</th>\n",
              "      <th>release_date</th>\n",
              "      <th>revenue</th>\n",
              "      <th>runtime</th>\n",
              "      <th>spoken_languages</th>\n",
              "      <th>status</th>\n",
              "      <th>tagline</th>\n",
              "      <th>title</th>\n",
              "      <th>video</th>\n",
              "      <th>vote_average</th>\n",
              "      <th>vote_count</th>\n",
              "    </tr>\n",
              "  </thead>\n",
              "  <tbody>\n",
              "    <tr>\n",
              "      <th>0</th>\n",
              "      <td>False</td>\n",
              "      <td>{'id': 10194, 'name': 'Toy Story Collection', ...</td>\n",
              "      <td>30000000</td>\n",
              "      <td>[{'id': 16, 'name': 'Animation'}, {'id': 35, '...</td>\n",
              "      <td>http://toystory.disney.com/toy-story</td>\n",
              "      <td>862</td>\n",
              "      <td>tt0114709</td>\n",
              "      <td>en</td>\n",
              "      <td>Toy Story</td>\n",
              "      <td>Led by Woody, Andy's toys live happily in his ...</td>\n",
              "      <td>21.946943</td>\n",
              "      <td>/rhIRbceoE9lR4veEXuwCC2wARtG.jpg</td>\n",
              "      <td>[{'name': 'Pixar Animation Studios', 'id': 3}]</td>\n",
              "      <td>[{'iso_3166_1': 'US', 'name': 'United States o...</td>\n",
              "      <td>1995-10-30</td>\n",
              "      <td>373554033.0</td>\n",
              "      <td>81.0</td>\n",
              "      <td>[{'iso_639_1': 'en', 'name': 'English'}]</td>\n",
              "      <td>Released</td>\n",
              "      <td>NaN</td>\n",
              "      <td>Toy Story</td>\n",
              "      <td>False</td>\n",
              "      <td>7.7</td>\n",
              "      <td>5415.0</td>\n",
              "    </tr>\n",
              "  </tbody>\n",
              "</table>\n",
              "</div>"
            ],
            "text/plain": [
              "   adult  ... vote_count\n",
              "0  False  ...     5415.0\n",
              "\n",
              "[1 rows x 24 columns]"
            ]
          },
          "metadata": {},
          "execution_count": 4
        }
      ]
    },
    {
      "cell_type": "code",
      "metadata": {
        "colab": {
          "base_uri": "https://localhost:8080/",
          "height": 97
        },
        "id": "xbogp4o3-U3L",
        "outputId": "27f0cad5-8620-406f-d5bb-d00490de4863"
      },
      "source": [
        "info_df = pd.read_csv(filename2)\n",
        "info_df.head(1)"
      ],
      "execution_count": 5,
      "outputs": [
        {
          "output_type": "execute_result",
          "data": {
            "text/html": [
              "<div>\n",
              "<style scoped>\n",
              "    .dataframe tbody tr th:only-of-type {\n",
              "        vertical-align: middle;\n",
              "    }\n",
              "\n",
              "    .dataframe tbody tr th {\n",
              "        vertical-align: top;\n",
              "    }\n",
              "\n",
              "    .dataframe thead th {\n",
              "        text-align: right;\n",
              "    }\n",
              "</style>\n",
              "<table border=\"1\" class=\"dataframe\">\n",
              "  <thead>\n",
              "    <tr style=\"text-align: right;\">\n",
              "      <th></th>\n",
              "      <th>cast</th>\n",
              "      <th>crew</th>\n",
              "      <th>id</th>\n",
              "    </tr>\n",
              "  </thead>\n",
              "  <tbody>\n",
              "    <tr>\n",
              "      <th>0</th>\n",
              "      <td>[{'cast_id': 14, 'character': 'Woody (voice)',...</td>\n",
              "      <td>[{'credit_id': '52fe4284c3a36847f8024f49', 'de...</td>\n",
              "      <td>862</td>\n",
              "    </tr>\n",
              "  </tbody>\n",
              "</table>\n",
              "</div>"
            ],
            "text/plain": [
              "                                                cast  ...   id\n",
              "0  [{'cast_id': 14, 'character': 'Woody (voice)',...  ...  862\n",
              "\n",
              "[1 rows x 3 columns]"
            ]
          },
          "metadata": {},
          "execution_count": 5
        }
      ]
    },
    {
      "cell_type": "code",
      "metadata": {
        "colab": {
          "base_uri": "https://localhost:8080/"
        },
        "id": "pnlaAPrC-iBm",
        "outputId": "673a0c9c-ec7c-452c-c8de-3cb0f0453af1"
      },
      "source": [
        "movie_df.shape, info_df.shape"
      ],
      "execution_count": 6,
      "outputs": [
        {
          "output_type": "execute_result",
          "data": {
            "text/plain": [
              "((45466, 24), (45476, 3))"
            ]
          },
          "metadata": {},
          "execution_count": 6
        }
      ]
    },
    {
      "cell_type": "code",
      "metadata": {
        "colab": {
          "base_uri": "https://localhost:8080/",
          "height": 80
        },
        "id": "dj3xkBVt-mKk",
        "outputId": "d60d1f3e-3266-4f78-ebd9-42b944f0df7a"
      },
      "source": [
        "df = movie_df[['id', 'title', 'overview']]\n",
        "df[df.id == '1997-08-20']"
      ],
      "execution_count": 7,
      "outputs": [
        {
          "output_type": "execute_result",
          "data": {
            "text/html": [
              "<div>\n",
              "<style scoped>\n",
              "    .dataframe tbody tr th:only-of-type {\n",
              "        vertical-align: middle;\n",
              "    }\n",
              "\n",
              "    .dataframe tbody tr th {\n",
              "        vertical-align: top;\n",
              "    }\n",
              "\n",
              "    .dataframe thead th {\n",
              "        text-align: right;\n",
              "    }\n",
              "</style>\n",
              "<table border=\"1\" class=\"dataframe\">\n",
              "  <thead>\n",
              "    <tr style=\"text-align: right;\">\n",
              "      <th></th>\n",
              "      <th>id</th>\n",
              "      <th>title</th>\n",
              "      <th>overview</th>\n",
              "    </tr>\n",
              "  </thead>\n",
              "  <tbody>\n",
              "    <tr>\n",
              "      <th>19730</th>\n",
              "      <td>1997-08-20</td>\n",
              "      <td>NaN</td>\n",
              "      <td>Released</td>\n",
              "    </tr>\n",
              "  </tbody>\n",
              "</table>\n",
              "</div>"
            ],
            "text/plain": [
              "               id title  overview\n",
              "19730  1997-08-20   NaN  Released"
            ]
          },
          "metadata": {},
          "execution_count": 7
        }
      ]
    },
    {
      "cell_type": "code",
      "metadata": {
        "id": "qcSVoy2P1plP"
      },
      "source": [
        "df.dropna(inplace = True)\n",
        "df['id'] = df.id.astype(int)"
      ],
      "execution_count": 8,
      "outputs": []
    },
    {
      "cell_type": "code",
      "metadata": {
        "colab": {
          "base_uri": "https://localhost:8080/",
          "height": 292
        },
        "id": "5oEvjAS91yTW",
        "outputId": "5519311b-b81b-4506-c92e-e9f19f911d62"
      },
      "source": [
        "info_df['id'] = info_df.id.astype(int)\n",
        "df = df.merge(info_df, on = 'id')\n",
        "df.set_index('id', inplace = True)\n",
        "df.head(3)"
      ],
      "execution_count": 9,
      "outputs": [
        {
          "output_type": "execute_result",
          "data": {
            "text/html": [
              "<div>\n",
              "<style scoped>\n",
              "    .dataframe tbody tr th:only-of-type {\n",
              "        vertical-align: middle;\n",
              "    }\n",
              "\n",
              "    .dataframe tbody tr th {\n",
              "        vertical-align: top;\n",
              "    }\n",
              "\n",
              "    .dataframe thead th {\n",
              "        text-align: right;\n",
              "    }\n",
              "</style>\n",
              "<table border=\"1\" class=\"dataframe\">\n",
              "  <thead>\n",
              "    <tr style=\"text-align: right;\">\n",
              "      <th></th>\n",
              "      <th>title</th>\n",
              "      <th>overview</th>\n",
              "      <th>cast</th>\n",
              "      <th>crew</th>\n",
              "    </tr>\n",
              "    <tr>\n",
              "      <th>id</th>\n",
              "      <th></th>\n",
              "      <th></th>\n",
              "      <th></th>\n",
              "      <th></th>\n",
              "    </tr>\n",
              "  </thead>\n",
              "  <tbody>\n",
              "    <tr>\n",
              "      <th>862</th>\n",
              "      <td>Toy Story</td>\n",
              "      <td>Led by Woody, Andy's toys live happily in his ...</td>\n",
              "      <td>[{'cast_id': 14, 'character': 'Woody (voice)',...</td>\n",
              "      <td>[{'credit_id': '52fe4284c3a36847f8024f49', 'de...</td>\n",
              "    </tr>\n",
              "    <tr>\n",
              "      <th>8844</th>\n",
              "      <td>Jumanji</td>\n",
              "      <td>When siblings Judy and Peter discover an encha...</td>\n",
              "      <td>[{'cast_id': 1, 'character': 'Alan Parrish', '...</td>\n",
              "      <td>[{'credit_id': '52fe44bfc3a36847f80a7cd1', 'de...</td>\n",
              "    </tr>\n",
              "    <tr>\n",
              "      <th>15602</th>\n",
              "      <td>Grumpier Old Men</td>\n",
              "      <td>A family wedding reignites the ancient feud be...</td>\n",
              "      <td>[{'cast_id': 2, 'character': 'Max Goldman', 'c...</td>\n",
              "      <td>[{'credit_id': '52fe466a9251416c75077a89', 'de...</td>\n",
              "    </tr>\n",
              "  </tbody>\n",
              "</table>\n",
              "</div>"
            ],
            "text/plain": [
              "                  title  ...                                               crew\n",
              "id                       ...                                                   \n",
              "862           Toy Story  ...  [{'credit_id': '52fe4284c3a36847f8024f49', 'de...\n",
              "8844            Jumanji  ...  [{'credit_id': '52fe44bfc3a36847f80a7cd1', 'de...\n",
              "15602  Grumpier Old Men  ...  [{'credit_id': '52fe466a9251416c75077a89', 'de...\n",
              "\n",
              "[3 rows x 4 columns]"
            ]
          },
          "metadata": {},
          "execution_count": 9
        }
      ]
    },
    {
      "cell_type": "code",
      "metadata": {
        "id": "sZJFHOiV-wQh"
      },
      "source": [
        "df = df.head(10000)"
      ],
      "execution_count": 10,
      "outputs": []
    },
    {
      "cell_type": "code",
      "metadata": {
        "colab": {
          "base_uri": "https://localhost:8080/",
          "height": 233
        },
        "id": "A2uNwyPG2HEk",
        "outputId": "3a29f8a4-78cc-4dcd-e6c5-d157705e8b0d"
      },
      "source": [
        "df.cast[862]"
      ],
      "execution_count": 11,
      "outputs": [
        {
          "output_type": "execute_result",
          "data": {
            "application/vnd.google.colaboratory.intrinsic+json": {
              "type": "string"
            },
            "text/plain": [
              "\"[{'cast_id': 14, 'character': 'Woody (voice)', 'credit_id': '52fe4284c3a36847f8024f95', 'gender': 2, 'id': 31, 'name': 'Tom Hanks', 'order': 0, 'profile_path': '/pQFoyx7rp09CJTAb932F2g8Nlho.jpg'}, {'cast_id': 15, 'character': 'Buzz Lightyear (voice)', 'credit_id': '52fe4284c3a36847f8024f99', 'gender': 2, 'id': 12898, 'name': 'Tim Allen', 'order': 1, 'profile_path': '/uX2xVf6pMmPepxnvFWyBtjexzgY.jpg'}, {'cast_id': 16, 'character': 'Mr. Potato Head (voice)', 'credit_id': '52fe4284c3a36847f8024f9d', 'gender': 2, 'id': 7167, 'name': 'Don Rickles', 'order': 2, 'profile_path': '/h5BcaDMPRVLHLDzbQavec4xfSdt.jpg'}, {'cast_id': 17, 'character': 'Slinky Dog (voice)', 'credit_id': '52fe4284c3a36847f8024fa1', 'gender': 2, 'id': 12899, 'name': 'Jim Varney', 'order': 3, 'profile_path': '/eIo2jVVXYgjDtaHoF19Ll9vtW7h.jpg'}, {'cast_id': 18, 'character': 'Rex (voice)', 'credit_id': '52fe4284c3a36847f8024fa5', 'gender': 2, 'id': 12900, 'name': 'Wallace Shawn', 'order': 4, 'profile_path': '/oGE6JqPP2xH4tNORKNqxbNPYi7u.jpg'}, {'cast_id': 19, 'character': 'Hamm (voice)', 'credit_id': '52fe4284c3a36847f8024fa9', 'gender': 2, 'id': 7907, 'name': 'John Ratzenberger', 'order': 5, 'profile_path': '/yGechiKWL6TJDfVE2KPSJYqdMsY.jpg'}, {'cast_id': 20, 'character': 'Bo Peep (voice)', 'credit_id': '52fe4284c3a36847f8024fad', 'gender': 1, 'id': 8873, 'name': 'Annie Potts', 'order': 6, 'profile_path': '/eryXT84RL41jHSJcMy4kS3u9y6w.jpg'}, {'cast_id': 26, 'character': 'Andy (voice)', 'credit_id': '52fe4284c3a36847f8024fc1', 'gender': 0, 'id': 1116442, 'name': 'John Morris', 'order': 7, 'profile_path': '/vYGyvK4LzeaUCoNSHtsuqJUY15M.jpg'}, {'cast_id': 22, 'character': 'Sid (voice)', 'credit_id': '52fe4284c3a36847f8024fb1', 'gender': 2, 'id': 12901, 'name': 'Erik von Detten', 'order': 8, 'profile_path': '/twnF1ZaJ1FUNUuo6xLXwcxjayBE.jpg'}, {'cast_id': 23, 'character': 'Mrs. Davis (voice)', 'credit_id': '52fe4284c3a36847f8024fb5', 'gender': 1, 'id': 12133, 'name': 'Laurie Metcalf', 'order': 9, 'profile_path': '/unMMIT60eoBM2sN2nyR7EZ2BvvD.jpg'}, {'cast_id': 24, 'character': 'Sergeant (voice)', 'credit_id': '52fe4284c3a36847f8024fb9', 'gender': 2, 'id': 8655, 'name': 'R. Lee Ermey', 'order': 10, 'profile_path': '/r8GBqFBjypLUP9VVqDqfZ7wYbSs.jpg'}, {'cast_id': 25, 'character': 'Hannah (voice)', 'credit_id': '52fe4284c3a36847f8024fbd', 'gender': 1, 'id': 12903, 'name': 'Sarah Freeman', 'order': 11, 'profile_path': None}, {'cast_id': 27, 'character': 'TV Announcer (voice)', 'credit_id': '52fe4284c3a36847f8024fc5', 'gender': 2, 'id': 37221, 'name': 'Penn Jillette', 'order': 12, 'profile_path': '/zmAaXUdx12NRsssgHbk1T31j2x9.jpg'}]\""
            ]
          },
          "metadata": {},
          "execution_count": 11
        }
      ]
    },
    {
      "cell_type": "markdown",
      "metadata": {
        "id": "wHFzTfTp_H4D"
      },
      "source": [
        "## Preprocessing"
      ]
    },
    {
      "cell_type": "markdown",
      "metadata": {
        "id": "FnuY77IX2m8h"
      },
      "source": [
        "### Actor"
      ]
    },
    {
      "cell_type": "code",
      "metadata": {
        "colab": {
          "base_uri": "https://localhost:8080/",
          "height": 292
        },
        "id": "731FqtyC2aqF",
        "outputId": "e6e64c40-3858-4add-e65a-a9e0eae66949"
      },
      "source": [
        "from ast import literal_eval\n",
        "df['cast'] = df.cast.apply(literal_eval)\n",
        "df.head(3)"
      ],
      "execution_count": 12,
      "outputs": [
        {
          "output_type": "execute_result",
          "data": {
            "text/html": [
              "<div>\n",
              "<style scoped>\n",
              "    .dataframe tbody tr th:only-of-type {\n",
              "        vertical-align: middle;\n",
              "    }\n",
              "\n",
              "    .dataframe tbody tr th {\n",
              "        vertical-align: top;\n",
              "    }\n",
              "\n",
              "    .dataframe thead th {\n",
              "        text-align: right;\n",
              "    }\n",
              "</style>\n",
              "<table border=\"1\" class=\"dataframe\">\n",
              "  <thead>\n",
              "    <tr style=\"text-align: right;\">\n",
              "      <th></th>\n",
              "      <th>title</th>\n",
              "      <th>overview</th>\n",
              "      <th>cast</th>\n",
              "      <th>crew</th>\n",
              "    </tr>\n",
              "    <tr>\n",
              "      <th>id</th>\n",
              "      <th></th>\n",
              "      <th></th>\n",
              "      <th></th>\n",
              "      <th></th>\n",
              "    </tr>\n",
              "  </thead>\n",
              "  <tbody>\n",
              "    <tr>\n",
              "      <th>862</th>\n",
              "      <td>Toy Story</td>\n",
              "      <td>Led by Woody, Andy's toys live happily in his ...</td>\n",
              "      <td>[{'cast_id': 14, 'character': 'Woody (voice)',...</td>\n",
              "      <td>[{'credit_id': '52fe4284c3a36847f8024f49', 'de...</td>\n",
              "    </tr>\n",
              "    <tr>\n",
              "      <th>8844</th>\n",
              "      <td>Jumanji</td>\n",
              "      <td>When siblings Judy and Peter discover an encha...</td>\n",
              "      <td>[{'cast_id': 1, 'character': 'Alan Parrish', '...</td>\n",
              "      <td>[{'credit_id': '52fe44bfc3a36847f80a7cd1', 'de...</td>\n",
              "    </tr>\n",
              "    <tr>\n",
              "      <th>15602</th>\n",
              "      <td>Grumpier Old Men</td>\n",
              "      <td>A family wedding reignites the ancient feud be...</td>\n",
              "      <td>[{'cast_id': 2, 'character': 'Max Goldman', 'c...</td>\n",
              "      <td>[{'credit_id': '52fe466a9251416c75077a89', 'de...</td>\n",
              "    </tr>\n",
              "  </tbody>\n",
              "</table>\n",
              "</div>"
            ],
            "text/plain": [
              "                  title  ...                                               crew\n",
              "id                       ...                                                   \n",
              "862           Toy Story  ...  [{'credit_id': '52fe4284c3a36847f8024f49', 'de...\n",
              "8844            Jumanji  ...  [{'credit_id': '52fe44bfc3a36847f80a7cd1', 'de...\n",
              "15602  Grumpier Old Men  ...  [{'credit_id': '52fe466a9251416c75077a89', 'de...\n",
              "\n",
              "[3 rows x 4 columns]"
            ]
          },
          "metadata": {},
          "execution_count": 12
        }
      ]
    },
    {
      "cell_type": "code",
      "metadata": {
        "colab": {
          "base_uri": "https://localhost:8080/",
          "height": 35
        },
        "id": "pe5G70br2tTf",
        "outputId": "f1bf7a3a-3c19-4be6-9141-820d774fdb43"
      },
      "source": [
        "df.cast[862][0]['name']"
      ],
      "execution_count": 13,
      "outputs": [
        {
          "output_type": "execute_result",
          "data": {
            "application/vnd.google.colaboratory.intrinsic+json": {
              "type": "string"
            },
            "text/plain": [
              "'Tom Hanks'"
            ]
          },
          "metadata": {},
          "execution_count": 13
        }
      ]
    },
    {
      "cell_type": "code",
      "metadata": {
        "colab": {
          "base_uri": "https://localhost:8080/"
        },
        "id": "cMk7FBA42w6M",
        "outputId": "4b03b662-bc5d-4048-992d-975ac4ce726d"
      },
      "source": [
        "import re\n",
        "a = ['a B', 'c D']\n",
        "a = list(map(lambda x: re.sub(' ', '', x), a))\n",
        "a"
      ],
      "execution_count": 14,
      "outputs": [
        {
          "output_type": "execute_result",
          "data": {
            "text/plain": [
              "['aB', 'cD']"
            ]
          },
          "metadata": {},
          "execution_count": 14
        }
      ]
    },
    {
      "cell_type": "code",
      "metadata": {
        "id": "NYW0lZMR2-4K"
      },
      "source": [
        "def get_3cast(x):\n",
        "    cast = []\n",
        "    for item in x:\n",
        "        if item['name'] not in cast:\n",
        "            cast.append(item['name'])\n",
        "    cast = cast if len(cast) <= 3 else cast[:3]\n",
        "    cast = list(map(lambda x: re.sub(' ', '', x), cast))\n",
        "    return ' '.join(cast)"
      ],
      "execution_count": 15,
      "outputs": []
    },
    {
      "cell_type": "code",
      "metadata": {
        "id": "mKayUcIY3IS4"
      },
      "source": [
        "df['cast3'] = df.cast.apply(get_3cast)"
      ],
      "execution_count": 16,
      "outputs": []
    },
    {
      "cell_type": "markdown",
      "metadata": {
        "id": "vjLRGvJ33P2c"
      },
      "source": [
        "### Director"
      ]
    },
    {
      "cell_type": "code",
      "metadata": {
        "id": "Jh-UDN2B3TJl"
      },
      "source": [
        "df['crew'] = df.crew.apply(literal_eval)"
      ],
      "execution_count": 17,
      "outputs": []
    },
    {
      "cell_type": "code",
      "metadata": {
        "colab": {
          "base_uri": "https://localhost:8080/"
        },
        "id": "0n8GdNVQ3Z7E",
        "outputId": "caef3cc6-e78e-4eaa-b6f0-9bec2a6ba929"
      },
      "source": [
        "df.crew[862]"
      ],
      "execution_count": 18,
      "outputs": [
        {
          "output_type": "execute_result",
          "data": {
            "text/plain": [
              "[{'credit_id': '52fe4284c3a36847f8024f49',\n",
              "  'department': 'Directing',\n",
              "  'gender': 2,\n",
              "  'id': 7879,\n",
              "  'job': 'Director',\n",
              "  'name': 'John Lasseter',\n",
              "  'profile_path': '/7EdqiNbr4FRjIhKHyPPdFfEEEFG.jpg'},\n",
              " {'credit_id': '52fe4284c3a36847f8024f4f',\n",
              "  'department': 'Writing',\n",
              "  'gender': 2,\n",
              "  'id': 12891,\n",
              "  'job': 'Screenplay',\n",
              "  'name': 'Joss Whedon',\n",
              "  'profile_path': '/dTiVsuaTVTeGmvkhcyJvKp2A5kr.jpg'},\n",
              " {'credit_id': '52fe4284c3a36847f8024f55',\n",
              "  'department': 'Writing',\n",
              "  'gender': 2,\n",
              "  'id': 7,\n",
              "  'job': 'Screenplay',\n",
              "  'name': 'Andrew Stanton',\n",
              "  'profile_path': '/pvQWsu0qc8JFQhMVJkTHuexUAa1.jpg'},\n",
              " {'credit_id': '52fe4284c3a36847f8024f5b',\n",
              "  'department': 'Writing',\n",
              "  'gender': 2,\n",
              "  'id': 12892,\n",
              "  'job': 'Screenplay',\n",
              "  'name': 'Joel Cohen',\n",
              "  'profile_path': '/dAubAiZcvKFbboWlj7oXOkZnTSu.jpg'},\n",
              " {'credit_id': '52fe4284c3a36847f8024f61',\n",
              "  'department': 'Writing',\n",
              "  'gender': 0,\n",
              "  'id': 12893,\n",
              "  'job': 'Screenplay',\n",
              "  'name': 'Alec Sokolow',\n",
              "  'profile_path': '/v79vlRYi94BZUQnkkyznbGUZLjT.jpg'},\n",
              " {'credit_id': '52fe4284c3a36847f8024f67',\n",
              "  'department': 'Production',\n",
              "  'gender': 1,\n",
              "  'id': 12894,\n",
              "  'job': 'Producer',\n",
              "  'name': 'Bonnie Arnold',\n",
              "  'profile_path': None},\n",
              " {'credit_id': '52fe4284c3a36847f8024f6d',\n",
              "  'department': 'Production',\n",
              "  'gender': 0,\n",
              "  'id': 12895,\n",
              "  'job': 'Executive Producer',\n",
              "  'name': 'Ed Catmull',\n",
              "  'profile_path': None},\n",
              " {'credit_id': '52fe4284c3a36847f8024f73',\n",
              "  'department': 'Production',\n",
              "  'gender': 2,\n",
              "  'id': 12896,\n",
              "  'job': 'Producer',\n",
              "  'name': 'Ralph Guggenheim',\n",
              "  'profile_path': None},\n",
              " {'credit_id': '52fe4284c3a36847f8024f79',\n",
              "  'department': 'Production',\n",
              "  'gender': 2,\n",
              "  'id': 12897,\n",
              "  'job': 'Executive Producer',\n",
              "  'name': 'Steve Jobs',\n",
              "  'profile_path': '/mOMP3SwD5qWQSR0ldCIByd3guTV.jpg'},\n",
              " {'credit_id': '52fe4284c3a36847f8024f8b',\n",
              "  'department': 'Editing',\n",
              "  'gender': 2,\n",
              "  'id': 8,\n",
              "  'job': 'Editor',\n",
              "  'name': 'Lee Unkrich',\n",
              "  'profile_path': '/bdTCCXjgOV3YyaNmLGYGOxFQMOc.jpg'},\n",
              " {'credit_id': '52fe4284c3a36847f8024f91',\n",
              "  'department': 'Art',\n",
              "  'gender': 2,\n",
              "  'id': 7883,\n",
              "  'job': 'Art Direction',\n",
              "  'name': 'Ralph Eggleston',\n",
              "  'profile_path': '/uUfcGKDsKO1aROMpXRs67Hn6RvR.jpg'},\n",
              " {'credit_id': '598331bf925141421201044b',\n",
              "  'department': 'Editing',\n",
              "  'gender': 2,\n",
              "  'id': 1168870,\n",
              "  'job': 'Editor',\n",
              "  'name': 'Robert Gordon',\n",
              "  'profile_path': None},\n",
              " {'credit_id': '5892168cc3a36809660095f9',\n",
              "  'department': 'Sound',\n",
              "  'gender': 0,\n",
              "  'id': 1552883,\n",
              "  'job': 'Foley Editor',\n",
              "  'name': 'Mary Helen Leasman',\n",
              "  'profile_path': None},\n",
              " {'credit_id': '5531824d9251415289000945',\n",
              "  'department': 'Visual Effects',\n",
              "  'gender': 0,\n",
              "  'id': 1453514,\n",
              "  'job': 'Animation',\n",
              "  'name': 'Kim Blanchette',\n",
              "  'profile_path': None},\n",
              " {'credit_id': '589215969251412dcb009bf6',\n",
              "  'department': 'Sound',\n",
              "  'gender': 0,\n",
              "  'id': 1414182,\n",
              "  'job': 'ADR Editor',\n",
              "  'name': 'Marilyn McCoppen',\n",
              "  'profile_path': None},\n",
              " {'credit_id': '589217099251412dc500a018',\n",
              "  'department': 'Sound',\n",
              "  'gender': 2,\n",
              "  'id': 7885,\n",
              "  'job': 'Orchestrator',\n",
              "  'name': 'Randy Newman',\n",
              "  'profile_path': '/w0JzfoiM25nrnxYOzosPHRq6mlE.jpg'},\n",
              " {'credit_id': '5693e6b29251417b0e0000e3',\n",
              "  'department': 'Editing',\n",
              "  'gender': 0,\n",
              "  'id': 1429549,\n",
              "  'job': 'Color Timer',\n",
              "  'name': 'Dale E. Grahn',\n",
              "  'profile_path': None},\n",
              " {'credit_id': '572e2522c3a36869e6001a9c',\n",
              "  'department': 'Visual Effects',\n",
              "  'gender': 0,\n",
              "  'id': 7949,\n",
              "  'job': 'CG Painter',\n",
              "  'name': 'Robin Cooper',\n",
              "  'profile_path': None},\n",
              " {'credit_id': '574f12309251415ca1000012',\n",
              "  'department': 'Writing',\n",
              "  'gender': 2,\n",
              "  'id': 7879,\n",
              "  'job': 'Original Story',\n",
              "  'name': 'John Lasseter',\n",
              "  'profile_path': '/7EdqiNbr4FRjIhKHyPPdFfEEEFG.jpg'},\n",
              " {'credit_id': '574f1240c3a3682e7300001c',\n",
              "  'department': 'Writing',\n",
              "  'gender': 2,\n",
              "  'id': 12890,\n",
              "  'job': 'Original Story',\n",
              "  'name': 'Pete Docter',\n",
              "  'profile_path': '/r6ngPgnReA3RHmKjmSoVsc6Awjp.jpg'},\n",
              " {'credit_id': '574f12519251415c92000015',\n",
              "  'department': 'Writing',\n",
              "  'gender': 0,\n",
              "  'id': 7911,\n",
              "  'job': 'Original Story',\n",
              "  'name': 'Joe Ranft',\n",
              "  'profile_path': '/f1BoWC2JbCcfP1e5hKfGsxkHzVU.jpg'},\n",
              " {'credit_id': '574f12cec3a3682e82000022',\n",
              "  'department': 'Crew',\n",
              "  'gender': 0,\n",
              "  'id': 1629419,\n",
              "  'job': 'Post Production Supervisor',\n",
              "  'name': 'Patsy Bouge',\n",
              "  'profile_path': None},\n",
              " {'credit_id': '574f14f19251415ca1000082',\n",
              "  'department': 'Art',\n",
              "  'gender': 0,\n",
              "  'id': 7961,\n",
              "  'job': 'Sculptor',\n",
              "  'name': 'Norm DeCarlo',\n",
              "  'profile_path': None},\n",
              " {'credit_id': '5751ae4bc3a3683772002b7f',\n",
              "  'department': 'Visual Effects',\n",
              "  'gender': 2,\n",
              "  'id': 12905,\n",
              "  'job': 'Animation Director',\n",
              "  'name': 'Ash Brannon',\n",
              "  'profile_path': '/6ueWgPEEBHvS3De2BHYQnYjRTig.jpg'},\n",
              " {'credit_id': '5891edbe9251412dc5007cd6',\n",
              "  'department': 'Sound',\n",
              "  'gender': 2,\n",
              "  'id': 7885,\n",
              "  'job': 'Music',\n",
              "  'name': 'Randy Newman',\n",
              "  'profile_path': '/w0JzfoiM25nrnxYOzosPHRq6mlE.jpg'},\n",
              " {'credit_id': '589213d39251412dc8009832',\n",
              "  'department': 'Directing',\n",
              "  'gender': 0,\n",
              "  'id': 1748707,\n",
              "  'job': 'Layout',\n",
              "  'name': 'Roman Figun',\n",
              "  'profile_path': None},\n",
              " {'credit_id': '5892173dc3a3680968009351',\n",
              "  'department': 'Sound',\n",
              "  'gender': 2,\n",
              "  'id': 4949,\n",
              "  'job': 'Orchestrator',\n",
              "  'name': 'Don Davis',\n",
              "  'profile_path': None},\n",
              " {'credit_id': '589217cec3a3686b0a0052ba',\n",
              "  'department': 'Sound',\n",
              "  'gender': 0,\n",
              "  'id': 1372885,\n",
              "  'job': 'Music Editor',\n",
              "  'name': 'James Flamberg',\n",
              "  'profile_path': None},\n",
              " {'credit_id': '58921831c3a3686348004a64',\n",
              "  'department': 'Editing',\n",
              "  'gender': 0,\n",
              "  'id': 1739962,\n",
              "  'job': 'Negative Cutter',\n",
              "  'name': 'Mary Beth Smith',\n",
              "  'profile_path': None},\n",
              " {'credit_id': '58921838c3a36809700096c0',\n",
              "  'department': 'Editing',\n",
              "  'gender': 0,\n",
              "  'id': 1748513,\n",
              "  'job': 'Negative Cutter',\n",
              "  'name': 'Rick Mackay',\n",
              "  'profile_path': None},\n",
              " {'credit_id': '589218429251412dd1009d1b',\n",
              "  'department': 'Art',\n",
              "  'gender': 0,\n",
              "  'id': 1458006,\n",
              "  'job': 'Title Designer',\n",
              "  'name': 'Susan Bradley',\n",
              "  'profile_path': None},\n",
              " {'credit_id': '5891ed99c3a3680966007670',\n",
              "  'department': 'Crew',\n",
              "  'gender': 0,\n",
              "  'id': 1748557,\n",
              "  'job': 'Supervising Technical Director',\n",
              "  'name': 'William Reeves',\n",
              "  'profile_path': None},\n",
              " {'credit_id': '5891edcec3a3686b0a002eb2',\n",
              "  'department': 'Sound',\n",
              "  'gender': 2,\n",
              "  'id': 7885,\n",
              "  'job': 'Songs',\n",
              "  'name': 'Randy Newman',\n",
              "  'profile_path': '/w0JzfoiM25nrnxYOzosPHRq6mlE.jpg'},\n",
              " {'credit_id': '5891edf9c3a36809700075e6',\n",
              "  'department': 'Writing',\n",
              "  'gender': 2,\n",
              "  'id': 7,\n",
              "  'job': 'Original Story',\n",
              "  'name': 'Andrew Stanton',\n",
              "  'profile_path': '/pvQWsu0qc8JFQhMVJkTHuexUAa1.jpg'},\n",
              " {'credit_id': '58920f0b9251412dd7009104',\n",
              "  'department': 'Crew',\n",
              "  'gender': 2,\n",
              "  'id': 12890,\n",
              "  'job': 'Supervising Animator',\n",
              "  'name': 'Pete Docter',\n",
              "  'profile_path': '/r6ngPgnReA3RHmKjmSoVsc6Awjp.jpg'},\n",
              " {'credit_id': '58920f1fc3a3680977009021',\n",
              "  'department': 'Sound',\n",
              "  'gender': 2,\n",
              "  'id': 2216,\n",
              "  'job': 'Sound Designer',\n",
              "  'name': 'Gary Rydstrom',\n",
              "  'profile_path': '/jZpr1nVfO7lldWI0YtmP1FGw7Rj.jpg'},\n",
              " {'credit_id': '58920f389251412dd700912d',\n",
              "  'department': 'Production',\n",
              "  'gender': 0,\n",
              "  'id': 12909,\n",
              "  'job': 'Production Supervisor',\n",
              "  'name': 'Karen Robert Jackson',\n",
              "  'profile_path': None},\n",
              " {'credit_id': '58920fbd9251412dcb00969c',\n",
              "  'department': 'Crew',\n",
              "  'gender': 0,\n",
              "  'id': 953331,\n",
              "  'job': 'Executive Music Producer',\n",
              "  'name': 'Chris Montan',\n",
              "  'profile_path': None},\n",
              " {'credit_id': '589210069251412dd7009219',\n",
              "  'department': 'Visual Effects',\n",
              "  'gender': 0,\n",
              "  'id': 7893,\n",
              "  'job': 'Animation Director',\n",
              "  'name': 'Rich Quade',\n",
              "  'profile_path': None},\n",
              " {'credit_id': '589210329251412dcd00943b',\n",
              "  'department': 'Visual Effects',\n",
              "  'gender': 0,\n",
              "  'id': 8025,\n",
              "  'job': 'Animation',\n",
              "  'name': 'Michael Berenstein',\n",
              "  'profile_path': None},\n",
              " {'credit_id': '5892103bc3a368096a009180',\n",
              "  'department': 'Visual Effects',\n",
              "  'gender': 0,\n",
              "  'id': 78009,\n",
              "  'job': 'Animation',\n",
              "  'name': 'Colin Brady',\n",
              "  'profile_path': None},\n",
              " {'credit_id': '5892105dc3a3680968008db2',\n",
              "  'department': 'Visual Effects',\n",
              "  'gender': 0,\n",
              "  'id': 1748682,\n",
              "  'job': 'Animation',\n",
              "  'name': 'Davey Crockett Feiten',\n",
              "  'profile_path': None},\n",
              " {'credit_id': '589210669251412dcd009466',\n",
              "  'department': 'Visual Effects',\n",
              "  'gender': 0,\n",
              "  'id': 1454030,\n",
              "  'job': 'Animation',\n",
              "  'name': 'Angie Glocka',\n",
              "  'profile_path': None},\n",
              " {'credit_id': '5892107c9251412dd1009613',\n",
              "  'department': 'Visual Effects',\n",
              "  'gender': 0,\n",
              "  'id': 1748683,\n",
              "  'job': 'Animation',\n",
              "  'name': 'Rex Grignon',\n",
              "  'profile_path': None},\n",
              " {'credit_id': '5892108ac3a3680973008d3f',\n",
              "  'department': 'Visual Effects',\n",
              "  'gender': 0,\n",
              "  'id': 1748684,\n",
              "  'job': 'Animation',\n",
              "  'name': 'Tom K. Gurney',\n",
              "  'profile_path': None},\n",
              " {'credit_id': '58921093c3a3686348004477',\n",
              "  'department': 'Visual Effects',\n",
              "  'gender': 2,\n",
              "  'id': 8029,\n",
              "  'job': 'Animation',\n",
              "  'name': 'Jimmy Hayward',\n",
              "  'profile_path': '/lTDRpudEY7BDwTefXbXzMlmb0ui.jpg'},\n",
              " {'credit_id': '5892109b9251412dcd0094b0',\n",
              "  'department': 'Visual Effects',\n",
              "  'gender': 0,\n",
              "  'id': 1426773,\n",
              "  'job': 'Animation',\n",
              "  'name': 'Hal T. Hickel',\n",
              "  'profile_path': None},\n",
              " {'credit_id': '589210a29251412dc5009a29',\n",
              "  'department': 'Visual Effects',\n",
              "  'gender': 0,\n",
              "  'id': 8035,\n",
              "  'job': 'Animation',\n",
              "  'name': 'Karen Kiser',\n",
              "  'profile_path': None},\n",
              " {'credit_id': '589210ccc3a3680977009191',\n",
              "  'department': 'Visual Effects',\n",
              "  'gender': 0,\n",
              "  'id': 1748688,\n",
              "  'job': 'Animation',\n",
              "  'name': 'Anthony B. LaMolinara',\n",
              "  'profile_path': None},\n",
              " {'credit_id': '589210d7c3a3686b0a004c1f',\n",
              "  'department': 'Visual Effects',\n",
              "  'gender': 0,\n",
              "  'id': 587314,\n",
              "  'job': 'Animation',\n",
              "  'name': 'Guionne Leroy',\n",
              "  'profile_path': None},\n",
              " {'credit_id': '589210e1c3a36809770091a7',\n",
              "  'department': 'Visual Effects',\n",
              "  'gender': 2,\n",
              "  'id': 7918,\n",
              "  'job': 'Animation',\n",
              "  'name': 'Bud Luckey',\n",
              "  'profile_path': '/pcCh7G19FKMNijmPQg1PMH1btic.jpg'},\n",
              " {'credit_id': '589210ee9251412dc200978a',\n",
              "  'department': 'Visual Effects',\n",
              "  'gender': 0,\n",
              "  'id': 1748689,\n",
              "  'job': 'Animation',\n",
              "  'name': 'Les Major',\n",
              "  'profile_path': None},\n",
              " {'credit_id': '589210fa9251412dc8009595',\n",
              "  'department': 'Visual Effects',\n",
              "  'gender': 2,\n",
              "  'id': 7892,\n",
              "  'job': 'Animation',\n",
              "  'name': 'Glenn McQueen',\n",
              "  'profile_path': None},\n",
              " {'credit_id': '589211029251412dc8009598',\n",
              "  'department': 'Visual Effects',\n",
              "  'gender': 0,\n",
              "  'id': 555795,\n",
              "  'job': 'Animation',\n",
              "  'name': 'Mark Oftedal',\n",
              "  'profile_path': None},\n",
              " {'credit_id': '5892110b9251412dc800959d',\n",
              "  'department': 'Visual Effects',\n",
              "  'gender': 2,\n",
              "  'id': 7882,\n",
              "  'job': 'Animation',\n",
              "  'name': 'Jeff Pidgeon',\n",
              "  'profile_path': '/yLddkg5HcgbJg00cS13GVBnP0HY.jpg'},\n",
              " {'credit_id': '58921113c3a36863480044e4',\n",
              "  'department': 'Visual Effects',\n",
              "  'gender': 0,\n",
              "  'id': 8017,\n",
              "  'job': 'Animation',\n",
              "  'name': 'Jeff Pratt',\n",
              "  'profile_path': None},\n",
              " {'credit_id': '5892111c9251412dcb0097e9',\n",
              "  'department': 'Visual Effects',\n",
              "  'gender': 0,\n",
              "  'id': 1184140,\n",
              "  'job': 'Animation',\n",
              "  'name': 'Steve Rabatich',\n",
              "  'profile_path': None},\n",
              " {'credit_id': '58921123c3a36809700090f6',\n",
              "  'department': 'Visual Effects',\n",
              "  'gender': 0,\n",
              "  'id': 8049,\n",
              "  'job': 'Animation',\n",
              "  'name': 'Roger Rose',\n",
              "  'profile_path': None},\n",
              " {'credit_id': '5892112b9251412dcb0097fb',\n",
              "  'department': 'Visual Effects',\n",
              "  'gender': 0,\n",
              "  'id': 1509559,\n",
              "  'job': 'Animation',\n",
              "  'name': 'Steve Segal',\n",
              "  'profile_path': None},\n",
              " {'credit_id': '589211349251412dc80095c3',\n",
              "  'department': 'Visual Effects',\n",
              "  'gender': 0,\n",
              "  'id': 1748691,\n",
              "  'job': 'Animation',\n",
              "  'name': 'Doug Sheppeck',\n",
              "  'profile_path': None},\n",
              " {'credit_id': '5892113cc3a3680970009106',\n",
              "  'department': 'Visual Effects',\n",
              "  'gender': 0,\n",
              "  'id': 8050,\n",
              "  'job': 'Animation',\n",
              "  'name': 'Alan Sperling',\n",
              "  'profile_path': None},\n",
              " {'credit_id': '58921148c3a3686b0a004c99',\n",
              "  'department': 'Visual Effects',\n",
              "  'gender': 0,\n",
              "  'id': 8010,\n",
              "  'job': 'Animation',\n",
              "  'name': 'Doug Sweetland',\n",
              "  'profile_path': None},\n",
              " {'credit_id': '58921150c3a3680966009125',\n",
              "  'department': 'Visual Effects',\n",
              "  'gender': 0,\n",
              "  'id': 8044,\n",
              "  'job': 'Animation',\n",
              "  'name': 'David Tart',\n",
              "  'profile_path': None},\n",
              " {'credit_id': '589211629251412dc5009b00',\n",
              "  'department': 'Visual Effects',\n",
              "  'gender': 0,\n",
              "  'id': 1454034,\n",
              "  'job': 'Animation',\n",
              "  'name': 'Ken Willard',\n",
              "  'profile_path': None},\n",
              " {'credit_id': '589211c1c3a3686b0a004d28',\n",
              "  'department': 'Visual Effects',\n",
              "  'gender': 0,\n",
              "  'id': 7887,\n",
              "  'job': 'Visual Effects Supervisor',\n",
              "  'name': 'Thomas Porter',\n",
              "  'profile_path': None},\n",
              " {'credit_id': '589211d4c3a3680968008ed9',\n",
              "  'department': 'Visual Effects',\n",
              "  'gender': 0,\n",
              "  'id': 1406878,\n",
              "  'job': 'Visual Effects',\n",
              "  'name': 'Mark Thomas Henne',\n",
              "  'profile_path': None},\n",
              " {'credit_id': '589211f59251412dd4008e65',\n",
              "  'department': 'Visual Effects',\n",
              "  'gender': 0,\n",
              "  'id': 1748698,\n",
              "  'job': 'Visual Effects',\n",
              "  'name': 'Oren Jacob',\n",
              "  'profile_path': None},\n",
              " {'credit_id': '58921242c3a368096a00939b',\n",
              "  'department': 'Visual Effects',\n",
              "  'gender': 0,\n",
              "  'id': 1748699,\n",
              "  'job': 'Visual Effects',\n",
              "  'name': 'Darwyn Peachey',\n",
              "  'profile_path': None},\n",
              " {'credit_id': '5892124b9251412dc5009bd2',\n",
              "  'department': 'Visual Effects',\n",
              "  'gender': 0,\n",
              "  'id': 1748701,\n",
              "  'job': 'Visual Effects',\n",
              "  'name': 'Mitch Prater',\n",
              "  'profile_path': None},\n",
              " {'credit_id': '58921264c3a3686b0a004dbf',\n",
              "  'department': 'Visual Effects',\n",
              "  'gender': 0,\n",
              "  'id': 1748703,\n",
              "  'job': 'Visual Effects',\n",
              "  'name': 'Brian M. Rosen',\n",
              "  'profile_path': None},\n",
              " {'credit_id': '589212709251412dcd009676',\n",
              "  'department': 'Lighting',\n",
              "  'gender': 1,\n",
              "  'id': 12912,\n",
              "  'job': 'Lighting Supervisor',\n",
              "  'name': 'Sharon Calahan',\n",
              "  'profile_path': None},\n",
              " {'credit_id': '5892127fc3a3686b0a004de5',\n",
              "  'department': 'Lighting',\n",
              "  'gender': 0,\n",
              "  'id': 7899,\n",
              "  'job': 'Lighting Supervisor',\n",
              "  'name': 'Galyn Susman',\n",
              "  'profile_path': None},\n",
              " {'credit_id': '589212cdc3a3680970009268',\n",
              "  'department': 'Visual Effects',\n",
              "  'gender': 0,\n",
              "  'id': 12915,\n",
              "  'job': 'CG Painter',\n",
              "  'name': 'William Cone',\n",
              "  'profile_path': None},\n",
              " {'credit_id': '5892130f9251412dc8009791',\n",
              "  'department': 'Art',\n",
              "  'gender': 0,\n",
              "  'id': 1748705,\n",
              "  'job': 'Sculptor',\n",
              "  'name': 'Shelley Daniels Lekven',\n",
              "  'profile_path': None},\n",
              " {'credit_id': '5892131c9251412dd4008f4c',\n",
              "  'department': 'Visual Effects',\n",
              "  'gender': 2,\n",
              "  'id': 7889,\n",
              "  'job': 'Character Designer',\n",
              "  'name': 'Bob Pauley',\n",
              "  'profile_path': None},\n",
              " {'credit_id': '589213249251412dd100987b',\n",
              "  'department': 'Visual Effects',\n",
              "  'gender': 2,\n",
              "  'id': 7918,\n",
              "  'job': 'Character Designer',\n",
              "  'name': 'Bud Luckey',\n",
              "  'profile_path': '/pcCh7G19FKMNijmPQg1PMH1btic.jpg'},\n",
              " {'credit_id': '5892132b9251412dc80097b1',\n",
              "  'department': 'Visual Effects',\n",
              "  'gender': 2,\n",
              "  'id': 7,\n",
              "  'job': 'Character Designer',\n",
              "  'name': 'Andrew Stanton',\n",
              "  'profile_path': '/pvQWsu0qc8JFQhMVJkTHuexUAa1.jpg'},\n",
              " {'credit_id': '58921332c3a368634800467b',\n",
              "  'department': 'Visual Effects',\n",
              "  'gender': 0,\n",
              "  'id': 12915,\n",
              "  'job': 'Character Designer',\n",
              "  'name': 'William Cone',\n",
              "  'profile_path': None},\n",
              " {'credit_id': '5892135f9251412dd4008f90',\n",
              "  'department': 'Visual Effects',\n",
              "  'gender': 0,\n",
              "  'id': 1748706,\n",
              "  'job': 'Character Designer',\n",
              "  'name': 'Steve Johnson',\n",
              "  'profile_path': None},\n",
              " {'credit_id': '58921384c3a3680973008fd4',\n",
              "  'department': 'Visual Effects',\n",
              "  'gender': 0,\n",
              "  'id': 1176752,\n",
              "  'job': 'Character Designer',\n",
              "  'name': 'Dan Haskett',\n",
              "  'profile_path': None},\n",
              " {'credit_id': '5892138e9251412dc20099fc',\n",
              "  'department': 'Visual Effects',\n",
              "  'gender': 0,\n",
              "  'id': 1088034,\n",
              "  'job': 'Character Designer',\n",
              "  'name': 'Tom Holloway',\n",
              "  'profile_path': '/a0r0T2usTBpgMI5aZbRBDW1fTl8.jpg'},\n",
              " {'credit_id': '58921395c3a368097700942f',\n",
              "  'department': 'Visual Effects',\n",
              "  'gender': 0,\n",
              "  'id': 1447465,\n",
              "  'job': 'Character Designer',\n",
              "  'name': 'Jean Gillmore',\n",
              "  'profile_path': None},\n",
              " {'credit_id': '589213e2c3a3680973009026',\n",
              "  'department': 'Directing',\n",
              "  'gender': 0,\n",
              "  'id': 1748709,\n",
              "  'job': 'Layout',\n",
              "  'name': 'Desirée Mourad',\n",
              "  'profile_path': None},\n",
              " {'credit_id': '589214099251412dc5009d57',\n",
              "  'department': 'Art',\n",
              "  'gender': 0,\n",
              "  'id': 1748710,\n",
              "  'job': 'Set Dresser',\n",
              "  'name': \"Kelly O'Connell\",\n",
              "  'profile_path': None},\n",
              " {'credit_id': '58921411c3a3686b0a004f70',\n",
              "  'department': 'Art',\n",
              "  'gender': 0,\n",
              "  'id': 1443471,\n",
              "  'job': 'Set Dresser',\n",
              "  'name': 'Sonoko Konishi',\n",
              "  'profile_path': None},\n",
              " {'credit_id': '58921434c3a368096a00956e',\n",
              "  'department': 'Art',\n",
              "  'gender': 0,\n",
              "  'id': 1748711,\n",
              "  'job': 'Set Dresser',\n",
              "  'name': 'Ann M. Rockwell',\n",
              "  'profile_path': None},\n",
              " {'credit_id': '5892144ac3a36809680090de',\n",
              "  'department': 'Editing',\n",
              "  'gender': 0,\n",
              "  'id': 1748712,\n",
              "  'job': 'Editorial Manager',\n",
              "  'name': 'Julie M. McDonald',\n",
              "  'profile_path': None},\n",
              " {'credit_id': '58921479c3a368096800910f',\n",
              "  'department': 'Editing',\n",
              "  'gender': 0,\n",
              "  'id': 1589729,\n",
              "  'job': 'Assistant Editor',\n",
              "  'name': 'Robin Lee',\n",
              "  'profile_path': None},\n",
              " {'credit_id': '5892148b9251412dd10099cc',\n",
              "  'department': 'Editing',\n",
              "  'gender': 0,\n",
              "  'id': 1748716,\n",
              "  'job': 'Assistant Editor',\n",
              "  'name': 'Tom Freeman',\n",
              "  'profile_path': None},\n",
              " {'credit_id': '589214959251412dcb009b1f',\n",
              "  'department': 'Editing',\n",
              "  'gender': 0,\n",
              "  'id': 1748717,\n",
              "  'job': 'Assistant Editor',\n",
              "  'name': 'Ada Cochavi',\n",
              "  'profile_path': None},\n",
              " {'credit_id': '5892149ec3a3686348004798',\n",
              "  'department': 'Editing',\n",
              "  'gender': 0,\n",
              "  'id': 1336438,\n",
              "  'job': 'Assistant Editor',\n",
              "  'name': 'Dana Mulligan',\n",
              "  'profile_path': None},\n",
              " {'credit_id': '589214adc3a368096a0095db',\n",
              "  'department': 'Editing',\n",
              "  'gender': 0,\n",
              "  'id': 1748718,\n",
              "  'job': 'Editorial Coordinator',\n",
              "  'name': 'Deirdre Morrison',\n",
              "  'profile_path': None},\n",
              " {'credit_id': '589214c7c3a368097700952b',\n",
              "  'department': 'Production',\n",
              "  'gender': 0,\n",
              "  'id': 1748719,\n",
              "  'job': 'Production Coordinator',\n",
              "  'name': 'Lori Lombardo',\n",
              "  'profile_path': None},\n",
              " {'credit_id': '589214cec3a368096a009603',\n",
              "  'department': 'Production',\n",
              "  'gender': 0,\n",
              "  'id': 1748720,\n",
              "  'job': 'Production Coordinator',\n",
              "  'name': 'Ellen Devine',\n",
              "  'profile_path': None},\n",
              " {'credit_id': '589214e39251412dc8009904',\n",
              "  'department': 'Crew',\n",
              "  'gender': 0,\n",
              "  'id': 1468014,\n",
              "  'job': 'Unit Publicist',\n",
              "  'name': 'Lauren Beth Strogoff',\n",
              "  'profile_path': None},\n",
              " {'credit_id': '58921544c3a3686b0a00507d',\n",
              "  'department': 'Sound',\n",
              "  'gender': 2,\n",
              "  'id': 2216,\n",
              "  'job': 'Sound Re-Recording Mixer',\n",
              "  'name': 'Gary Rydstrom',\n",
              "  'profile_path': '/jZpr1nVfO7lldWI0YtmP1FGw7Rj.jpg'},\n",
              " {'credit_id': '5892154c9251412dd1009a56',\n",
              "  'department': 'Sound',\n",
              "  'gender': 0,\n",
              "  'id': 1425978,\n",
              "  'job': 'Sound Re-Recording Mixer',\n",
              "  'name': 'Gary Summers',\n",
              "  'profile_path': None},\n",
              " {'credit_id': '58921555c3a36809680091bd',\n",
              "  'department': 'Sound',\n",
              "  'gender': 2,\n",
              "  'id': 8276,\n",
              "  'job': 'Supervising Sound Editor',\n",
              "  'name': 'Tim Holland',\n",
              "  'profile_path': None},\n",
              " {'credit_id': '589215c39251412dcb009c12',\n",
              "  'department': 'Sound',\n",
              "  'gender': 0,\n",
              "  'id': 7069,\n",
              "  'job': 'Sound Effects Editor',\n",
              "  'name': 'Pat Jackson',\n",
              "  'profile_path': None},\n",
              " {'credit_id': '58921698c3a368096a009788',\n",
              "  'department': 'Crew',\n",
              "  'gender': 2,\n",
              "  'id': 15894,\n",
              "  'job': 'Sound Design Assistant',\n",
              "  'name': 'Tom Myers',\n",
              "  'profile_path': None},\n",
              " {'credit_id': '589216a89251412dc2009ca4',\n",
              "  'department': 'Sound',\n",
              "  'gender': 0,\n",
              "  'id': 1414177,\n",
              "  'job': 'Assistant Sound Editor',\n",
              "  'name': 'J.R. Grubbs',\n",
              "  'profile_path': None},\n",
              " {'credit_id': '589216c19251412dc2009cb9',\n",
              "  'department': 'Sound',\n",
              "  'gender': 1,\n",
              "  'id': 1748724,\n",
              "  'job': 'Assistant Sound Editor',\n",
              "  'name': 'Susan Sanford',\n",
              "  'profile_path': None},\n",
              " {'credit_id': '589216ccc3a3680973009274',\n",
              "  'department': 'Sound',\n",
              "  'gender': 0,\n",
              "  'id': 1748725,\n",
              "  'job': 'Assistant Sound Editor',\n",
              "  'name': 'Susan Popovic',\n",
              "  'profile_path': None},\n",
              " {'credit_id': '589216d79251412dc8009aa0',\n",
              "  'department': 'Sound',\n",
              "  'gender': 0,\n",
              "  'id': 8067,\n",
              "  'job': 'Assistant Sound Editor',\n",
              "  'name': 'Dan Engstrom',\n",
              "  'profile_path': None},\n",
              " {'credit_id': '589216e49251412dcd009a4f',\n",
              "  'department': 'Production',\n",
              "  'gender': 1,\n",
              "  'id': 7902,\n",
              "  'job': 'Casting Consultant',\n",
              "  'name': 'Ruth Lambert',\n",
              "  'profile_path': None},\n",
              " {'credit_id': '589216f39251412dc2009cf3',\n",
              "  'department': 'Production',\n",
              "  'gender': 0,\n",
              "  'id': 84493,\n",
              "  'job': 'ADR Voice Casting',\n",
              "  'name': 'Mickie McGowan',\n",
              "  'profile_path': '/k7TjJBfINsg8vLQxJwos6XObAD6.jpg'}]"
            ]
          },
          "metadata": {},
          "execution_count": 18
        }
      ]
    },
    {
      "cell_type": "code",
      "metadata": {
        "id": "P1uwtiCr3frH"
      },
      "source": [
        "def get_director(x):\n",
        "    for item in x:\n",
        "        if item['job'] == 'Director':\n",
        "            return item['name'].replace(' ', '')\n",
        "    return ''"
      ],
      "execution_count": 19,
      "outputs": []
    },
    {
      "cell_type": "code",
      "metadata": {
        "id": "vpUVLNLG3gLW"
      },
      "source": [
        "df['director'] = df.crew.apply(get_director)"
      ],
      "execution_count": 20,
      "outputs": []
    },
    {
      "cell_type": "code",
      "metadata": {
        "colab": {
          "base_uri": "https://localhost:8080/",
          "height": 468
        },
        "id": "4xcdT93M3jVj",
        "outputId": "748c749e-2584-4ccd-c6e8-21e5ccbada35"
      },
      "source": [
        "df.reset_index(inplace = True)\n",
        "df.head(3)"
      ],
      "execution_count": 21,
      "outputs": [
        {
          "output_type": "execute_result",
          "data": {
            "text/html": [
              "<div>\n",
              "<style scoped>\n",
              "    .dataframe tbody tr th:only-of-type {\n",
              "        vertical-align: middle;\n",
              "    }\n",
              "\n",
              "    .dataframe tbody tr th {\n",
              "        vertical-align: top;\n",
              "    }\n",
              "\n",
              "    .dataframe thead th {\n",
              "        text-align: right;\n",
              "    }\n",
              "</style>\n",
              "<table border=\"1\" class=\"dataframe\">\n",
              "  <thead>\n",
              "    <tr style=\"text-align: right;\">\n",
              "      <th></th>\n",
              "      <th>id</th>\n",
              "      <th>title</th>\n",
              "      <th>overview</th>\n",
              "      <th>cast</th>\n",
              "      <th>crew</th>\n",
              "      <th>cast3</th>\n",
              "      <th>director</th>\n",
              "    </tr>\n",
              "  </thead>\n",
              "  <tbody>\n",
              "    <tr>\n",
              "      <th>0</th>\n",
              "      <td>862</td>\n",
              "      <td>Toy Story</td>\n",
              "      <td>Led by Woody, Andy's toys live happily in his ...</td>\n",
              "      <td>[{'cast_id': 14, 'character': 'Woody (voice)',...</td>\n",
              "      <td>[{'credit_id': '52fe4284c3a36847f8024f49', 'de...</td>\n",
              "      <td>TomHanks TimAllen DonRickles</td>\n",
              "      <td>JohnLasseter</td>\n",
              "    </tr>\n",
              "    <tr>\n",
              "      <th>1</th>\n",
              "      <td>8844</td>\n",
              "      <td>Jumanji</td>\n",
              "      <td>When siblings Judy and Peter discover an encha...</td>\n",
              "      <td>[{'cast_id': 1, 'character': 'Alan Parrish', '...</td>\n",
              "      <td>[{'credit_id': '52fe44bfc3a36847f80a7cd1', 'de...</td>\n",
              "      <td>RobinWilliams JonathanHyde KirstenDunst</td>\n",
              "      <td>JoeJohnston</td>\n",
              "    </tr>\n",
              "    <tr>\n",
              "      <th>2</th>\n",
              "      <td>15602</td>\n",
              "      <td>Grumpier Old Men</td>\n",
              "      <td>A family wedding reignites the ancient feud be...</td>\n",
              "      <td>[{'cast_id': 2, 'character': 'Max Goldman', 'c...</td>\n",
              "      <td>[{'credit_id': '52fe466a9251416c75077a89', 'de...</td>\n",
              "      <td>WalterMatthau JackLemmon Ann-Margret</td>\n",
              "      <td>HowardDeutch</td>\n",
              "    </tr>\n",
              "  </tbody>\n",
              "</table>\n",
              "</div>"
            ],
            "text/plain": [
              "      id  ...      director\n",
              "0    862  ...  JohnLasseter\n",
              "1   8844  ...   JoeJohnston\n",
              "2  15602  ...  HowardDeutch\n",
              "\n",
              "[3 rows x 7 columns]"
            ]
          },
          "metadata": {},
          "execution_count": 21
        }
      ]
    },
    {
      "cell_type": "markdown",
      "metadata": {
        "id": "tVmzxEa9AVkL"
      },
      "source": [
        "## DTM"
      ]
    },
    {
      "cell_type": "code",
      "metadata": {
        "colab": {
          "base_uri": "https://localhost:8080/",
          "height": 468
        },
        "id": "ud3fn6rh3y2B",
        "outputId": "f9127bc8-3005-4ad0-f524-8085f7f0ba22"
      },
      "source": [
        "df['total'] = df.overview + ' ' + df.director + ' ' + df.cast3\n",
        "df.head(3)"
      ],
      "execution_count": 22,
      "outputs": [
        {
          "output_type": "execute_result",
          "data": {
            "text/html": [
              "<div>\n",
              "<style scoped>\n",
              "    .dataframe tbody tr th:only-of-type {\n",
              "        vertical-align: middle;\n",
              "    }\n",
              "\n",
              "    .dataframe tbody tr th {\n",
              "        vertical-align: top;\n",
              "    }\n",
              "\n",
              "    .dataframe thead th {\n",
              "        text-align: right;\n",
              "    }\n",
              "</style>\n",
              "<table border=\"1\" class=\"dataframe\">\n",
              "  <thead>\n",
              "    <tr style=\"text-align: right;\">\n",
              "      <th></th>\n",
              "      <th>id</th>\n",
              "      <th>title</th>\n",
              "      <th>overview</th>\n",
              "      <th>cast</th>\n",
              "      <th>crew</th>\n",
              "      <th>cast3</th>\n",
              "      <th>director</th>\n",
              "      <th>total</th>\n",
              "    </tr>\n",
              "  </thead>\n",
              "  <tbody>\n",
              "    <tr>\n",
              "      <th>0</th>\n",
              "      <td>862</td>\n",
              "      <td>Toy Story</td>\n",
              "      <td>Led by Woody, Andy's toys live happily in his ...</td>\n",
              "      <td>[{'cast_id': 14, 'character': 'Woody (voice)',...</td>\n",
              "      <td>[{'credit_id': '52fe4284c3a36847f8024f49', 'de...</td>\n",
              "      <td>TomHanks TimAllen DonRickles</td>\n",
              "      <td>JohnLasseter</td>\n",
              "      <td>Led by Woody, Andy's toys live happily in his ...</td>\n",
              "    </tr>\n",
              "    <tr>\n",
              "      <th>1</th>\n",
              "      <td>8844</td>\n",
              "      <td>Jumanji</td>\n",
              "      <td>When siblings Judy and Peter discover an encha...</td>\n",
              "      <td>[{'cast_id': 1, 'character': 'Alan Parrish', '...</td>\n",
              "      <td>[{'credit_id': '52fe44bfc3a36847f80a7cd1', 'de...</td>\n",
              "      <td>RobinWilliams JonathanHyde KirstenDunst</td>\n",
              "      <td>JoeJohnston</td>\n",
              "      <td>When siblings Judy and Peter discover an encha...</td>\n",
              "    </tr>\n",
              "    <tr>\n",
              "      <th>2</th>\n",
              "      <td>15602</td>\n",
              "      <td>Grumpier Old Men</td>\n",
              "      <td>A family wedding reignites the ancient feud be...</td>\n",
              "      <td>[{'cast_id': 2, 'character': 'Max Goldman', 'c...</td>\n",
              "      <td>[{'credit_id': '52fe466a9251416c75077a89', 'de...</td>\n",
              "      <td>WalterMatthau JackLemmon Ann-Margret</td>\n",
              "      <td>HowardDeutch</td>\n",
              "      <td>A family wedding reignites the ancient feud be...</td>\n",
              "    </tr>\n",
              "  </tbody>\n",
              "</table>\n",
              "</div>"
            ],
            "text/plain": [
              "      id  ...                                              total\n",
              "0    862  ...  Led by Woody, Andy's toys live happily in his ...\n",
              "1   8844  ...  When siblings Judy and Peter discover an encha...\n",
              "2  15602  ...  A family wedding reignites the ancient feud be...\n",
              "\n",
              "[3 rows x 8 columns]"
            ]
          },
          "metadata": {},
          "execution_count": 22
        }
      ]
    },
    {
      "cell_type": "code",
      "metadata": {
        "id": "AD0LJVx4AWZV"
      },
      "source": [
        "from sklearn.feature_extraction.text import CountVectorizer\n",
        "from sklearn.feature_extraction.text import TfidfVectorizer"
      ],
      "execution_count": 23,
      "outputs": []
    },
    {
      "cell_type": "code",
      "metadata": {
        "colab": {
          "base_uri": "https://localhost:8080/"
        },
        "id": "sV2NIS33AqZT",
        "outputId": "c678c3fc-dc5d-45a1-f2e8-1b62c62c5dbb"
      },
      "source": [
        "cvect = CountVectorizer(stop_words = 'english', ngram_range = (1, 1))\n",
        "count_matrix = cvect.fit_transform(df.total)\n",
        "count_matrix.shape"
      ],
      "execution_count": 24,
      "outputs": [
        {
          "output_type": "execute_result",
          "data": {
            "text/plain": [
              "(10000, 47366)"
            ]
          },
          "metadata": {},
          "execution_count": 24
        }
      ]
    },
    {
      "cell_type": "code",
      "metadata": {
        "colab": {
          "base_uri": "https://localhost:8080/"
        },
        "id": "2FpI93evBFir",
        "outputId": "e0dcbdab-a7e9-47c5-aef4-e6e99b5e4e3b"
      },
      "source": [
        "tvect = TfidfVectorizer(stop_words = 'english', ngram_range = (1, 1))\n",
        "tfidf_matrix = tvect.fit_transform(df.total)\n",
        "tfidf_matrix.shape"
      ],
      "execution_count": 25,
      "outputs": [
        {
          "output_type": "execute_result",
          "data": {
            "text/plain": [
              "(10000, 47366)"
            ]
          },
          "metadata": {},
          "execution_count": 25
        }
      ]
    },
    {
      "cell_type": "markdown",
      "metadata": {
        "id": "ENz-nOQ5B9Pv"
      },
      "source": [
        "## Table with Title & Index"
      ]
    },
    {
      "cell_type": "code",
      "metadata": {
        "colab": {
          "base_uri": "https://localhost:8080/"
        },
        "id": "m50iRhl1CElo",
        "outputId": "eaea697d-57ab-4de6-bf6e-66a919442287"
      },
      "source": [
        "indices = pd.Series(df.index, index = df.title).drop_duplicates()\n",
        "indices.head()"
      ],
      "execution_count": 26,
      "outputs": [
        {
          "output_type": "execute_result",
          "data": {
            "text/plain": [
              "title\n",
              "Toy Story                      0\n",
              "Jumanji                        1\n",
              "Grumpier Old Men               2\n",
              "Waiting to Exhale              3\n",
              "Father of the Bride Part II    4\n",
              "dtype: int64"
            ]
          },
          "metadata": {},
          "execution_count": 26
        }
      ]
    },
    {
      "cell_type": "markdown",
      "metadata": {
        "id": "aT_SHjGjKqji"
      },
      "source": [
        "## Function that Finds Similar Movies using Cosine Similarity"
      ]
    },
    {
      "cell_type": "code",
      "metadata": {
        "id": "2mJkpOGBKx0V"
      },
      "source": [
        "from sklearn.metrics.pairwise import linear_kernel\n",
        "cosine_sim1 = linear_kernel(count_matrix, count_matrix)\n",
        "cosine_sim2 = linear_kernel(tfidf_matrix, tfidf_matrix)"
      ],
      "execution_count": 27,
      "outputs": []
    },
    {
      "cell_type": "code",
      "metadata": {
        "id": "zYix1Ra6LK5Y"
      },
      "source": [
        "def get_recommendations1(title, cosine_sim1 = cosine_sim1):\n",
        "    idx = indices[title]\n",
        "    sim_scores = list(enumerate(cosine_sim1[idx]))\n",
        "    sim_scores = sorted(sim_scores, key = lambda x: x[1], reverse = True)\n",
        "    sim_scores = sim_scores[1:11]\n",
        "    movie_indices = [i[0] for i in sim_scores]\n",
        "    return df.title.iloc[movie_indices]"
      ],
      "execution_count": 32,
      "outputs": []
    },
    {
      "cell_type": "code",
      "metadata": {
        "id": "U9NFKMtc4Two"
      },
      "source": [
        "def get_recommendations2(title, cosine_sim2 = cosine_sim2):\n",
        "    idx = indices[title]\n",
        "    sim_scores = list(enumerate(cosine_sim2[idx]))\n",
        "    sim_scores = sorted(sim_scores, key = lambda x: x[1], reverse = True)\n",
        "    sim_scores = sim_scores[1:11]\n",
        "    movie_indices = [i[0] for i in sim_scores]\n",
        "    return df.title.iloc[movie_indices]"
      ],
      "execution_count": 33,
      "outputs": []
    },
    {
      "cell_type": "code",
      "metadata": {
        "colab": {
          "base_uri": "https://localhost:8080/"
        },
        "id": "cNyWL1P3LTqK",
        "outputId": "c8b2bb16-22a1-4d76-b72e-5fe0989ca2a5"
      },
      "source": [
        "get_recommendations1('Jumanji')"
      ],
      "execution_count": 34,
      "outputs": [
        {
          "output_type": "execute_result",
          "data": {
            "text/plain": [
              "9375    Resurrection of The Little Match Girl\n",
              "6172                                Brainscan\n",
              "9116                                  Nirvana\n",
              "9508                                Word Wars\n",
              "8                                Sudden Death\n",
              "3865                       Dungeons & Dragons\n",
              "4827      Porn Star: The Legend of Ron Jeremy\n",
              "8811                                  Quintet\n",
              "1498                       The Innocent Sleep\n",
              "3049                         Any Given Sunday\n",
              "Name: title, dtype: object"
            ]
          },
          "metadata": {},
          "execution_count": 34
        }
      ]
    },
    {
      "cell_type": "code",
      "metadata": {
        "colab": {
          "base_uri": "https://localhost:8080/"
        },
        "id": "R_fNnVm74hTu",
        "outputId": "b395b78a-7f43-46d0-8865-87c1e46a94fa"
      },
      "source": [
        "get_recommendations2('Jumanji')"
      ],
      "execution_count": 35,
      "outputs": [
        {
          "output_type": "execute_result",
          "data": {
            "text/plain": [
              "6172             Brainscan\n",
              "8811               Quintet\n",
              "9508             Word Wars\n",
              "9116               Nirvana\n",
              "8090               Masques\n",
              "2476              eXistenZ\n",
              "1498    The Innocent Sleep\n",
              "8894     The Best of Times\n",
              "6061      Poolhall Junkies\n",
              "7757    The Last of Sheila\n",
              "Name: title, dtype: object"
            ]
          },
          "metadata": {},
          "execution_count": 35
        }
      ]
    }
  ]
}