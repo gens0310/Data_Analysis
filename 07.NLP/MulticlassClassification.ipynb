{
  "nbformat": 4,
  "nbformat_minor": 0,
  "metadata": {
    "colab": {
      "name": "MulticlassClassification.ipynb",
      "provenance": [],
      "collapsed_sections": []
    },
    "kernelspec": {
      "name": "python3",
      "display_name": "Python 3"
    },
    "language_info": {
      "name": "python"
    }
  },
  "cells": [
    {
      "cell_type": "markdown",
      "metadata": {
        "id": "u3v00_NZ13a5"
      },
      "source": [
        "# Multiclass Classification"
      ]
    },
    {
      "cell_type": "markdown",
      "metadata": {
        "id": "ktPAIHat1c_T"
      },
      "source": [
        "## News Group Classification"
      ]
    },
    {
      "cell_type": "code",
      "metadata": {
        "id": "h-V7dlAq02Uu"
      },
      "source": [
        "import numpy as np\n",
        "import pandas as pd"
      ],
      "execution_count": 1,
      "outputs": []
    },
    {
      "cell_type": "code",
      "metadata": {
        "colab": {
          "base_uri": "https://localhost:8080/"
        },
        "id": "WvpczSBe2AqO",
        "outputId": "4c7cb441-2a34-4634-a6b5-1f6d1c7c29f2"
      },
      "source": [
        "from sklearn.datasets import fetch_20newsgroups\n",
        "news = fetch_20newsgroups(subset = 'all', random_state = 2021)"
      ],
      "execution_count": 2,
      "outputs": [
        {
          "output_type": "stream",
          "name": "stderr",
          "text": [
            "Downloading 20news dataset. This may take a few minutes.\n",
            "Downloading dataset from https://ndownloader.figshare.com/files/5975967 (14 MB)\n"
          ]
        }
      ]
    },
    {
      "cell_type": "markdown",
      "metadata": {
        "id": "Bly8spr2245e"
      },
      "source": [
        "### Searching Data"
      ]
    },
    {
      "cell_type": "code",
      "metadata": {
        "colab": {
          "base_uri": "https://localhost:8080/"
        },
        "id": "j3MANZy620JQ",
        "outputId": "92e1a210-5ba0-471c-bfcf-0dde2ff52f30"
      },
      "source": [
        "news.keys()"
      ],
      "execution_count": 3,
      "outputs": [
        {
          "output_type": "execute_result",
          "data": {
            "text/plain": [
              "dict_keys(['data', 'filenames', 'target_names', 'target', 'DESCR'])"
            ]
          },
          "metadata": {},
          "execution_count": 3
        }
      ]
    },
    {
      "cell_type": "code",
      "metadata": {
        "colab": {
          "base_uri": "https://localhost:8080/"
        },
        "id": "kfD5LDbm2_8g",
        "outputId": "ecd35cee-a02f-47e7-a72c-72aa51a758c8"
      },
      "source": [
        "from sklearn.datasets import load_iris\n",
        "iris = load_iris()\n",
        "iris.keys()"
      ],
      "execution_count": 4,
      "outputs": [
        {
          "output_type": "execute_result",
          "data": {
            "text/plain": [
              "dict_keys(['data', 'target', 'target_names', 'DESCR', 'feature_names', 'filename'])"
            ]
          },
          "metadata": {},
          "execution_count": 4
        }
      ]
    },
    {
      "cell_type": "code",
      "metadata": {
        "colab": {
          "base_uri": "https://localhost:8080/"
        },
        "id": "1nBIxJQI3LH_",
        "outputId": "539c4661-dfeb-4bf9-ffc3-6d1729fa434f"
      },
      "source": [
        "news.target_names"
      ],
      "execution_count": 5,
      "outputs": [
        {
          "output_type": "execute_result",
          "data": {
            "text/plain": [
              "['alt.atheism',\n",
              " 'comp.graphics',\n",
              " 'comp.os.ms-windows.misc',\n",
              " 'comp.sys.ibm.pc.hardware',\n",
              " 'comp.sys.mac.hardware',\n",
              " 'comp.windows.x',\n",
              " 'misc.forsale',\n",
              " 'rec.autos',\n",
              " 'rec.motorcycles',\n",
              " 'rec.sport.baseball',\n",
              " 'rec.sport.hockey',\n",
              " 'sci.crypt',\n",
              " 'sci.electronics',\n",
              " 'sci.med',\n",
              " 'sci.space',\n",
              " 'soc.religion.christian',\n",
              " 'talk.politics.guns',\n",
              " 'talk.politics.mideast',\n",
              " 'talk.politics.misc',\n",
              " 'talk.religion.misc']"
            ]
          },
          "metadata": {},
          "execution_count": 5
        }
      ]
    },
    {
      "cell_type": "code",
      "metadata": {
        "colab": {
          "base_uri": "https://localhost:8080/"
        },
        "id": "hNog8L9F4VVP",
        "outputId": "78ab4ab7-7de4-429c-a373-721bd345ae8e"
      },
      "source": [
        "pd.Series(news.target).value_counts().sort_index()"
      ],
      "execution_count": 6,
      "outputs": [
        {
          "output_type": "execute_result",
          "data": {
            "text/plain": [
              "0     799\n",
              "1     973\n",
              "2     985\n",
              "3     982\n",
              "4     963\n",
              "5     988\n",
              "6     975\n",
              "7     990\n",
              "8     996\n",
              "9     994\n",
              "10    999\n",
              "11    991\n",
              "12    984\n",
              "13    990\n",
              "14    987\n",
              "15    997\n",
              "16    910\n",
              "17    940\n",
              "18    775\n",
              "19    628\n",
              "dtype: int64"
            ]
          },
          "metadata": {},
          "execution_count": 6
        }
      ]
    },
    {
      "cell_type": "code",
      "metadata": {
        "colab": {
          "base_uri": "https://localhost:8080/"
        },
        "id": "o6Q3H1YQ4m23",
        "outputId": "0a199e7f-a678-4162-cc53-5a83ed4da041"
      },
      "source": [
        "len(news.data)"
      ],
      "execution_count": 7,
      "outputs": [
        {
          "output_type": "execute_result",
          "data": {
            "text/plain": [
              "18846"
            ]
          },
          "metadata": {},
          "execution_count": 7
        }
      ]
    },
    {
      "cell_type": "code",
      "metadata": {
        "colab": {
          "base_uri": "https://localhost:8080/"
        },
        "id": "qmSDVBfM5BEC",
        "outputId": "4d6c5de8-417e-4d78-ad96-90e49ccaa035"
      },
      "source": [
        "print(news.data[0])"
      ],
      "execution_count": 8,
      "outputs": [
        {
          "output_type": "stream",
          "name": "stdout",
          "text": [
            "From: dagibbs@quantum.qnx.com (David Gibbs)\n",
            "Subject: Re: Countersteering sans Hands\n",
            "Organization: QNX Software Systems, Ltd.\n",
            "Lines: 22\n",
            "\n",
            "In article <1993Apr20.203344.8417@cs.cornell.edu> karr@cs.cornell.edu (David Karr) writes:\n",
            ">In article <Clarke.6.735328328@bdrc.bd.com> Clarke@bdrc.bd.com (Richard Clarke) writes:\n",
            ">>So how do I steer when my hands aren't on the bars? (Open Budweiser in left \n",
            ">>hand, Camel cigarette in the right, no feet allowed.) \n",
            ">\n",
            ">>If I lean, and the \n",
            ">>bike turns, am I countersteering?\n",
            ">\n",
            ">No, the bars would turn only *toward* the direction of turn in\n",
            ">no-hands steering.\n",
            "\n",
            "Just in case the original poster was looking for a serious answer,\n",
            "I'll supply one.\n",
            "\n",
            "Yes, even when steering no hands you do something quite similar\n",
            "to countersteering.  Basically to turn left, you to a quick wiggle\n",
            "of the bike to the right first, causing a counteracting lean to\n",
            "occur to the left.  It is a lot more difficult to do on a motorcycle\n",
            "than a bicycle though, because of the extra weight.  (Ok, so my\n",
            "motorcycle is heavy.  Maybe yous isn't.)\n",
            "\n",
            "-David\n",
            "\n"
          ]
        }
      ]
    },
    {
      "cell_type": "markdown",
      "metadata": {
        "id": "30e9ybuI5mPR"
      },
      "source": [
        "### Extraction Train/Test Data"
      ]
    },
    {
      "cell_type": "code",
      "metadata": {
        "colab": {
          "base_uri": "https://localhost:8080/"
        },
        "id": "lLFKj5Kl5GeY",
        "outputId": "643e560a-d624-4df4-e8f3-d3c3b245096f"
      },
      "source": [
        "train_news = fetch_20newsgroups(\n",
        "    subset = 'train',\n",
        "    random_state = 2021,\n",
        "    remove = ('headers', 'footers', 'quotes')\n",
        ")\n",
        "len(train_news.data)"
      ],
      "execution_count": 9,
      "outputs": [
        {
          "output_type": "execute_result",
          "data": {
            "text/plain": [
              "11314"
            ]
          },
          "metadata": {},
          "execution_count": 9
        }
      ]
    },
    {
      "cell_type": "code",
      "metadata": {
        "colab": {
          "base_uri": "https://localhost:8080/"
        },
        "id": "Xc8r5UaG6LxC",
        "outputId": "84d4c7aa-c0dc-4fbd-b33c-7bb541a08807"
      },
      "source": [
        "test_news = fetch_20newsgroups(\n",
        "    subset = 'test',\n",
        "    random_state = 2021,\n",
        "    remove = ('headers', 'footers', 'quotes')\n",
        ")\n",
        "len(test_news.data)"
      ],
      "execution_count": 10,
      "outputs": [
        {
          "output_type": "execute_result",
          "data": {
            "text/plain": [
              "7532"
            ]
          },
          "metadata": {},
          "execution_count": 10
        }
      ]
    },
    {
      "cell_type": "code",
      "metadata": {
        "colab": {
          "base_uri": "https://localhost:8080/"
        },
        "id": "q09p1sRa6aRz",
        "outputId": "581193fc-e2ef-4103-bae4-a6acff861266"
      },
      "source": [
        "print(train_news.data[1])"
      ],
      "execution_count": 11,
      "outputs": [
        {
          "output_type": "stream",
          "name": "stdout",
          "text": [
            "]Is it possible to do a \"wheelie\" on a motorcycle with shaft-drive?\n",
            "\n",
            "yes.\n",
            "\n"
          ]
        }
      ]
    },
    {
      "cell_type": "code",
      "metadata": {
        "colab": {
          "base_uri": "https://localhost:8080/"
        },
        "id": "d34L0Zu086uU",
        "outputId": "f9bd364e-5359-40b6-e627-86b85be9701f"
      },
      "source": [
        "print(test_news.data[2])"
      ],
      "execution_count": 12,
      "outputs": [
        {
          "output_type": "stream",
          "name": "stdout",
          "text": [
            "Total Baseball, which also tries to evaluate a player's total offensive\n",
            "and defensive contributions, gives Barry Bonds a Total Player rating of\n",
            "9.0 for 1992. Only one other player since Ruth attained that mark: Cal\n",
            "Ripken for his 1984 season. Rounding out the top five offensive players\n",
            "in the NL last season: Sheffield, 5.9; Sandberg, 5.8; Van Slyke, 5.3; and\n",
            "Larkin, 4.7.\n",
            "\n",
            "The top 5 offensive players in the AL in 1992 were: E. Martinez, 4.8;\n",
            "Ventura, 4.8; Anderson, 4.5; R. Henderson, 4.4; and Thomas, 4.4\n",
            "\n",
            "In short, Total Baseball says Bonds enjoyed one of the best seasons\n",
            "ever in the game's history -- better than any year had by Mantle,\n",
            "Mays, Williams, etc. (If you disagree, don't flame me; flame the\n",
            "writers of Total Baseball.) Also, Martinez and Ventura are neck and\n",
            "neck, so given the shortcomings of any statistical analysis, which one\n",
            "had the better year can be considered a toss-up. Thus, Total Baseball\n",
            "supports your choices of Bonds and Ventura as the MVPs of 1992.\n",
            "\n",
            "\n",
            "\n",
            "--\n",
            "--------------------------\n",
            "Phil Brown                |\n",
            "aka pb6755@csc.albany.edu |\n"
          ]
        }
      ]
    },
    {
      "cell_type": "markdown",
      "metadata": {
        "id": "-6jhggx66sHa"
      },
      "source": [
        "### Preprocessing Text Data"
      ]
    },
    {
      "cell_type": "code",
      "metadata": {
        "id": "addp8sol6ivR"
      },
      "source": [
        "train_df = pd.DataFrame({'article' : train_news.data})\n",
        "test_df = pd.DataFrame({'article' : test_news.data})"
      ],
      "execution_count": 13,
      "outputs": []
    },
    {
      "cell_type": "markdown",
      "metadata": {
        "id": "jTrlcZ8O7WDu"
      },
      "source": [
        "#### Train Dataset"
      ]
    },
    {
      "cell_type": "markdown",
      "metadata": {
        "id": "JuRvFk158o2w"
      },
      "source": [
        "##### Remove Special Character"
      ]
    },
    {
      "cell_type": "code",
      "metadata": {
        "id": "-2_Cu7QL7YPz"
      },
      "source": [
        "train_df['article'] = train_df.article.str.replace('[^A-Za-z]', ' ')"
      ],
      "execution_count": 14,
      "outputs": []
    },
    {
      "cell_type": "code",
      "metadata": {
        "colab": {
          "base_uri": "https://localhost:8080/",
          "height": 35
        },
        "id": "yR2gGWRf8u79",
        "outputId": "3ced6faf-7515-4daf-836b-ad9d13c6f8a5"
      },
      "source": [
        "train_df.article[1]"
      ],
      "execution_count": 15,
      "outputs": [
        {
          "output_type": "execute_result",
          "data": {
            "application/vnd.google.colaboratory.intrinsic+json": {
              "type": "string"
            },
            "text/plain": [
              "' Is it possible to do a  wheelie  on a motorcycle with shaft drive   yes  '"
            ]
          },
          "metadata": {},
          "execution_count": 15
        }
      ]
    },
    {
      "cell_type": "markdown",
      "metadata": {
        "id": "I4r-SLPADP18"
      },
      "source": [
        "##### Remove Words with less than Three Characters & Convert to Lowercase"
      ]
    },
    {
      "cell_type": "code",
      "metadata": {
        "id": "IY0fQfI2DC7N"
      },
      "source": [
        "train_df['article'] = train_df.article.apply(lambda x: ' '.join([w.lower() for w in x.split() if len(w) > 3]))"
      ],
      "execution_count": 16,
      "outputs": []
    },
    {
      "cell_type": "markdown",
      "metadata": {
        "id": "eH10Wc1GD6yy"
      },
      "source": [
        "#### Test Dataset"
      ]
    },
    {
      "cell_type": "code",
      "metadata": {
        "id": "cOOeEzqzD8nO"
      },
      "source": [
        "test_df['article'] = test_df.article.str.replace('[^A-Za-z]', ' ')\n",
        "test_df['article'] = test_df.article.apply(lambda x: ' '.join([w.lower() for w in x.split() if len(w) > 3]))"
      ],
      "execution_count": 17,
      "outputs": []
    },
    {
      "cell_type": "markdown",
      "metadata": {
        "id": "dpyV1Bk-ELmY"
      },
      "source": [
        "### Conversion Text Data"
      ]
    },
    {
      "cell_type": "code",
      "metadata": {
        "id": "i45VXFcmEVZk"
      },
      "source": [
        "from sklearn.feature_extraction.text import TfidfVectorizer"
      ],
      "execution_count": 18,
      "outputs": []
    },
    {
      "cell_type": "code",
      "metadata": {
        "colab": {
          "base_uri": "https://localhost:8080/"
        },
        "id": "_gokSFECEdXV",
        "outputId": "5a9eb689-8077-4e4d-a0b2-bd0fae359eb3"
      },
      "source": [
        "tvect = TfidfVectorizer(stop_words = 'english')\n",
        "tvect.fit(train_df.article)"
      ],
      "execution_count": 19,
      "outputs": [
        {
          "output_type": "execute_result",
          "data": {
            "text/plain": [
              "TfidfVectorizer(analyzer='word', binary=False, decode_error='strict',\n",
              "                dtype=<class 'numpy.float64'>, encoding='utf-8',\n",
              "                input='content', lowercase=True, max_df=1.0, max_features=None,\n",
              "                min_df=1, ngram_range=(1, 1), norm='l2', preprocessor=None,\n",
              "                smooth_idf=True, stop_words='english', strip_accents=None,\n",
              "                sublinear_tf=False, token_pattern='(?u)\\\\b\\\\w\\\\w+\\\\b',\n",
              "                tokenizer=None, use_idf=True, vocabulary=None)"
            ]
          },
          "metadata": {},
          "execution_count": 19
        }
      ]
    },
    {
      "cell_type": "code",
      "metadata": {
        "colab": {
          "base_uri": "https://localhost:8080/"
        },
        "id": "xh-DTaBYE10t",
        "outputId": "9a673c66-a28f-475a-b738-970451081ff8"
      },
      "source": [
        "X_train = tvect.transform(train_df.article)\n",
        "X_test = tvect.transform(test_df.article)\n",
        "X_train.shape, X_test.shape"
      ],
      "execution_count": 20,
      "outputs": [
        {
          "output_type": "execute_result",
          "data": {
            "text/plain": [
              "((11314, 64133), (7532, 64133))"
            ]
          },
          "metadata": {},
          "execution_count": 20
        }
      ]
    },
    {
      "cell_type": "code",
      "metadata": {
        "id": "EnmnFpIwFGC_"
      },
      "source": [
        "y_train = train_news.target\n",
        "y_test = test_news.target"
      ],
      "execution_count": 21,
      "outputs": []
    },
    {
      "cell_type": "markdown",
      "metadata": {
        "id": "pjQ_YvjBFkb6"
      },
      "source": [
        "### Train/Predict/Evaluation"
      ]
    },
    {
      "cell_type": "markdown",
      "metadata": {
        "id": "6GFcclxAGAsT"
      },
      "source": [
        "#### Support Vector Machine Classifier"
      ]
    },
    {
      "cell_type": "code",
      "metadata": {
        "colab": {
          "base_uri": "https://localhost:8080/"
        },
        "id": "0h0SWpdJFXFd",
        "outputId": "838c928e-a34f-4b71-fddd-17727bbf1aa4"
      },
      "source": [
        "from sklearn.svm import SVC\n",
        "svc = SVC()\n",
        "svc.fit(X_train, y_train)"
      ],
      "execution_count": 22,
      "outputs": [
        {
          "output_type": "execute_result",
          "data": {
            "text/plain": [
              "SVC(C=1.0, break_ties=False, cache_size=200, class_weight=None, coef0=0.0,\n",
              "    decision_function_shape='ovr', degree=3, gamma='scale', kernel='rbf',\n",
              "    max_iter=-1, probability=False, random_state=None, shrinking=True,\n",
              "    tol=0.001, verbose=False)"
            ]
          },
          "metadata": {},
          "execution_count": 22
        }
      ]
    },
    {
      "cell_type": "code",
      "metadata": {
        "id": "e3bRzFIMF5ud"
      },
      "source": [
        "pred = svc.predict(X_test)"
      ],
      "execution_count": 23,
      "outputs": []
    },
    {
      "cell_type": "code",
      "metadata": {
        "colab": {
          "base_uri": "https://localhost:8080/"
        },
        "id": "rOYdryp8GY0V",
        "outputId": "0fd841be-e69f-43bc-e58f-bc1f1bd61a3f"
      },
      "source": [
        "from sklearn.metrics import accuracy_score\n",
        "accuracy_score(y_test, pred)"
      ],
      "execution_count": 24,
      "outputs": [
        {
          "output_type": "execute_result",
          "data": {
            "text/plain": [
              "0.6488316516197558"
            ]
          },
          "metadata": {},
          "execution_count": 24
        }
      ]
    }
  ]
}