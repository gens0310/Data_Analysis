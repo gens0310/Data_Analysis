{
  "nbformat": 4,
  "nbformat_minor": 0,
  "metadata": {
    "colab": {
      "name": "TextPreprocessing(2).ipynb",
      "provenance": [],
      "collapsed_sections": []
    },
    "kernelspec": {
      "name": "python3",
      "display_name": "Python 3"
    },
    "language_info": {
      "name": "python"
    }
  },
  "cells": [
    {
      "cell_type": "markdown",
      "metadata": {
        "id": "q-q7Gz34Z0ak"
      },
      "source": [
        "## Regular Expression(정규 표현식)"
      ]
    },
    {
      "cell_type": "markdown",
      "metadata": {
        "id": "j2-cxgKkcjjC"
      },
      "source": [
        "- .\t: 한 개의 임의의 문자를 나타냅니다. (줄바꿈 문자인 \\n는 제외)\n",
        "- ? : 앞의 문자가 존재할 수도 있고, 존재하지 않을 수도 있습니다. (문자가 0개 또는 1개)\n",
        "- \\* : 앞의 문자가 무한개로 존재할 수도 있고, 존재하지 않을 수도 있습니다. (문자가 0개 이상)\n",
        "- \\+ : 앞의 문자가 최소 한 개 이상 존재합니다. (문자가 1개 이상)\n",
        "- ^\t: 뒤의 문자로 문자열이 시작됩니다.\n",
        "- $\t: 앞의 문자로 문자열이 끝납니다.\n",
        "- {숫자} : 숫자만큼 반복합니다.\n",
        "- {숫자1, 숫자2} : 숫자1 이상 숫자2 이하만큼 반복합니다. ?, *, +를 이것으로 대체할 수 있습니다.\n",
        "- {숫자,} : 숫자 이상만큼 반복합니다.\n",
        "- \\[ ] : 대괄호 안의 문자들 중 한 개의 문자와 매치합니다. [amk]라고 한다면 a 또는 m 또는 k 중 하나라도 존재하면 매치를 의미합니다. [a-z]와 같이 범위를 지정할 수도 있습니다. [a-zA-Z]는 알파벳 전체를 의미하는 범위이며, 문자열에 알파벳이 존재하면 매치를 의미합니다.\n",
        "- [^문자] : 해당 문자를 제외한 문자를 매치합니다.\n",
        "- l\t: AlB와 같이 쓰이며 A 또는 B의 의미를 가집니다."
      ]
    },
    {
      "cell_type": "markdown",
      "metadata": {
        "id": "ne3g1r5mdEoB"
      },
      "source": [
        "- \\\t: 역 슬래쉬 문자 자체를 의미합니다\n",
        "- \\d : 모든 숫자를 의미합니다. [0-9]와 의미가 동일합니다.\n",
        "- \\D : 숫자를 제외한 모든 문자를 의미합니다. [^0-9]와 의미가 동일합니다.\n",
        "- \\s : 공백을 의미합니다. [ \\t\\n\\r\\f\\v]와 의미가 동일합니다.\n",
        "- \\S : 공백을 제외한 문자를 의미합니다. [^ \\t\\n\\r\\f\\v]와 의미가 동일합니다.\n",
        "- \\w : 문자 또는 숫자를 의미합니다. [a-zA-Z0-9]와 의미가 동일합니다.\n",
        "- \\W : 문자 또는 숫자가 아닌 문자를 의미합니다. [^a-zA-Z0-9]와 의미가 동일합니다."
      ]
    },
    {
      "cell_type": "markdown",
      "metadata": {
        "id": "XIKyYIsXdTqI"
      },
      "source": [
        "- re.compile() : 정규표현식을 컴파일하는 함수입니다. 다시 말해, 파이썬에게 전해주는 역할을 합니다. 찾고자 하는 패턴이 빈번한 경우에는 미리 컴파일해놓고 사용하면 속도와 편의성면에서 유리합니다.\n",
        "- re.search() : 문자열 전체에 대해서 정규표현식과 매치되는지를 검색합니다.\n",
        "- re.match() : 문자열의 처음이 정규표현식과 매치되는지를 검색합니다.\n",
        "- re.split() : 정규 표현식을 기준으로 문자열을 분리하여 리스트로 리턴합니다.\n",
        "- re.findall() : 문자열에서 정규 표현식과 매치되는 모든 경우의 문자열을 찾아서 리스트로 리턴합니다. 만약, 매치되는 문자열이 없다면 빈 리스트가 리턴됩니다.\n",
        "- re.finditer() : 문자열에서 정규 표현식과 매치되는 모든 경우의 문자열에 대한 이터레이터 객체를 리턴합니다.\n",
        "- re.sub() : 문자열에서 정규 표현식과 일치하는 부분에 대해서 다른 문자열로 대체합니다."
      ]
    },
    {
      "cell_type": "code",
      "metadata": {
        "id": "EhkK4C5YZ4Pf"
      },
      "source": [
        "import re"
      ],
      "execution_count": 1,
      "outputs": []
    },
    {
      "cell_type": "markdown",
      "metadata": {
        "id": "z5NlUdcBe596"
      },
      "source": [
        "### Practice"
      ]
    },
    {
      "cell_type": "markdown",
      "metadata": {
        "id": "Dxk1dRoZfFhE"
      },
      "source": [
        "#### . : 한 개의 임의의 문자"
      ]
    },
    {
      "cell_type": "code",
      "metadata": {
        "id": "0aiTRQS-etkk"
      },
      "source": [
        "re.search('a.c', 'kkk')"
      ],
      "execution_count": 2,
      "outputs": []
    },
    {
      "cell_type": "code",
      "metadata": {
        "colab": {
          "base_uri": "https://localhost:8080/"
        },
        "id": "BrNSGbKZfAFd",
        "outputId": "751fc87c-eb3e-4aef-effe-20845913f76b"
      },
      "source": [
        "re.search('a.c', 'abc')"
      ],
      "execution_count": 3,
      "outputs": [
        {
          "output_type": "execute_result",
          "data": {
            "text/plain": [
              "<re.Match object; span=(0, 3), match='abc'>"
            ]
          },
          "metadata": {},
          "execution_count": 3
        }
      ]
    },
    {
      "cell_type": "markdown",
      "metadata": {
        "id": "uBDT940CfWvA"
      },
      "source": [
        "#### ? : 문자가 0개 or 1개"
      ]
    },
    {
      "cell_type": "code",
      "metadata": {
        "id": "lOw9htOzfXgN"
      },
      "source": [
        "r = re.compile('ab?c')\n",
        "r.search('abbc')"
      ],
      "execution_count": 4,
      "outputs": []
    },
    {
      "cell_type": "code",
      "metadata": {
        "colab": {
          "base_uri": "https://localhost:8080/"
        },
        "id": "JhACCi63fstM",
        "outputId": "a7b69f53-905f-4457-beb1-542328e619b1"
      },
      "source": [
        "r.search('abc')"
      ],
      "execution_count": 5,
      "outputs": [
        {
          "output_type": "execute_result",
          "data": {
            "text/plain": [
              "<re.Match object; span=(0, 3), match='abc'>"
            ]
          },
          "metadata": {},
          "execution_count": 5
        }
      ]
    },
    {
      "cell_type": "code",
      "metadata": {
        "colab": {
          "base_uri": "https://localhost:8080/"
        },
        "id": "5lv5FlG9furt",
        "outputId": "5f3c0566-ba9c-481c-cd78-9914eac3ede4"
      },
      "source": [
        "r.search('ac')"
      ],
      "execution_count": 6,
      "outputs": [
        {
          "output_type": "execute_result",
          "data": {
            "text/plain": [
              "<re.Match object; span=(0, 2), match='ac'>"
            ]
          },
          "metadata": {},
          "execution_count": 6
        }
      ]
    },
    {
      "cell_type": "markdown",
      "metadata": {
        "id": "0hjRawVYxZes"
      },
      "source": [
        "#### * : 바로 앞 문자가 0개 이상"
      ]
    },
    {
      "cell_type": "code",
      "metadata": {
        "id": "C_q53qgOfwjF"
      },
      "source": [
        "r = re.compile('ab*c')\n",
        "r.search('a')"
      ],
      "execution_count": 7,
      "outputs": []
    },
    {
      "cell_type": "code",
      "metadata": {
        "colab": {
          "base_uri": "https://localhost:8080/"
        },
        "id": "MruH42fYxpth",
        "outputId": "efb710e1-7060-4f93-b0ff-f003ecd22072"
      },
      "source": [
        "r.search('ac')"
      ],
      "execution_count": 8,
      "outputs": [
        {
          "output_type": "execute_result",
          "data": {
            "text/plain": [
              "<re.Match object; span=(0, 2), match='ac'>"
            ]
          },
          "metadata": {},
          "execution_count": 8
        }
      ]
    },
    {
      "cell_type": "code",
      "metadata": {
        "colab": {
          "base_uri": "https://localhost:8080/"
        },
        "id": "j_kA6RK1xrys",
        "outputId": "2d687ce5-6ac2-4572-9169-ee41383fb986"
      },
      "source": [
        "r.search('abbbbbc')"
      ],
      "execution_count": 9,
      "outputs": [
        {
          "output_type": "execute_result",
          "data": {
            "text/plain": [
              "<re.Match object; span=(0, 7), match='abbbbbc'>"
            ]
          },
          "metadata": {},
          "execution_count": 9
        }
      ]
    },
    {
      "cell_type": "markdown",
      "metadata": {
        "id": "sr0KXXVCx4um"
      },
      "source": [
        "#### + : 앞의 문자가 최소 1개 이상"
      ]
    },
    {
      "cell_type": "code",
      "metadata": {
        "id": "FU300MEnxvTE"
      },
      "source": [
        "r = re.compile('ab+c')\n",
        "r.search('ac')"
      ],
      "execution_count": 10,
      "outputs": []
    },
    {
      "cell_type": "code",
      "metadata": {
        "colab": {
          "base_uri": "https://localhost:8080/"
        },
        "id": "EBZ3ZkhYyKf9",
        "outputId": "a3ce2428-726f-4449-ded9-c345f795eba3"
      },
      "source": [
        "r.search('abbbbbc')"
      ],
      "execution_count": 11,
      "outputs": [
        {
          "output_type": "execute_result",
          "data": {
            "text/plain": [
              "<re.Match object; span=(0, 7), match='abbbbbc'>"
            ]
          },
          "metadata": {},
          "execution_count": 11
        }
      ]
    },
    {
      "cell_type": "markdown",
      "metadata": {
        "id": "Ota1Dzj3yOg4"
      },
      "source": [
        "#### ^ : 시작되는 글자 지정"
      ]
    },
    {
      "cell_type": "code",
      "metadata": {
        "id": "JIDVoUDhyN5O"
      },
      "source": [
        "re.search('^a', 'bbc')"
      ],
      "execution_count": 12,
      "outputs": []
    },
    {
      "cell_type": "code",
      "metadata": {
        "colab": {
          "base_uri": "https://localhost:8080/"
        },
        "id": "5yHrn69nyUJ9",
        "outputId": "407a7cab-1ea0-4c1c-ffe5-6e373b431313"
      },
      "source": [
        "re.search('^a', 'ab')"
      ],
      "execution_count": 13,
      "outputs": [
        {
          "output_type": "execute_result",
          "data": {
            "text/plain": [
              "<re.Match object; span=(0, 1), match='a'>"
            ]
          },
          "metadata": {},
          "execution_count": 13
        }
      ]
    },
    {
      "cell_type": "markdown",
      "metadata": {
        "id": "HkpGQT3myfmu"
      },
      "source": [
        "#### {숫자} : 해당 문자를 숫자만큼 반복"
      ]
    },
    {
      "cell_type": "code",
      "metadata": {
        "id": "t-iJlFflyW4_"
      },
      "source": [
        "r = re.compile('ab{2}c')\n",
        "r.search('ac')\n",
        "r.search('abc')"
      ],
      "execution_count": 14,
      "outputs": []
    },
    {
      "cell_type": "code",
      "metadata": {
        "colab": {
          "base_uri": "https://localhost:8080/"
        },
        "id": "BSLcT8a6y0DP",
        "outputId": "678c6de4-c1b7-466c-b6b9-ec415bc429a7"
      },
      "source": [
        "r.search('abbc')"
      ],
      "execution_count": 15,
      "outputs": [
        {
          "output_type": "execute_result",
          "data": {
            "text/plain": [
              "<re.Match object; span=(0, 4), match='abbc'>"
            ]
          },
          "metadata": {},
          "execution_count": 15
        }
      ]
    },
    {
      "cell_type": "markdown",
      "metadata": {
        "id": "skPVW5TUy2kY"
      },
      "source": [
        "#### {숫자1, 숫자2} : 해당 문자를 숫자1 ~ 숫자2 만큼 반복"
      ]
    },
    {
      "cell_type": "code",
      "metadata": {
        "id": "j64T35RCy1q9"
      },
      "source": [
        "r = re.compile('ab{2,8}c')\n",
        "r.search('ac')\n",
        "r.search('abc')"
      ],
      "execution_count": 16,
      "outputs": []
    },
    {
      "cell_type": "code",
      "metadata": {
        "colab": {
          "base_uri": "https://localhost:8080/"
        },
        "id": "oXlPcBmPzIct",
        "outputId": "c42db98c-d807-4dea-e7ba-3a4ae8d62be6"
      },
      "source": [
        "r.search('abbbbbc')"
      ],
      "execution_count": 17,
      "outputs": [
        {
          "output_type": "execute_result",
          "data": {
            "text/plain": [
              "<re.Match object; span=(0, 7), match='abbbbbc'>"
            ]
          },
          "metadata": {},
          "execution_count": 17
        }
      ]
    },
    {
      "cell_type": "markdown",
      "metadata": {
        "id": "JWhOf0c7zO3I"
      },
      "source": [
        "#### [ ] : 문자들 중 1개의 문자와 매치"
      ]
    },
    {
      "cell_type": "code",
      "metadata": {
        "id": "U8-yTCvNzOMF"
      },
      "source": [
        "r = re.compile('[abc]')\n",
        "r.search('zzz')"
      ],
      "execution_count": 18,
      "outputs": []
    },
    {
      "cell_type": "code",
      "metadata": {
        "colab": {
          "base_uri": "https://localhost:8080/"
        },
        "id": "wzZDUw0Uzbv9",
        "outputId": "d899cdfa-b460-4dd7-fecd-e121044aaa53"
      },
      "source": [
        "r.search('baac')"
      ],
      "execution_count": 19,
      "outputs": [
        {
          "output_type": "execute_result",
          "data": {
            "text/plain": [
              "<re.Match object; span=(0, 1), match='b'>"
            ]
          },
          "metadata": {},
          "execution_count": 19
        }
      ]
    },
    {
      "cell_type": "code",
      "metadata": {
        "id": "nAfdUycnzd29"
      },
      "source": [
        "re.search('[a-z]', 'ABC')"
      ],
      "execution_count": 20,
      "outputs": []
    },
    {
      "cell_type": "code",
      "metadata": {
        "colab": {
          "base_uri": "https://localhost:8080/"
        },
        "id": "fFlxQwbmzisY",
        "outputId": "d688cb97-f7df-4c85-e227-3fdcc96ab094"
      },
      "source": [
        "re.search('[a-z]', 'AbC')"
      ],
      "execution_count": 21,
      "outputs": [
        {
          "output_type": "execute_result",
          "data": {
            "text/plain": [
              "<re.Match object; span=(1, 2), match='b'>"
            ]
          },
          "metadata": {},
          "execution_count": 21
        }
      ]
    },
    {
      "cell_type": "code",
      "metadata": {
        "id": "C1LEFx3Q0c40"
      },
      "source": [
        "re.search('[0-9A-Za-z]', '$%^&')\n",
        "re.search('\\w', '$%^&')"
      ],
      "execution_count": 22,
      "outputs": []
    },
    {
      "cell_type": "markdown",
      "metadata": {
        "id": "Q7F8c52NzxyX"
      },
      "source": [
        "#### [^문자] : ^ 뒤 문자를 제외한 모든 문자 매치"
      ]
    },
    {
      "cell_type": "code",
      "metadata": {
        "id": "M86WGZWfznLE"
      },
      "source": [
        "r = re.compile('[^abc]')\n",
        "r.search('a')\n",
        "r.search('ab')\n",
        "r.search('b')"
      ],
      "execution_count": 23,
      "outputs": []
    },
    {
      "cell_type": "code",
      "metadata": {
        "colab": {
          "base_uri": "https://localhost:8080/"
        },
        "id": "ryCRwcdp0JJ1",
        "outputId": "bcd76e6a-0add-4e47-9465-925cb5cb75b1"
      },
      "source": [
        "r.search('d1')"
      ],
      "execution_count": 24,
      "outputs": [
        {
          "output_type": "execute_result",
          "data": {
            "text/plain": [
              "<re.Match object; span=(0, 1), match='d'>"
            ]
          },
          "metadata": {},
          "execution_count": 24
        }
      ]
    },
    {
      "cell_type": "code",
      "metadata": {
        "colab": {
          "base_uri": "https://localhost:8080/",
          "height": 35
        },
        "id": "K03jpaUV00QX",
        "outputId": "36ca9db8-c5c2-49aa-dfc9-3d34d423183d"
      },
      "source": [
        "re.sub('[^ㄱ-ㅎㅏ-ㅣ가-힣 ]', '', '^동해물과? 백두산이 마르고 닳도록...')"
      ],
      "execution_count": 25,
      "outputs": [
        {
          "output_type": "execute_result",
          "data": {
            "application/vnd.google.colaboratory.intrinsic+json": {
              "type": "string"
            },
            "text/plain": [
              "'동해물과 백두산이 마르고 닳도록'"
            ]
          },
          "metadata": {},
          "execution_count": 25
        }
      ]
    },
    {
      "cell_type": "markdown",
      "metadata": {
        "id": "cb8nGzH41kow"
      },
      "source": [
        "### re Module Method"
      ]
    },
    {
      "cell_type": "markdown",
      "metadata": {
        "id": "t4xypotB2DcL"
      },
      "source": [
        "#### re.match() vs re.search()"
      ]
    },
    {
      "cell_type": "code",
      "metadata": {
        "id": "72IRtBHx1hcD"
      },
      "source": [
        "re.match('ab.', 'kkkabc')"
      ],
      "execution_count": 26,
      "outputs": []
    },
    {
      "cell_type": "code",
      "metadata": {
        "colab": {
          "base_uri": "https://localhost:8080/"
        },
        "id": "hrJCWKMg18d-",
        "outputId": "76fecd79-9201-49fd-d742-f244d21f6065"
      },
      "source": [
        "re.search('ab.', 'kkkabc')"
      ],
      "execution_count": 27,
      "outputs": [
        {
          "output_type": "execute_result",
          "data": {
            "text/plain": [
              "<re.Match object; span=(3, 6), match='abc'>"
            ]
          },
          "metadata": {},
          "execution_count": 27
        }
      ]
    },
    {
      "cell_type": "markdown",
      "metadata": {
        "id": "McgzxTXE2SaG"
      },
      "source": [
        "#### re.split()"
      ]
    },
    {
      "cell_type": "code",
      "metadata": {
        "colab": {
          "base_uri": "https://localhost:8080/"
        },
        "id": "5ZTz7MQd2AVG",
        "outputId": "0e0774a5-4fbb-475a-f391-c4897fb7145e"
      },
      "source": [
        "text = '사과 딸기 수박 메론 바나나'\n",
        "re.split(' ', text)"
      ],
      "execution_count": 28,
      "outputs": [
        {
          "output_type": "execute_result",
          "data": {
            "text/plain": [
              "['사과', '딸기', '수박', '메론', '바나나']"
            ]
          },
          "metadata": {},
          "execution_count": 28
        }
      ]
    },
    {
      "cell_type": "code",
      "metadata": {
        "colab": {
          "base_uri": "https://localhost:8080/"
        },
        "id": "I0Rwe0jk2a9F",
        "outputId": "c07efe4a-56b5-4628-bd2b-9dfc1fa058a4"
      },
      "source": [
        "text.split()"
      ],
      "execution_count": 29,
      "outputs": [
        {
          "output_type": "execute_result",
          "data": {
            "text/plain": [
              "['사과', '딸기', '수박', '메론', '바나나']"
            ]
          },
          "metadata": {},
          "execution_count": 29
        }
      ]
    },
    {
      "cell_type": "code",
      "metadata": {
        "colab": {
          "base_uri": "https://localhost:8080/"
        },
        "id": "BjT-O0_H2cwG",
        "outputId": "f3eb9db7-1121-4aa5-ca93-8e3cc14e50cd"
      },
      "source": [
        "text = '''\n",
        "사과        딸기  \n",
        "  메론    바나나\n",
        "'''\n",
        "text.split()"
      ],
      "execution_count": 30,
      "outputs": [
        {
          "output_type": "execute_result",
          "data": {
            "text/plain": [
              "['사과', '딸기', '메론', '바나나']"
            ]
          },
          "metadata": {},
          "execution_count": 30
        }
      ]
    },
    {
      "cell_type": "code",
      "metadata": {
        "colab": {
          "base_uri": "https://localhost:8080/"
        },
        "id": "O6qjWw4z2lSV",
        "outputId": "2787d6f3-dd43-40be-f1c3-6ace3f038ed9"
      },
      "source": [
        "re.split('\\s+', text)"
      ],
      "execution_count": 31,
      "outputs": [
        {
          "output_type": "execute_result",
          "data": {
            "text/plain": [
              "['', '사과', '딸기', '메론', '바나나', '']"
            ]
          },
          "metadata": {},
          "execution_count": 31
        }
      ]
    },
    {
      "cell_type": "markdown",
      "metadata": {
        "id": "R-Q_rV8A3FRf"
      },
      "source": [
        "#### re.findall()"
      ]
    },
    {
      "cell_type": "code",
      "metadata": {
        "colab": {
          "base_uri": "https://localhost:8080/"
        },
        "id": "dqXsdQG12twl",
        "outputId": "545297d4-e4c9-4501-a233-2264ca0f3eb3"
      },
      "source": [
        "text = '''\n",
        "이름 : 김철수\n",
        "전화번호 : 010-1234-5678\n",
        "나이 : 30\n",
        "성별 : 남\n",
        "'''\n",
        "re.findall('\\d+', text)"
      ],
      "execution_count": 32,
      "outputs": [
        {
          "output_type": "execute_result",
          "data": {
            "text/plain": [
              "['010', '1234', '5678', '30']"
            ]
          },
          "metadata": {},
          "execution_count": 32
        }
      ]
    },
    {
      "cell_type": "code",
      "metadata": {
        "colab": {
          "base_uri": "https://localhost:8080/"
        },
        "id": "jVjB7veI3VbN",
        "outputId": "af3bd533-43f1-4145-db6a-b22171097787"
      },
      "source": [
        "re.findall('\\d+', '김철수')"
      ],
      "execution_count": 33,
      "outputs": [
        {
          "output_type": "execute_result",
          "data": {
            "text/plain": [
              "[]"
            ]
          },
          "metadata": {},
          "execution_count": 33
        }
      ]
    },
    {
      "cell_type": "markdown",
      "metadata": {
        "id": "LGjQSqMz34Aj"
      },
      "source": [
        "#### re.sub()"
      ]
    },
    {
      "cell_type": "code",
      "metadata": {
        "colab": {
          "base_uri": "https://localhost:8080/",
          "height": 71
        },
        "id": "6KhMnHTQ3eC0",
        "outputId": "7d3fcf7d-8346-40bf-aaa7-ba143e999c21"
      },
      "source": [
        "text = '''\n",
        "Regular expression : \n",
        "A regular expression, regex or regexp[1] \n",
        "(sometimes called a rational expression)[2][3] is, \n",
        "in theoretical computer science and formal language theory, \n",
        "a sequence of characters that define a search pattern.\n",
        "'''\n",
        "re.sub('[^a-zA-Z]', ' ', text)"
      ],
      "execution_count": 34,
      "outputs": [
        {
          "output_type": "execute_result",
          "data": {
            "application/vnd.google.colaboratory.intrinsic+json": {
              "type": "string"
            },
            "text/plain": [
              "' Regular expression    A regular expression  regex or regexp      sometimes called a rational expression        is   in theoretical computer science and formal language theory   a sequence of characters that define a search pattern  '"
            ]
          },
          "metadata": {},
          "execution_count": 34
        }
      ]
    },
    {
      "cell_type": "markdown",
      "metadata": {
        "id": "sdfQ7W1O4BDJ"
      },
      "source": [
        "### Exercise"
      ]
    },
    {
      "cell_type": "code",
      "metadata": {
        "colab": {
          "base_uri": "https://localhost:8080/"
        },
        "id": "AGy5CTk439NX",
        "outputId": "9063e44f-1e72-4593-ff9e-b17b25b2090c"
      },
      "source": [
        "text = '''\n",
        "100 John    PROF\n",
        "101 James   STUD\n",
        "102 Mac   STUD\n",
        "'''  \n",
        "re.split('\\s+', text)"
      ],
      "execution_count": 35,
      "outputs": [
        {
          "output_type": "execute_result",
          "data": {
            "text/plain": [
              "['', '100', 'John', 'PROF', '101', 'James', 'STUD', '102', 'Mac', 'STUD', '']"
            ]
          },
          "metadata": {},
          "execution_count": 35
        }
      ]
    },
    {
      "cell_type": "code",
      "metadata": {
        "colab": {
          "base_uri": "https://localhost:8080/"
        },
        "id": "KRL64NdO4PcR",
        "outputId": "4f353e14-a8d9-4f79-8959-09025b9d3dd2"
      },
      "source": [
        "re.findall('\\d+', text)"
      ],
      "execution_count": 36,
      "outputs": [
        {
          "output_type": "execute_result",
          "data": {
            "text/plain": [
              "['100', '101', '102']"
            ]
          },
          "metadata": {},
          "execution_count": 36
        }
      ]
    },
    {
      "cell_type": "code",
      "metadata": {
        "colab": {
          "base_uri": "https://localhost:8080/"
        },
        "id": "deMAAWhx4VDn",
        "outputId": "9e1d7989-d0c1-4cfa-9d81-dc91bc1c1f67"
      },
      "source": [
        "re.findall('[A-Z]', text)"
      ],
      "execution_count": 37,
      "outputs": [
        {
          "output_type": "execute_result",
          "data": {
            "text/plain": [
              "['J', 'P', 'R', 'O', 'F', 'J', 'S', 'T', 'U', 'D', 'M', 'S', 'T', 'U', 'D']"
            ]
          },
          "metadata": {},
          "execution_count": 37
        }
      ]
    },
    {
      "cell_type": "code",
      "metadata": {
        "colab": {
          "base_uri": "https://localhost:8080/"
        },
        "id": "wqCtuglY4hlt",
        "outputId": "073495a8-d417-4475-be7d-97a5aca9596a"
      },
      "source": [
        "re.findall('[A-Z]+', text)"
      ],
      "execution_count": 38,
      "outputs": [
        {
          "output_type": "execute_result",
          "data": {
            "text/plain": [
              "['J', 'PROF', 'J', 'STUD', 'M', 'STUD']"
            ]
          },
          "metadata": {},
          "execution_count": 38
        }
      ]
    },
    {
      "cell_type": "code",
      "metadata": {
        "colab": {
          "base_uri": "https://localhost:8080/"
        },
        "id": "17KL4ese4qTV",
        "outputId": "dada1623-6403-40c0-89f9-64a1ed7d3c91"
      },
      "source": [
        "re.findall('[A-Z]{4}', text)"
      ],
      "execution_count": 39,
      "outputs": [
        {
          "output_type": "execute_result",
          "data": {
            "text/plain": [
              "['PROF', 'STUD', 'STUD']"
            ]
          },
          "metadata": {},
          "execution_count": 39
        }
      ]
    },
    {
      "cell_type": "code",
      "metadata": {
        "colab": {
          "base_uri": "https://localhost:8080/"
        },
        "id": "E1AJXhur42tb",
        "outputId": "9115698f-660e-4dc9-b41d-34da57d40fda"
      },
      "source": [
        "re.findall('[A-Z][a-z]+', text)"
      ],
      "execution_count": 40,
      "outputs": [
        {
          "output_type": "execute_result",
          "data": {
            "text/plain": [
              "['John', 'James', 'Mac']"
            ]
          },
          "metadata": {},
          "execution_count": 40
        }
      ]
    }
  ]
}