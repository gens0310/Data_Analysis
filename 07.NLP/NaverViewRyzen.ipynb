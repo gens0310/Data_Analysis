{
 "cells": [
  {
   "cell_type": "markdown",
   "source": [
    "# Naver View Crawling"
   ],
   "metadata": {}
  },
  {
   "cell_type": "code",
   "execution_count": 1,
   "source": [
    "from selenium import webdriver\r\n",
    "from bs4 import BeautifulSoup\r\n",
    "import time\r\n",
    "import pandas as pd\r\n",
    "from urllib.parse import quote"
   ],
   "outputs": [],
   "metadata": {}
  },
  {
   "cell_type": "code",
   "execution_count": 2,
   "source": [
    "chromedriver = 'C:\\\\workspace\\\\etc\\\\crawling\\\\chromedriver.exe'\r\n",
    "driver = webdriver.Chrome(chromedriver)"
   ],
   "outputs": [],
   "metadata": {}
  },
  {
   "cell_type": "code",
   "execution_count": 3,
   "source": [
    "base_url = 'https://search.naver.com/search.naver?where=view&sm=tab_jum&query='\r\n",
    "url = base_url + quote('라이젠')\r\n",
    "driver.get(url)"
   ],
   "outputs": [],
   "metadata": {}
  },
  {
   "cell_type": "code",
   "execution_count": 4,
   "source": [
    "from selenium.webdriver.common.keys import Keys\r\n",
    "body = driver.find_element_by_tag_name('body')\r\n",
    "for i in range(30):\r\n",
    "    body.send_keys(Keys.PAGE_DOWN)\r\n",
    "    time.sleep(2)"
   ],
   "outputs": [],
   "metadata": {}
  },
  {
   "cell_type": "code",
   "execution_count": 5,
   "source": [
    "html = driver.page_source\r\n",
    "soup = BeautifulSoup(html, 'html.parser')"
   ],
   "outputs": [],
   "metadata": {}
  },
  {
   "cell_type": "code",
   "execution_count": 6,
   "source": [
    "lis = soup.select('li.bx._svp_item')"
   ],
   "outputs": [],
   "metadata": {}
  },
  {
   "cell_type": "code",
   "execution_count": 7,
   "source": [
    "li = lis[0]\r\n",
    "title = li.select_one('a.api_txt_lines.total_tit._cross_trigger').get_text()\r\n",
    "date = li.select_one('.sub_time.sub_txt').get_text()\r\n",
    "content = li.select_one('div.api_txt_lines.dsc_txt').get_text()\r\n",
    "title, date, content"
   ],
   "outputs": [
    {
     "output_type": "execute_result",
     "data": {
      "text/plain": [
       "('AMD 라이젠 3세대 4세대 컴퓨터 메인보드 추천 ASUS ROG STRIX X570-E GAMING (ft. 5600x)',\n",
       " '2021.08.23.',\n",
       " 'AMD 라이젠 3세대에 이어 4세대 흥행까지 성공했다. 작업용 시스템뿐만 아니라 게이밍 PC에도... 오늘은 라이젠 시스템 성능을 극대화하는 데 큰 도움을 주는 컴퓨터 메인보드 추천 제품으로 ASUS ROG STRIX...')"
      ]
     },
     "metadata": {},
     "execution_count": 7
    }
   ],
   "metadata": {}
  },
  {
   "cell_type": "code",
   "execution_count": 9,
   "source": [
    "title_list = []\r\n",
    "content_list = []\r\n",
    "date_list = []\r\n",
    "for i, li in enumerate(lis):\r\n",
    "    try:\r\n",
    "        adv = li.select_one('a.link_ad').get_text()\r\n",
    "        if adv.strip() == '광고':\r\n",
    "            continue\r\n",
    "    except:\r\n",
    "        title = li.select_one('a.api_txt_lines.total_tit').get_text()\r\n",
    "        date = li.select_one('.sub_time.sub_txt').get_text()\r\n",
    "        content = li.select_one('div.api_txt_lines.dsc_txt').get_text()\r\n",
    "        title_list.append(title)\r\n",
    "        date_list.append(date)\r\n",
    "        content_list.append(content)"
   ],
   "outputs": [],
   "metadata": {}
  },
  {
   "cell_type": "code",
   "execution_count": 10,
   "source": [
    "df = pd.DataFrame({\r\n",
    "    'title' : title_list,\r\n",
    "    'date' : date_list,\r\n",
    "    'content' : content_list\r\n",
    "})\r\n",
    "df.head()"
   ],
   "outputs": [
    {
     "output_type": "execute_result",
     "data": {
      "text/plain": [
       "                                               title         date  \\\n",
       "0  AMD 라이젠 3세대 4세대 컴퓨터 메인보드 추천 ASUS ROG STRIX X57...  2021.08.23.   \n",
       "1               AMD 라이젠5 5600G 세잔 APU의 내부 코어에 대한 정보.  2021.08.16.   \n",
       "2            AMD 라이젠 5900x + 지포스 rtx3080 고사양 조립식 컴퓨터           어제   \n",
       "3  게이밍에 최적화된 RTX 3060 그리고 라이젠 5600X 조합의 조립컴퓨터 추천견...  2021.08.10.   \n",
       "4  마침내 CPU와 동일선에 선 APU, AMD 라이젠 7 5700G/ 라이젠 5 5600G  2021.08.04.   \n",
       "\n",
       "                                             content  \n",
       "0  AMD 라이젠 3세대에 이어 4세대 흥행까지 성공했다. 작업용 시스템뿐만 아니라 게...  \n",
       "1  의해 라이젠5 5600G 세잔 APU의 뚜따 및 다이샷도 공개가 되었습니다. 여기에...  \n",
       "2  AMD 라이젠9-4세대 5900X (버미어) (정품) 쿨러 / 튜닝 써모랩 TRIN...  \n",
       "3  7나노로 빚은 라이젠5 버미어 5600X 프로세서 지포스 RTX 3060 그래픽카드...  \n",
       "4  AMD 라이젠 5000 시리즈는 메인스트림 CPU 시장의 판도를 뒤흔들며 무게 중심...  "
      ],
      "text/html": [
       "<div>\n",
       "<style scoped>\n",
       "    .dataframe tbody tr th:only-of-type {\n",
       "        vertical-align: middle;\n",
       "    }\n",
       "\n",
       "    .dataframe tbody tr th {\n",
       "        vertical-align: top;\n",
       "    }\n",
       "\n",
       "    .dataframe thead th {\n",
       "        text-align: right;\n",
       "    }\n",
       "</style>\n",
       "<table border=\"1\" class=\"dataframe\">\n",
       "  <thead>\n",
       "    <tr style=\"text-align: right;\">\n",
       "      <th></th>\n",
       "      <th>title</th>\n",
       "      <th>date</th>\n",
       "      <th>content</th>\n",
       "    </tr>\n",
       "  </thead>\n",
       "  <tbody>\n",
       "    <tr>\n",
       "      <th>0</th>\n",
       "      <td>AMD 라이젠 3세대 4세대 컴퓨터 메인보드 추천 ASUS ROG STRIX X57...</td>\n",
       "      <td>2021.08.23.</td>\n",
       "      <td>AMD 라이젠 3세대에 이어 4세대 흥행까지 성공했다. 작업용 시스템뿐만 아니라 게...</td>\n",
       "    </tr>\n",
       "    <tr>\n",
       "      <th>1</th>\n",
       "      <td>AMD 라이젠5 5600G 세잔 APU의 내부 코어에 대한 정보.</td>\n",
       "      <td>2021.08.16.</td>\n",
       "      <td>의해 라이젠5 5600G 세잔 APU의 뚜따 및 다이샷도 공개가 되었습니다. 여기에...</td>\n",
       "    </tr>\n",
       "    <tr>\n",
       "      <th>2</th>\n",
       "      <td>AMD 라이젠 5900x + 지포스 rtx3080 고사양 조립식 컴퓨터</td>\n",
       "      <td>어제</td>\n",
       "      <td>AMD 라이젠9-4세대 5900X (버미어) (정품) 쿨러 / 튜닝 써모랩 TRIN...</td>\n",
       "    </tr>\n",
       "    <tr>\n",
       "      <th>3</th>\n",
       "      <td>게이밍에 최적화된 RTX 3060 그리고 라이젠 5600X 조합의 조립컴퓨터 추천견...</td>\n",
       "      <td>2021.08.10.</td>\n",
       "      <td>7나노로 빚은 라이젠5 버미어 5600X 프로세서 지포스 RTX 3060 그래픽카드...</td>\n",
       "    </tr>\n",
       "    <tr>\n",
       "      <th>4</th>\n",
       "      <td>마침내 CPU와 동일선에 선 APU, AMD 라이젠 7 5700G/ 라이젠 5 5600G</td>\n",
       "      <td>2021.08.04.</td>\n",
       "      <td>AMD 라이젠 5000 시리즈는 메인스트림 CPU 시장의 판도를 뒤흔들며 무게 중심...</td>\n",
       "    </tr>\n",
       "  </tbody>\n",
       "</table>\n",
       "</div>"
      ]
     },
     "metadata": {},
     "execution_count": 10
    }
   ],
   "metadata": {}
  },
  {
   "cell_type": "code",
   "execution_count": 11,
   "source": [
    "df.shape"
   ],
   "outputs": [
    {
     "output_type": "execute_result",
     "data": {
      "text/plain": [
       "(80, 3)"
      ]
     },
     "metadata": {},
     "execution_count": 11
    }
   ],
   "metadata": {}
  },
  {
   "cell_type": "code",
   "execution_count": 12,
   "source": [
    "df.to_csv('data/naverview_ryzen.txt')"
   ],
   "outputs": [],
   "metadata": {}
  },
  {
   "cell_type": "code",
   "execution_count": 13,
   "source": [
    "driver.close()"
   ],
   "outputs": [],
   "metadata": {}
  }
 ],
 "metadata": {
  "orig_nbformat": 4,
  "language_info": {
   "name": "python",
   "version": "3.8.8",
   "mimetype": "text/x-python",
   "codemirror_mode": {
    "name": "ipython",
    "version": 3
   },
   "pygments_lexer": "ipython3",
   "nbconvert_exporter": "python",
   "file_extension": ".py"
  },
  "kernelspec": {
   "name": "python3",
   "display_name": "Python 3.8.8 64-bit ('base': conda)"
  },
  "interpreter": {
   "hash": "64a5c38a3c899d1b5d04dd5abce8e386570e32cf606eb0fe687873946559a065"
  }
 },
 "nbformat": 4,
 "nbformat_minor": 2
}