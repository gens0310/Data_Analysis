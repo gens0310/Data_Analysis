{
  "nbformat": 4,
  "nbformat_minor": 0,
  "metadata": {
    "colab": {
      "name": "Pandas(9).ipynb",
      "provenance": [],
      "collapsed_sections": []
    },
    "kernelspec": {
      "name": "python3",
      "display_name": "Python 3"
    },
    "language_info": {
      "name": "python"
    }
  },
  "cells": [
    {
      "cell_type": "markdown",
      "metadata": {
        "id": "k0gWD1PK9bV2"
      },
      "source": [
        "## 09. Time Series Data"
      ]
    },
    {
      "cell_type": "code",
      "metadata": {
        "id": "GPQ6f2GZ9NPz"
      },
      "source": [
        "import numpy as np \n",
        "import pandas as pd"
      ],
      "execution_count": 1,
      "outputs": []
    },
    {
      "cell_type": "markdown",
      "metadata": {
        "id": "6JVoDIhq9iZv"
      },
      "source": [
        "### DatatimeIndex\n",
        "- pd.to_datetime\n",
        "- pd.date_range"
      ]
    },
    {
      "cell_type": "code",
      "metadata": {
        "colab": {
          "base_uri": "https://localhost:8080/"
        },
        "id": "LTzNahSn9izp",
        "outputId": "295e332d-47ad-44c8-c764-321a2fbb002a"
      },
      "source": [
        "date_str = [\"2021, 1, 1\", \"2021, 1, 4\", \"2021, 1, 5\", \"2021, 1, 6\"]\n",
        "idx = pd.to_datetime(date_str)\n",
        "idx"
      ],
      "execution_count": 21,
      "outputs": [
        {
          "output_type": "execute_result",
          "data": {
            "text/plain": [
              "DatetimeIndex(['2021-01-01', '2021-01-04', '2021-01-05', '2021-01-06'], dtype='datetime64[ns]', freq=None)"
            ]
          },
          "metadata": {
            "tags": []
          },
          "execution_count": 21
        }
      ]
    },
    {
      "cell_type": "code",
      "metadata": {
        "colab": {
          "base_uri": "https://localhost:8080/"
        },
        "id": "fIV0WP5P9xz2",
        "outputId": "e96b9309-f20d-47fc-8b14-67f9ccf587c1"
      },
      "source": [
        "np.random.seed(2021)\n",
        "s = pd.Series(np.random.randn(4), index=idx)\n",
        "s"
      ],
      "execution_count": 22,
      "outputs": [
        {
          "output_type": "execute_result",
          "data": {
            "text/plain": [
              "2021-01-01    1.488609\n",
              "2021-01-04    0.676011\n",
              "2021-01-05   -0.418451\n",
              "2021-01-06   -0.806521\n",
              "dtype: float64"
            ]
          },
          "metadata": {
            "tags": []
          },
          "execution_count": 22
        }
      ]
    },
    {
      "cell_type": "code",
      "metadata": {
        "colab": {
          "base_uri": "https://localhost:8080/"
        },
        "id": "1P9d4MST90hH",
        "outputId": "ad90a88f-eab0-464b-af8d-87a58a7b467f"
      },
      "source": [
        "pd.date_range(\"2021-4-1\", \"2021-4-30\")"
      ],
      "execution_count": 23,
      "outputs": [
        {
          "output_type": "execute_result",
          "data": {
            "text/plain": [
              "DatetimeIndex(['2021-04-01', '2021-04-02', '2021-04-03', '2021-04-04',\n",
              "               '2021-04-05', '2021-04-06', '2021-04-07', '2021-04-08',\n",
              "               '2021-04-09', '2021-04-10', '2021-04-11', '2021-04-12',\n",
              "               '2021-04-13', '2021-04-14', '2021-04-15', '2021-04-16',\n",
              "               '2021-04-17', '2021-04-18', '2021-04-19', '2021-04-20',\n",
              "               '2021-04-21', '2021-04-22', '2021-04-23', '2021-04-24',\n",
              "               '2021-04-25', '2021-04-26', '2021-04-27', '2021-04-28',\n",
              "               '2021-04-29', '2021-04-30'],\n",
              "              dtype='datetime64[ns]', freq='D')"
            ]
          },
          "metadata": {
            "tags": []
          },
          "execution_count": 23
        }
      ]
    },
    {
      "cell_type": "code",
      "metadata": {
        "colab": {
          "base_uri": "https://localhost:8080/"
        },
        "id": "MrtwihBJ9059",
        "outputId": "8a01116c-6704-4cc2-bbed-3b3d12308a1a"
      },
      "source": [
        "pd.date_range(start=\"2021-4-1\", periods=30)"
      ],
      "execution_count": 24,
      "outputs": [
        {
          "output_type": "execute_result",
          "data": {
            "text/plain": [
              "DatetimeIndex(['2021-04-01', '2021-04-02', '2021-04-03', '2021-04-04',\n",
              "               '2021-04-05', '2021-04-06', '2021-04-07', '2021-04-08',\n",
              "               '2021-04-09', '2021-04-10', '2021-04-11', '2021-04-12',\n",
              "               '2021-04-13', '2021-04-14', '2021-04-15', '2021-04-16',\n",
              "               '2021-04-17', '2021-04-18', '2021-04-19', '2021-04-20',\n",
              "               '2021-04-21', '2021-04-22', '2021-04-23', '2021-04-24',\n",
              "               '2021-04-25', '2021-04-26', '2021-04-27', '2021-04-28',\n",
              "               '2021-04-29', '2021-04-30'],\n",
              "              dtype='datetime64[ns]', freq='D')"
            ]
          },
          "metadata": {
            "tags": []
          },
          "execution_count": 24
        }
      ]
    },
    {
      "cell_type": "markdown",
      "metadata": {
        "id": "ivfPEDm597Y8"
      },
      "source": [
        "#### freq\n",
        "- s\n",
        "- T\n",
        "- H\n",
        "- D\n",
        "- B\n",
        "- W\n",
        "- W-MON\n",
        "- M\n",
        "- MS\n",
        "- BM\n",
        "- BMS\n",
        "- WOM-2THU\n",
        "- Q-JAN\n",
        "- Q-DEC"
      ]
    },
    {
      "cell_type": "code",
      "metadata": {
        "colab": {
          "base_uri": "https://localhost:8080/"
        },
        "id": "VeI27gBv-ZsM",
        "outputId": "604bd748-302a-450b-cf66-4771fc77b2fa"
      },
      "source": [
        "pd.date_range(\"2021-4-1\", \"2021-4-30\", freq=\"B\")"
      ],
      "execution_count": 6,
      "outputs": [
        {
          "output_type": "execute_result",
          "data": {
            "text/plain": [
              "DatetimeIndex(['2021-04-01', '2021-04-02', '2021-04-05', '2021-04-06',\n",
              "               '2021-04-07', '2021-04-08', '2021-04-09', '2021-04-12',\n",
              "               '2021-04-13', '2021-04-14', '2021-04-15', '2021-04-16',\n",
              "               '2021-04-19', '2021-04-20', '2021-04-21', '2021-04-22',\n",
              "               '2021-04-23', '2021-04-26', '2021-04-27', '2021-04-28',\n",
              "               '2021-04-29', '2021-04-30'],\n",
              "              dtype='datetime64[ns]', freq='B')"
            ]
          },
          "metadata": {
            "tags": []
          },
          "execution_count": 6
        }
      ]
    },
    {
      "cell_type": "code",
      "metadata": {
        "colab": {
          "base_uri": "https://localhost:8080/"
        },
        "id": "Gz9JLS5h-clt",
        "outputId": "c1b29895-03d9-4356-98e2-10fa3531d360"
      },
      "source": [
        "pd.date_range(\"2021-1-1\", \"2021-12-31\", freq=\"W\")"
      ],
      "execution_count": 7,
      "outputs": [
        {
          "output_type": "execute_result",
          "data": {
            "text/plain": [
              "DatetimeIndex(['2021-01-03', '2021-01-10', '2021-01-17', '2021-01-24',\n",
              "               '2021-01-31', '2021-02-07', '2021-02-14', '2021-02-21',\n",
              "               '2021-02-28', '2021-03-07', '2021-03-14', '2021-03-21',\n",
              "               '2021-03-28', '2021-04-04', '2021-04-11', '2021-04-18',\n",
              "               '2021-04-25', '2021-05-02', '2021-05-09', '2021-05-16',\n",
              "               '2021-05-23', '2021-05-30', '2021-06-06', '2021-06-13',\n",
              "               '2021-06-20', '2021-06-27', '2021-07-04', '2021-07-11',\n",
              "               '2021-07-18', '2021-07-25', '2021-08-01', '2021-08-08',\n",
              "               '2021-08-15', '2021-08-22', '2021-08-29', '2021-09-05',\n",
              "               '2021-09-12', '2021-09-19', '2021-09-26', '2021-10-03',\n",
              "               '2021-10-10', '2021-10-17', '2021-10-24', '2021-10-31',\n",
              "               '2021-11-07', '2021-11-14', '2021-11-21', '2021-11-28',\n",
              "               '2021-12-05', '2021-12-12', '2021-12-19', '2021-12-26'],\n",
              "              dtype='datetime64[ns]', freq='W-SUN')"
            ]
          },
          "metadata": {
            "tags": []
          },
          "execution_count": 7
        }
      ]
    },
    {
      "cell_type": "code",
      "metadata": {
        "colab": {
          "base_uri": "https://localhost:8080/"
        },
        "id": "ob9IZt7r-gfQ",
        "outputId": "a59b1c6c-40c4-44de-f66d-cdc75293de94"
      },
      "source": [
        "pd.date_range(\"2021-1-1\", \"2021-12-31\", freq=\"W-MON\")"
      ],
      "execution_count": 8,
      "outputs": [
        {
          "output_type": "execute_result",
          "data": {
            "text/plain": [
              "DatetimeIndex(['2021-01-04', '2021-01-11', '2021-01-18', '2021-01-25',\n",
              "               '2021-02-01', '2021-02-08', '2021-02-15', '2021-02-22',\n",
              "               '2021-03-01', '2021-03-08', '2021-03-15', '2021-03-22',\n",
              "               '2021-03-29', '2021-04-05', '2021-04-12', '2021-04-19',\n",
              "               '2021-04-26', '2021-05-03', '2021-05-10', '2021-05-17',\n",
              "               '2021-05-24', '2021-05-31', '2021-06-07', '2021-06-14',\n",
              "               '2021-06-21', '2021-06-28', '2021-07-05', '2021-07-12',\n",
              "               '2021-07-19', '2021-07-26', '2021-08-02', '2021-08-09',\n",
              "               '2021-08-16', '2021-08-23', '2021-08-30', '2021-09-06',\n",
              "               '2021-09-13', '2021-09-20', '2021-09-27', '2021-10-04',\n",
              "               '2021-10-11', '2021-10-18', '2021-10-25', '2021-11-01',\n",
              "               '2021-11-08', '2021-11-15', '2021-11-22', '2021-11-29',\n",
              "               '2021-12-06', '2021-12-13', '2021-12-20', '2021-12-27'],\n",
              "              dtype='datetime64[ns]', freq='W-MON')"
            ]
          },
          "metadata": {
            "tags": []
          },
          "execution_count": 8
        }
      ]
    },
    {
      "cell_type": "code",
      "metadata": {
        "colab": {
          "base_uri": "https://localhost:8080/"
        },
        "id": "P6-2uwel-iEg",
        "outputId": "7be83104-f947-4538-d13c-9ad3c131f46b"
      },
      "source": [
        "pd.date_range(\"2021-4-1\", \"2021-12-31\", freq=\"MS\")"
      ],
      "execution_count": 9,
      "outputs": [
        {
          "output_type": "execute_result",
          "data": {
            "text/plain": [
              "DatetimeIndex(['2021-04-01', '2021-05-01', '2021-06-01', '2021-07-01',\n",
              "               '2021-08-01', '2021-09-01', '2021-10-01', '2021-11-01',\n",
              "               '2021-12-01'],\n",
              "              dtype='datetime64[ns]', freq='MS')"
            ]
          },
          "metadata": {
            "tags": []
          },
          "execution_count": 9
        }
      ]
    },
    {
      "cell_type": "code",
      "metadata": {
        "colab": {
          "base_uri": "https://localhost:8080/"
        },
        "id": "UgcUnxLO-ibF",
        "outputId": "85e0051e-722c-4e7e-e724-b2212700b8cf"
      },
      "source": [
        "pd.date_range(\"2021-4-1\", \"2021-12-31\", freq=\"M\")"
      ],
      "execution_count": 10,
      "outputs": [
        {
          "output_type": "execute_result",
          "data": {
            "text/plain": [
              "DatetimeIndex(['2021-04-30', '2021-05-31', '2021-06-30', '2021-07-31',\n",
              "               '2021-08-31', '2021-09-30', '2021-10-31', '2021-11-30',\n",
              "               '2021-12-31'],\n",
              "              dtype='datetime64[ns]', freq='M')"
            ]
          },
          "metadata": {
            "tags": []
          },
          "execution_count": 10
        }
      ]
    },
    {
      "cell_type": "code",
      "metadata": {
        "colab": {
          "base_uri": "https://localhost:8080/"
        },
        "id": "4wDY4kDo-kmu",
        "outputId": "20cdb052-146e-432b-b72b-c2507d294a54"
      },
      "source": [
        "pd.date_range(\"2021-4-1\", \"2021-12-31\", freq=\"BMS\")"
      ],
      "execution_count": 11,
      "outputs": [
        {
          "output_type": "execute_result",
          "data": {
            "text/plain": [
              "DatetimeIndex(['2021-04-01', '2021-05-03', '2021-06-01', '2021-07-01',\n",
              "               '2021-08-02', '2021-09-01', '2021-10-01', '2021-11-01',\n",
              "               '2021-12-01'],\n",
              "              dtype='datetime64[ns]', freq='BMS')"
            ]
          },
          "metadata": {
            "tags": []
          },
          "execution_count": 11
        }
      ]
    },
    {
      "cell_type": "code",
      "metadata": {
        "colab": {
          "base_uri": "https://localhost:8080/"
        },
        "id": "ALL1fMuq-lwM",
        "outputId": "a8021e17-f7b3-4b0f-ac63-a65050db2bbf"
      },
      "source": [
        "pd.date_range(\"2021-4-1\", \"2021-12-31\", freq=\"BM\")"
      ],
      "execution_count": 12,
      "outputs": [
        {
          "output_type": "execute_result",
          "data": {
            "text/plain": [
              "DatetimeIndex(['2021-04-30', '2021-05-31', '2021-06-30', '2021-07-30',\n",
              "               '2021-08-31', '2021-09-30', '2021-10-29', '2021-11-30',\n",
              "               '2021-12-31'],\n",
              "              dtype='datetime64[ns]', freq='BM')"
            ]
          },
          "metadata": {
            "tags": []
          },
          "execution_count": 12
        }
      ]
    },
    {
      "cell_type": "code",
      "metadata": {
        "colab": {
          "base_uri": "https://localhost:8080/"
        },
        "id": "s1pPLBz8-mdr",
        "outputId": "a4c22948-2351-4610-f523-7e1e66ba4acc"
      },
      "source": [
        "pd.date_range(\"2021-1-1\", \"2021-12-31\", freq=\"WOM-2THU\")"
      ],
      "execution_count": 13,
      "outputs": [
        {
          "output_type": "execute_result",
          "data": {
            "text/plain": [
              "DatetimeIndex(['2021-01-14', '2021-02-11', '2021-03-11', '2021-04-08',\n",
              "               '2021-05-13', '2021-06-10', '2021-07-08', '2021-08-12',\n",
              "               '2021-09-09', '2021-10-14', '2021-11-11', '2021-12-09'],\n",
              "              dtype='datetime64[ns]', freq='WOM-2THU')"
            ]
          },
          "metadata": {
            "tags": []
          },
          "execution_count": 13
        }
      ]
    },
    {
      "cell_type": "code",
      "metadata": {
        "colab": {
          "base_uri": "https://localhost:8080/"
        },
        "id": "ArYnGm4F-n4Z",
        "outputId": "e26f6aa0-442e-4ef5-f94c-48ff1d740514"
      },
      "source": [
        "pd.date_range(\"2021-1-1\", \"2021-12-31\", freq=\"Q-JAN\")"
      ],
      "execution_count": 14,
      "outputs": [
        {
          "output_type": "execute_result",
          "data": {
            "text/plain": [
              "DatetimeIndex(['2021-01-31', '2021-04-30', '2021-07-31', '2021-10-31'], dtype='datetime64[ns]', freq='Q-JAN')"
            ]
          },
          "metadata": {
            "tags": []
          },
          "execution_count": 14
        }
      ]
    },
    {
      "cell_type": "code",
      "metadata": {
        "colab": {
          "base_uri": "https://localhost:8080/"
        },
        "id": "-z0TvGyr-o_n",
        "outputId": "3c4cb7e7-2807-4835-de38-6ee9c58352f5"
      },
      "source": [
        "pd.date_range(\"2021-1-1\", \"2021-12-31\", freq=\"Q-DEC\")"
      ],
      "execution_count": 15,
      "outputs": [
        {
          "output_type": "execute_result",
          "data": {
            "text/plain": [
              "DatetimeIndex(['2021-03-31', '2021-06-30', '2021-09-30', '2021-12-31'], dtype='datetime64[ns]', freq='Q-DEC')"
            ]
          },
          "metadata": {
            "tags": []
          },
          "execution_count": 15
        }
      ]
    },
    {
      "cell_type": "markdown",
      "metadata": {
        "id": "94oh3GW_--UQ"
      },
      "source": [
        "### Shift Calculating"
      ]
    },
    {
      "cell_type": "code",
      "metadata": {
        "colab": {
          "base_uri": "https://localhost:8080/"
        },
        "id": "dWdXIvWt_AiW",
        "outputId": "940c7cc9-019b-4af5-ff52-4034882073ec"
      },
      "source": [
        "np.random.seed(2021)\n",
        "ts = pd.Series(np.random.randn(4), index=pd.date_range(\n",
        "    \"2021-1-1\", periods=4, freq=\"M\"))\n",
        "ts"
      ],
      "execution_count": 16,
      "outputs": [
        {
          "output_type": "execute_result",
          "data": {
            "text/plain": [
              "2021-01-31    1.488609\n",
              "2021-02-28    0.676011\n",
              "2021-03-31   -0.418451\n",
              "2021-04-30   -0.806521\n",
              "Freq: M, dtype: float64"
            ]
          },
          "metadata": {
            "tags": []
          },
          "execution_count": 16
        }
      ]
    },
    {
      "cell_type": "code",
      "metadata": {
        "colab": {
          "base_uri": "https://localhost:8080/"
        },
        "id": "8F13zmMB_Fc2",
        "outputId": "e9be07d8-4011-4568-bf93-37d440721449"
      },
      "source": [
        "ts.shift(1)"
      ],
      "execution_count": 17,
      "outputs": [
        {
          "output_type": "execute_result",
          "data": {
            "text/plain": [
              "2021-01-31         NaN\n",
              "2021-02-28    1.488609\n",
              "2021-03-31    0.676011\n",
              "2021-04-30   -0.418451\n",
              "Freq: M, dtype: float64"
            ]
          },
          "metadata": {
            "tags": []
          },
          "execution_count": 17
        }
      ]
    },
    {
      "cell_type": "code",
      "metadata": {
        "colab": {
          "base_uri": "https://localhost:8080/"
        },
        "id": "2UPxO83x_Gjk",
        "outputId": "0a897d9c-4237-4374-a8c7-a9bd1fb5f693"
      },
      "source": [
        "ts.shift(-1)"
      ],
      "execution_count": 18,
      "outputs": [
        {
          "output_type": "execute_result",
          "data": {
            "text/plain": [
              "2021-01-31    0.676011\n",
              "2021-02-28   -0.418451\n",
              "2021-03-31   -0.806521\n",
              "2021-04-30         NaN\n",
              "Freq: M, dtype: float64"
            ]
          },
          "metadata": {
            "tags": []
          },
          "execution_count": 18
        }
      ]
    },
    {
      "cell_type": "code",
      "metadata": {
        "colab": {
          "base_uri": "https://localhost:8080/"
        },
        "id": "KCpVJ-Ty_HzP",
        "outputId": "237ea9f7-244f-433b-d4c0-03bf7f7379a4"
      },
      "source": [
        "ts.shift(1, freq=\"M\")"
      ],
      "execution_count": 19,
      "outputs": [
        {
          "output_type": "execute_result",
          "data": {
            "text/plain": [
              "2021-02-28    1.488609\n",
              "2021-03-31    0.676011\n",
              "2021-04-30   -0.418451\n",
              "2021-05-31   -0.806521\n",
              "Freq: M, dtype: float64"
            ]
          },
          "metadata": {
            "tags": []
          },
          "execution_count": 19
        }
      ]
    },
    {
      "cell_type": "code",
      "metadata": {
        "colab": {
          "base_uri": "https://localhost:8080/"
        },
        "id": "rEvObX3y_Iy-",
        "outputId": "eb5a10d0-65f8-4868-c9a2-67d23533b39e"
      },
      "source": [
        "ts.shift(1, freq=\"W\")"
      ],
      "execution_count": 20,
      "outputs": [
        {
          "output_type": "execute_result",
          "data": {
            "text/plain": [
              "2021-02-07    1.488609\n",
              "2021-03-07    0.676011\n",
              "2021-04-04   -0.418451\n",
              "2021-05-02   -0.806521\n",
              "dtype: float64"
            ]
          },
          "metadata": {
            "tags": []
          },
          "execution_count": 20
        }
      ]
    },
    {
      "cell_type": "markdown",
      "metadata": {
        "id": "lOOPtEhm_LCj"
      },
      "source": [
        "### Resample Calculating"
      ]
    },
    {
      "cell_type": "code",
      "metadata": {
        "colab": {
          "base_uri": "https://localhost:8080/"
        },
        "id": "iz7pspdo_KFO",
        "outputId": "3c488610-000b-4a38-f238-f71d36522c12"
      },
      "source": [
        "ts = pd.Series(np.random.randn(100), index=pd.date_range(\n",
        "    \"2021-1-1\", periods=100, freq=\"D\"))\n",
        "ts.tail(20)"
      ],
      "execution_count": 25,
      "outputs": [
        {
          "output_type": "execute_result",
          "data": {
            "text/plain": [
              "2021-03-22    0.224944\n",
              "2021-03-23    1.277788\n",
              "2021-03-24    0.629269\n",
              "2021-03-25    0.361891\n",
              "2021-03-26    3.638726\n",
              "2021-03-27   -1.201221\n",
              "2021-03-28   -1.330033\n",
              "2021-03-29    1.261033\n",
              "2021-03-30   -0.648126\n",
              "2021-03-31    2.245300\n",
              "2021-04-01   -1.012394\n",
              "2021-04-02   -0.125939\n",
              "2021-04-03   -0.432416\n",
              "2021-04-04    0.425937\n",
              "2021-04-05    0.756636\n",
              "2021-04-06   -0.994854\n",
              "2021-04-07   -0.740574\n",
              "2021-04-08    0.458233\n",
              "2021-04-09    1.257247\n",
              "2021-04-10   -0.441704\n",
              "Freq: D, dtype: float64"
            ]
          },
          "metadata": {
            "tags": []
          },
          "execution_count": 25
        }
      ]
    },
    {
      "cell_type": "code",
      "metadata": {
        "colab": {
          "base_uri": "https://localhost:8080/"
        },
        "id": "5D9mJEwL_Sqr",
        "outputId": "3a4aa015-18dc-46f9-a4bc-26966f21d096"
      },
      "source": [
        "ts.resample('W').mean()"
      ],
      "execution_count": 26,
      "outputs": [
        {
          "output_type": "execute_result",
          "data": {
            "text/plain": [
              "2021-01-03    0.327077\n",
              "2021-01-10    0.138799\n",
              "2021-01-17   -0.598221\n",
              "2021-01-24    0.905748\n",
              "2021-01-31    0.519545\n",
              "2021-02-07   -0.409759\n",
              "2021-02-14    0.045385\n",
              "2021-02-21   -0.161777\n",
              "2021-02-28    0.213724\n",
              "2021-03-07    0.148803\n",
              "2021-03-14   -0.293772\n",
              "2021-03-21    0.366217\n",
              "2021-03-28    0.514481\n",
              "2021-04-04    0.244771\n",
              "2021-04-11    0.049164\n",
              "Freq: W-SUN, dtype: float64"
            ]
          },
          "metadata": {
            "tags": []
          },
          "execution_count": 26
        }
      ]
    },
    {
      "cell_type": "code",
      "metadata": {
        "colab": {
          "base_uri": "https://localhost:8080/"
        },
        "id": "d2BdJgAO_ULt",
        "outputId": "46b5f220-7b93-4763-d430-356c5f690c05"
      },
      "source": [
        "ts.resample('M').first()"
      ],
      "execution_count": 27,
      "outputs": [
        {
          "output_type": "execute_result",
          "data": {
            "text/plain": [
              "2021-01-31    0.555876\n",
              "2021-02-28    0.051900\n",
              "2021-03-31    0.719548\n",
              "2021-04-30   -1.012394\n",
              "Freq: M, dtype: float64"
            ]
          },
          "metadata": {
            "tags": []
          },
          "execution_count": 27
        }
      ]
    },
    {
      "cell_type": "code",
      "metadata": {
        "colab": {
          "base_uri": "https://localhost:8080/"
        },
        "id": "pACHQOSe_Vp_",
        "outputId": "52faa333-ecda-4d5f-8afa-33faa39c3609"
      },
      "source": [
        "ts = pd.Series(np.random.randn(60), index=pd.date_range(\n",
        "    \"2021-1-1\", periods=60, freq=\"T\"))\n",
        "ts.head(20)"
      ],
      "execution_count": 28,
      "outputs": [
        {
          "output_type": "execute_result",
          "data": {
            "text/plain": [
              "2021-01-01 00:00:00    0.541335\n",
              "2021-01-01 00:01:00    0.567278\n",
              "2021-01-01 00:02:00   -0.435382\n",
              "2021-01-01 00:03:00    0.766812\n",
              "2021-01-01 00:04:00    0.480849\n",
              "2021-01-01 00:05:00   -0.881282\n",
              "2021-01-01 00:06:00   -0.684286\n",
              "2021-01-01 00:07:00    0.454018\n",
              "2021-01-01 00:08:00   -0.725166\n",
              "2021-01-01 00:09:00   -1.438826\n",
              "2021-01-01 00:10:00    2.150792\n",
              "2021-01-01 00:11:00    0.048698\n",
              "2021-01-01 00:12:00    0.647113\n",
              "2021-01-01 00:13:00   -1.074484\n",
              "2021-01-01 00:14:00    0.244745\n",
              "2021-01-01 00:15:00    0.370906\n",
              "2021-01-01 00:16:00    0.414232\n",
              "2021-01-01 00:17:00    1.196694\n",
              "2021-01-01 00:18:00    1.082473\n",
              "2021-01-01 00:19:00    0.276918\n",
              "Freq: T, dtype: float64"
            ]
          },
          "metadata": {
            "tags": []
          },
          "execution_count": 28
        }
      ]
    },
    {
      "cell_type": "code",
      "metadata": {
        "colab": {
          "base_uri": "https://localhost:8080/"
        },
        "id": "4tKuRtJc_XCr",
        "outputId": "6290c7bb-b60a-4b6b-ca72-31f11222ba41"
      },
      "source": [
        "ts.resample('10T').sum()"
      ],
      "execution_count": 29,
      "outputs": [
        {
          "output_type": "execute_result",
          "data": {
            "text/plain": [
              "2021-01-01 00:00:00   -1.354650\n",
              "2021-01-01 00:10:00    5.358087\n",
              "2021-01-01 00:20:00    3.826516\n",
              "2021-01-01 00:30:00    4.357375\n",
              "2021-01-01 00:40:00    1.922866\n",
              "2021-01-01 00:50:00   -3.690769\n",
              "Freq: 10T, dtype: float64"
            ]
          },
          "metadata": {
            "tags": []
          },
          "execution_count": 29
        }
      ]
    },
    {
      "cell_type": "code",
      "metadata": {
        "colab": {
          "base_uri": "https://localhost:8080/"
        },
        "id": "wPJl4i_T_YNV",
        "outputId": "590c27e6-f73a-482b-b7a9-0e1cbdef3055"
      },
      "source": [
        "ts.resample('10T', closed=\"right\").sum()"
      ],
      "execution_count": 30,
      "outputs": [
        {
          "output_type": "execute_result",
          "data": {
            "text/plain": [
              "2020-12-31 23:50:00    0.541335\n",
              "2021-01-01 00:00:00    0.254807\n",
              "2021-01-01 00:10:00    4.137662\n",
              "2021-01-01 00:20:00    3.278105\n",
              "2021-01-01 00:30:00    3.353502\n",
              "2021-01-01 00:40:00    3.718302\n",
              "2021-01-01 00:50:00   -4.864288\n",
              "Freq: 10T, dtype: float64"
            ]
          },
          "metadata": {
            "tags": []
          },
          "execution_count": 30
        }
      ]
    },
    {
      "cell_type": "code",
      "metadata": {
        "colab": {
          "base_uri": "https://localhost:8080/",
          "height": 421
        },
        "id": "lMKPi7kq_ZVM",
        "outputId": "cee623a5-ce1e-47a8-9fc4-171e9d2d5863"
      },
      "source": [
        "ts.resample('5T').ohlc()"
      ],
      "execution_count": 31,
      "outputs": [
        {
          "output_type": "execute_result",
          "data": {
            "text/html": [
              "<div>\n",
              "<style scoped>\n",
              "    .dataframe tbody tr th:only-of-type {\n",
              "        vertical-align: middle;\n",
              "    }\n",
              "\n",
              "    .dataframe tbody tr th {\n",
              "        vertical-align: top;\n",
              "    }\n",
              "\n",
              "    .dataframe thead th {\n",
              "        text-align: right;\n",
              "    }\n",
              "</style>\n",
              "<table border=\"1\" class=\"dataframe\">\n",
              "  <thead>\n",
              "    <tr style=\"text-align: right;\">\n",
              "      <th></th>\n",
              "      <th>open</th>\n",
              "      <th>high</th>\n",
              "      <th>low</th>\n",
              "      <th>close</th>\n",
              "    </tr>\n",
              "  </thead>\n",
              "  <tbody>\n",
              "    <tr>\n",
              "      <th>2021-01-01 00:00:00</th>\n",
              "      <td>0.541335</td>\n",
              "      <td>0.766812</td>\n",
              "      <td>-0.435382</td>\n",
              "      <td>0.480849</td>\n",
              "    </tr>\n",
              "    <tr>\n",
              "      <th>2021-01-01 00:05:00</th>\n",
              "      <td>-0.881282</td>\n",
              "      <td>0.454018</td>\n",
              "      <td>-1.438826</td>\n",
              "      <td>-1.438826</td>\n",
              "    </tr>\n",
              "    <tr>\n",
              "      <th>2021-01-01 00:10:00</th>\n",
              "      <td>2.150792</td>\n",
              "      <td>2.150792</td>\n",
              "      <td>-1.074484</td>\n",
              "      <td>0.244745</td>\n",
              "    </tr>\n",
              "    <tr>\n",
              "      <th>2021-01-01 00:15:00</th>\n",
              "      <td>0.370906</td>\n",
              "      <td>1.196694</td>\n",
              "      <td>0.276918</td>\n",
              "      <td>0.276918</td>\n",
              "    </tr>\n",
              "    <tr>\n",
              "      <th>2021-01-01 00:20:00</th>\n",
              "      <td>0.930367</td>\n",
              "      <td>1.794096</td>\n",
              "      <td>-0.952598</td>\n",
              "      <td>-0.569924</td>\n",
              "    </tr>\n",
              "    <tr>\n",
              "      <th>2021-01-01 00:25:00</th>\n",
              "      <td>0.246918</td>\n",
              "      <td>1.790240</td>\n",
              "      <td>-0.439804</td>\n",
              "      <td>0.180929</td>\n",
              "    </tr>\n",
              "    <tr>\n",
              "      <th>2021-01-01 00:30:00</th>\n",
              "      <td>0.381956</td>\n",
              "      <td>1.900322</td>\n",
              "      <td>0.381956</td>\n",
              "      <td>0.600320</td>\n",
              "    </tr>\n",
              "    <tr>\n",
              "      <th>2021-01-01 00:35:00</th>\n",
              "      <td>-0.124618</td>\n",
              "      <td>0.565268</td>\n",
              "      <td>-0.598812</td>\n",
              "      <td>0.380024</td>\n",
              "    </tr>\n",
              "    <tr>\n",
              "      <th>2021-01-01 00:40:00</th>\n",
              "      <td>-0.621916</td>\n",
              "      <td>1.917800</td>\n",
              "      <td>-1.415137</td>\n",
              "      <td>1.021580</td>\n",
              "    </tr>\n",
              "    <tr>\n",
              "      <th>2021-01-01 00:45:00</th>\n",
              "      <td>-0.227172</td>\n",
              "      <td>1.528581</td>\n",
              "      <td>-1.178988</td>\n",
              "      <td>1.528581</td>\n",
              "    </tr>\n",
              "    <tr>\n",
              "      <th>2021-01-01 00:50:00</th>\n",
              "      <td>1.173519</td>\n",
              "      <td>1.638276</td>\n",
              "      <td>-2.403362</td>\n",
              "      <td>1.062080</td>\n",
              "    </tr>\n",
              "    <tr>\n",
              "      <th>2021-01-01 00:55:00</th>\n",
              "      <td>-1.215835</td>\n",
              "      <td>0.493157</td>\n",
              "      <td>-1.469399</td>\n",
              "      <td>-0.075244</td>\n",
              "    </tr>\n",
              "  </tbody>\n",
              "</table>\n",
              "</div>"
            ],
            "text/plain": [
              "                         open      high       low     close\n",
              "2021-01-01 00:00:00  0.541335  0.766812 -0.435382  0.480849\n",
              "2021-01-01 00:05:00 -0.881282  0.454018 -1.438826 -1.438826\n",
              "2021-01-01 00:10:00  2.150792  2.150792 -1.074484  0.244745\n",
              "2021-01-01 00:15:00  0.370906  1.196694  0.276918  0.276918\n",
              "2021-01-01 00:20:00  0.930367  1.794096 -0.952598 -0.569924\n",
              "2021-01-01 00:25:00  0.246918  1.790240 -0.439804  0.180929\n",
              "2021-01-01 00:30:00  0.381956  1.900322  0.381956  0.600320\n",
              "2021-01-01 00:35:00 -0.124618  0.565268 -0.598812  0.380024\n",
              "2021-01-01 00:40:00 -0.621916  1.917800 -1.415137  1.021580\n",
              "2021-01-01 00:45:00 -0.227172  1.528581 -1.178988  1.528581\n",
              "2021-01-01 00:50:00  1.173519  1.638276 -2.403362  1.062080\n",
              "2021-01-01 00:55:00 -1.215835  0.493157 -1.469399 -0.075244"
            ]
          },
          "metadata": {
            "tags": []
          },
          "execution_count": 31
        }
      ]
    },
    {
      "cell_type": "code",
      "metadata": {
        "colab": {
          "base_uri": "https://localhost:8080/"
        },
        "id": "5rE58t_Y_aXn",
        "outputId": "e6c32e2d-91ad-4d56-e365-1fb5034c2733"
      },
      "source": [
        "ts.resample('30s').ffill().head(20)"
      ],
      "execution_count": 32,
      "outputs": [
        {
          "output_type": "execute_result",
          "data": {
            "text/plain": [
              "2021-01-01 00:00:00    0.541335\n",
              "2021-01-01 00:00:30    0.541335\n",
              "2021-01-01 00:01:00    0.567278\n",
              "2021-01-01 00:01:30    0.567278\n",
              "2021-01-01 00:02:00   -0.435382\n",
              "2021-01-01 00:02:30   -0.435382\n",
              "2021-01-01 00:03:00    0.766812\n",
              "2021-01-01 00:03:30    0.766812\n",
              "2021-01-01 00:04:00    0.480849\n",
              "2021-01-01 00:04:30    0.480849\n",
              "2021-01-01 00:05:00   -0.881282\n",
              "2021-01-01 00:05:30   -0.881282\n",
              "2021-01-01 00:06:00   -0.684286\n",
              "2021-01-01 00:06:30   -0.684286\n",
              "2021-01-01 00:07:00    0.454018\n",
              "2021-01-01 00:07:30    0.454018\n",
              "2021-01-01 00:08:00   -0.725166\n",
              "2021-01-01 00:08:30   -0.725166\n",
              "2021-01-01 00:09:00   -1.438826\n",
              "2021-01-01 00:09:30   -1.438826\n",
              "Freq: 30S, dtype: float64"
            ]
          },
          "metadata": {
            "tags": []
          },
          "execution_count": 32
        }
      ]
    },
    {
      "cell_type": "code",
      "metadata": {
        "colab": {
          "base_uri": "https://localhost:8080/"
        },
        "id": "hRSzQuNe_byD",
        "outputId": "c4bf16da-3716-411b-fa4a-74e36f722b9a"
      },
      "source": [
        "ts.resample('30s').bfill().head(20)"
      ],
      "execution_count": 33,
      "outputs": [
        {
          "output_type": "execute_result",
          "data": {
            "text/plain": [
              "2021-01-01 00:00:00    0.541335\n",
              "2021-01-01 00:00:30    0.567278\n",
              "2021-01-01 00:01:00    0.567278\n",
              "2021-01-01 00:01:30   -0.435382\n",
              "2021-01-01 00:02:00   -0.435382\n",
              "2021-01-01 00:02:30    0.766812\n",
              "2021-01-01 00:03:00    0.766812\n",
              "2021-01-01 00:03:30    0.480849\n",
              "2021-01-01 00:04:00    0.480849\n",
              "2021-01-01 00:04:30   -0.881282\n",
              "2021-01-01 00:05:00   -0.881282\n",
              "2021-01-01 00:05:30   -0.684286\n",
              "2021-01-01 00:06:00   -0.684286\n",
              "2021-01-01 00:06:30    0.454018\n",
              "2021-01-01 00:07:00    0.454018\n",
              "2021-01-01 00:07:30   -0.725166\n",
              "2021-01-01 00:08:00   -0.725166\n",
              "2021-01-01 00:08:30   -1.438826\n",
              "2021-01-01 00:09:00   -1.438826\n",
              "2021-01-01 00:09:30    2.150792\n",
              "Freq: 30S, dtype: float64"
            ]
          },
          "metadata": {
            "tags": []
          },
          "execution_count": 33
        }
      ]
    },
    {
      "cell_type": "markdown",
      "metadata": {
        "id": "KAPnfgnw_eN1"
      },
      "source": [
        "### dt Accessor"
      ]
    },
    {
      "cell_type": "code",
      "metadata": {
        "colab": {
          "base_uri": "https://localhost:8080/"
        },
        "id": "Lx_A6lkH_c_g",
        "outputId": "15d0a08e-3f90-4aeb-8d23-3e4e326d037e"
      },
      "source": [
        "s = pd.Series(pd.date_range(\"2022-12-25\", periods=100, freq=\"D\"))\n",
        "s"
      ],
      "execution_count": 34,
      "outputs": [
        {
          "output_type": "execute_result",
          "data": {
            "text/plain": [
              "0    2022-12-25\n",
              "1    2022-12-26\n",
              "2    2022-12-27\n",
              "3    2022-12-28\n",
              "4    2022-12-29\n",
              "        ...    \n",
              "95   2023-03-30\n",
              "96   2023-03-31\n",
              "97   2023-04-01\n",
              "98   2023-04-02\n",
              "99   2023-04-03\n",
              "Length: 100, dtype: datetime64[ns]"
            ]
          },
          "metadata": {
            "tags": []
          },
          "execution_count": 34
        }
      ]
    },
    {
      "cell_type": "code",
      "metadata": {
        "colab": {
          "base_uri": "https://localhost:8080/"
        },
        "id": "w4q1Hluj_m6L",
        "outputId": "0a153d4d-83ee-4faa-8c62-f3beb5f49f10"
      },
      "source": [
        "s.dt.year"
      ],
      "execution_count": 35,
      "outputs": [
        {
          "output_type": "execute_result",
          "data": {
            "text/plain": [
              "0     2022\n",
              "1     2022\n",
              "2     2022\n",
              "3     2022\n",
              "4     2022\n",
              "      ... \n",
              "95    2023\n",
              "96    2023\n",
              "97    2023\n",
              "98    2023\n",
              "99    2023\n",
              "Length: 100, dtype: int64"
            ]
          },
          "metadata": {
            "tags": []
          },
          "execution_count": 35
        }
      ]
    },
    {
      "cell_type": "code",
      "metadata": {
        "colab": {
          "base_uri": "https://localhost:8080/"
        },
        "id": "Jd80rbBl_n3S",
        "outputId": "2c17205e-5f80-4ffa-d4f0-7f3a15d97f34"
      },
      "source": [
        "s.dt.weekday"
      ],
      "execution_count": 36,
      "outputs": [
        {
          "output_type": "execute_result",
          "data": {
            "text/plain": [
              "0     6\n",
              "1     0\n",
              "2     1\n",
              "3     2\n",
              "4     3\n",
              "     ..\n",
              "95    3\n",
              "96    4\n",
              "97    5\n",
              "98    6\n",
              "99    0\n",
              "Length: 100, dtype: int64"
            ]
          },
          "metadata": {
            "tags": []
          },
          "execution_count": 36
        }
      ]
    },
    {
      "cell_type": "code",
      "metadata": {
        "colab": {
          "base_uri": "https://localhost:8080/"
        },
        "id": "QQRD7KJv_o5k",
        "outputId": "cd66e51a-30ec-422d-b9e9-46122ae14e95"
      },
      "source": [
        "s.dt.strftime(\"%Y년 %m월 %d일\")"
      ],
      "execution_count": 37,
      "outputs": [
        {
          "output_type": "execute_result",
          "data": {
            "text/plain": [
              "0     2022년 12월 25일\n",
              "1     2022년 12월 26일\n",
              "2     2022년 12월 27일\n",
              "3     2022년 12월 28일\n",
              "4     2022년 12월 29일\n",
              "          ...      \n",
              "95    2023년 03월 30일\n",
              "96    2023년 03월 31일\n",
              "97    2023년 04월 01일\n",
              "98    2023년 04월 02일\n",
              "99    2023년 04월 03일\n",
              "Length: 100, dtype: object"
            ]
          },
          "metadata": {
            "tags": []
          },
          "execution_count": 37
        }
      ]
    }
  ]
}