{
  "nbformat": 4,
  "nbformat_minor": 0,
  "metadata": {
    "colab": {
      "name": "Pandas(1).ipynb",
      "provenance": [],
      "collapsed_sections": []
    },
    "kernelspec": {
      "name": "python3",
      "display_name": "Python 3"
    },
    "language_info": {
      "name": "python"
    }
  },
  "cells": [
    {
      "cell_type": "markdown",
      "metadata": {
        "id": "RxzAvRIrh8lw"
      },
      "source": [
        "# Pandas"
      ]
    },
    {
      "cell_type": "markdown",
      "metadata": {
        "id": "sf01z_dmh8Yu"
      },
      "source": [
        "## 01. Series"
      ]
    },
    {
      "cell_type": "code",
      "metadata": {
        "id": "b54yD-oJh06S"
      },
      "source": [
        "import numpy as np\n",
        "import pandas as pd"
      ],
      "execution_count": 1,
      "outputs": []
    },
    {
      "cell_type": "code",
      "metadata": {
        "colab": {
          "base_uri": "https://localhost:8080/"
        },
        "id": "Ag-CN7_xrWnv",
        "outputId": "16b557c1-ac68-4718-c259-4af593bfc3ea"
      },
      "source": [
        "s = pd.Series([9904312, 3448737, 2890451, 2466052],\n",
        "              index = ['서울', '부산', '인천', '대구'])\n",
        "s"
      ],
      "execution_count": 2,
      "outputs": [
        {
          "output_type": "execute_result",
          "data": {
            "text/plain": [
              "서울    9904312\n",
              "부산    3448737\n",
              "인천    2890451\n",
              "대구    2466052\n",
              "dtype: int64"
            ]
          },
          "metadata": {
            "tags": []
          },
          "execution_count": 2
        }
      ]
    },
    {
      "cell_type": "code",
      "metadata": {
        "colab": {
          "base_uri": "https://localhost:8080/"
        },
        "id": "VzFJ6Hjqw8kO",
        "outputId": "46a9e3d6-f5df-4eac-98bd-b177b196f9c7"
      },
      "source": [
        "s.values"
      ],
      "execution_count": 4,
      "outputs": [
        {
          "output_type": "execute_result",
          "data": {
            "text/plain": [
              "array([9904312, 3448737, 2890451, 2466052])"
            ]
          },
          "metadata": {
            "tags": []
          },
          "execution_count": 4
        }
      ]
    },
    {
      "cell_type": "code",
      "metadata": {
        "colab": {
          "base_uri": "https://localhost:8080/"
        },
        "id": "hmPLaMEtx9-T",
        "outputId": "aacf1a45-7bc9-442d-9791-8f4702294fcd"
      },
      "source": [
        "s.name = '인구'\n",
        "s.index.name = '도시'\n",
        "s"
      ],
      "execution_count": 5,
      "outputs": [
        {
          "output_type": "execute_result",
          "data": {
            "text/plain": [
              "도시\n",
              "서울    9904312\n",
              "부산    3448737\n",
              "인천    2890451\n",
              "대구    2466052\n",
              "Name: 인구, dtype: int64"
            ]
          },
          "metadata": {
            "tags": []
          },
          "execution_count": 5
        }
      ]
    },
    {
      "cell_type": "markdown",
      "metadata": {
        "id": "SdMdR_VqyH2k"
      },
      "source": [
        "### Calculating"
      ]
    },
    {
      "cell_type": "code",
      "metadata": {
        "colab": {
          "base_uri": "https://localhost:8080/"
        },
        "id": "rHLKDzWgyGQj",
        "outputId": "8b8d0c13-c303-4ef2-dfe9-c97572099481"
      },
      "source": [
        "s / 1000000"
      ],
      "execution_count": 6,
      "outputs": [
        {
          "output_type": "execute_result",
          "data": {
            "text/plain": [
              "도시\n",
              "서울    9.904312\n",
              "부산    3.448737\n",
              "인천    2.890451\n",
              "대구    2.466052\n",
              "Name: 인구, dtype: float64"
            ]
          },
          "metadata": {
            "tags": []
          },
          "execution_count": 6
        }
      ]
    },
    {
      "cell_type": "markdown",
      "metadata": {
        "id": "ycO6zBScy3Oa"
      },
      "source": [
        "### Indexing"
      ]
    },
    {
      "cell_type": "code",
      "metadata": {
        "colab": {
          "base_uri": "https://localhost:8080/"
        },
        "id": "4zQWyPstyScS",
        "outputId": "ca63b974-a4ee-4d8c-b6c2-d9ca1bfd95dc"
      },
      "source": [
        "s[1], s['부산']"
      ],
      "execution_count": 7,
      "outputs": [
        {
          "output_type": "execute_result",
          "data": {
            "text/plain": [
              "(3448737, 3448737)"
            ]
          },
          "metadata": {
            "tags": []
          },
          "execution_count": 7
        }
      ]
    },
    {
      "cell_type": "code",
      "metadata": {
        "colab": {
          "base_uri": "https://localhost:8080/"
        },
        "id": "QskJle_JzBVO",
        "outputId": "8d2d992a-6fe2-4e46-bc9f-88eb0c25d568"
      },
      "source": [
        "s[[0, 3, 1]]"
      ],
      "execution_count": 8,
      "outputs": [
        {
          "output_type": "execute_result",
          "data": {
            "text/plain": [
              "도시\n",
              "서울    9904312\n",
              "대구    2466052\n",
              "부산    3448737\n",
              "Name: 인구, dtype: int64"
            ]
          },
          "metadata": {
            "tags": []
          },
          "execution_count": 8
        }
      ]
    },
    {
      "cell_type": "code",
      "metadata": {
        "colab": {
          "base_uri": "https://localhost:8080/"
        },
        "id": "UWTxOCBfzaUx",
        "outputId": "3c0f6b96-fa8b-4458-881f-02d1518a7a8b"
      },
      "source": [
        "s[['서울', '인천', '대구', '부산']]"
      ],
      "execution_count": 9,
      "outputs": [
        {
          "output_type": "execute_result",
          "data": {
            "text/plain": [
              "도시\n",
              "서울    9904312\n",
              "인천    2890451\n",
              "대구    2466052\n",
              "부산    3448737\n",
              "Name: 인구, dtype: int64"
            ]
          },
          "metadata": {
            "tags": []
          },
          "execution_count": 9
        }
      ]
    },
    {
      "cell_type": "markdown",
      "metadata": {
        "id": "m_3VM1Ir1QjK"
      },
      "source": [
        "### Slicing"
      ]
    },
    {
      "cell_type": "code",
      "metadata": {
        "colab": {
          "base_uri": "https://localhost:8080/"
        },
        "id": "4P0BV3uUzhdS",
        "outputId": "ff01d179-1498-44a9-88cb-487d5da40156"
      },
      "source": [
        "s[1:3]"
      ],
      "execution_count": 10,
      "outputs": [
        {
          "output_type": "execute_result",
          "data": {
            "text/plain": [
              "도시\n",
              "부산    3448737\n",
              "인천    2890451\n",
              "Name: 인구, dtype: int64"
            ]
          },
          "metadata": {
            "tags": []
          },
          "execution_count": 10
        }
      ]
    },
    {
      "cell_type": "code",
      "metadata": {
        "colab": {
          "base_uri": "https://localhost:8080/"
        },
        "id": "FGx2DaL-z56W",
        "outputId": "16b9a283-2f0f-482d-df8d-5da8c7977822"
      },
      "source": [
        "s['부산':'대구']"
      ],
      "execution_count": 12,
      "outputs": [
        {
          "output_type": "execute_result",
          "data": {
            "text/plain": [
              "도시\n",
              "부산    3448737\n",
              "인천    2890451\n",
              "대구    2466052\n",
              "Name: 인구, dtype: int64"
            ]
          },
          "metadata": {
            "tags": []
          },
          "execution_count": 12
        }
      ]
    },
    {
      "cell_type": "markdown",
      "metadata": {
        "id": "g9koG6wX1SzU"
      },
      "source": [
        "### Filtering"
      ]
    },
    {
      "cell_type": "code",
      "metadata": {
        "colab": {
          "base_uri": "https://localhost:8080/"
        },
        "id": "i9OjGBYaz8lY",
        "outputId": "4832c55e-07d8-4262-fbc5-fff9e2e34c4c"
      },
      "source": [
        "s[(2500000 < s) & (s < 3000000)]"
      ],
      "execution_count": 14,
      "outputs": [
        {
          "output_type": "execute_result",
          "data": {
            "text/plain": [
              "도시\n",
              "인천    2890451\n",
              "Name: 인구, dtype: int64"
            ]
          },
          "metadata": {
            "tags": []
          },
          "execution_count": 14
        }
      ]
    },
    {
      "cell_type": "code",
      "metadata": {
        "colab": {
          "base_uri": "https://localhost:8080/"
        },
        "id": "Ji14E2Yv0p0w",
        "outputId": "752aa2ec-9a57-4a77-d44f-cb5dd9435a86"
      },
      "source": [
        "s[(s < 25e5) | (s > 4e6)]"
      ],
      "execution_count": 15,
      "outputs": [
        {
          "output_type": "execute_result",
          "data": {
            "text/plain": [
              "도시\n",
              "서울    9904312\n",
              "대구    2466052\n",
              "Name: 인구, dtype: int64"
            ]
          },
          "metadata": {
            "tags": []
          },
          "execution_count": 15
        }
      ]
    },
    {
      "cell_type": "markdown",
      "metadata": {
        "id": "YDs5rSXw2qsD"
      },
      "source": [
        "### Dictionary"
      ]
    },
    {
      "cell_type": "code",
      "metadata": {
        "colab": {
          "base_uri": "https://localhost:8080/"
        },
        "id": "ZnS_GP9m3DJ6",
        "outputId": "723a2ae5-a0ca-4c6c-dff2-aff72125e5f1"
      },
      "source": [
        "'서울' in s, '대전' in s"
      ],
      "execution_count": 18,
      "outputs": [
        {
          "output_type": "execute_result",
          "data": {
            "text/plain": [
              "(True, False)"
            ]
          },
          "metadata": {
            "tags": []
          },
          "execution_count": 18
        }
      ]
    },
    {
      "cell_type": "code",
      "metadata": {
        "colab": {
          "base_uri": "https://localhost:8080/"
        },
        "id": "uViNnR9J1fTp",
        "outputId": "077f73ea-3007-4602-c03c-a35f7fc53d0c"
      },
      "source": [
        "s2 = pd.Series({'서울' : 9631482, '부산' : 3393191, '인천' : 2632035, '대전' : 1490158})\n",
        "s2"
      ],
      "execution_count": 17,
      "outputs": [
        {
          "output_type": "execute_result",
          "data": {
            "text/plain": [
              "서울    9631482\n",
              "부산    3393191\n",
              "인천    2632035\n",
              "대전    1490158\n",
              "dtype: int64"
            ]
          },
          "metadata": {
            "tags": []
          },
          "execution_count": 17
        }
      ]
    },
    {
      "cell_type": "markdown",
      "metadata": {
        "id": "hpWYObsR3rS5"
      },
      "source": [
        "### Calculation Based on Index"
      ]
    },
    {
      "cell_type": "code",
      "metadata": {
        "colab": {
          "base_uri": "https://localhost:8080/"
        },
        "id": "qXTfVWjS264Q",
        "outputId": "ee86ab4e-b0b4-4700-ae39-d598442cd48f"
      },
      "source": [
        "s - s2"
      ],
      "execution_count": 19,
      "outputs": [
        {
          "output_type": "execute_result",
          "data": {
            "text/plain": [
              "대구         NaN\n",
              "대전         NaN\n",
              "부산     55546.0\n",
              "서울    272830.0\n",
              "인천    258416.0\n",
              "dtype: float64"
            ]
          },
          "metadata": {
            "tags": []
          },
          "execution_count": 19
        }
      ]
    },
    {
      "cell_type": "code",
      "metadata": {
        "colab": {
          "base_uri": "https://localhost:8080/"
        },
        "id": "xtdNJDbZ32QE",
        "outputId": "272c1233-d2ea-4fa3-a987-6a3b6daf6935"
      },
      "source": [
        "s.values - s2.values"
      ],
      "execution_count": 20,
      "outputs": [
        {
          "output_type": "execute_result",
          "data": {
            "text/plain": [
              "array([272830,  55546, 258416, 975894])"
            ]
          },
          "metadata": {
            "tags": []
          },
          "execution_count": 20
        }
      ]
    },
    {
      "cell_type": "code",
      "metadata": {
        "colab": {
          "base_uri": "https://localhost:8080/"
        },
        "id": "dHH3k6g9361n",
        "outputId": "1d97f083-5958-4f16-c43f-1b7c56137e77"
      },
      "source": [
        "rs = (s - s2) / s2 * 100\n",
        "rs"
      ],
      "execution_count": 22,
      "outputs": [
        {
          "output_type": "execute_result",
          "data": {
            "text/plain": [
              "대구         NaN\n",
              "대전         NaN\n",
              "부산    1.636984\n",
              "서울    2.832690\n",
              "인천    9.818107\n",
              "dtype: float64"
            ]
          },
          "metadata": {
            "tags": []
          },
          "execution_count": 22
        }
      ]
    },
    {
      "cell_type": "code",
      "metadata": {
        "colab": {
          "base_uri": "https://localhost:8080/"
        },
        "id": "0d3XcNxA4D-f",
        "outputId": "f304b349-d444-4ad0-bebb-a0954d9c6dc4"
      },
      "source": [
        "rs.notnull()"
      ],
      "execution_count": 23,
      "outputs": [
        {
          "output_type": "execute_result",
          "data": {
            "text/plain": [
              "대구    False\n",
              "대전    False\n",
              "부산     True\n",
              "서울     True\n",
              "인천     True\n",
              "dtype: bool"
            ]
          },
          "metadata": {
            "tags": []
          },
          "execution_count": 23
        }
      ]
    },
    {
      "cell_type": "code",
      "metadata": {
        "colab": {
          "base_uri": "https://localhost:8080/"
        },
        "id": "Ru1b3P414Kof",
        "outputId": "ceaac704-ebc2-4e46-86b8-b6f96ec0734b"
      },
      "source": [
        "rs = rs[rs.notnull()]\n",
        "rs"
      ],
      "execution_count": 25,
      "outputs": [
        {
          "output_type": "execute_result",
          "data": {
            "text/plain": [
              "부산    1.636984\n",
              "서울    2.832690\n",
              "인천    9.818107\n",
              "dtype: float64"
            ]
          },
          "metadata": {
            "tags": []
          },
          "execution_count": 25
        }
      ]
    },
    {
      "cell_type": "markdown",
      "metadata": {
        "id": "BlnIVwHj424A"
      },
      "source": [
        "### Update"
      ]
    },
    {
      "cell_type": "code",
      "metadata": {
        "colab": {
          "base_uri": "https://localhost:8080/"
        },
        "id": "97_FURjc4N2G",
        "outputId": "1b150275-fed6-4380-95b5-4b607857e9cd"
      },
      "source": [
        "rs['부산'] = 1.63\n",
        "rs"
      ],
      "execution_count": 26,
      "outputs": [
        {
          "output_type": "execute_result",
          "data": {
            "text/plain": [
              "부산    1.630000\n",
              "서울    2.832690\n",
              "인천    9.818107\n",
              "dtype: float64"
            ]
          },
          "metadata": {
            "tags": []
          },
          "execution_count": 26
        }
      ]
    },
    {
      "cell_type": "markdown",
      "metadata": {
        "id": "GteALdZc45Eg"
      },
      "source": [
        "### Add"
      ]
    },
    {
      "cell_type": "code",
      "metadata": {
        "colab": {
          "base_uri": "https://localhost:8080/"
        },
        "id": "Fiwon7Hd4wfX",
        "outputId": "48f904ad-c852-47da-a89b-e75cdffa9e67"
      },
      "source": [
        "rs['대구'] = 1.41\n",
        "rs"
      ],
      "execution_count": 27,
      "outputs": [
        {
          "output_type": "execute_result",
          "data": {
            "text/plain": [
              "부산    1.630000\n",
              "서울    2.832690\n",
              "인천    9.818107\n",
              "대구    1.410000\n",
              "dtype: float64"
            ]
          },
          "metadata": {
            "tags": []
          },
          "execution_count": 27
        }
      ]
    },
    {
      "cell_type": "markdown",
      "metadata": {
        "id": "uRq8WKUG47-O"
      },
      "source": [
        "### Delete"
      ]
    },
    {
      "cell_type": "code",
      "metadata": {
        "colab": {
          "base_uri": "https://localhost:8080/"
        },
        "id": "IU45W9x141xB",
        "outputId": "8f9c2645-1e32-45b4-f977-4eb550dd6f68"
      },
      "source": [
        "del rs['부산']\n",
        "rs"
      ],
      "execution_count": 28,
      "outputs": [
        {
          "output_type": "execute_result",
          "data": {
            "text/plain": [
              "서울    2.832690\n",
              "인천    9.818107\n",
              "대구    1.410000\n",
              "dtype: float64"
            ]
          },
          "metadata": {
            "tags": []
          },
          "execution_count": 28
        }
      ]
    }
  ]
}