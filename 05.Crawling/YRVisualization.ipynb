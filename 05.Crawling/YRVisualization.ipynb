{
  "nbformat": 4,
  "nbformat_minor": 0,
  "metadata": {
    "colab": {
      "name": "YRVisualization.ipynb",
      "provenance": [],
      "collapsed_sections": []
    },
    "kernelspec": {
      "name": "python3",
      "display_name": "Python 3"
    },
    "language_info": {
      "name": "python"
    }
  },
  "cells": [
    {
      "cell_type": "markdown",
      "metadata": {
        "id": "dnTi6KjFu3rS"
      },
      "source": [
        "# Youtube Ranking Visualization"
      ]
    },
    {
      "cell_type": "code",
      "metadata": {
        "id": "iEd2mjeLuyRz"
      },
      "source": [
        "!apt-get install -y fonts-nanum > /dev/null\n",
        "!fc-cache -fv > /dev/null\n",
        "!rm -rf ~/.cache/matplotlib"
      ],
      "execution_count": null,
      "outputs": []
    },
    {
      "cell_type": "code",
      "metadata": {
        "id": "UCNoC1xGvMet"
      },
      "source": [
        "import numpy as np\n",
        "import pandas as pd\n",
        "import matplotlib as mpl\n",
        "import matplotlib.pyplot as plt\n",
        "mpl.rcParams['axes.unicode_minus'] = False\n",
        "plt.rc('font', family='NanumBarunGothic')"
      ],
      "execution_count": null,
      "outputs": []
    },
    {
      "cell_type": "code",
      "metadata": {
        "colab": {
          "resources": {
            "http://localhost:8080/nbextensions/google.colab/files.js": {
              "data": "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",
              "ok": true,
              "headers": [
                [
                  "content-type",
                  "application/javascript"
                ]
              ],
              "status": 200,
              "status_text": ""
            }
          },
          "base_uri": "https://localhost:8080/",
          "height": 93
        },
        "id": "yULJ2lOOvo_e",
        "outputId": "093dede9-dd91-4d7e-86ff-705461540ae9"
      },
      "source": [
        "from google.colab import files\n",
        "uploaded = files.upload()\n",
        "filename = list(uploaded.keys())[0]"
      ],
      "execution_count": null,
      "outputs": [
        {
          "output_type": "display_data",
          "data": {
            "text/html": [
              "\n",
              "     <input type=\"file\" id=\"files-0bff86ae-c568-4fed-be82-bd0de90f1a22\" name=\"files[]\" multiple disabled\n",
              "        style=\"border:none\" />\n",
              "     <output id=\"result-0bff86ae-c568-4fed-be82-bd0de90f1a22\">\n",
              "      Upload widget is only available when the cell has been executed in the\n",
              "      current browser session. Please rerun this cell to enable.\n",
              "      </output>\n",
              "      <script src=\"/nbextensions/google.colab/files.js\"></script> "
            ],
            "text/plain": [
              "<IPython.core.display.HTML object>"
            ]
          },
          "metadata": {}
        },
        {
          "output_type": "stream",
          "text": [
            "Saving YoutubeRanking.csv to YoutubeRanking.csv\n"
          ],
          "name": "stdout"
        }
      ]
    },
    {
      "cell_type": "code",
      "metadata": {
        "id": "LMd_hApuwDtL",
        "colab": {
          "base_uri": "https://localhost:8080/",
          "height": 306
        },
        "outputId": "d7ad40d1-0d74-45bc-c7a1-fff3b43ca7f1"
      },
      "source": [
        "df = pd.read_csv(filename)\n",
        "df.head()"
      ],
      "execution_count": null,
      "outputs": [
        {
          "output_type": "execute_result",
          "data": {
            "text/html": [
              "<div>\n",
              "<style scoped>\n",
              "    .dataframe tbody tr th:only-of-type {\n",
              "        vertical-align: middle;\n",
              "    }\n",
              "\n",
              "    .dataframe tbody tr th {\n",
              "        vertical-align: top;\n",
              "    }\n",
              "\n",
              "    .dataframe thead th {\n",
              "        text-align: right;\n",
              "    }\n",
              "</style>\n",
              "<table border=\"1\" class=\"dataframe\">\n",
              "  <thead>\n",
              "    <tr style=\"text-align: right;\">\n",
              "      <th></th>\n",
              "      <th>카테고리</th>\n",
              "      <th>채널명</th>\n",
              "      <th>구독자수</th>\n",
              "      <th>조회수</th>\n",
              "      <th>비디오</th>\n",
              "    </tr>\n",
              "  </thead>\n",
              "  <tbody>\n",
              "    <tr>\n",
              "      <th>0</th>\n",
              "      <td>음악/댄스/가수</td>\n",
              "      <td>BLACKPINK</td>\n",
              "      <td>64,000,000</td>\n",
              "      <td>19,003,810,000</td>\n",
              "      <td>371</td>\n",
              "    </tr>\n",
              "    <tr>\n",
              "      <th>1</th>\n",
              "      <td>음악/댄스/가수</td>\n",
              "      <td>HYBE LABELS</td>\n",
              "      <td>60,300,000</td>\n",
              "      <td>18,713,050,000</td>\n",
              "      <td>654</td>\n",
              "    </tr>\n",
              "    <tr>\n",
              "      <th>2</th>\n",
              "      <td>음악/댄스/가수</td>\n",
              "      <td>BANGTANTV</td>\n",
              "      <td>56,400,000</td>\n",
              "      <td>12,194,960,000</td>\n",
              "      <td>1,579</td>\n",
              "    </tr>\n",
              "    <tr>\n",
              "      <th>3</th>\n",
              "      <td>음악/댄스/가수</td>\n",
              "      <td>SMTOWN</td>\n",
              "      <td>28,500,000</td>\n",
              "      <td>21,870,920,000</td>\n",
              "      <td>3,729</td>\n",
              "    </tr>\n",
              "    <tr>\n",
              "      <th>4</th>\n",
              "      <td>키즈/어린이</td>\n",
              "      <td>Boram Tube Vlog [보람튜브 브이로그]</td>\n",
              "      <td>26,500,000</td>\n",
              "      <td>11,052,880,000</td>\n",
              "      <td>223</td>\n",
              "    </tr>\n",
              "  </tbody>\n",
              "</table>\n",
              "</div>"
            ],
            "text/plain": [
              "       카테고리                          채널명        구독자수             조회수    비디오\n",
              "0  음악/댄스/가수                    BLACKPINK  64,000,000  19,003,810,000    371\n",
              "1  음악/댄스/가수                  HYBE LABELS  60,300,000  18,713,050,000    654\n",
              "2  음악/댄스/가수                    BANGTANTV  56,400,000  12,194,960,000  1,579\n",
              "3  음악/댄스/가수                       SMTOWN  28,500,000  21,870,920,000  3,729\n",
              "4    키즈/어린이  Boram Tube Vlog [보람튜브 브이로그]  26,500,000  11,052,880,000    223"
            ]
          },
          "metadata": {},
          "execution_count": 3
        }
      ]
    },
    {
      "cell_type": "code",
      "metadata": {
        "id": "NjDkettbwHhR",
        "colab": {
          "base_uri": "https://localhost:8080/",
          "height": 306
        },
        "outputId": "554f7227-3ec2-4b48-bdab-9ada6f8354e8"
      },
      "source": [
        "df['구독자수2'] = df.구독자수.apply(lambda x: int(x.replace(',', '')))\n",
        "df.head()"
      ],
      "execution_count": null,
      "outputs": [
        {
          "output_type": "execute_result",
          "data": {
            "text/html": [
              "<div>\n",
              "<style scoped>\n",
              "    .dataframe tbody tr th:only-of-type {\n",
              "        vertical-align: middle;\n",
              "    }\n",
              "\n",
              "    .dataframe tbody tr th {\n",
              "        vertical-align: top;\n",
              "    }\n",
              "\n",
              "    .dataframe thead th {\n",
              "        text-align: right;\n",
              "    }\n",
              "</style>\n",
              "<table border=\"1\" class=\"dataframe\">\n",
              "  <thead>\n",
              "    <tr style=\"text-align: right;\">\n",
              "      <th></th>\n",
              "      <th>카테고리</th>\n",
              "      <th>채널명</th>\n",
              "      <th>구독자수</th>\n",
              "      <th>조회수</th>\n",
              "      <th>비디오</th>\n",
              "      <th>구독자수2</th>\n",
              "    </tr>\n",
              "  </thead>\n",
              "  <tbody>\n",
              "    <tr>\n",
              "      <th>0</th>\n",
              "      <td>음악/댄스/가수</td>\n",
              "      <td>BLACKPINK</td>\n",
              "      <td>64,000,000</td>\n",
              "      <td>19,003,810,000</td>\n",
              "      <td>371</td>\n",
              "      <td>64000000</td>\n",
              "    </tr>\n",
              "    <tr>\n",
              "      <th>1</th>\n",
              "      <td>음악/댄스/가수</td>\n",
              "      <td>HYBE LABELS</td>\n",
              "      <td>60,300,000</td>\n",
              "      <td>18,713,050,000</td>\n",
              "      <td>654</td>\n",
              "      <td>60300000</td>\n",
              "    </tr>\n",
              "    <tr>\n",
              "      <th>2</th>\n",
              "      <td>음악/댄스/가수</td>\n",
              "      <td>BANGTANTV</td>\n",
              "      <td>56,400,000</td>\n",
              "      <td>12,194,960,000</td>\n",
              "      <td>1,579</td>\n",
              "      <td>56400000</td>\n",
              "    </tr>\n",
              "    <tr>\n",
              "      <th>3</th>\n",
              "      <td>음악/댄스/가수</td>\n",
              "      <td>SMTOWN</td>\n",
              "      <td>28,500,000</td>\n",
              "      <td>21,870,920,000</td>\n",
              "      <td>3,729</td>\n",
              "      <td>28500000</td>\n",
              "    </tr>\n",
              "    <tr>\n",
              "      <th>4</th>\n",
              "      <td>키즈/어린이</td>\n",
              "      <td>Boram Tube Vlog [보람튜브 브이로그]</td>\n",
              "      <td>26,500,000</td>\n",
              "      <td>11,052,880,000</td>\n",
              "      <td>223</td>\n",
              "      <td>26500000</td>\n",
              "    </tr>\n",
              "  </tbody>\n",
              "</table>\n",
              "</div>"
            ],
            "text/plain": [
              "       카테고리                          채널명  ...    비디오     구독자수2\n",
              "0  음악/댄스/가수                    BLACKPINK  ...    371  64000000\n",
              "1  음악/댄스/가수                  HYBE LABELS  ...    654  60300000\n",
              "2  음악/댄스/가수                    BANGTANTV  ...  1,579  56400000\n",
              "3  음악/댄스/가수                       SMTOWN  ...  3,729  28500000\n",
              "4    키즈/어린이  Boram Tube Vlog [보람튜브 브이로그]  ...    223  26500000\n",
              "\n",
              "[5 rows x 6 columns]"
            ]
          },
          "metadata": {},
          "execution_count": 4
        }
      ]
    },
    {
      "cell_type": "code",
      "metadata": {
        "id": "_JFA3jxow9Hs"
      },
      "source": [
        "def str2int(x):\n",
        "    return int(x.replace(',', ''))"
      ],
      "execution_count": null,
      "outputs": []
    },
    {
      "cell_type": "code",
      "metadata": {
        "colab": {
          "base_uri": "https://localhost:8080/",
          "height": 306
        },
        "id": "k3WsUdhvyR6O",
        "outputId": "cf64b16b-7b02-42c0-aa0e-f93eac38897f"
      },
      "source": [
        "df['비디오2'] = df.비디오.apply(str2int)\n",
        "df.head()"
      ],
      "execution_count": null,
      "outputs": [
        {
          "output_type": "execute_result",
          "data": {
            "text/html": [
              "<div>\n",
              "<style scoped>\n",
              "    .dataframe tbody tr th:only-of-type {\n",
              "        vertical-align: middle;\n",
              "    }\n",
              "\n",
              "    .dataframe tbody tr th {\n",
              "        vertical-align: top;\n",
              "    }\n",
              "\n",
              "    .dataframe thead th {\n",
              "        text-align: right;\n",
              "    }\n",
              "</style>\n",
              "<table border=\"1\" class=\"dataframe\">\n",
              "  <thead>\n",
              "    <tr style=\"text-align: right;\">\n",
              "      <th></th>\n",
              "      <th>카테고리</th>\n",
              "      <th>채널명</th>\n",
              "      <th>구독자수</th>\n",
              "      <th>조회수</th>\n",
              "      <th>비디오</th>\n",
              "      <th>구독자수2</th>\n",
              "      <th>비디오2</th>\n",
              "    </tr>\n",
              "  </thead>\n",
              "  <tbody>\n",
              "    <tr>\n",
              "      <th>0</th>\n",
              "      <td>음악/댄스/가수</td>\n",
              "      <td>BLACKPINK</td>\n",
              "      <td>64,000,000</td>\n",
              "      <td>19,003,810,000</td>\n",
              "      <td>371</td>\n",
              "      <td>64000000</td>\n",
              "      <td>371</td>\n",
              "    </tr>\n",
              "    <tr>\n",
              "      <th>1</th>\n",
              "      <td>음악/댄스/가수</td>\n",
              "      <td>HYBE LABELS</td>\n",
              "      <td>60,300,000</td>\n",
              "      <td>18,713,050,000</td>\n",
              "      <td>654</td>\n",
              "      <td>60300000</td>\n",
              "      <td>654</td>\n",
              "    </tr>\n",
              "    <tr>\n",
              "      <th>2</th>\n",
              "      <td>음악/댄스/가수</td>\n",
              "      <td>BANGTANTV</td>\n",
              "      <td>56,400,000</td>\n",
              "      <td>12,194,960,000</td>\n",
              "      <td>1,579</td>\n",
              "      <td>56400000</td>\n",
              "      <td>1579</td>\n",
              "    </tr>\n",
              "    <tr>\n",
              "      <th>3</th>\n",
              "      <td>음악/댄스/가수</td>\n",
              "      <td>SMTOWN</td>\n",
              "      <td>28,500,000</td>\n",
              "      <td>21,870,920,000</td>\n",
              "      <td>3,729</td>\n",
              "      <td>28500000</td>\n",
              "      <td>3729</td>\n",
              "    </tr>\n",
              "    <tr>\n",
              "      <th>4</th>\n",
              "      <td>키즈/어린이</td>\n",
              "      <td>Boram Tube Vlog [보람튜브 브이로그]</td>\n",
              "      <td>26,500,000</td>\n",
              "      <td>11,052,880,000</td>\n",
              "      <td>223</td>\n",
              "      <td>26500000</td>\n",
              "      <td>223</td>\n",
              "    </tr>\n",
              "  </tbody>\n",
              "</table>\n",
              "</div>"
            ],
            "text/plain": [
              "       카테고리                          채널명        구독자수  ...    비디오     구독자수2  비디오2\n",
              "0  음악/댄스/가수                    BLACKPINK  64,000,000  ...    371  64000000   371\n",
              "1  음악/댄스/가수                  HYBE LABELS  60,300,000  ...    654  60300000   654\n",
              "2  음악/댄스/가수                    BANGTANTV  56,400,000  ...  1,579  56400000  1579\n",
              "3  음악/댄스/가수                       SMTOWN  28,500,000  ...  3,729  28500000  3729\n",
              "4    키즈/어린이  Boram Tube Vlog [보람튜브 브이로그]  26,500,000  ...    223  26500000   223\n",
              "\n",
              "[5 rows x 7 columns]"
            ]
          },
          "metadata": {},
          "execution_count": 6
        }
      ]
    },
    {
      "cell_type": "markdown",
      "metadata": {
        "id": "fEQ7Qy0Uy20o"
      },
      "source": [
        "## 비디오 TOP 20 (채널명, 비디오) 막대 그래프"
      ]
    },
    {
      "cell_type": "code",
      "metadata": {
        "colab": {
          "base_uri": "https://localhost:8080/",
          "height": 512
        },
        "id": "29JIJJzUy3Or",
        "outputId": "336967aa-d3b1-44d1-975d-6cd11dc5bb25"
      },
      "source": [
        "df.sort_values(by='비디오2', ascending=False).head(10)"
      ],
      "execution_count": null,
      "outputs": [
        {
          "output_type": "execute_result",
          "data": {
            "text/html": [
              "<div>\n",
              "<style scoped>\n",
              "    .dataframe tbody tr th:only-of-type {\n",
              "        vertical-align: middle;\n",
              "    }\n",
              "\n",
              "    .dataframe tbody tr th {\n",
              "        vertical-align: top;\n",
              "    }\n",
              "\n",
              "    .dataframe thead th {\n",
              "        text-align: right;\n",
              "    }\n",
              "</style>\n",
              "<table border=\"1\" class=\"dataframe\">\n",
              "  <thead>\n",
              "    <tr style=\"text-align: right;\">\n",
              "      <th></th>\n",
              "      <th>카테고리</th>\n",
              "      <th>채널명</th>\n",
              "      <th>구독자수</th>\n",
              "      <th>조회수</th>\n",
              "      <th>비디오</th>\n",
              "      <th>구독자수2</th>\n",
              "      <th>비디오2</th>\n",
              "    </tr>\n",
              "  </thead>\n",
              "  <tbody>\n",
              "    <tr>\n",
              "      <th>154</th>\n",
              "      <td>뉴스/정치/사회</td>\n",
              "      <td>YTN news</td>\n",
              "      <td>2,500,000</td>\n",
              "      <td>5,462,390,000</td>\n",
              "      <td>553,462</td>\n",
              "      <td>2500000</td>\n",
              "      <td>553462</td>\n",
              "    </tr>\n",
              "    <tr>\n",
              "      <th>706</th>\n",
              "      <td>뉴스/정치/사회</td>\n",
              "      <td>연합뉴스TV</td>\n",
              "      <td>700,000</td>\n",
              "      <td>918,130,000</td>\n",
              "      <td>362,555</td>\n",
              "      <td>700000</td>\n",
              "      <td>362555</td>\n",
              "    </tr>\n",
              "    <tr>\n",
              "      <th>59</th>\n",
              "      <td>TV/방송</td>\n",
              "      <td>SBS Drama</td>\n",
              "      <td>5,480,000</td>\n",
              "      <td>5,750,870,000</td>\n",
              "      <td>340,878</td>\n",
              "      <td>5480000</td>\n",
              "      <td>340878</td>\n",
              "    </tr>\n",
              "    <tr>\n",
              "      <th>56</th>\n",
              "      <td>TV/방송</td>\n",
              "      <td>SBS Entertainment</td>\n",
              "      <td>5,720,000</td>\n",
              "      <td>6,664,750,000</td>\n",
              "      <td>216,725</td>\n",
              "      <td>5720000</td>\n",
              "      <td>216725</td>\n",
              "    </tr>\n",
              "    <tr>\n",
              "      <th>337</th>\n",
              "      <td>뉴스/정치/사회</td>\n",
              "      <td>KBS News</td>\n",
              "      <td>1,320,000</td>\n",
              "      <td>1,844,530,000</td>\n",
              "      <td>176,159</td>\n",
              "      <td>1320000</td>\n",
              "      <td>176159</td>\n",
              "    </tr>\n",
              "    <tr>\n",
              "      <th>973</th>\n",
              "      <td>뉴스/정치/사회</td>\n",
              "      <td>Arirang News</td>\n",
              "      <td>530,000</td>\n",
              "      <td>237,210,000</td>\n",
              "      <td>123,886</td>\n",
              "      <td>530000</td>\n",
              "      <td>123886</td>\n",
              "    </tr>\n",
              "    <tr>\n",
              "      <th>243</th>\n",
              "      <td>뉴스/정치/사회</td>\n",
              "      <td>JTBC News</td>\n",
              "      <td>1,710,000</td>\n",
              "      <td>2,399,540,000</td>\n",
              "      <td>116,376</td>\n",
              "      <td>1710000</td>\n",
              "      <td>116376</td>\n",
              "    </tr>\n",
              "    <tr>\n",
              "      <th>290</th>\n",
              "      <td>뉴스/정치/사회</td>\n",
              "      <td>MBCNEWS</td>\n",
              "      <td>1,500,000</td>\n",
              "      <td>3,383,580,000</td>\n",
              "      <td>115,414</td>\n",
              "      <td>1500000</td>\n",
              "      <td>115414</td>\n",
              "    </tr>\n",
              "    <tr>\n",
              "      <th>112</th>\n",
              "      <td>TV/방송</td>\n",
              "      <td>KBS Drama</td>\n",
              "      <td>3,470,000</td>\n",
              "      <td>4,261,110,000</td>\n",
              "      <td>114,095</td>\n",
              "      <td>3470000</td>\n",
              "      <td>114095</td>\n",
              "    </tr>\n",
              "    <tr>\n",
              "      <th>230</th>\n",
              "      <td>뉴스/정치/사회</td>\n",
              "      <td>SBS 뉴스</td>\n",
              "      <td>1,780,000</td>\n",
              "      <td>2,672,520,000</td>\n",
              "      <td>111,308</td>\n",
              "      <td>1780000</td>\n",
              "      <td>111308</td>\n",
              "    </tr>\n",
              "  </tbody>\n",
              "</table>\n",
              "</div>"
            ],
            "text/plain": [
              "         카테고리                채널명       구독자수  ...      비디오    구독자수2    비디오2\n",
              "154  뉴스/정치/사회           YTN news  2,500,000  ...  553,462  2500000  553462\n",
              "706  뉴스/정치/사회             연합뉴스TV    700,000  ...  362,555   700000  362555\n",
              "59      TV/방송          SBS Drama  5,480,000  ...  340,878  5480000  340878\n",
              "56      TV/방송  SBS Entertainment  5,720,000  ...  216,725  5720000  216725\n",
              "337  뉴스/정치/사회           KBS News  1,320,000  ...  176,159  1320000  176159\n",
              "973  뉴스/정치/사회       Arirang News    530,000  ...  123,886   530000  123886\n",
              "243  뉴스/정치/사회          JTBC News  1,710,000  ...  116,376  1710000  116376\n",
              "290  뉴스/정치/사회            MBCNEWS  1,500,000  ...  115,414  1500000  115414\n",
              "112     TV/방송          KBS Drama  3,470,000  ...  114,095  3470000  114095\n",
              "230  뉴스/정치/사회             SBS 뉴스  1,780,000  ...  111,308  1780000  111308\n",
              "\n",
              "[10 rows x 7 columns]"
            ]
          },
          "metadata": {},
          "execution_count": 7
        }
      ]
    },
    {
      "cell_type": "code",
      "metadata": {
        "colab": {
          "base_uri": "https://localhost:8080/",
          "height": 396
        },
        "id": "Ut8GiJFwziq7",
        "outputId": "521f21b7-ddef-403a-bdd4-ae8501369674"
      },
      "source": [
        "df2 = df[['채널명', '비디오2']].sort_values(by='비디오2', ascending=False)\n",
        "df2.set_index('채널명', inplace=True)\n",
        "df2.head(20).sort_values(by='비디오2').plot(kind='barh', figsize=(12, 8))\n",
        "plt.title('비디오 TOP 20')\n",
        "plt.grid()\n",
        "plt.show()"
      ],
      "execution_count": null,
      "outputs": [
        {
          "output_type": "display_data",
          "data": {
            "image/png": "[encoded data removed]",
            "text/plain": [
              "<Figure size 864x576 with 1 Axes>"
            ]
          },
          "metadata": {
            "needs_background": "light"
          }
        }
      ]
    },
    {
      "cell_type": "code",
      "metadata": {
        "id": "wMLUuDMP3N34"
      },
      "source": [
        "import seaborn as sns"
      ],
      "execution_count": null,
      "outputs": []
    },
    {
      "cell_type": "code",
      "metadata": {
        "colab": {
          "base_uri": "https://localhost:8080/",
          "height": 294
        },
        "id": "xOxFAcri4N_Y",
        "outputId": "d48af878-779f-44d2-ae6d-a459dc0a1bb6"
      },
      "source": [
        "df2 = df[['채널명', '비디오2']].sort_values(by='비디오2', ascending=False)\n",
        "sns.barplot(y = '채널명', x = '비디오2', data = df2.head(20))\n",
        "plt.title('비디오 TOP 20')\n",
        "plt.grid()\n",
        "plt.show()"
      ],
      "execution_count": null,
      "outputs": [
        {
          "output_type": "display_data",
          "data": {
            "image/png": "[encoded data removed]",
            "text/plain": [
              "<Figure size 432x288 with 1 Axes>"
            ]
          },
          "metadata": {
            "needs_background": "light"
          }
        }
      ]
    },
    {
      "cell_type": "markdown",
      "metadata": {
        "id": "JdRhFf-I9dZC"
      },
      "source": [
        "## 조회수 TOP 20"
      ]
    },
    {
      "cell_type": "code",
      "metadata": {
        "colab": {
          "base_uri": "https://localhost:8080/",
          "height": 663
        },
        "id": "GuhtKQdB9vqQ",
        "outputId": "9306a479-1ae3-4b44-dbe7-3b2a11b86473"
      },
      "source": [
        "df['조회수2'] = df.조회수.apply(str2int)\n",
        "df.head()"
      ],
      "execution_count": 14,
      "outputs": [
        {
          "output_type": "execute_result",
          "data": {
            "text/html": [
              "<div>\n",
              "<style scoped>\n",
              "    .dataframe tbody tr th:only-of-type {\n",
              "        vertical-align: middle;\n",
              "    }\n",
              "\n",
              "    .dataframe tbody tr th {\n",
              "        vertical-align: top;\n",
              "    }\n",
              "\n",
              "    .dataframe thead th {\n",
              "        text-align: right;\n",
              "    }\n",
              "</style>\n",
              "<table border=\"1\" class=\"dataframe\">\n",
              "  <thead>\n",
              "    <tr style=\"text-align: right;\">\n",
              "      <th></th>\n",
              "      <th>카테고리</th>\n",
              "      <th>채널명</th>\n",
              "      <th>구독자수</th>\n",
              "      <th>조회수</th>\n",
              "      <th>비디오</th>\n",
              "      <th>구독자수2</th>\n",
              "      <th>비디오2</th>\n",
              "      <th>조회수2</th>\n",
              "    </tr>\n",
              "  </thead>\n",
              "  <tbody>\n",
              "    <tr>\n",
              "      <th>0</th>\n",
              "      <td>음악/댄스/가수</td>\n",
              "      <td>BLACKPINK</td>\n",
              "      <td>64,000,000</td>\n",
              "      <td>19,003,810,000</td>\n",
              "      <td>371</td>\n",
              "      <td>64000000</td>\n",
              "      <td>371</td>\n",
              "      <td>19003810000</td>\n",
              "    </tr>\n",
              "    <tr>\n",
              "      <th>1</th>\n",
              "      <td>음악/댄스/가수</td>\n",
              "      <td>HYBE LABELS</td>\n",
              "      <td>60,300,000</td>\n",
              "      <td>18,713,050,000</td>\n",
              "      <td>654</td>\n",
              "      <td>60300000</td>\n",
              "      <td>654</td>\n",
              "      <td>18713050000</td>\n",
              "    </tr>\n",
              "    <tr>\n",
              "      <th>2</th>\n",
              "      <td>음악/댄스/가수</td>\n",
              "      <td>BANGTANTV</td>\n",
              "      <td>56,400,000</td>\n",
              "      <td>12,194,960,000</td>\n",
              "      <td>1,579</td>\n",
              "      <td>56400000</td>\n",
              "      <td>1579</td>\n",
              "      <td>12194960000</td>\n",
              "    </tr>\n",
              "    <tr>\n",
              "      <th>3</th>\n",
              "      <td>음악/댄스/가수</td>\n",
              "      <td>SMTOWN</td>\n",
              "      <td>28,500,000</td>\n",
              "      <td>21,870,920,000</td>\n",
              "      <td>3,729</td>\n",
              "      <td>28500000</td>\n",
              "      <td>3729</td>\n",
              "      <td>21870920000</td>\n",
              "    </tr>\n",
              "    <tr>\n",
              "      <th>4</th>\n",
              "      <td>키즈/어린이</td>\n",
              "      <td>Boram Tube Vlog [보람튜브 브이로그]</td>\n",
              "      <td>26,500,000</td>\n",
              "      <td>11,052,880,000</td>\n",
              "      <td>223</td>\n",
              "      <td>26500000</td>\n",
              "      <td>223</td>\n",
              "      <td>11052880000</td>\n",
              "    </tr>\n",
              "  </tbody>\n",
              "</table>\n",
              "</div>"
            ],
            "text/plain": [
              "       카테고리                          채널명  ...  비디오2         조회수2\n",
              "0  음악/댄스/가수                    BLACKPINK  ...   371  19003810000\n",
              "1  음악/댄스/가수                  HYBE LABELS  ...   654  18713050000\n",
              "2  음악/댄스/가수                    BANGTANTV  ...  1579  12194960000\n",
              "3  음악/댄스/가수                       SMTOWN  ...  3729  21870920000\n",
              "4    키즈/어린이  Boram Tube Vlog [보람튜브 브이로그]  ...   223  11052880000\n",
              "\n",
              "[5 rows x 8 columns]"
            ]
          },
          "metadata": {},
          "execution_count": 14
        }
      ]
    },
    {
      "cell_type": "code",
      "metadata": {
        "colab": {
          "base_uri": "https://localhost:8080/",
          "height": 1000
        },
        "id": "hQF7O_t79c-W",
        "outputId": "95adbd4c-6a4a-4d1d-8fc0-8d125a32398b"
      },
      "source": [
        "df.sort_values(by='조회수2', ascending=False).head(10)"
      ],
      "execution_count": 15,
      "outputs": [
        {
          "output_type": "execute_result",
          "data": {
            "text/html": [
              "<div>\n",
              "<style scoped>\n",
              "    .dataframe tbody tr th:only-of-type {\n",
              "        vertical-align: middle;\n",
              "    }\n",
              "\n",
              "    .dataframe tbody tr th {\n",
              "        vertical-align: top;\n",
              "    }\n",
              "\n",
              "    .dataframe thead th {\n",
              "        text-align: right;\n",
              "    }\n",
              "</style>\n",
              "<table border=\"1\" class=\"dataframe\">\n",
              "  <thead>\n",
              "    <tr style=\"text-align: right;\">\n",
              "      <th></th>\n",
              "      <th>카테고리</th>\n",
              "      <th>채널명</th>\n",
              "      <th>구독자수</th>\n",
              "      <th>조회수</th>\n",
              "      <th>비디오</th>\n",
              "      <th>구독자수2</th>\n",
              "      <th>비디오2</th>\n",
              "      <th>조회수2</th>\n",
              "    </tr>\n",
              "  </thead>\n",
              "  <tbody>\n",
              "    <tr>\n",
              "      <th>3</th>\n",
              "      <td>음악/댄스/가수</td>\n",
              "      <td>SMTOWN</td>\n",
              "      <td>28,500,000</td>\n",
              "      <td>21,870,920,000</td>\n",
              "      <td>3,729</td>\n",
              "      <td>28500000</td>\n",
              "      <td>3729</td>\n",
              "      <td>21870920000</td>\n",
              "    </tr>\n",
              "    <tr>\n",
              "      <th>6</th>\n",
              "      <td>음악/댄스/가수</td>\n",
              "      <td>1theK (원더케이)</td>\n",
              "      <td>23,200,000</td>\n",
              "      <td>20,599,350,000</td>\n",
              "      <td>14,983</td>\n",
              "      <td>23200000</td>\n",
              "      <td>14983</td>\n",
              "      <td>20599350000</td>\n",
              "    </tr>\n",
              "    <tr>\n",
              "      <th>0</th>\n",
              "      <td>음악/댄스/가수</td>\n",
              "      <td>BLACKPINK</td>\n",
              "      <td>64,000,000</td>\n",
              "      <td>19,003,810,000</td>\n",
              "      <td>371</td>\n",
              "      <td>64000000</td>\n",
              "      <td>371</td>\n",
              "      <td>19003810000</td>\n",
              "    </tr>\n",
              "    <tr>\n",
              "      <th>1</th>\n",
              "      <td>음악/댄스/가수</td>\n",
              "      <td>HYBE LABELS</td>\n",
              "      <td>60,300,000</td>\n",
              "      <td>18,713,050,000</td>\n",
              "      <td>654</td>\n",
              "      <td>60300000</td>\n",
              "      <td>654</td>\n",
              "      <td>18713050000</td>\n",
              "    </tr>\n",
              "    <tr>\n",
              "      <th>26</th>\n",
              "      <td>뉴스/정치/사회</td>\n",
              "      <td>MBCentertainment</td>\n",
              "      <td>8,380,000</td>\n",
              "      <td>14,317,700,000</td>\n",
              "      <td>85,420</td>\n",
              "      <td>8380000</td>\n",
              "      <td>85420</td>\n",
              "      <td>14317700000</td>\n",
              "    </tr>\n",
              "    <tr>\n",
              "      <th>7</th>\n",
              "      <td>음악/댄스/가수</td>\n",
              "      <td>JYP Entertainment</td>\n",
              "      <td>21,600,000</td>\n",
              "      <td>13,725,340,000</td>\n",
              "      <td>1,327</td>\n",
              "      <td>21600000</td>\n",
              "      <td>1327</td>\n",
              "      <td>13725340000</td>\n",
              "    </tr>\n",
              "    <tr>\n",
              "      <th>9</th>\n",
              "      <td>음악/댄스/가수</td>\n",
              "      <td>Mnet K-POP</td>\n",
              "      <td>18,400,000</td>\n",
              "      <td>12,947,130,000</td>\n",
              "      <td>25,395</td>\n",
              "      <td>18400000</td>\n",
              "      <td>25395</td>\n",
              "      <td>12947130000</td>\n",
              "    </tr>\n",
              "    <tr>\n",
              "      <th>8</th>\n",
              "      <td>미분류</td>\n",
              "      <td>Coldplay</td>\n",
              "      <td>19,300,000</td>\n",
              "      <td>12,771,640,000</td>\n",
              "      <td>279</td>\n",
              "      <td>19300000</td>\n",
              "      <td>279</td>\n",
              "      <td>12771640000</td>\n",
              "    </tr>\n",
              "    <tr>\n",
              "      <th>11</th>\n",
              "      <td>TV/방송</td>\n",
              "      <td>KBS WORLD TV</td>\n",
              "      <td>16,600,000</td>\n",
              "      <td>12,358,210,000</td>\n",
              "      <td>52,362</td>\n",
              "      <td>16600000</td>\n",
              "      <td>52362</td>\n",
              "      <td>12358210000</td>\n",
              "    </tr>\n",
              "    <tr>\n",
              "      <th>2</th>\n",
              "      <td>음악/댄스/가수</td>\n",
              "      <td>BANGTANTV</td>\n",
              "      <td>56,400,000</td>\n",
              "      <td>12,194,960,000</td>\n",
              "      <td>1,579</td>\n",
              "      <td>56400000</td>\n",
              "      <td>1579</td>\n",
              "      <td>12194960000</td>\n",
              "    </tr>\n",
              "  </tbody>\n",
              "</table>\n",
              "</div>"
            ],
            "text/plain": [
              "        카테고리                채널명        구독자수  ...     구독자수2   비디오2         조회수2\n",
              "3   음악/댄스/가수             SMTOWN  28,500,000  ...  28500000   3729  21870920000\n",
              "6   음악/댄스/가수       1theK (원더케이)  23,200,000  ...  23200000  14983  20599350000\n",
              "0   음악/댄스/가수          BLACKPINK  64,000,000  ...  64000000    371  19003810000\n",
              "1   음악/댄스/가수        HYBE LABELS  60,300,000  ...  60300000    654  18713050000\n",
              "26  뉴스/정치/사회   MBCentertainment   8,380,000  ...   8380000  85420  14317700000\n",
              "7   음악/댄스/가수  JYP Entertainment  21,600,000  ...  21600000   1327  13725340000\n",
              "9   음악/댄스/가수         Mnet K-POP  18,400,000  ...  18400000  25395  12947130000\n",
              "8        미분류           Coldplay  19,300,000  ...  19300000    279  12771640000\n",
              "11     TV/방송       KBS WORLD TV  16,600,000  ...  16600000  52362  12358210000\n",
              "2   음악/댄스/가수          BANGTANTV  56,400,000  ...  56400000   1579  12194960000\n",
              "\n",
              "[10 rows x 8 columns]"
            ]
          },
          "metadata": {},
          "execution_count": 15
        }
      ]
    },
    {
      "cell_type": "code",
      "metadata": {
        "colab": {
          "base_uri": "https://localhost:8080/",
          "height": 374
        },
        "id": "Qji7t_F59-EY",
        "outputId": "bfe00d7a-72a1-4986-c93a-af4e971d1291"
      },
      "source": [
        "df2 = df[['채널명', '조회수2']].sort_values(by='조회수2', ascending=False)\n",
        "df2.set_index('채널명', inplace=True)\n",
        "df2.head(20).sort_values(by='조회수2').plot(kind='barh', figsize=(12, 8))\n",
        "plt.title('조회수 TOP 20')\n",
        "plt.grid()\n",
        "plt.show()"
      ],
      "execution_count": 16,
      "outputs": [
        {
          "output_type": "display_data",
          "data": {
            "image/png": "[encoded data removed]",
            "text/plain": [
              "<Figure size 864x576 with 1 Axes>"
            ]
          },
          "metadata": {
            "needs_background": "light"
          }
        }
      ]
    },
    {
      "cell_type": "code",
      "metadata": {
        "colab": {
          "base_uri": "https://localhost:8080/",
          "height": 294
        },
        "id": "cY0kQwmH-LYf",
        "outputId": "c3af5476-3ff7-4201-bcaf-fc7e6cd07132"
      },
      "source": [
        "df2 = df[['채널명', '조회수2']].sort_values(by='조회수2', ascending=False)\n",
        "sns.barplot(y = '채널명', x = '조회수2', data = df2.head(20))\n",
        "plt.title('조회수 TOP 20')\n",
        "plt.grid()\n",
        "plt.show()"
      ],
      "execution_count": 17,
      "outputs": [
        {
          "output_type": "display_data",
          "data": {
            "image/png": "[encoded data removed]",
            "text/plain": [
              "<Figure size 432x288 with 1 Axes>"
            ]
          },
          "metadata": {
            "needs_background": "light"
          }
        }
      ]
    },
    {
      "cell_type": "markdown",
      "metadata": {
        "id": "K1ip_2Q_-wpn"
      },
      "source": [
        "## 카테고리별 채널수 분포"
      ]
    },
    {
      "cell_type": "code",
      "metadata": {
        "colab": {
          "base_uri": "https://localhost:8080/"
        },
        "id": "AWg7282G-2CV",
        "outputId": "3f1d9c73-8d32-49d6-cdda-cf5e94539065"
      },
      "source": [
        "df.카테고리.value_counts()"
      ],
      "execution_count": 18,
      "outputs": [
        {
          "output_type": "execute_result",
          "data": {
            "text/plain": [
              "음악/댄스/가수     171\n",
              "TV/방송        146\n",
              "미분류          114\n",
              "키즈/어린이        88\n",
              "음식/요리/레시피     85\n",
              "게임            74\n",
              "BJ/인물/연예인     71\n",
              "뉴스/정치/사회      53\n",
              "패션/미용         44\n",
              "취미/라이프        38\n",
              "영화/만화/애니      33\n",
              "교육/강의         22\n",
              "애완/반려동물       19\n",
              "주식/경제/부동산      8\n",
              "스포츠/운동         8\n",
              "IT/기술/컴퓨터      8\n",
              "해외             6\n",
              "회사/오피셜         5\n",
              "국내/해외/여행       4\n",
              "자동차            2\n",
              "취미             1\n",
              "Name: 카테고리, dtype: int64"
            ]
          },
          "metadata": {},
          "execution_count": 18
        }
      ]
    },
    {
      "cell_type": "code",
      "metadata": {
        "colab": {
          "base_uri": "https://localhost:8080/",
          "height": 700
        },
        "id": "l2MpgITo_WHO",
        "outputId": "055e239c-e1ae-4134-ebcb-fc3c09bdb482"
      },
      "source": [
        "df.카테고리.value_counts().to_frame()"
      ],
      "execution_count": 19,
      "outputs": [
        {
          "output_type": "execute_result",
          "data": {
            "text/html": [
              "<div>\n",
              "<style scoped>\n",
              "    .dataframe tbody tr th:only-of-type {\n",
              "        vertical-align: middle;\n",
              "    }\n",
              "\n",
              "    .dataframe tbody tr th {\n",
              "        vertical-align: top;\n",
              "    }\n",
              "\n",
              "    .dataframe thead th {\n",
              "        text-align: right;\n",
              "    }\n",
              "</style>\n",
              "<table border=\"1\" class=\"dataframe\">\n",
              "  <thead>\n",
              "    <tr style=\"text-align: right;\">\n",
              "      <th></th>\n",
              "      <th>카테고리</th>\n",
              "    </tr>\n",
              "  </thead>\n",
              "  <tbody>\n",
              "    <tr>\n",
              "      <th>음악/댄스/가수</th>\n",
              "      <td>171</td>\n",
              "    </tr>\n",
              "    <tr>\n",
              "      <th>TV/방송</th>\n",
              "      <td>146</td>\n",
              "    </tr>\n",
              "    <tr>\n",
              "      <th>미분류</th>\n",
              "      <td>114</td>\n",
              "    </tr>\n",
              "    <tr>\n",
              "      <th>키즈/어린이</th>\n",
              "      <td>88</td>\n",
              "    </tr>\n",
              "    <tr>\n",
              "      <th>음식/요리/레시피</th>\n",
              "      <td>85</td>\n",
              "    </tr>\n",
              "    <tr>\n",
              "      <th>게임</th>\n",
              "      <td>74</td>\n",
              "    </tr>\n",
              "    <tr>\n",
              "      <th>BJ/인물/연예인</th>\n",
              "      <td>71</td>\n",
              "    </tr>\n",
              "    <tr>\n",
              "      <th>뉴스/정치/사회</th>\n",
              "      <td>53</td>\n",
              "    </tr>\n",
              "    <tr>\n",
              "      <th>패션/미용</th>\n",
              "      <td>44</td>\n",
              "    </tr>\n",
              "    <tr>\n",
              "      <th>취미/라이프</th>\n",
              "      <td>38</td>\n",
              "    </tr>\n",
              "    <tr>\n",
              "      <th>영화/만화/애니</th>\n",
              "      <td>33</td>\n",
              "    </tr>\n",
              "    <tr>\n",
              "      <th>교육/강의</th>\n",
              "      <td>22</td>\n",
              "    </tr>\n",
              "    <tr>\n",
              "      <th>애완/반려동물</th>\n",
              "      <td>19</td>\n",
              "    </tr>\n",
              "    <tr>\n",
              "      <th>주식/경제/부동산</th>\n",
              "      <td>8</td>\n",
              "    </tr>\n",
              "    <tr>\n",
              "      <th>스포츠/운동</th>\n",
              "      <td>8</td>\n",
              "    </tr>\n",
              "    <tr>\n",
              "      <th>IT/기술/컴퓨터</th>\n",
              "      <td>8</td>\n",
              "    </tr>\n",
              "    <tr>\n",
              "      <th>해외</th>\n",
              "      <td>6</td>\n",
              "    </tr>\n",
              "    <tr>\n",
              "      <th>회사/오피셜</th>\n",
              "      <td>5</td>\n",
              "    </tr>\n",
              "    <tr>\n",
              "      <th>국내/해외/여행</th>\n",
              "      <td>4</td>\n",
              "    </tr>\n",
              "    <tr>\n",
              "      <th>자동차</th>\n",
              "      <td>2</td>\n",
              "    </tr>\n",
              "    <tr>\n",
              "      <th>취미</th>\n",
              "      <td>1</td>\n",
              "    </tr>\n",
              "  </tbody>\n",
              "</table>\n",
              "</div>"
            ],
            "text/plain": [
              "           카테고리\n",
              "음악/댄스/가수    171\n",
              "TV/방송       146\n",
              "미분류         114\n",
              "키즈/어린이       88\n",
              "음식/요리/레시피    85\n",
              "게임           74\n",
              "BJ/인물/연예인    71\n",
              "뉴스/정치/사회     53\n",
              "패션/미용        44\n",
              "취미/라이프       38\n",
              "영화/만화/애니     33\n",
              "교육/강의        22\n",
              "애완/반려동물      19\n",
              "주식/경제/부동산     8\n",
              "스포츠/운동        8\n",
              "IT/기술/컴퓨터     8\n",
              "해외            6\n",
              "회사/오피셜        5\n",
              "국내/해외/여행      4\n",
              "자동차           2\n",
              "취미            1"
            ]
          },
          "metadata": {},
          "execution_count": 19
        }
      ]
    },
    {
      "cell_type": "code",
      "metadata": {
        "colab": {
          "base_uri": "https://localhost:8080/",
          "height": 481
        },
        "id": "Ny7Tcc1H_8an",
        "outputId": "abb8f9f1-df00-44c6-a1a6-4e122c00f1fc"
      },
      "source": [
        "df3 = df['카테고리'].value_counts().to_frame()\n",
        "plt.figure(figsize=(12,8))\n",
        "plt.pie('카테고리', labels=df3.index, data=df3, autopct='%.1f%%')\n",
        "plt.title('카테고리별 채널 수')\n",
        "plt.show()"
      ],
      "execution_count": 27,
      "outputs": [
        {
          "output_type": "display_data",
          "data": {
            "image/png": "[encoded data removed]",
            "text/plain": [
              "<Figure size 864x576 with 1 Axes>"
            ]
          },
          "metadata": {}
        }
      ]
    },
    {
      "cell_type": "markdown",
      "metadata": {
        "id": "cMd7R-MSCfka"
      },
      "source": [
        "## 카테고리별 구독자수 합계"
      ]
    },
    {
      "cell_type": "code",
      "metadata": {
        "colab": {
          "base_uri": "https://localhost:8080/",
          "height": 731
        },
        "id": "j4YgOYHxBLW4",
        "outputId": "8603c99c-d9ae-4806-ee94-839dc5873c26"
      },
      "source": [
        "df4 = df[['카테고리', '구독자수2']].groupby('카테고리').agg(['count', 'sum'])\n",
        "df4.columns = ['채널수', '구독자수_총합']\n",
        "df4.sort_values(by = '구독자수_총합', ascending=False, inplace=True)\n",
        "df4"
      ],
      "execution_count": 26,
      "outputs": [
        {
          "output_type": "execute_result",
          "data": {
            "text/html": [
              "<div>\n",
              "<style scoped>\n",
              "    .dataframe tbody tr th:only-of-type {\n",
              "        vertical-align: middle;\n",
              "    }\n",
              "\n",
              "    .dataframe tbody tr th {\n",
              "        vertical-align: top;\n",
              "    }\n",
              "\n",
              "    .dataframe thead th {\n",
              "        text-align: right;\n",
              "    }\n",
              "</style>\n",
              "<table border=\"1\" class=\"dataframe\">\n",
              "  <thead>\n",
              "    <tr style=\"text-align: right;\">\n",
              "      <th></th>\n",
              "      <th>채널수</th>\n",
              "      <th>구독자수_총합</th>\n",
              "    </tr>\n",
              "    <tr>\n",
              "      <th>카테고리</th>\n",
              "      <th></th>\n",
              "      <th></th>\n",
              "    </tr>\n",
              "  </thead>\n",
              "  <tbody>\n",
              "    <tr>\n",
              "      <th>음악/댄스/가수</th>\n",
              "      <td>171</td>\n",
              "      <td>674180000</td>\n",
              "    </tr>\n",
              "    <tr>\n",
              "      <th>키즈/어린이</th>\n",
              "      <td>88</td>\n",
              "      <td>257740000</td>\n",
              "    </tr>\n",
              "    <tr>\n",
              "      <th>TV/방송</th>\n",
              "      <td>146</td>\n",
              "      <td>229720000</td>\n",
              "    </tr>\n",
              "    <tr>\n",
              "      <th>음식/요리/레시피</th>\n",
              "      <td>85</td>\n",
              "      <td>180570000</td>\n",
              "    </tr>\n",
              "    <tr>\n",
              "      <th>미분류</th>\n",
              "      <td>114</td>\n",
              "      <td>143340000</td>\n",
              "    </tr>\n",
              "    <tr>\n",
              "      <th>BJ/인물/연예인</th>\n",
              "      <td>71</td>\n",
              "      <td>97560000</td>\n",
              "    </tr>\n",
              "    <tr>\n",
              "      <th>뉴스/정치/사회</th>\n",
              "      <td>53</td>\n",
              "      <td>71020000</td>\n",
              "    </tr>\n",
              "    <tr>\n",
              "      <th>게임</th>\n",
              "      <td>74</td>\n",
              "      <td>67170000</td>\n",
              "    </tr>\n",
              "    <tr>\n",
              "      <th>취미/라이프</th>\n",
              "      <td>38</td>\n",
              "      <td>47890000</td>\n",
              "    </tr>\n",
              "    <tr>\n",
              "      <th>패션/미용</th>\n",
              "      <td>44</td>\n",
              "      <td>44370000</td>\n",
              "    </tr>\n",
              "    <tr>\n",
              "      <th>영화/만화/애니</th>\n",
              "      <td>33</td>\n",
              "      <td>34680000</td>\n",
              "    </tr>\n",
              "    <tr>\n",
              "      <th>애완/반려동물</th>\n",
              "      <td>19</td>\n",
              "      <td>26890000</td>\n",
              "    </tr>\n",
              "    <tr>\n",
              "      <th>교육/강의</th>\n",
              "      <td>22</td>\n",
              "      <td>23420000</td>\n",
              "    </tr>\n",
              "    <tr>\n",
              "      <th>해외</th>\n",
              "      <td>6</td>\n",
              "      <td>12130000</td>\n",
              "    </tr>\n",
              "    <tr>\n",
              "      <th>회사/오피셜</th>\n",
              "      <td>5</td>\n",
              "      <td>11740000</td>\n",
              "    </tr>\n",
              "    <tr>\n",
              "      <th>스포츠/운동</th>\n",
              "      <td>8</td>\n",
              "      <td>10840000</td>\n",
              "    </tr>\n",
              "    <tr>\n",
              "      <th>IT/기술/컴퓨터</th>\n",
              "      <td>8</td>\n",
              "      <td>7960000</td>\n",
              "    </tr>\n",
              "    <tr>\n",
              "      <th>주식/경제/부동산</th>\n",
              "      <td>8</td>\n",
              "      <td>7850000</td>\n",
              "    </tr>\n",
              "    <tr>\n",
              "      <th>국내/해외/여행</th>\n",
              "      <td>4</td>\n",
              "      <td>3440000</td>\n",
              "    </tr>\n",
              "    <tr>\n",
              "      <th>자동차</th>\n",
              "      <td>2</td>\n",
              "      <td>1240000</td>\n",
              "    </tr>\n",
              "    <tr>\n",
              "      <th>취미</th>\n",
              "      <td>1</td>\n",
              "      <td>600000</td>\n",
              "    </tr>\n",
              "  </tbody>\n",
              "</table>\n",
              "</div>"
            ],
            "text/plain": [
              "           채널수    구독자수_총합\n",
              "카테고리                     \n",
              "음악/댄스/가수   171  674180000\n",
              "키즈/어린이      88  257740000\n",
              "TV/방송      146  229720000\n",
              "음식/요리/레시피   85  180570000\n",
              "미분류        114  143340000\n",
              "BJ/인물/연예인   71   97560000\n",
              "뉴스/정치/사회    53   71020000\n",
              "게임          74   67170000\n",
              "취미/라이프      38   47890000\n",
              "패션/미용       44   44370000\n",
              "영화/만화/애니    33   34680000\n",
              "애완/반려동물     19   26890000\n",
              "교육/강의       22   23420000\n",
              "해외           6   12130000\n",
              "회사/오피셜       5   11740000\n",
              "스포츠/운동       8   10840000\n",
              "IT/기술/컴퓨터    8    7960000\n",
              "주식/경제/부동산    8    7850000\n",
              "국내/해외/여행     4    3440000\n",
              "자동차          2    1240000\n",
              "취미           1     600000"
            ]
          },
          "metadata": {},
          "execution_count": 26
        }
      ]
    },
    {
      "cell_type": "code",
      "metadata": {
        "colab": {
          "base_uri": "https://localhost:8080/",
          "height": 418
        },
        "id": "Kn-LxfomC_O3",
        "outputId": "c342a6db-4a09-40fc-eced-d8e43855af09"
      },
      "source": [
        "plt.figure(figsize=(12,8))\n",
        "sns.barplot(x='구독자수_총합', y=df4.index, data=df4)\n",
        "plt.title('카테고리별 구독자수 합계')\n",
        "plt.grid()\n",
        "plt.show()"
      ],
      "execution_count": 30,
      "outputs": [
        {
          "output_type": "display_data",
          "data": {
            "image/png": "[encoded data removed]",
            "text/plain": [
              "<Figure size 864x576 with 1 Axes>"
            ]
          },
          "metadata": {
            "needs_background": "light"
          }
        }
      ]
    },
    {
      "cell_type": "code",
      "metadata": {
        "colab": {
          "base_uri": "https://localhost:8080/",
          "height": 418
        },
        "id": "7mCnDgCjIifr",
        "outputId": "af0a882c-4931-40ca-df1a-5fd58850d251"
      },
      "source": [
        "df4 = df.groupby('카테고리').sum().sort_values(by='구독자수2',ascending=False)\n",
        "plt.figure(figsize=(12,8))\n",
        "sns.barplot(x='구독자수2', y=df4.index, data=df4)\n",
        "plt.xlabel('구독자 합계')\n",
        "plt.title('카테고리별 구독자 수')\n",
        "plt.grid()\n",
        "plt.show()"
      ],
      "execution_count": 32,
      "outputs": [
        {
          "output_type": "display_data",
          "data": {
            "image/png": "[encoded data removed]",
            "text/plain": [
              "<Figure size 864x576 with 1 Axes>"
            ]
          },
          "metadata": {
            "needs_background": "light"
          }
        }
      ]
    }
  ]
}