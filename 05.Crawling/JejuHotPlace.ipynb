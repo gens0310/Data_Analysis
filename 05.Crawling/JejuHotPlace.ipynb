{
 "cells": [
  {
   "cell_type": "markdown",
   "source": [
    "# Instagram Crawling - Jeju Hot Place"
   ],
   "metadata": {}
  },
  {
   "cell_type": "code",
   "execution_count": 3,
   "source": [
    "from selenium import webdriver\r\n",
    "from bs4 import BeautifulSoup\r\n",
    "import time\r\n",
    "import pandas as pd"
   ],
   "outputs": [],
   "metadata": {}
  },
  {
   "cell_type": "code",
   "execution_count": 4,
   "source": [
    "chromedriver = '/Users/nick/Downloads/chromedriver.exe'\r\n",
    "driver = webdriver.Chrome(chromedriver)"
   ],
   "outputs": [],
   "metadata": {}
  },
  {
   "cell_type": "code",
   "execution_count": 5,
   "source": [
    "insta_url = 'https://www.instagram.com'\r\n",
    "driver.get(insta_url)\r\n",
    "time.sleep(4)"
   ],
   "outputs": [],
   "metadata": {}
  },
  {
   "cell_type": "code",
   "execution_count": 6,
   "source": [
    "with open('password.txt') as f:\r\n",
    "    password = f.read(9)"
   ],
   "outputs": [],
   "metadata": {}
  },
  {
   "cell_type": "code",
   "execution_count": 7,
   "source": [
    "len(password)"
   ],
   "outputs": [
    {
     "output_type": "execute_result",
     "data": {
      "text/plain": [
       "9"
      ]
     },
     "metadata": {},
     "execution_count": 7
    }
   ],
   "metadata": {}
  },
  {
   "cell_type": "code",
   "execution_count": 8,
   "source": [
    "email = 'lumenverum89@gmail.com'\r\n",
    "input_email = driver.find_element_by_css_selector('._2hvTZ.pexuQ.zyHYP')\r\n",
    "input_email.clear()\r\n",
    "input_email.send_keys(email)"
   ],
   "outputs": [],
   "metadata": {}
  },
  {
   "cell_type": "code",
   "execution_count": 9,
   "source": [
    "input_pwd = driver.find_element_by_name('password')\r\n",
    "input_pwd.clear()\r\n",
    "input_pwd.send_keys(password)\r\n",
    "input_pwd.submit()\r\n",
    "time.sleep(4)"
   ],
   "outputs": [],
   "metadata": {}
  },
  {
   "cell_type": "markdown",
   "source": [
    "## 문자인증은 수동으로 했음"
   ],
   "metadata": {}
  },
  {
   "cell_type": "code",
   "execution_count": 10,
   "source": [
    "try:\r\n",
    "    driver.find_element_by_css_selector('.sqdOP.yWX7d.y3zKF').click()\r\n",
    "    time.sleep(4)\r\n",
    "except:\r\n",
    "    pass"
   ],
   "outputs": [],
   "metadata": {}
  },
  {
   "cell_type": "code",
   "execution_count": 11,
   "source": [
    "try:\r\n",
    "    driver.find_element_by_css_selector('.aOOlW.HoLwm').click()\r\n",
    "    time.sleep(4)\r\n",
    "except:\r\n",
    "    pass"
   ],
   "outputs": [],
   "metadata": {}
  },
  {
   "cell_type": "markdown",
   "source": [
    "## 제주도 맛집으로 검색"
   ],
   "metadata": {}
  },
  {
   "cell_type": "code",
   "execution_count": null,
   "source": [
    "from urllib.parse import quote\r\n",
    "keyword = '제주도맛집'\r\n",
    "search_url ='https://www.instagram.com/explore/tags/'\r\n",
    "url = f'{search_url}{quote(keyword)}'"
   ],
   "outputs": [],
   "metadata": {}
  },
  {
   "cell_type": "code",
   "execution_count": null,
   "source": [
    "driver.get(url)\r\n",
    "time.sleep(8)"
   ],
   "outputs": [],
   "metadata": {}
  },
  {
   "cell_type": "markdown",
   "source": [
    "## 첫번째 게시글 열기"
   ],
   "metadata": {}
  },
  {
   "cell_type": "code",
   "execution_count": null,
   "source": [
    "driver.find_element_by_css_selector('div._9AhH0').click()\r\n",
    "time.sleep(4)"
   ],
   "outputs": [],
   "metadata": {}
  },
  {
   "cell_type": "markdown",
   "source": [
    "## 게시글 정보 가져오기"
   ],
   "metadata": {}
  },
  {
   "cell_type": "markdown",
   "source": [
    "### 본문 내용 가져오기"
   ],
   "metadata": {}
  },
  {
   "cell_type": "code",
   "execution_count": null,
   "source": [
    "html = driver.page_source\r\n",
    "soup = BeautifulSoup(html, 'html.parser')"
   ],
   "outputs": [],
   "metadata": {}
  },
  {
   "cell_type": "code",
   "execution_count": null,
   "source": [
    "import unicodedata\r\n",
    "try:\r\n",
    "    content = soup.select_one('div.C4VMK > span').text\r\n",
    "    content = unicodedata.normalize('NFC', content)\r\n",
    "except:\r\n",
    "    content = ' '\r\n",
    "content"
   ],
   "outputs": [
    {
     "output_type": "execute_result",
     "data": {
      "text/plain": [
       "'.< 제주해물라면 맛집모음! > 일단저장@ 해물 아낌없이 주는 해물라면 맛집!바다뷰보며 먹는 해물라면은 말이 필요없음!저장해뒀다가 다음 여행시 참고하기!함께 하고픈 친구소환@..#제주맛집 #제주도맛집 #제주시맛집 #애월맛집 #중문맛집 #제주공항맛집 #서귀포맛집 #산방산맛집 #신제주맛집 #제주시청맛집 #제주애월맛집 #월정리맛집 #제주여행 #제주핫플'"
      ]
     },
     "metadata": {},
     "execution_count": 17
    }
   ],
   "metadata": {}
  },
  {
   "cell_type": "markdown",
   "source": [
    "### 본문 내용에서 해시태그 가져오기"
   ],
   "metadata": {}
  },
  {
   "cell_type": "code",
   "execution_count": null,
   "source": [
    "# '#[^\\s#,\\\\]+'\r\n",
    "import re\r\n",
    "tags = re.findall(r'#[^\\s#,\\\\]+', content)\r\n",
    "tags"
   ],
   "outputs": [
    {
     "output_type": "execute_result",
     "data": {
      "text/plain": [
       "['#제주맛집',\n",
       " '#제주도맛집',\n",
       " '#제주시맛집',\n",
       " '#애월맛집',\n",
       " '#중문맛집',\n",
       " '#제주공항맛집',\n",
       " '#서귀포맛집',\n",
       " '#산방산맛집',\n",
       " '#신제주맛집',\n",
       " '#제주시청맛집',\n",
       " '#제주애월맛집',\n",
       " '#월정리맛집',\n",
       " '#제주여행',\n",
       " '#제주핫플']"
      ]
     },
     "metadata": {},
     "execution_count": 18
    }
   ],
   "metadata": {}
  },
  {
   "cell_type": "markdown",
   "source": [
    "### 작성일자 정보 가져오기"
   ],
   "metadata": {}
  },
  {
   "cell_type": "code",
   "execution_count": null,
   "source": [
    "date = soup.select_one('time.FH9sR.Nzb55')['datetime']\r\n",
    "date"
   ],
   "outputs": [
    {
     "output_type": "execute_result",
     "data": {
      "text/plain": [
       "'2021-08-18T02:00:32.000Z'"
      ]
     },
     "metadata": {},
     "execution_count": 19
    }
   ],
   "metadata": {}
  },
  {
   "cell_type": "code",
   "execution_count": null,
   "source": [
    "date = soup.select_one('time.FH9sR.Nzb55')['datetime'][:10]\r\n",
    "date"
   ],
   "outputs": [
    {
     "output_type": "execute_result",
     "data": {
      "text/plain": [
       "'2021-08-18'"
      ]
     },
     "metadata": {},
     "execution_count": 20
    }
   ],
   "metadata": {}
  },
  {
   "cell_type": "markdown",
   "source": [
    "### 좋아요 수 가져오기"
   ],
   "metadata": {}
  },
  {
   "cell_type": "code",
   "execution_count": null,
   "source": [
    "try:\r\n",
    "    like = soup.select_one('div.Nm9Fw > a.zV_Nj').text[4:-1]\r\n",
    "except:\r\n",
    "    like = 0\r\n",
    "like"
   ],
   "outputs": [
    {
     "output_type": "execute_result",
     "data": {
      "text/plain": [
       "'1,296'"
      ]
     },
     "metadata": {},
     "execution_count": 25
    }
   ],
   "metadata": {}
  },
  {
   "cell_type": "markdown",
   "source": [
    "### 위치 정보 가져오기"
   ],
   "metadata": {}
  },
  {
   "cell_type": "code",
   "execution_count": null,
   "source": [
    "try:\r\n",
    "    place = soup.select('div.M30cS')[0].text\r\n",
    "    place = unicodedata.normalize('NFC', place)\r\n",
    "except:\r\n",
    "    place = ' '\r\n",
    "place"
   ],
   "outputs": [
    {
     "output_type": "execute_result",
     "data": {
      "text/plain": [
       "''"
      ]
     },
     "metadata": {},
     "execution_count": 22
    }
   ],
   "metadata": {}
  },
  {
   "cell_type": "code",
   "execution_count": null,
   "source": [
    "row = [content, date, like, place, tags]\r\n",
    "row"
   ],
   "outputs": [
    {
     "output_type": "execute_result",
     "data": {
      "text/plain": [
       "['.< 제주해물라면 맛집모음! > 일단저장@ 해물 아낌없이 주는 해물라면 맛집!바다뷰보며 먹는 해물라면은 말이 필요없음!저장해뒀다가 다음 여행시 참고하기!함께 하고픈 친구소환@..#제주맛집 #제주도맛집 #제주시맛집 #애월맛집 #중문맛집 #제주공항맛집 #서귀포맛집 #산방산맛집 #신제주맛집 #제주시청맛집 #제주애월맛집 #월정리맛집 #제주여행 #제주핫플',\n",
       " '2021-08-18',\n",
       " '1,296',\n",
       " '',\n",
       " ['#제주맛집',\n",
       "  '#제주도맛집',\n",
       "  '#제주시맛집',\n",
       "  '#애월맛집',\n",
       "  '#중문맛집',\n",
       "  '#제주공항맛집',\n",
       "  '#서귀포맛집',\n",
       "  '#산방산맛집',\n",
       "  '#신제주맛집',\n",
       "  '#제주시청맛집',\n",
       "  '#제주애월맛집',\n",
       "  '#월정리맛집',\n",
       "  '#제주여행',\n",
       "  '#제주핫플']]"
      ]
     },
     "metadata": {},
     "execution_count": 26
    }
   ],
   "metadata": {}
  },
  {
   "cell_type": "markdown",
   "source": [
    "### 다음 게시글로 이동"
   ],
   "metadata": {}
  },
  {
   "cell_type": "code",
   "execution_count": null,
   "source": [
    "driver.find_element_by_css_selector('a._65Bje.coreSpriteRightPaginationArrow').click()\r\n",
    "time.sleep(4)"
   ],
   "outputs": [],
   "metadata": {}
  },
  {
   "cell_type": "markdown",
   "source": [
    "### 팝업 화면을 종료"
   ],
   "metadata": {}
  },
  {
   "cell_type": "code",
   "execution_count": null,
   "source": [
    "driver.find_element_by_xpath('/html/body/div[6]/div[3]/button').click()"
   ],
   "outputs": [],
   "metadata": {}
  },
  {
   "cell_type": "markdown",
   "source": [
    "### 여러개의 게시글 가져오기"
   ],
   "metadata": {}
  },
  {
   "cell_type": "code",
   "execution_count": 11,
   "source": [
    "from tqdm.notebook import tqdm"
   ],
   "outputs": [],
   "metadata": {}
  },
  {
   "cell_type": "code",
   "execution_count": null,
   "source": [
    "keyword = '제주도맛집'\r\n",
    "search_url ='https://www.instagram.com/explore/tags/'\r\n",
    "url = f'{search_url}{quote(keyword)}'\r\n",
    "driver.get(url)\r\n",
    "time.sleep(8)\r\n",
    "driver.find_element_by_css_selector('div._9AhH0').click()\r\n",
    "time.sleep(4)"
   ],
   "outputs": [],
   "metadata": {}
  },
  {
   "cell_type": "code",
   "execution_count": null,
   "source": [
    "results = []\r\n",
    "for i in tqdm(range(100)):\r\n",
    "    print(i, end=' ')\r\n",
    "    html = driver.page_source\r\n",
    "    soup = BeautifulSoup(html, 'html.parser')\r\n",
    "    try:\r\n",
    "        content = soup.select_one('div.C4VMK > span').text\r\n",
    "        content = unicodedata.normalize('NFC', content)\r\n",
    "    except:\r\n",
    "        content = ' '\r\n",
    "    tags = re.findall(r'#[^\\s#,\\\\]+', content)\r\n",
    "    soup.select_one('time.FH9sR.Nzb55')['datetime'][:10]\r\n",
    "    try:\r\n",
    "        like = soup.select_one('div.Nm9Fw').text[4:-1]\r\n",
    "    except:\r\n",
    "        like = 0\r\n",
    "    try:\r\n",
    "        place = soup.select('div.M30cS')[0].text\r\n",
    "        place = unicodedata.normalize('NFC', place)\r\n",
    "    except:\r\n",
    "        place = ' '\r\n",
    "    row = [content, date, like, place, tags]\r\n",
    "    results.append(row)\r\n",
    "    driver.find_element_by_css_selector('a._65Bje.coreSpriteRightPaginationArrow').click()\r\n",
    "    time.sleep(4)"
   ],
   "outputs": [
    {
     "output_type": "display_data",
     "data": {
      "text/plain": [
       "  0%|          | 0/100 [00:00<?, ?it/s]"
      ],
      "application/vnd.jupyter.widget-view+json": {
       "version_major": 2,
       "version_minor": 0,
       "model_id": "65be9d28d8e44c9a8c2b62dc3169c6f3"
      }
     },
     "metadata": {}
    },
    {
     "output_type": "stream",
     "name": "stdout",
     "text": [
      "0 1 2 3 4 5 6 7 8 9 10 11 12 13 14 15 16 17 18 19 20 21 22 23 24 25 26 27 28 29 30 31 32 33 34 35 36 37 38 39 40 41 42 43 44 45 46 47 48 49 50 51 52 53 54 55 56 57 58 59 60 61 62 63 64 65 66 67 68 69 70 71 72 73 74 75 76 77 78 79 80 81 82 83 84 85 86 87 88 89 90 91 92 93 94 95 96 97 98 99 "
     ]
    }
   ],
   "metadata": {}
  },
  {
   "cell_type": "code",
   "execution_count": null,
   "source": [
    "df = pd.DataFrame(results, columns=['content', 'date', 'like', 'place', 'tags'])\r\n",
    "df.head()"
   ],
   "outputs": [
    {
     "output_type": "execute_result",
     "data": {
      "text/plain": [
       "                                             content        date like place  \\\n",
       "0  (협찬)애월바다와 선셋🌅감성까지 더 한스페셜 카레맛집!😋다양한 카레와 토핑들로특별함...  2021-08-18    0         \n",
       "1  협찬제주애월맛집 \"랍스터빈\"주소 : 제주시 애월읍 애월해안로 752전화 : 064-...  2021-08-18    0         \n",
       "2  협찬제주썬셋맛집 \"랍스터빈\"주소 : 제주시 애월읍 애월해안로 752전화 : 064-...  2021-08-18    0         \n",
       "3  <광고>노을 지는거 보면서 식사와 술한잔 하기에너무 좋은 #코시롱✔제주 제주시 애월...  2021-08-18    0         \n",
       "4  협찬제주애월 썬셋맛집 \"랍스터빈\"주소 : 제주시 애월읍 애월해안로 752전화 : 0...  2021-08-18    0         \n",
       "\n",
       "                                                tags  \n",
       "0  [#사이카레@saicurry_aewolOPEN, #사이카레, #구엄리맛집, #애월맛...  \n",
       "1  [#애월맛집, #애월카페, #애월읍맛집, #제주애월맛집, #제주도맛집, #제주맛집,...  \n",
       "2  [#애월맛집, #애월카페, #애월읍맛집, #제주애월맛집, #제주도맛집, #제주맛집,...  \n",
       "3  [#코시롱✔제주, #애월맛집, #애월읍맛집, #애월맛집추천, #애월흑돼지맛집, #제...  \n",
       "4  [#애월맛집, #애월카페, #애월읍맛집, #제주애월맛집, #제주도맛집, #제주맛집,...  "
      ],
      "text/html": [
       "<div>\n",
       "<style scoped>\n",
       "    .dataframe tbody tr th:only-of-type {\n",
       "        vertical-align: middle;\n",
       "    }\n",
       "\n",
       "    .dataframe tbody tr th {\n",
       "        vertical-align: top;\n",
       "    }\n",
       "\n",
       "    .dataframe thead th {\n",
       "        text-align: right;\n",
       "    }\n",
       "</style>\n",
       "<table border=\"1\" class=\"dataframe\">\n",
       "  <thead>\n",
       "    <tr style=\"text-align: right;\">\n",
       "      <th></th>\n",
       "      <th>content</th>\n",
       "      <th>date</th>\n",
       "      <th>like</th>\n",
       "      <th>place</th>\n",
       "      <th>tags</th>\n",
       "    </tr>\n",
       "  </thead>\n",
       "  <tbody>\n",
       "    <tr>\n",
       "      <th>0</th>\n",
       "      <td>(협찬)애월바다와 선셋🌅감성까지 더 한스페셜 카레맛집!😋다양한 카레와 토핑들로특별함...</td>\n",
       "      <td>2021-08-18</td>\n",
       "      <td>0</td>\n",
       "      <td></td>\n",
       "      <td>[#사이카레@saicurry_aewolOPEN, #사이카레, #구엄리맛집, #애월맛...</td>\n",
       "    </tr>\n",
       "    <tr>\n",
       "      <th>1</th>\n",
       "      <td>협찬제주애월맛집 \"랍스터빈\"주소 : 제주시 애월읍 애월해안로 752전화 : 064-...</td>\n",
       "      <td>2021-08-18</td>\n",
       "      <td>0</td>\n",
       "      <td></td>\n",
       "      <td>[#애월맛집, #애월카페, #애월읍맛집, #제주애월맛집, #제주도맛집, #제주맛집,...</td>\n",
       "    </tr>\n",
       "    <tr>\n",
       "      <th>2</th>\n",
       "      <td>협찬제주썬셋맛집 \"랍스터빈\"주소 : 제주시 애월읍 애월해안로 752전화 : 064-...</td>\n",
       "      <td>2021-08-18</td>\n",
       "      <td>0</td>\n",
       "      <td></td>\n",
       "      <td>[#애월맛집, #애월카페, #애월읍맛집, #제주애월맛집, #제주도맛집, #제주맛집,...</td>\n",
       "    </tr>\n",
       "    <tr>\n",
       "      <th>3</th>\n",
       "      <td>&lt;광고&gt;노을 지는거 보면서 식사와 술한잔 하기에너무 좋은 #코시롱✔제주 제주시 애월...</td>\n",
       "      <td>2021-08-18</td>\n",
       "      <td>0</td>\n",
       "      <td></td>\n",
       "      <td>[#코시롱✔제주, #애월맛집, #애월읍맛집, #애월맛집추천, #애월흑돼지맛집, #제...</td>\n",
       "    </tr>\n",
       "    <tr>\n",
       "      <th>4</th>\n",
       "      <td>협찬제주애월 썬셋맛집 \"랍스터빈\"주소 : 제주시 애월읍 애월해안로 752전화 : 0...</td>\n",
       "      <td>2021-08-18</td>\n",
       "      <td>0</td>\n",
       "      <td></td>\n",
       "      <td>[#애월맛집, #애월카페, #애월읍맛집, #제주애월맛집, #제주도맛집, #제주맛집,...</td>\n",
       "    </tr>\n",
       "  </tbody>\n",
       "</table>\n",
       "</div>"
      ]
     },
     "metadata": {},
     "execution_count": 43
    }
   ],
   "metadata": {}
  },
  {
   "cell_type": "markdown",
   "source": [
    "## 제주도맛집, 제주맛집, 제주도관광, 제주여행"
   ],
   "metadata": {}
  },
  {
   "cell_type": "code",
   "execution_count": 12,
   "source": [
    "from urllib.parse import quote\r\n",
    "from tqdm.notebook import tqdm"
   ],
   "outputs": [],
   "metadata": {}
  },
  {
   "cell_type": "code",
   "execution_count": 13,
   "source": [
    "def get_content(driver):\r\n",
    "    html = driver.page_source\r\n",
    "    soup = BeautifulSoup(html, 'html.parser')    \r\n",
    "    try:\r\n",
    "        content = soup.select_one('div.C4VMK > span').text\r\n",
    "        content = unicodedata.normalize('NFC', content)\r\n",
    "    except:\r\n",
    "        content = ' '\r\n",
    "    tags = re.findall(r'#[^\\s#,\\\\]+', content)\r\n",
    "    date = soup.select_one('time.FH9sR.Nzb55')['datetime'][:10]\r\n",
    "    try:\r\n",
    "        like = soup.select_one('div.Nm9Fw').text[4:-1]\r\n",
    "    except:\r\n",
    "        like = 0\r\n",
    "    try:\r\n",
    "        place = soup.select('div.M30cS')[0].text\r\n",
    "        place = unicodedata.normalize('NFC', place)\r\n",
    "    except:\r\n",
    "        place = ''\r\n",
    "    return [content, tags, date, like, place]"
   ],
   "outputs": [],
   "metadata": {}
  },
  {
   "cell_type": "code",
   "execution_count": null,
   "source": [
    "search_url ='https://www.instagram.com/explore/tags/'\r\n",
    "for keyword in ['제주도맛집', '제주맛집', '제주도관광', '제주여행']:\r\n",
    "    url = f'{search_url}{quote(keyword)}'\r\n",
    "    driver.get(url)\r\n",
    "    time.sleep(8)\r\n",
    "    driver.find_element_by_css_selector('div._9AhH0').click()\r\n",
    "    time.sleep(4)\r\n",
    "    results = []\r\n",
    "    for _ in tqdm(range(20)):\r\n",
    "        try:\r\n",
    "            row = get_content(driver)\r\n",
    "            results.append(row)\r\n",
    "            driver.find_element_by_css_selector('a._65Bje.coreSpriteRightPaginationArrow').click()\r\n",
    "            time.sleep(4)\r\n",
    "        except:\r\n",
    "            time.sleep(8)\r\n",
    "            driver.find_element_by_css_selector('a._65Bje.coreSpriteRightPaginationArrow').click()\r\n",
    "            time.sleep(4)\r\n",
    "    df = pd.DataFrame(results, columns=['content','date','like','place','tags'])\r\n",
    "    df.to_csv(f'data/{keyword}.csv', index=False)\r\n",
    "    driver.find_element_by_xpath('/html/body/div[6]/div[3]/button').click()\r\n",
    "    time.sleep(4)"
   ],
   "outputs": [],
   "metadata": {}
  },
  {
   "cell_type": "code",
   "execution_count": null,
   "source": [
    "driver.close()"
   ],
   "outputs": [],
   "metadata": {}
  },
  {
   "cell_type": "markdown",
   "source": [
    "### 중복을 제거하고 통합하여 저장하기"
   ],
   "metadata": {}
  },
  {
   "cell_type": "code",
   "execution_count": null,
   "source": [
    "for keyword in ['제주도맛집', '제주맛집', '제주도관광', '제주여행']:\r\n",
    "    df = pd.read_csv(f'data/{keyword}.csv')\r\n",
    "    print(df.shape)"
   ],
   "outputs": [],
   "metadata": {}
  },
  {
   "cell_type": "code",
   "execution_count": null,
   "source": [
    "jeju_df = pd.DataFrame([])\r\n",
    "for keyword in ['제주도맛집', '제주맛집', '제주도관광', '제주여행']:\r\n",
    "    df = pd.read_csv(f'data/{keyword}.csv')"
   ],
   "outputs": [],
   "metadata": {}
  },
  {
   "cell_type": "code",
   "execution_count": null,
   "source": [
    "jeju_df.tail()"
   ],
   "outputs": [],
   "metadata": {}
  }
 ],
 "metadata": {
  "orig_nbformat": 4,
  "language_info": {
   "name": "python",
   "version": "3.8.8",
   "mimetype": "text/x-python",
   "codemirror_mode": {
    "name": "ipython",
    "version": 3
   },
   "pygments_lexer": "ipython3",
   "nbconvert_exporter": "python",
   "file_extension": ".py"
  },
  "kernelspec": {
   "name": "python3",
   "display_name": "Python 3.8.8 64-bit ('base': conda)"
  },
  "interpreter": {
   "hash": "64a5c38a3c899d1b5d04dd5abce8e386570e32cf606eb0fe687873946559a065"
  }
 },
 "nbformat": 4,
 "nbformat_minor": 2
}