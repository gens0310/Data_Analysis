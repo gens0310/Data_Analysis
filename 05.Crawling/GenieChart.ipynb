{
  "nbformat": 4,
  "nbformat_minor": 0,
  "metadata": {
    "colab": {
      "name": "GenieChart.ipynb",
      "provenance": [],
      "collapsed_sections": []
    },
    "kernelspec": {
      "name": "python3",
      "display_name": "Python 3"
    },
    "language_info": {
      "name": "python"
    }
  },
  "cells": [
    {
      "cell_type": "markdown",
      "metadata": {
        "id": "aYTT4zdDaw11"
      },
      "source": [
        "# Genie Top 200 Chart"
      ]
    },
    {
      "cell_type": "markdown",
      "metadata": {
        "id": "ZyRWjJO2fdFu"
      },
      "source": [
        "## 넷 상에서 데이터 가져오기"
      ]
    },
    {
      "cell_type": "code",
      "metadata": {
        "id": "PFHewcoTar34"
      },
      "source": [
        "import requests\n",
        "import pandas as pd"
      ],
      "execution_count": 1,
      "outputs": []
    },
    {
      "cell_type": "code",
      "metadata": {
        "id": "XGYEdc-3bH7O"
      },
      "source": [
        "# Genie Top 200\n",
        "url = 'https://www.genie.co.kr/chart/top200'\n",
        "req = requests.get(url)\n",
        "html = req.text"
      ],
      "execution_count": 2,
      "outputs": []
    },
    {
      "cell_type": "code",
      "metadata": {
        "id": "ZqbJRMvmbfTH"
      },
      "source": [
        "# Google Chrome User-Agent\n",
        "header = {'User-Agent':\n",
        "          'Mozilla/5.0 (X11; Linux x86_64) AppleWebKit/537.36 (KHTML, like Gecko) Chrome/51.0.2704.106 Safari/537.36 OPR/38.0.2220.41'}\n",
        "req = requests.get(url, headers = header)\n",
        "html = req.text"
      ],
      "execution_count": 3,
      "outputs": []
    },
    {
      "cell_type": "code",
      "metadata": {
        "id": "UOYiZDv_cnhS"
      },
      "source": [
        "from bs4 import BeautifulSoup\n",
        "soup = BeautifulSoup(html, 'html.parser')"
      ],
      "execution_count": 4,
      "outputs": []
    },
    {
      "cell_type": "markdown",
      "metadata": {
        "id": "jMuQnLN5fw9D"
      },
      "source": [
        "## 데이터 태그 찾기"
      ]
    },
    {
      "cell_type": "code",
      "metadata": {
        "colab": {
          "base_uri": "https://localhost:8080/"
        },
        "id": "9ABPApqufbvD",
        "outputId": "b3816566-2322-43b2-e18d-d191e83a2de1"
      },
      "source": [
        "# <table class=\"list-wrap\">\n",
        "table = soup.select_one('table.list-wrap')\n",
        "trs = table.select('tr.list')\n",
        "len(trs)"
      ],
      "execution_count": 6,
      "outputs": [
        {
          "output_type": "execute_result",
          "data": {
            "text/plain": [
              "50"
            ]
          },
          "metadata": {
            "tags": []
          },
          "execution_count": 6
        }
      ]
    },
    {
      "cell_type": "code",
      "metadata": {
        "colab": {
          "base_uri": "https://localhost:8080/"
        },
        "id": "qQIewdV2g2CR",
        "outputId": "4d49fab3-dd53-45b4-81a8-480313c36c21"
      },
      "source": [
        "trs = soup.select('tr.list')\n",
        "len(trs)"
      ],
      "execution_count": 7,
      "outputs": [
        {
          "output_type": "execute_result",
          "data": {
            "text/plain": [
              "50"
            ]
          },
          "metadata": {
            "tags": []
          },
          "execution_count": 7
        }
      ]
    },
    {
      "cell_type": "markdown",
      "metadata": {
        "id": "hTzFSuMWhmtI"
      },
      "source": [
        "## 여러 개의 데이터 중 하나를 선택, 원하는 정보 추출"
      ]
    },
    {
      "cell_type": "code",
      "metadata": {
        "id": "ZYxQKIUGhHJo"
      },
      "source": [
        "# rank, title, artist, album \n",
        "tr = trs[0]"
      ],
      "execution_count": 8,
      "outputs": []
    },
    {
      "cell_type": "code",
      "metadata": {
        "colab": {
          "base_uri": "https://localhost:8080/",
          "height": 53
        },
        "id": "j9_D8HgRiZ1Y",
        "outputId": "17fe6f5e-d58f-4cbf-bd86-5c9ab208afcc"
      },
      "source": [
        "# rank\n",
        "tr.select_one('.number').get_text()"
      ],
      "execution_count": 10,
      "outputs": [
        {
          "output_type": "execute_result",
          "data": {
            "application/vnd.google.colaboratory.intrinsic+json": {
              "type": "string"
            },
            "text/plain": [
              "'1\\n                                        \\n                                    \\n유지\\n\\n'"
            ]
          },
          "metadata": {
            "tags": []
          },
          "execution_count": 10
        }
      ]
    },
    {
      "cell_type": "code",
      "metadata": {
        "colab": {
          "base_uri": "https://localhost:8080/",
          "height": 35
        },
        "id": "iwW7emTRicN4",
        "outputId": "ed868465-9473-4878-e15c-99f65be1e5b0"
      },
      "source": [
        "tr.select_one('.number').get_text().split('\\n')[0]"
      ],
      "execution_count": 11,
      "outputs": [
        {
          "output_type": "execute_result",
          "data": {
            "application/vnd.google.colaboratory.intrinsic+json": {
              "type": "string"
            },
            "text/plain": [
              "'1'"
            ]
          },
          "metadata": {
            "tags": []
          },
          "execution_count": 11
        }
      ]
    },
    {
      "cell_type": "code",
      "metadata": {
        "colab": {
          "base_uri": "https://localhost:8080/"
        },
        "id": "U9G6bA53irjI",
        "outputId": "7c18f2a9-dc06-4135-872d-63c8676e3986"
      },
      "source": [
        "rank = int(tr.select_one('.number').get_text().split('\\n')[0])\n",
        "rank"
      ],
      "execution_count": 12,
      "outputs": [
        {
          "output_type": "execute_result",
          "data": {
            "text/plain": [
              "1"
            ]
          },
          "metadata": {
            "tags": []
          },
          "execution_count": 12
        }
      ]
    },
    {
      "cell_type": "code",
      "metadata": {
        "colab": {
          "base_uri": "https://localhost:8080/",
          "height": 89
        },
        "id": "J-yDAr80i6Aw",
        "outputId": "13f96759-041b-4a32-f31f-2d111da59582"
      },
      "source": [
        "# title\n",
        "tr.select_one('.info').select_one('.title').get_text()"
      ],
      "execution_count": 15,
      "outputs": [
        {
          "output_type": "execute_result",
          "data": {
            "application/vnd.google.colaboratory.intrinsic+json": {
              "type": "string"
            },
            "text/plain": [
              "'\\n                                        \\n                                            \\n                                        \\n                                        \\n                                        \\n                                        \\n                                            \\n                                                Queendom'"
            ]
          },
          "metadata": {
            "tags": []
          },
          "execution_count": 15
        }
      ]
    },
    {
      "cell_type": "code",
      "metadata": {
        "colab": {
          "base_uri": "https://localhost:8080/",
          "height": 35
        },
        "id": "EmxVrvZMjYkI",
        "outputId": "992d4d1d-c4d7-49bc-ddda-d954ed4fac58"
      },
      "source": [
        "title = tr.select_one('.info').select_one('.title').get_text().strip()\n",
        "title"
      ],
      "execution_count": 17,
      "outputs": [
        {
          "output_type": "execute_result",
          "data": {
            "application/vnd.google.colaboratory.intrinsic+json": {
              "type": "string"
            },
            "text/plain": [
              "'Queendom'"
            ]
          },
          "metadata": {
            "tags": []
          },
          "execution_count": 17
        }
      ]
    },
    {
      "cell_type": "code",
      "metadata": {
        "colab": {
          "base_uri": "https://localhost:8080/",
          "height": 35
        },
        "id": "7IzQ0ZnxjlPb",
        "outputId": "627f1447-5181-4fad-8fa8-5b5801b73f6a"
      },
      "source": [
        "# artist\n",
        "tr.select_one('.info').select_one('.artist').get_text()"
      ],
      "execution_count": 18,
      "outputs": [
        {
          "output_type": "execute_result",
          "data": {
            "application/vnd.google.colaboratory.intrinsic+json": {
              "type": "string"
            },
            "text/plain": [
              "'Red Velvet (레드벨벳)'"
            ]
          },
          "metadata": {
            "tags": []
          },
          "execution_count": 18
        }
      ]
    },
    {
      "cell_type": "code",
      "metadata": {
        "colab": {
          "base_uri": "https://localhost:8080/",
          "height": 35
        },
        "id": "9ZwOjbmCkXZQ",
        "outputId": "ac034649-1b54-406b-9fc9-c2fee49d7fe5"
      },
      "source": [
        "artist = tr.select_one('.info').select_one('.artist').get_text().strip()\n",
        "artist"
      ],
      "execution_count": 19,
      "outputs": [
        {
          "output_type": "execute_result",
          "data": {
            "application/vnd.google.colaboratory.intrinsic+json": {
              "type": "string"
            },
            "text/plain": [
              "'Red Velvet (레드벨벳)'"
            ]
          },
          "metadata": {
            "tags": []
          },
          "execution_count": 19
        }
      ]
    },
    {
      "cell_type": "code",
      "metadata": {
        "colab": {
          "base_uri": "https://localhost:8080/",
          "height": 35
        },
        "id": "wzqWCj1Bkfjh",
        "outputId": "76f76fcb-2ae5-4757-ff8b-2bd905583e73"
      },
      "source": [
        "# album\n",
        "tr.select_one('.info').select_one('.albumtitle').get_text().strip()"
      ],
      "execution_count": 20,
      "outputs": [
        {
          "output_type": "execute_result",
          "data": {
            "application/vnd.google.colaboratory.intrinsic+json": {
              "type": "string"
            },
            "text/plain": [
              "'Queendom - The 6th Mini Album'"
            ]
          },
          "metadata": {
            "tags": []
          },
          "execution_count": 20
        }
      ]
    },
    {
      "cell_type": "code",
      "metadata": {
        "colab": {
          "base_uri": "https://localhost:8080/",
          "height": 35
        },
        "id": "4mDu_N0qkf4w",
        "outputId": "daedb9ff-da4c-431e-d83a-06218270198e"
      },
      "source": [
        "album = tr.select_one('.info').select_one('.albumtitle').get_text().strip()\n",
        "album"
      ],
      "execution_count": 21,
      "outputs": [
        {
          "output_type": "execute_result",
          "data": {
            "application/vnd.google.colaboratory.intrinsic+json": {
              "type": "string"
            },
            "text/plain": [
              "'Queendom - The 6th Mini Album'"
            ]
          },
          "metadata": {
            "tags": []
          },
          "execution_count": 21
        }
      ]
    },
    {
      "cell_type": "markdown",
      "metadata": {
        "id": "KdERh0L5kvSR"
      },
      "source": [
        "## 한 페이지에 있는 모든 데이터를 For Loop으로 가져오기"
      ]
    },
    {
      "cell_type": "code",
      "metadata": {
        "id": "rYcmgNvrkuVQ"
      },
      "source": [
        "rank_list, title_list, artist_list, album_list = [], [], [], []\n",
        "for tr in trs:\n",
        "    rank = int(tr.select_one('.number').get_text().split('\\n')[0])\n",
        "    title = tr.select_one('.info').select_one('.title').get_text().strip()\n",
        "    artist = tr.select_one('.info').select_one('.artist').get_text().strip()\n",
        "    album = tr.select_one('.info').select_one('.albumtitle').get_text().strip()\n",
        "    rank_list.append(rank)\n",
        "    title_list.append(title)\n",
        "    artist_list.append(artist)\n",
        "    album_list.append(album)"
      ],
      "execution_count": 22,
      "outputs": []
    },
    {
      "cell_type": "code",
      "metadata": {
        "colab": {
          "base_uri": "https://localhost:8080/",
          "height": 289
        },
        "id": "IzuiSfNslqWV",
        "outputId": "e2f2096b-8eaa-4561-9b18-530ce1c8a081"
      },
      "source": [
        "df = pd.DataFrame({\n",
        "    '순위' : rank_list,\n",
        "    '곡명' : title_list,\n",
        "    '가수' : artist_list,\n",
        "    '앨범' : album_list\n",
        "})\n",
        "df.tail()"
      ],
      "execution_count": 23,
      "outputs": [
        {
          "output_type": "execute_result",
          "data": {
            "text/html": [
              "<div>\n",
              "<style scoped>\n",
              "    .dataframe tbody tr th:only-of-type {\n",
              "        vertical-align: middle;\n",
              "    }\n",
              "\n",
              "    .dataframe tbody tr th {\n",
              "        vertical-align: top;\n",
              "    }\n",
              "\n",
              "    .dataframe thead th {\n",
              "        text-align: right;\n",
              "    }\n",
              "</style>\n",
              "<table border=\"1\" class=\"dataframe\">\n",
              "  <thead>\n",
              "    <tr style=\"text-align: right;\">\n",
              "      <th></th>\n",
              "      <th>순위</th>\n",
              "      <th>곡명</th>\n",
              "      <th>가수</th>\n",
              "      <th>앨범</th>\n",
              "    </tr>\n",
              "  </thead>\n",
              "  <tbody>\n",
              "    <tr>\n",
              "      <th>45</th>\n",
              "      <td>46</td>\n",
              "      <td>사이렌 Remix (Feat. UNEDUCATED KID &amp; Paul Blanco)</td>\n",
              "      <td>호미들</td>\n",
              "      <td>사이렌 Remix</td>\n",
              "    </tr>\n",
              "    <tr>\n",
              "      <th>46</th>\n",
              "      <td>47</td>\n",
              "      <td>어푸 (Ah puh)</td>\n",
              "      <td>아이유 (IU)</td>\n",
              "      <td>IU 5th Album 'LILAC'</td>\n",
              "    </tr>\n",
              "    <tr>\n",
              "      <th>47</th>\n",
              "      <td>48</td>\n",
              "      <td>가을 우체국 앞에서</td>\n",
              "      <td>김대명</td>\n",
              "      <td>슬기로운 의사생활 시즌2 OST Part 2 (tvN 목요드라마)</td>\n",
              "    </tr>\n",
              "    <tr>\n",
              "      <th>48</th>\n",
              "      <td>49</td>\n",
              "      <td>Life Goes On</td>\n",
              "      <td>방탄소년단</td>\n",
              "      <td>BE</td>\n",
              "    </tr>\n",
              "    <tr>\n",
              "      <th>49</th>\n",
              "      <td>50</td>\n",
              "      <td>그대라는 사치</td>\n",
              "      <td>임영웅</td>\n",
              "      <td>사랑의 콜센타 PART62</td>\n",
              "    </tr>\n",
              "  </tbody>\n",
              "</table>\n",
              "</div>"
            ],
            "text/plain": [
              "    순위  ...                                    앨범\n",
              "45  46  ...                             사이렌 Remix\n",
              "46  47  ...                  IU 5th Album 'LILAC'\n",
              "47  48  ...  슬기로운 의사생활 시즌2 OST Part 2 (tvN 목요드라마)\n",
              "48  49  ...                                    BE\n",
              "49  50  ...                        사랑의 콜센타 PART62\n",
              "\n",
              "[5 rows x 4 columns]"
            ]
          },
          "metadata": {
            "tags": []
          },
          "execution_count": 23
        }
      ]
    },
    {
      "cell_type": "code",
      "metadata": {
        "id": "mGRdDw1Gmm73"
      },
      "source": [
        "lines = []\n",
        "for tr in trs:\n",
        "    rank = int(tr.select_one('.number').get_text().split('\\n')[0])\n",
        "    title = tr.select_one('.info').select_one('.title').get_text().strip()\n",
        "    artist = tr.select_one('.info').select_one('.artist').get_text().strip()\n",
        "    album = tr.select_one('.info').select_one('.albumtitle').get_text().strip()\n",
        "    lines.append([rank, title, artist, album])"
      ],
      "execution_count": 24,
      "outputs": []
    },
    {
      "cell_type": "code",
      "metadata": {
        "colab": {
          "base_uri": "https://localhost:8080/",
          "height": 204
        },
        "id": "K2Sbo5hMm23n",
        "outputId": "99064e9a-6cf8-4322-8660-76e8afe74140"
      },
      "source": [
        "df = pd.DataFrame(lines, columns=['순위', '곡명', '가수', '앨범'])\n",
        "df.head()"
      ],
      "execution_count": 25,
      "outputs": [
        {
          "output_type": "execute_result",
          "data": {
            "text/html": [
              "<div>\n",
              "<style scoped>\n",
              "    .dataframe tbody tr th:only-of-type {\n",
              "        vertical-align: middle;\n",
              "    }\n",
              "\n",
              "    .dataframe tbody tr th {\n",
              "        vertical-align: top;\n",
              "    }\n",
              "\n",
              "    .dataframe thead th {\n",
              "        text-align: right;\n",
              "    }\n",
              "</style>\n",
              "<table border=\"1\" class=\"dataframe\">\n",
              "  <thead>\n",
              "    <tr style=\"text-align: right;\">\n",
              "      <th></th>\n",
              "      <th>순위</th>\n",
              "      <th>곡명</th>\n",
              "      <th>가수</th>\n",
              "      <th>앨범</th>\n",
              "    </tr>\n",
              "  </thead>\n",
              "  <tbody>\n",
              "    <tr>\n",
              "      <th>0</th>\n",
              "      <td>1</td>\n",
              "      <td>Queendom</td>\n",
              "      <td>Red Velvet (레드벨벳)</td>\n",
              "      <td>Queendom - The 6th Mini Album</td>\n",
              "    </tr>\n",
              "    <tr>\n",
              "      <th>1</th>\n",
              "      <td>2</td>\n",
              "      <td>신호등</td>\n",
              "      <td>이무진</td>\n",
              "      <td>신호등</td>\n",
              "    </tr>\n",
              "    <tr>\n",
              "      <th>2</th>\n",
              "      <td>3</td>\n",
              "      <td>낙하 (With 아이유)</td>\n",
              "      <td>AKMU (악뮤)</td>\n",
              "      <td>NEXT EPISODE</td>\n",
              "    </tr>\n",
              "    <tr>\n",
              "      <th>3</th>\n",
              "      <td>4</td>\n",
              "      <td>바라만 본다</td>\n",
              "      <td>MSG워너비 (M.O.M)</td>\n",
              "      <td>MSG워너비 1집</td>\n",
              "    </tr>\n",
              "    <tr>\n",
              "      <th>4</th>\n",
              "      <td>5</td>\n",
              "      <td>Weekend</td>\n",
              "      <td>태연 (TAEYEON)</td>\n",
              "      <td>Weekend</td>\n",
              "    </tr>\n",
              "  </tbody>\n",
              "</table>\n",
              "</div>"
            ],
            "text/plain": [
              "   순위             곡명                 가수                             앨범\n",
              "0   1       Queendom  Red Velvet (레드벨벳)  Queendom - The 6th Mini Album\n",
              "1   2            신호등                이무진                            신호등\n",
              "2   3  낙하 (With 아이유)          AKMU (악뮤)                   NEXT EPISODE\n",
              "3   4         바라만 본다     MSG워너비 (M.O.M)                      MSG워너비 1집\n",
              "4   5        Weekend       태연 (TAEYEON)                        Weekend"
            ]
          },
          "metadata": {
            "tags": []
          },
          "execution_count": 25
        }
      ]
    },
    {
      "cell_type": "markdown",
      "metadata": {
        "id": "oCtmxVJ2n9Pl"
      },
      "source": [
        "## 현재 사이트의 모든 페이지에서 데이터 추출"
      ]
    },
    {
      "cell_type": "code",
      "metadata": {
        "id": "_mmsTiMqoDBV"
      },
      "source": [
        "sub = 'https://www.genie.co.kr/chart/top200?ditc=D&ymd=20210817&hh=14&rtm=Y&pg='\n",
        "rank_list, title_list, artist_list, album_list = [], [], [], []\n",
        "for page in range(1, 5):\n",
        "    url = f'{sub}{page}'\n",
        "    req = requests.get(url, headers=header)\n",
        "    soup = BeautifulSoup(req.text, 'html.parser')\n",
        "    trs = soup.select('tr.list')\n",
        "    for tr in trs:\n",
        "        rank = int(tr.select_one('.number').get_text().split('\\n')[0])\n",
        "        title = tr.select_one('.info').select_one('.title').get_text().strip()\n",
        "        artist = tr.select_one('.info').select_one('.artist').get_text().strip()\n",
        "        album = tr.select_one('.info').select_one('.albumtitle').get_text().strip()\n",
        "        rank_list.append(rank)\n",
        "        title_list.append(title)\n",
        "        artist_list.append(artist)\n",
        "        album_list.append(album)"
      ],
      "execution_count": 27,
      "outputs": []
    },
    {
      "cell_type": "code",
      "metadata": {
        "colab": {
          "base_uri": "https://localhost:8080/",
          "height": 255
        },
        "id": "nlOOKu23pXNH",
        "outputId": "44f4a485-0ee3-45d2-fe62-8a9ca5c75e92"
      },
      "source": [
        "df = pd.DataFrame({\n",
        "    '순위' : rank_list,\n",
        "    '곡명' : title_list,\n",
        "    '가수' : artist_list,\n",
        "    '앨범' : album_list\n",
        "})\n",
        "df.tail()"
      ],
      "execution_count": 28,
      "outputs": [
        {
          "output_type": "execute_result",
          "data": {
            "text/html": [
              "<div>\n",
              "<style scoped>\n",
              "    .dataframe tbody tr th:only-of-type {\n",
              "        vertical-align: middle;\n",
              "    }\n",
              "\n",
              "    .dataframe tbody tr th {\n",
              "        vertical-align: top;\n",
              "    }\n",
              "\n",
              "    .dataframe thead th {\n",
              "        text-align: right;\n",
              "    }\n",
              "</style>\n",
              "<table border=\"1\" class=\"dataframe\">\n",
              "  <thead>\n",
              "    <tr style=\"text-align: right;\">\n",
              "      <th></th>\n",
              "      <th>순위</th>\n",
              "      <th>곡명</th>\n",
              "      <th>가수</th>\n",
              "      <th>앨범</th>\n",
              "    </tr>\n",
              "  </thead>\n",
              "  <tbody>\n",
              "    <tr>\n",
              "      <th>195</th>\n",
              "      <td>196</td>\n",
              "      <td>Downtown Baby</td>\n",
              "      <td>블루 (BLOO)</td>\n",
              "      <td>Downtown Baby</td>\n",
              "    </tr>\n",
              "    <tr>\n",
              "      <th>196</th>\n",
              "      <td>197</td>\n",
              "      <td>노래방에서</td>\n",
              "      <td>장범준</td>\n",
              "      <td>장범준 3집</td>\n",
              "    </tr>\n",
              "    <tr>\n",
              "      <th>197</th>\n",
              "      <td>198</td>\n",
              "      <td>널 너무 모르고</td>\n",
              "      <td>헤이즈 (Heize)</td>\n",
              "      <td>/// (너 먹구름 비)</td>\n",
              "    </tr>\n",
              "    <tr>\n",
              "      <th>198</th>\n",
              "      <td>199</td>\n",
              "      <td>너에게 난, 나에게 넌</td>\n",
              "      <td>미도와 파라솔</td>\n",
              "      <td>슬기로운 의사생활 OST Part 12 (tvN 목요드라마)</td>\n",
              "    </tr>\n",
              "    <tr>\n",
              "      <th>199</th>\n",
              "      <td>200</td>\n",
              "      <td>Rose</td>\n",
              "      <td>디오 (D.O.)</td>\n",
              "      <td>공감 - The 1st Mini Album</td>\n",
              "    </tr>\n",
              "  </tbody>\n",
              "</table>\n",
              "</div>"
            ],
            "text/plain": [
              "      순위             곡명           가수                                 앨범\n",
              "195  196  Downtown Baby    블루 (BLOO)                      Downtown Baby\n",
              "196  197          노래방에서          장범준                             장범준 3집\n",
              "197  198       널 너무 모르고  헤이즈 (Heize)                      /// (너 먹구름 비)\n",
              "198  199   너에게 난, 나에게 넌      미도와 파라솔  슬기로운 의사생활 OST Part 12 (tvN 목요드라마)\n",
              "199  200           Rose    디오 (D.O.)            공감 - The 1st Mini Album"
            ]
          },
          "metadata": {
            "tags": []
          },
          "execution_count": 28
        }
      ]
    },
    {
      "cell_type": "code",
      "metadata": {
        "id": "QxZ0mL6ZqMGI"
      },
      "source": [
        "df.to_csv('GenieTop200Chart(210817).csv', index=False)"
      ],
      "execution_count": 29,
      "outputs": []
    }
  ]
}