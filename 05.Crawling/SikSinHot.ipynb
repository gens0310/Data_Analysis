{
  "nbformat": 4,
  "nbformat_minor": 0,
  "metadata": {
    "colab": {
      "name": "SikSinHot.ipynb",
      "provenance": [],
      "collapsed_sections": []
    },
    "kernelspec": {
      "name": "python3",
      "display_name": "Python 3"
    },
    "language_info": {
      "name": "python"
    }
  },
  "cells": [
    {
      "cell_type": "markdown",
      "metadata": {
        "id": "TFfeYIIktlHN"
      },
      "source": [
        "# 식신 - 검색(양재역)\n",
        "- 명칭\n",
        "- 주요 메뉴\n",
        "- 평점\n",
        "- 전화번호\n",
        "- 주소"
      ]
    },
    {
      "cell_type": "code",
      "metadata": {
        "id": "1vdDQrN2ujo6"
      },
      "source": [
        "import requests\n",
        "import pandas as pd\n",
        "from urllib.parse import quote"
      ],
      "execution_count": 1,
      "outputs": []
    },
    {
      "cell_type": "markdown",
      "metadata": {
        "id": "Yom1K01Pt8_5"
      },
      "source": [
        "## 데이터 가져오기"
      ]
    },
    {
      "cell_type": "code",
      "metadata": {
        "id": "92Gc2d5SrIee"
      },
      "source": [
        "base_url = 'https://www.siksinhot.com'\n",
        "url = f'{base_url}/search?keywords={quote(\"양재역\")}'\n",
        "req = requests.get(url)\n",
        "html = req.text"
      ],
      "execution_count": 2,
      "outputs": []
    },
    {
      "cell_type": "markdown",
      "metadata": {
        "id": "Ouks20Hmu2m9"
      },
      "source": [
        "## 데이터 태그 찾기"
      ]
    },
    {
      "cell_type": "code",
      "metadata": {
        "id": "wCOT4rqcuaFn"
      },
      "source": [
        "from bs4 import BeautifulSoup\n",
        "soup = BeautifulSoup(html, 'html.parser')"
      ],
      "execution_count": 3,
      "outputs": []
    },
    {
      "cell_type": "code",
      "metadata": {
        "colab": {
          "base_uri": "https://localhost:8080/"
        },
        "id": "r0QuWoGpu6H9",
        "outputId": "c504b9c3-d2b9-458e-a936-57fc88594284"
      },
      "source": [
        "lis = soup.select('div.listTy1 > ul > li')\n",
        "len(lis)"
      ],
      "execution_count": 4,
      "outputs": [
        {
          "output_type": "execute_result",
          "data": {
            "text/plain": [
              "12"
            ]
          },
          "metadata": {
            "tags": []
          },
          "execution_count": 4
        }
      ]
    },
    {
      "cell_type": "markdown",
      "metadata": {
        "id": "whIyH81_wp1Z"
      },
      "source": [
        "## 여러 개의 데이터 중 하나를 선택, 원하는 정보 추출"
      ]
    },
    {
      "cell_type": "code",
      "metadata": {
        "colab": {
          "base_uri": "https://localhost:8080/",
          "height": 35
        },
        "id": "S5b1RVQuxp53",
        "outputId": "3133fd3b-087b-4e15-f6c6-4b78ea4fc0f4"
      },
      "source": [
        "li = lis[0]\n",
        "href = li.select_one('a')['href']\n",
        "href"
      ],
      "execution_count": 5,
      "outputs": [
        {
          "output_type": "execute_result",
          "data": {
            "application/vnd.google.colaboratory.intrinsic+json": {
              "type": "string"
            },
            "text/plain": [
              "'/P/358859'"
            ]
          },
          "metadata": {
            "tags": []
          },
          "execution_count": 5
        }
      ]
    },
    {
      "cell_type": "code",
      "metadata": {
        "id": "sleCsaKTxWHA"
      },
      "source": [
        "url = base_url + href\n",
        "req = requests.get(url)\n",
        "sub_soup = BeautifulSoup(req.text, 'html.parser')"
      ],
      "execution_count": 6,
      "outputs": []
    },
    {
      "cell_type": "code",
      "metadata": {
        "colab": {
          "base_uri": "https://localhost:8080/",
          "height": 35
        },
        "id": "jqJK_Cf7y0Z-",
        "outputId": "bf29f960-7d73-4696-e235-5c00627c5844"
      },
      "source": [
        "store = sub_soup.select_one('.title')\n",
        "info = store.find('h3').get_text()\n",
        "info"
      ],
      "execution_count": 7,
      "outputs": [
        {
          "output_type": "execute_result",
          "data": {
            "application/vnd.google.colaboratory.intrinsic+json": {
              "type": "string"
            },
            "text/plain": [
              "'그릭슈바인 양재역점3.6HOT'"
            ]
          },
          "metadata": {
            "tags": []
          },
          "execution_count": 7
        }
      ]
    },
    {
      "cell_type": "code",
      "metadata": {
        "colab": {
          "base_uri": "https://localhost:8080/",
          "height": 35
        },
        "id": "D1iGHaA4zkSK",
        "outputId": "94a7947e-74bf-49b9-bd93-e96d590f6596"
      },
      "source": [
        "score = store.select_one('h3 > strong').string\n",
        "score"
      ],
      "execution_count": 8,
      "outputs": [
        {
          "output_type": "execute_result",
          "data": {
            "application/vnd.google.colaboratory.intrinsic+json": {
              "type": "string"
            },
            "text/plain": [
              "'3.6'"
            ]
          },
          "metadata": {
            "tags": []
          },
          "execution_count": 8
        }
      ]
    },
    {
      "cell_type": "code",
      "metadata": {
        "colab": {
          "base_uri": "https://localhost:8080/"
        },
        "id": "mP5IX6omzqph",
        "outputId": "2a2d64bc-6c4c-4dc8-a5e9-a36ff40b341f"
      },
      "source": [
        "info.find(score) # 문자열 info에서 score 인덱스를 찾음"
      ],
      "execution_count": 9,
      "outputs": [
        {
          "output_type": "execute_result",
          "data": {
            "text/plain": [
              "10"
            ]
          },
          "metadata": {
            "tags": []
          },
          "execution_count": 9
        }
      ]
    },
    {
      "cell_type": "code",
      "metadata": {
        "colab": {
          "base_uri": "https://localhost:8080/",
          "height": 35
        },
        "id": "pZD_Ikwlz_2T",
        "outputId": "66bb1c1e-76f3-496e-d193-f41219f616df"
      },
      "source": [
        "name = info[:info.find(score)]\n",
        "name"
      ],
      "execution_count": 10,
      "outputs": [
        {
          "output_type": "execute_result",
          "data": {
            "application/vnd.google.colaboratory.intrinsic+json": {
              "type": "string"
            },
            "text/plain": [
              "'그릭슈바인 양재역점'"
            ]
          },
          "metadata": {
            "tags": []
          },
          "execution_count": 10
        }
      ]
    },
    {
      "cell_type": "code",
      "metadata": {
        "colab": {
          "base_uri": "https://localhost:8080/",
          "height": 35
        },
        "id": "zeEHE3PZ0Fab",
        "outputId": "ea8b3955-0a89-4732-ef57-18500b228909"
      },
      "source": [
        "menu = sub_soup.select('.store_info p')[1].get_text()\n",
        "menu"
      ],
      "execution_count": 11,
      "outputs": [
        {
          "output_type": "execute_result",
          "data": {
            "application/vnd.google.colaboratory.intrinsic+json": {
              "type": "string"
            },
            "text/plain": [
              "'나이트라이프 > 맥주/호프'"
            ]
          },
          "metadata": {
            "tags": []
          },
          "execution_count": 11
        }
      ]
    },
    {
      "cell_type": "code",
      "metadata": {
        "colab": {
          "base_uri": "https://localhost:8080/",
          "height": 35
        },
        "id": "aPUfdSaE0xVx",
        "outputId": "bb352289-d3d9-46d4-c1e9-9551a596ffaf"
      },
      "source": [
        "tel = sub_soup.select_one('.p_tel p').get_text()\n",
        "tel"
      ],
      "execution_count": 12,
      "outputs": [
        {
          "output_type": "execute_result",
          "data": {
            "application/vnd.google.colaboratory.intrinsic+json": {
              "type": "string"
            },
            "text/plain": [
              "'02-572-6100'"
            ]
          },
          "metadata": {
            "tags": []
          },
          "execution_count": 12
        }
      ]
    },
    {
      "cell_type": "code",
      "metadata": {
        "colab": {
          "base_uri": "https://localhost:8080/",
          "height": 35
        },
        "id": "A4P_SR111yd3",
        "outputId": "a1f8d300-475c-4d9d-b3ee-2589ff798047"
      },
      "source": [
        "addr = sub_soup.select_one('.txt_adr').string\n",
        "addr"
      ],
      "execution_count": 13,
      "outputs": [
        {
          "output_type": "execute_result",
          "data": {
            "application/vnd.google.colaboratory.intrinsic+json": {
              "type": "string"
            },
            "text/plain": [
              "'서울특별시 서초구 강남대로 224'"
            ]
          },
          "metadata": {
            "tags": []
          },
          "execution_count": 13
        }
      ]
    },
    {
      "cell_type": "markdown",
      "metadata": {
        "id": "BPruSdUX2MqC"
      },
      "source": [
        "## 한 페이지에 있는 모든 데이터를 For Loop로 가져오기"
      ]
    },
    {
      "cell_type": "code",
      "metadata": {
        "colab": {
          "base_uri": "https://localhost:8080/"
        },
        "id": "FbnNcV1H2NDF",
        "outputId": "ab8c2d71-e14c-43e9-c11d-e392135d678e"
      },
      "source": [
        "name_list, score_list, menu_list, tel_list, addr_list = [], [], [], [], []\n",
        "for i, li in enumerate(lis):\n",
        "    href = li.select_one('a')['href']\n",
        "    url = base_url + href\n",
        "    req = requests.get(url)\n",
        "    sub_soup = BeautifulSoup(req.text, 'html.parser')\n",
        "    try:\n",
        "        store = sub_soup.select_one('.title')\n",
        "        info = store.find('h3').get_text()\n",
        "        score = store.select_one('h3 > strong').string\n",
        "        name = info[:info.find(score)]\n",
        "        menu = sub_soup.select('.store_info p')[1].get_text()\n",
        "        tel = sub_soup.select_one('.p_tel p').get_text()\n",
        "        addr = sub_soup.select_one('.txt_adr').string\n",
        "        \n",
        "        name_list.append(name)\n",
        "        score_list.append(float(score))\n",
        "        menu_list.append(menu)\n",
        "        tel_list.append(tel)\n",
        "        addr_list.append(addr)\n",
        "    except:\n",
        "        print(i)"
      ],
      "execution_count": 14,
      "outputs": [
        {
          "output_type": "stream",
          "text": [
            "3\n",
            "4\n"
          ],
          "name": "stdout"
        }
      ]
    },
    {
      "cell_type": "code",
      "metadata": {
        "colab": {
          "base_uri": "https://localhost:8080/",
          "height": 546
        },
        "id": "Pr4Yq1LCtjd1",
        "outputId": "5873f0d6-6bd7-4d17-a6ec-461e15e04e81"
      },
      "source": [
        "df = pd.DataFrame({\n",
        "    '식당명' : name_list,\n",
        "    '평점' : score_list,\n",
        "    '메뉴' : menu_list,\n",
        "    '전화번호' : tel_list,\n",
        "    '주소' : addr_list\n",
        "})\n",
        "df"
      ],
      "execution_count": 15,
      "outputs": [
        {
          "output_type": "execute_result",
          "data": {
            "text/html": [
              "<div>\n",
              "<style scoped>\n",
              "    .dataframe tbody tr th:only-of-type {\n",
              "        vertical-align: middle;\n",
              "    }\n",
              "\n",
              "    .dataframe tbody tr th {\n",
              "        vertical-align: top;\n",
              "    }\n",
              "\n",
              "    .dataframe thead th {\n",
              "        text-align: right;\n",
              "    }\n",
              "</style>\n",
              "<table border=\"1\" class=\"dataframe\">\n",
              "  <thead>\n",
              "    <tr style=\"text-align: right;\">\n",
              "      <th></th>\n",
              "      <th>식당명</th>\n",
              "      <th>평점</th>\n",
              "      <th>메뉴</th>\n",
              "      <th>전화번호</th>\n",
              "      <th>주소</th>\n",
              "    </tr>\n",
              "  </thead>\n",
              "  <tbody>\n",
              "    <tr>\n",
              "      <th>0</th>\n",
              "      <td>그릭슈바인 양재역점</td>\n",
              "      <td>3.6</td>\n",
              "      <td>나이트라이프 &gt; 맥주/호프</td>\n",
              "      <td>02-572-6100</td>\n",
              "      <td>서울특별시 서초구 강남대로 224</td>\n",
              "    </tr>\n",
              "    <tr>\n",
              "      <th>1</th>\n",
              "      <td>미스터브리즈 양재역점</td>\n",
              "      <td>3.4</td>\n",
              "      <td>세계음식 &gt; 카페/커피숍</td>\n",
              "      <td>02-576-4333</td>\n",
              "      <td>서울 서초구 강남대로34길 6</td>\n",
              "    </tr>\n",
              "    <tr>\n",
              "      <th>2</th>\n",
              "      <td>동신참치 양재역점</td>\n",
              "      <td>3.0</td>\n",
              "      <td>한국음식 &gt; 회</td>\n",
              "      <td>02-529-7130</td>\n",
              "      <td>서울 서초구 강남대로 213</td>\n",
              "    </tr>\n",
              "    <tr>\n",
              "      <th>3</th>\n",
              "      <td>영동족발 3호점</td>\n",
              "      <td>4.1</td>\n",
              "      <td>한국음식 &gt; 족발/보쌈</td>\n",
              "      <td>02-575-0250</td>\n",
              "      <td>서울특별시 서초구 남부순환로 2628-18</td>\n",
              "    </tr>\n",
              "    <tr>\n",
              "      <th>4</th>\n",
              "      <td>황재벌</td>\n",
              "      <td>3.9</td>\n",
              "      <td>한국음식 &gt; 장어구이/꼼장어</td>\n",
              "      <td>02-3471-5454</td>\n",
              "      <td>서울특별시 서초구 남부순환로347길 42-4 신화빌딩</td>\n",
              "    </tr>\n",
              "    <tr>\n",
              "      <th>5</th>\n",
              "      <td>김영모과자점 도곡타워점</td>\n",
              "      <td>4.1</td>\n",
              "      <td>세계음식 &gt; 베이커리/제과점</td>\n",
              "      <td>02-3460-2005</td>\n",
              "      <td>서울특별시 강남구 언주로30길 10 현대비젼21</td>\n",
              "    </tr>\n",
              "    <tr>\n",
              "      <th>6</th>\n",
              "      <td>소호정 본점</td>\n",
              "      <td>4.0</td>\n",
              "      <td>한국음식 &gt; 라면/칼국수/국수/수제비</td>\n",
              "      <td>02-579-7282</td>\n",
              "      <td>서울특별시 서초구 논현로 27</td>\n",
              "    </tr>\n",
              "    <tr>\n",
              "      <th>7</th>\n",
              "      <td>산동칼국수</td>\n",
              "      <td>3.9</td>\n",
              "      <td>한국음식 &gt; 라면/칼국수/국수/수제비</td>\n",
              "      <td>02-3473-7972</td>\n",
              "      <td>서울특별시 서초구 강남대로37길 63</td>\n",
              "    </tr>\n",
              "    <tr>\n",
              "      <th>8</th>\n",
              "      <td>양재정육식당</td>\n",
              "      <td>4.1</td>\n",
              "      <td>한국음식 &gt; 꽃등심/등심/육회</td>\n",
              "      <td>02-577-5804</td>\n",
              "      <td>서울 서초구 바우뫼로35길 3</td>\n",
              "    </tr>\n",
              "    <tr>\n",
              "      <th>9</th>\n",
              "      <td>스타쉐프</td>\n",
              "      <td>3.9</td>\n",
              "      <td>세계음식 &gt; 퓨전레스토랑</td>\n",
              "      <td>02-529-8248</td>\n",
              "      <td>서울특별시 강남구 논현로38길 38-6</td>\n",
              "    </tr>\n",
              "  </tbody>\n",
              "</table>\n",
              "</div>"
            ],
            "text/plain": [
              "            식당명   평점  ...          전화번호                             주소\n",
              "0    그릭슈바인 양재역점  3.6  ...   02-572-6100             서울특별시 서초구 강남대로 224\n",
              "1   미스터브리즈 양재역점  3.4  ...   02-576-4333               서울 서초구 강남대로34길 6\n",
              "2     동신참치 양재역점  3.0  ...   02-529-7130                서울 서초구 강남대로 213\n",
              "3      영동족발 3호점  4.1  ...   02-575-0250        서울특별시 서초구 남부순환로 2628-18\n",
              "4           황재벌  3.9  ...  02-3471-5454  서울특별시 서초구 남부순환로347길 42-4 신화빌딩\n",
              "5  김영모과자점 도곡타워점  4.1  ...  02-3460-2005     서울특별시 강남구 언주로30길 10 현대비젼21\n",
              "6        소호정 본점  4.0  ...   02-579-7282               서울특별시 서초구 논현로 27\n",
              "7         산동칼국수  3.9  ...  02-3473-7972           서울특별시 서초구 강남대로37길 63\n",
              "8        양재정육식당  4.1  ...   02-577-5804               서울 서초구 바우뫼로35길 3\n",
              "9          스타쉐프  3.9  ...   02-529-8248          서울특별시 강남구 논현로38길 38-6\n",
              "\n",
              "[10 rows x 5 columns]"
            ]
          },
          "metadata": {
            "tags": []
          },
          "execution_count": 15
        }
      ]
    },
    {
      "cell_type": "markdown",
      "metadata": {
        "id": "G6iUzuIeuPLF"
      },
      "source": [
        "## 문제 발생한 두번째 업소 살펴보기"
      ]
    },
    {
      "cell_type": "code",
      "metadata": {
        "colab": {
          "base_uri": "https://localhost:8080/",
          "height": 35
        },
        "id": "swBP0-q2uPlL",
        "outputId": "66cc8553-014e-43a4-f9a4-99ef0f032f97"
      },
      "source": [
        "li = lis[1]\n",
        "li.select_one('.store').string"
      ],
      "execution_count": 16,
      "outputs": [
        {
          "output_type": "execute_result",
          "data": {
            "application/vnd.google.colaboratory.intrinsic+json": {
              "type": "string"
            },
            "text/plain": [
              "'미스터브리즈 양재역점'"
            ]
          },
          "metadata": {
            "tags": []
          },
          "execution_count": 16
        }
      ]
    },
    {
      "cell_type": "code",
      "metadata": {
        "colab": {
          "base_uri": "https://localhost:8080/",
          "height": 35
        },
        "id": "ZH5cYCFVvZrX",
        "outputId": "cc6b2415-7bd0-4c22-8b01-efd629d2cb00"
      },
      "source": [
        "li.select_one('.score').string"
      ],
      "execution_count": 17,
      "outputs": [
        {
          "output_type": "execute_result",
          "data": {
            "application/vnd.google.colaboratory.intrinsic+json": {
              "type": "string"
            },
            "text/plain": [
              "'3.4'"
            ]
          },
          "metadata": {
            "tags": []
          },
          "execution_count": 17
        }
      ]
    },
    {
      "cell_type": "code",
      "metadata": {
        "colab": {
          "base_uri": "https://localhost:8080/",
          "height": 35
        },
        "id": "N9eNXabevvgg",
        "outputId": "d4dffb07-c106-4e99-ea4a-e8468025f093"
      },
      "source": [
        "li.select_one('.cnt p').get_text()"
      ],
      "execution_count": 18,
      "outputs": [
        {
          "output_type": "execute_result",
          "data": {
            "application/vnd.google.colaboratory.intrinsic+json": {
              "type": "string"
            },
            "text/plain": [
              "'아메리카노, 허니버터브레드, 와플'"
            ]
          },
          "metadata": {
            "tags": []
          },
          "execution_count": 18
        }
      ]
    },
    {
      "cell_type": "markdown",
      "metadata": {
        "id": "-K5dnPBxv2k5"
      },
      "source": [
        "## 문제 발생한 네번째 업소 살펴보기"
      ]
    },
    {
      "cell_type": "code",
      "metadata": {
        "colab": {
          "base_uri": "https://localhost:8080/",
          "height": 35
        },
        "id": "a5TUH1jwv3D0",
        "outputId": "7d664d34-e2fc-49ff-feaa-f6317bee4741"
      },
      "source": [
        "li = lis[3]\n",
        "li.select_one('em').string"
      ],
      "execution_count": 19,
      "outputs": [
        {
          "output_type": "execute_result",
          "data": {
            "application/vnd.google.colaboratory.intrinsic+json": {
              "type": "string"
            },
            "text/plain": [
              "'평가중'"
            ]
          },
          "metadata": {
            "tags": []
          },
          "execution_count": 19
        }
      ]
    },
    {
      "cell_type": "code",
      "metadata": {
        "colab": {
          "base_uri": "https://localhost:8080/",
          "height": 35
        },
        "id": "DSqEsbtlyygw",
        "outputId": "4acaff5d-061a-4270-f70c-3e7354f27b83"
      },
      "source": [
        "lis[1].select_one('em').string"
      ],
      "execution_count": 21,
      "outputs": [
        {
          "output_type": "execute_result",
          "data": {
            "application/vnd.google.colaboratory.intrinsic+json": {
              "type": "string"
            },
            "text/plain": [
              "'3.4'"
            ]
          },
          "metadata": {
            "tags": []
          },
          "execution_count": 21
        }
      ]
    },
    {
      "cell_type": "code",
      "metadata": {
        "id": "sYg4NbPCy3uH"
      },
      "source": [
        "score = li.select_one('em').string\n",
        "if score == '평가중':\n",
        "    score = '0'"
      ],
      "execution_count": 22,
      "outputs": []
    },
    {
      "cell_type": "markdown",
      "metadata": {
        "id": "a38K6Ya3zJ_H"
      },
      "source": [
        "## 새로운 방법으로 재시도"
      ]
    },
    {
      "cell_type": "code",
      "metadata": {
        "colab": {
          "base_uri": "https://localhost:8080/"
        },
        "id": "xPgOnOABzL1T",
        "outputId": "d0e39730-5feb-4bd6-97d1-1d0cc95e3bf8"
      },
      "source": [
        "name_list, score_list, menu_list, tel_list, addr_list = [], [], [], [], []\n",
        "for i, li in enumerate(lis):\n",
        "    href = li.select_one('a')['href']\n",
        "    name = li.select_one('.store').string\n",
        "    score = li.select_one('em').string\n",
        "    if score == '평가중':\n",
        "        score = '0'\n",
        "    url = base_url + href\n",
        "    req = requests.get(url)\n",
        "    sub_soup = BeautifulSoup(req.text, 'html.parser')\n",
        "    store = sub_soup.select_one('.title')\n",
        "    info = store.find('h3').get_text()\n",
        "    menu = sub_soup.select('.store_info p')[1].get_text()\n",
        "    tel = sub_soup.select_one('.p_tel p').get_text()\n",
        "    addr = sub_soup.select_one('.txt_adr').string\n",
        "        \n",
        "    name_list.append(name)\n",
        "    score_list.append(float(score))\n",
        "    menu_list.append(menu)\n",
        "    tel_list.append(tel)\n",
        "    addr_list.append(addr)\n",
        "    print(i)"
      ],
      "execution_count": 23,
      "outputs": [
        {
          "output_type": "stream",
          "text": [
            "0\n",
            "1\n",
            "2\n",
            "3\n",
            "4\n",
            "5\n",
            "6\n",
            "7\n",
            "8\n",
            "9\n",
            "10\n",
            "11\n"
          ],
          "name": "stdout"
        }
      ]
    },
    {
      "cell_type": "code",
      "metadata": {
        "colab": {
          "base_uri": "https://localhost:8080/",
          "height": 642
        },
        "id": "Tpar-ofA0GYI",
        "outputId": "c941c295-a506-4830-828d-bd526412e5c4"
      },
      "source": [
        "df = pd.DataFrame({\n",
        "    '식당명' : name_list,\n",
        "    '평점' : score_list,\n",
        "    '메뉴' : menu_list,\n",
        "    '전화번호' : tel_list,\n",
        "    '주소' : addr_list\n",
        "})\n",
        "df"
      ],
      "execution_count": 24,
      "outputs": [
        {
          "output_type": "execute_result",
          "data": {
            "text/html": [
              "<div>\n",
              "<style scoped>\n",
              "    .dataframe tbody tr th:only-of-type {\n",
              "        vertical-align: middle;\n",
              "    }\n",
              "\n",
              "    .dataframe tbody tr th {\n",
              "        vertical-align: top;\n",
              "    }\n",
              "\n",
              "    .dataframe thead th {\n",
              "        text-align: right;\n",
              "    }\n",
              "</style>\n",
              "<table border=\"1\" class=\"dataframe\">\n",
              "  <thead>\n",
              "    <tr style=\"text-align: right;\">\n",
              "      <th></th>\n",
              "      <th>식당명</th>\n",
              "      <th>평점</th>\n",
              "      <th>메뉴</th>\n",
              "      <th>전화번호</th>\n",
              "      <th>주소</th>\n",
              "    </tr>\n",
              "  </thead>\n",
              "  <tbody>\n",
              "    <tr>\n",
              "      <th>0</th>\n",
              "      <td>그릭슈바인 양재역점</td>\n",
              "      <td>3.6</td>\n",
              "      <td>나이트라이프 &gt; 맥주/호프</td>\n",
              "      <td>02-572-6100</td>\n",
              "      <td>서울특별시 서초구 강남대로 224</td>\n",
              "    </tr>\n",
              "    <tr>\n",
              "      <th>1</th>\n",
              "      <td>미스터브리즈 양재역점</td>\n",
              "      <td>3.4</td>\n",
              "      <td>세계음식 &gt; 카페/커피숍</td>\n",
              "      <td>02-576-4333</td>\n",
              "      <td>서울 서초구 강남대로34길 6</td>\n",
              "    </tr>\n",
              "    <tr>\n",
              "      <th>2</th>\n",
              "      <td>동신참치 양재역점</td>\n",
              "      <td>3.0</td>\n",
              "      <td>한국음식 &gt; 회</td>\n",
              "      <td>02-529-7130</td>\n",
              "      <td>서울 서초구 강남대로 213</td>\n",
              "    </tr>\n",
              "    <tr>\n",
              "      <th>3</th>\n",
              "      <td>새우닭 양재역점</td>\n",
              "      <td>0.0</td>\n",
              "      <td>세계음식 &gt; 씨푸드</td>\n",
              "      <td>02-575-6088</td>\n",
              "      <td>서울특별시 서초구 남부순환로356길 52  1층</td>\n",
              "    </tr>\n",
              "    <tr>\n",
              "      <th>4</th>\n",
              "      <td>양재역 옛날짜장</td>\n",
              "      <td>0.0</td>\n",
              "      <td>세계음식 &gt; 중국음식</td>\n",
              "      <td>031-503-2550</td>\n",
              "      <td>경기도 시흥시 공단1대로 13</td>\n",
              "    </tr>\n",
              "    <tr>\n",
              "      <th>5</th>\n",
              "      <td>영동족발 3호점</td>\n",
              "      <td>4.1</td>\n",
              "      <td>한국음식 &gt; 족발/보쌈</td>\n",
              "      <td>02-575-0250</td>\n",
              "      <td>서울특별시 서초구 남부순환로 2628-18</td>\n",
              "    </tr>\n",
              "    <tr>\n",
              "      <th>6</th>\n",
              "      <td>황재벌</td>\n",
              "      <td>3.9</td>\n",
              "      <td>한국음식 &gt; 장어구이/꼼장어</td>\n",
              "      <td>02-3471-5454</td>\n",
              "      <td>서울특별시 서초구 남부순환로347길 42-4 신화빌딩</td>\n",
              "    </tr>\n",
              "    <tr>\n",
              "      <th>7</th>\n",
              "      <td>김영모과자점 도곡타워점</td>\n",
              "      <td>4.1</td>\n",
              "      <td>세계음식 &gt; 베이커리/제과점</td>\n",
              "      <td>02-3460-2005</td>\n",
              "      <td>서울특별시 강남구 언주로30길 10 현대비젼21</td>\n",
              "    </tr>\n",
              "    <tr>\n",
              "      <th>8</th>\n",
              "      <td>소호정 본점</td>\n",
              "      <td>4.0</td>\n",
              "      <td>한국음식 &gt; 라면/칼국수/국수/수제비</td>\n",
              "      <td>02-579-7282</td>\n",
              "      <td>서울특별시 서초구 논현로 27</td>\n",
              "    </tr>\n",
              "    <tr>\n",
              "      <th>9</th>\n",
              "      <td>산동칼국수</td>\n",
              "      <td>3.9</td>\n",
              "      <td>한국음식 &gt; 라면/칼국수/국수/수제비</td>\n",
              "      <td>02-3473-7972</td>\n",
              "      <td>서울특별시 서초구 강남대로37길 63</td>\n",
              "    </tr>\n",
              "    <tr>\n",
              "      <th>10</th>\n",
              "      <td>양재정육식당</td>\n",
              "      <td>4.1</td>\n",
              "      <td>한국음식 &gt; 꽃등심/등심/육회</td>\n",
              "      <td>02-577-5804</td>\n",
              "      <td>서울 서초구 바우뫼로35길 3</td>\n",
              "    </tr>\n",
              "    <tr>\n",
              "      <th>11</th>\n",
              "      <td>스타쉐프</td>\n",
              "      <td>3.9</td>\n",
              "      <td>세계음식 &gt; 퓨전레스토랑</td>\n",
              "      <td>02-529-8248</td>\n",
              "      <td>서울특별시 강남구 논현로38길 38-6</td>\n",
              "    </tr>\n",
              "  </tbody>\n",
              "</table>\n",
              "</div>"
            ],
            "text/plain": [
              "             식당명   평점  ...          전화번호                             주소\n",
              "0     그릭슈바인 양재역점  3.6  ...   02-572-6100             서울특별시 서초구 강남대로 224\n",
              "1    미스터브리즈 양재역점  3.4  ...   02-576-4333               서울 서초구 강남대로34길 6\n",
              "2      동신참치 양재역점  3.0  ...   02-529-7130                서울 서초구 강남대로 213\n",
              "3       새우닭 양재역점  0.0  ...   02-575-6088     서울특별시 서초구 남부순환로356길 52  1층\n",
              "4       양재역 옛날짜장  0.0  ...  031-503-2550              경기도 시흥시 공단1대로 13 \n",
              "5       영동족발 3호점  4.1  ...   02-575-0250        서울특별시 서초구 남부순환로 2628-18\n",
              "6            황재벌  3.9  ...  02-3471-5454  서울특별시 서초구 남부순환로347길 42-4 신화빌딩\n",
              "7   김영모과자점 도곡타워점  4.1  ...  02-3460-2005     서울특별시 강남구 언주로30길 10 현대비젼21\n",
              "8         소호정 본점  4.0  ...   02-579-7282               서울특별시 서초구 논현로 27\n",
              "9          산동칼국수  3.9  ...  02-3473-7972           서울특별시 서초구 강남대로37길 63\n",
              "10        양재정육식당  4.1  ...   02-577-5804               서울 서초구 바우뫼로35길 3\n",
              "11          스타쉐프  3.9  ...   02-529-8248          서울특별시 강남구 논현로38길 38-6\n",
              "\n",
              "[12 rows x 5 columns]"
            ]
          },
          "metadata": {
            "tags": []
          },
          "execution_count": 24
        }
      ]
    }
  ]
}