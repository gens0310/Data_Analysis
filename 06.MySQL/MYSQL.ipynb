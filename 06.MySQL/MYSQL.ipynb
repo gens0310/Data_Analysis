{
  "nbformat": 4,
  "nbformat_minor": 0,
  "metadata": {
    "colab": {
      "name": "MYSQL.ipynb",
      "provenance": [],
      "collapsed_sections": []
    },
    "kernelspec": {
      "name": "python3",
      "display_name": "Python 3"
    },
    "language_info": {
      "name": "python"
    }
  },
  "cells": [
    {
      "cell_type": "markdown",
      "metadata": {
        "id": "hIFrJDCF7wL0"
      },
      "source": [
        "# Python에서 MySQL 사용"
      ]
    },
    {
      "cell_type": "code",
      "metadata": {
        "id": "cf4P88r5TjWq"
      },
      "source": [
        "!pip install pymysql > /dev/null"
      ],
      "execution_count": null,
      "outputs": []
    },
    {
      "cell_type": "code",
      "metadata": {
        "id": "p2dAyfgjfrxQ"
      },
      "source": [
        "from google.colab import files\n",
        "uploaded = files.upload()\n",
        "filename = list(uploaded.keys())[0]"
      ],
      "execution_count": null,
      "outputs": []
    },
    {
      "cell_type": "code",
      "metadata": {
        "id": "FtDP6RbIf0hg"
      },
      "source": [
        "import json\n",
        "with open(filename) as fp:\n",
        "    config_str = fp.read()\n",
        "config = json.loads(config_str)"
      ],
      "execution_count": null,
      "outputs": []
    },
    {
      "cell_type": "code",
      "metadata": {
        "id": "P-TA60lngB1l"
      },
      "source": [
        "import pymysql\n",
        "conn = pymysql.connect(\n",
        "    host = config['host']\n",
        "    user = config['user']\n",
        "    password = config['password']\n",
        "    database = config['database']\n",
        "    port = config['port']\n",
        ")"
      ],
      "execution_count": null,
      "outputs": []
    },
    {
      "cell_type": "code",
      "metadata": {
        "id": "QMt0wnEXyTON"
      },
      "source": [
        "config['database'] = 'mcdb'"
      ],
      "execution_count": null,
      "outputs": []
    },
    {
      "cell_type": "markdown",
      "metadata": {
        "id": "EdZwoR6c74Bg"
      },
      "source": [
        "## 테이블 생성"
      ]
    },
    {
      "cell_type": "code",
      "metadata": {
        "id": "_P6N330L4RHs"
      },
      "source": [
        "cur = conn.cursor()\n",
        "sql_user = '''\n",
        "CREATE TABLE if NOT EXISTS users(\n",
        "    uid VARCHAR(20) NOT NULL PRIMARY KEY,\n",
        "    pwd CHAR(44) NOT NULL,\n",
        "    uname VARCHAR(20) NOT NULL,\n",
        "    reg_date DATETIME DEFAULT CURRENT_TIMESTAMP,\n",
        "    is_deleted INT DEFAULT 0\n",
        ");\n",
        "'''\n",
        "cur.execute(sql_user)"
      ],
      "execution_count": null,
      "outputs": []
    },
    {
      "cell_type": "markdown",
      "metadata": {
        "id": "nxcN8i3P78Z_"
      },
      "source": [
        "## 테이블 구조/이름 변경"
      ]
    },
    {
      "cell_type": "code",
      "metadata": {
        "id": "eSyBQDZJ5asf"
      },
      "source": [
        "cur.execute('ALTER TABLE users ADD COLUMN email VARCHAR(40)')"
      ],
      "execution_count": null,
      "outputs": []
    },
    {
      "cell_type": "markdown",
      "metadata": {
        "id": "KUXzbx_w7-7l"
      },
      "source": [
        "## 테이블 삭제"
      ]
    },
    {
      "cell_type": "code",
      "metadata": {
        "id": "Yrhb2Qpc5knp"
      },
      "source": [
        "cur.execute('DROP TABLE users')"
      ],
      "execution_count": null,
      "outputs": []
    },
    {
      "cell_type": "markdown",
      "metadata": {
        "id": "NNKOwWxE8BOq"
      },
      "source": [
        "## 데이터 삽입"
      ]
    },
    {
      "cell_type": "markdown",
      "metadata": {
        "id": "79KkhfSR8FG9"
      },
      "source": [
        "### 기본 스트링 쿼리"
      ]
    },
    {
      "cell_type": "code",
      "metadata": {
        "id": "VTI7CIzg5wRU"
      },
      "source": [
        "cur = conn.cursor()\n",
        "cur.execute(\"INSERT INTO users(uid, uname) VALUES('admin', '관리자');\")\n",
        "cur.execute(\"INSERT INTO users(uid, uname) VALUES('', ''), ('', ''), ('', '');\")\n",
        "conn.commit()"
      ],
      "execution_count": null,
      "outputs": []
    },
    {
      "cell_type": "markdown",
      "metadata": {
        "id": "BxWTVVsU8HUp"
      },
      "source": [
        "### 파라미터 : 튜플 사용"
      ]
    },
    {
      "cell_type": "code",
      "metadata": {
        "id": "mBH86IBv6cLi"
      },
      "source": [
        "uid = ''\n",
        "uname = ''\n",
        "cur = conn.cursor()\n",
        "sql = 'INSERT INTO users(uid, uname) VALUES(%s, %s);'\n",
        "cur.execute(sql, users)"
      ],
      "execution_count": null,
      "outputs": []
    },
    {
      "cell_type": "markdown",
      "metadata": {
        "id": "s19DUBDs8L72"
      },
      "source": [
        "### 튜플 리스트 사용"
      ]
    },
    {
      "cell_type": "code",
      "metadata": {
        "id": "vPTggWsA7RJS"
      },
      "source": [
        "users = (('', ''), ('', ''), ('', ''))\n",
        "cur = conn.cursor()\n",
        "sql = 'INSERT INTO users(uid, uname) VALUES(%s, %s);'\n",
        "cur.executemany(sql, users)"
      ],
      "execution_count": null,
      "outputs": []
    },
    {
      "cell_type": "markdown",
      "metadata": {
        "id": "Kyhnc7ax8Q2j"
      },
      "source": [
        "## 데이터 조회"
      ]
    },
    {
      "cell_type": "code",
      "metadata": {
        "id": "6iP1IPNH6uck"
      },
      "source": [
        "sql = \"\"\"\n",
        "SELECT uid, uname, DATE_FORMAT(\n",
        "    reg_date, '%Y-%m-%d %H:%i:%s') AS reg_date\n",
        "    FROM users WHERE isDeleted=0;\n",
        "\"\"\""
      ],
      "execution_count": null,
      "outputs": []
    },
    {
      "cell_type": "markdown",
      "metadata": {
        "id": "5CINNzlF8VLa"
      },
      "source": [
        "### 순회 조회"
      ]
    },
    {
      "cell_type": "code",
      "metadata": {
        "id": "m5isC2bk8WnA"
      },
      "source": [
        "cur = conn.cursor()\n",
        "cur.execute(sql)\n",
        "for row in cur:\n",
        "    print(row)"
      ],
      "execution_count": null,
      "outputs": []
    },
    {
      "cell_type": "markdown",
      "metadata": {
        "id": "-laTtwTD8d9x"
      },
      "source": [
        "### 단건 조회"
      ]
    },
    {
      "cell_type": "code",
      "metadata": {
        "id": "u35e8Yoy8djI"
      },
      "source": [
        "cur = conn.cursor()\n",
        "cur.execute(sql)\n",
        "row = cur.fetchone()"
      ],
      "execution_count": null,
      "outputs": []
    },
    {
      "cell_type": "markdown",
      "metadata": {
        "id": "5hC3JArV8nFm"
      },
      "source": [
        "### 다건 조회"
      ]
    },
    {
      "cell_type": "code",
      "metadata": {
        "id": "MuBKHO2y8pSa"
      },
      "source": [
        "rows = cur.fetchmany(2)"
      ],
      "execution_count": null,
      "outputs": []
    },
    {
      "cell_type": "markdown",
      "metadata": {
        "id": "TvKySLyv8syr"
      },
      "source": [
        "### 모두 조회"
      ]
    },
    {
      "cell_type": "code",
      "metadata": {
        "id": "2hTMdCpj8ugA"
      },
      "source": [
        "rows = cur.fetchall()\n",
        "for row in rows:\n",
        "    print(row)"
      ],
      "execution_count": null,
      "outputs": []
    },
    {
      "cell_type": "markdown",
      "metadata": {
        "id": "aDaHzLL182iu"
      },
      "source": [
        "## 데이터 검색"
      ]
    },
    {
      "cell_type": "markdown",
      "metadata": {
        "id": "8SgExd_c8_Pa"
      },
      "source": [
        "### 기본 스트링 쿼리"
      ]
    },
    {
      "cell_type": "code",
      "metadata": {
        "id": "04QkWtur8-4W"
      },
      "source": [
        "cur = conn.cursor()\n",
        "cur.execute(\"SELECT uname FROM users WHERE uid='';\")\n",
        "rows = cur.fetchall();\n",
        "for row in rows:\n",
        "    print(row)"
      ],
      "execution_count": null,
      "outputs": []
    },
    {
      "cell_type": "markdown",
      "metadata": {
        "id": "bOJNXqZi9A9e"
      },
      "source": [
        "### Place Holder"
      ]
    },
    {
      "cell_type": "code",
      "metadata": {
        "id": "ROEMl00v9D5z"
      },
      "source": [
        "cur = conn.cursor()\n",
        "uid = ''\n",
        "cur.execute('SELECT uname FROM users WHERE uid=%s;', (uid,))\n",
        "writer = cur.fetchone()\n",
        "print(writer[0])"
      ],
      "execution_count": null,
      "outputs": []
    },
    {
      "cell_type": "markdown",
      "metadata": {
        "id": "Qy3hed--86Sn"
      },
      "source": [
        "## 종료"
      ]
    },
    {
      "cell_type": "code",
      "metadata": {
        "id": "BWnfQGmPyYHW"
      },
      "source": [
        "cur.close()\n",
        "conn.close()"
      ],
      "execution_count": null,
      "outputs": []
    }
  ]
}