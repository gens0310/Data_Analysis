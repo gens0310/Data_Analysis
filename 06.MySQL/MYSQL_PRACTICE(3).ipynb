{
  "nbformat": 4,
  "nbformat_minor": 0,
  "metadata": {
    "colab": {
      "name": "MYSQL_PRACTICE(3).ipynb",
      "provenance": [],
      "collapsed_sections": []
    },
    "kernelspec": {
      "name": "python3",
      "display_name": "Python 3"
    },
    "language_info": {
      "name": "python"
    }
  },
  "cells": [
    {
      "cell_type": "markdown",
      "metadata": {
        "id": "2m6KdOym6ui_"
      },
      "source": [
        "# MYSQL PRACTICE"
      ]
    },
    {
      "cell_type": "code",
      "metadata": {
        "id": "lqMixREa6cOU"
      },
      "source": [
        "!pip install pymysql > /dev/null"
      ],
      "execution_count": null,
      "outputs": []
    },
    {
      "cell_type": "code",
      "metadata": {
        "id": "Z6Y8lyzS60zP"
      },
      "source": [
        "from google.colab import files\n",
        "uploaded = files.upload()\n",
        "filename = list(uploaded.keys())[0]"
      ],
      "execution_count": null,
      "outputs": []
    },
    {
      "cell_type": "code",
      "metadata": {
        "id": "QqqmKGGu60sc"
      },
      "source": [
        "import json\n",
        "with open(filename) as fp:\n",
        "    config_str = fp.read()\n",
        "config = json.loads(config_str)"
      ],
      "execution_count": null,
      "outputs": []
    },
    {
      "cell_type": "code",
      "metadata": {
        "id": "gEonuVu560ji"
      },
      "source": [
        "import pymysql\n",
        "conn = pymysql.connect(\n",
        "    host = config['host'],\n",
        "    user = config['user'],\n",
        "    password = config['password'],\n",
        "    database = config['database'],\n",
        "    port = config['port']\n",
        ")"
      ],
      "execution_count": null,
      "outputs": []
    },
    {
      "cell_type": "markdown",
      "metadata": {
        "id": "atAVJgAz61bz"
      },
      "source": [
        "## PASSWORD 암호화"
      ]
    },
    {
      "cell_type": "markdown",
      "metadata": {
        "id": "SUSbvzTh8xGd"
      },
      "source": [
        "### Secure Hash Algorithm(SHA-256)"
      ]
    },
    {
      "cell_type": "code",
      "metadata": {
        "colab": {
          "base_uri": "https://localhost:8080/"
        },
        "id": "8W1eKvgF61xg",
        "outputId": "d76b8c25-bb9e-4afa-f553-e94c60bd9fab"
      },
      "source": [
        "import hashlib\n",
        "pwd = '1234'\n",
        "pwd_sha256 = hashlib.sha256(pwd.encode())\n",
        "pwd_sha256.digest()"
      ],
      "execution_count": 8,
      "outputs": [
        {
          "output_type": "execute_result",
          "data": {
            "text/plain": [
              "b'\\x03\\xacgB\\x16\\xf3\\xe1\\\\v\\x1e\\xe1\\xa5\\xe2U\\xf0g\\x956#\\xc8\\xb3\\x88\\xb4E\\x9e\\x13\\xf9x\\xd7\\xc8F\\xf4'"
            ]
          },
          "metadata": {},
          "execution_count": 8
        }
      ]
    },
    {
      "cell_type": "markdown",
      "metadata": {
        "id": "eb4aGDAO9Mw0"
      },
      "source": [
        "### Base64"
      ]
    },
    {
      "cell_type": "code",
      "metadata": {
        "colab": {
          "base_uri": "https://localhost:8080/"
        },
        "id": "7Tc1RBX09QP-",
        "outputId": "2dfaab8c-f608-4ac3-81dc-d6762bce2c17"
      },
      "source": [
        "import base64\n",
        "base64.b64encode(pwd_sha256.digest())"
      ],
      "execution_count": 9,
      "outputs": [
        {
          "output_type": "execute_result",
          "data": {
            "text/plain": [
              "b'A6xnQhbz4Vx2HuGl4lXwZ5U2I8iziLRFnhP5eNfIRvQ='"
            ]
          },
          "metadata": {},
          "execution_count": 9
        }
      ]
    },
    {
      "cell_type": "markdown",
      "metadata": {
        "id": "Nv_ZvEkT-UAy"
      },
      "source": [
        "### PASSWORD 생성 함수"
      ]
    },
    {
      "cell_type": "code",
      "metadata": {
        "id": "2BHiiX-j-LP5"
      },
      "source": [
        "import hashlib\n",
        "import base64\n",
        "\n",
        "def gen_pwd(pwd):\n",
        "    pwd_sha256 = hashlib.sha256(pwd.encode())\n",
        "    hashed_pwd = base64.b64encode(pwd_sha256.digest()).decode('UTF-8')\n",
        "    return hashed_pwd"
      ],
      "execution_count": 10,
      "outputs": []
    },
    {
      "cell_type": "code",
      "metadata": {
        "colab": {
          "base_uri": "https://localhost:8080/",
          "height": 35
        },
        "id": "25F2MvqF-_sB",
        "outputId": "dbf66171-0572-4857-8193-5db3e3392093"
      },
      "source": [
        "gen_pwd('qwerty')"
      ],
      "execution_count": 6,
      "outputs": [
        {
          "output_type": "execute_result",
          "data": {
            "application/vnd.google.colaboratory.intrinsic+json": {
              "type": "string"
            },
            "text/plain": [
              "'ZehL4zUy+3hMSBKWdfnv86aCsnFowOp0Syz1juAjN8U='"
            ]
          },
          "metadata": {},
          "execution_count": 6
        }
      ]
    },
    {
      "cell_type": "markdown",
      "metadata": {
        "id": "NYr-FTok_Egy"
      },
      "source": [
        "## users 테이블에 PASSWORD 입력"
      ]
    },
    {
      "cell_type": "markdown",
      "metadata": {
        "id": "tSzY_B6U_NBf"
      },
      "source": [
        "### uid = 21"
      ]
    },
    {
      "cell_type": "code",
      "metadata": {
        "id": "Z_5DVf7h_CaA"
      },
      "source": [
        "sql = 'SELECT uid FROM users;'\n",
        "cur = conn.cursor()\n",
        "cur.execute(sql)\n",
        "result = cur.fetchall()\n",
        "result"
      ],
      "execution_count": null,
      "outputs": []
    },
    {
      "cell_type": "code",
      "metadata": {
        "id": "ut4FfoRB_op-"
      },
      "source": [
        "sql = 'UPDATE users SET pwd=%s WHERE uid=%s;'\n",
        "for line in results:\n",
        "    uid = line[0]\n",
        "    pwd = gen_pwd(uid='21')\n",
        "    cur.execute(sql, (pwd, uid))"
      ],
      "execution_count": null,
      "outputs": []
    },
    {
      "cell_type": "code",
      "metadata": {
        "id": "2F6_Qq5PBysq"
      },
      "source": [
        "conn.commit()"
      ],
      "execution_count": null,
      "outputs": []
    },
    {
      "cell_type": "markdown",
      "metadata": {
        "id": "QXYuihhSB_qR"
      },
      "source": [
        "### email 추가 : uid@mc.com"
      ]
    },
    {
      "cell_type": "code",
      "metadata": {
        "id": "krkH159lC6fQ"
      },
      "source": [
        "sql_email = 'UPDATE users SET email=%s WHERE uid=%s;'\n",
        "for line in results:\n",
        "    uid = line[0]\n",
        "    email = uid + '@mc.com'\n",
        "    cur.execute(sql, (email, uid))\n",
        "conn.commit()"
      ],
      "execution_count": null,
      "outputs": []
    },
    {
      "cell_type": "markdown",
      "metadata": {
        "id": "j2S171-iDoxL"
      },
      "source": [
        "## 로그인"
      ]
    },
    {
      "cell_type": "code",
      "metadata": {
        "id": "LJ84njuOIGgG"
      },
      "source": [
        "sql = 'SELECT uid, pwd FROM users WHERE uid=%s AND is_deleted=0;'"
      ],
      "execution_count": null,
      "outputs": []
    },
    {
      "cell_type": "markdown",
      "metadata": {
        "id": "ZOgnZmpNDrW6"
      },
      "source": [
        "### CASE 1 : uid가 없는 경우"
      ]
    },
    {
      "cell_type": "code",
      "metadata": {
        "id": "OgfH48JYDqKU"
      },
      "source": [
        "uid = 'fool'\n",
        "cur.execute(sql, (uid,))\n",
        "result = cur.fetchone()\n",
        "result"
      ],
      "execution_count": null,
      "outputs": []
    },
    {
      "cell_type": "markdown",
      "metadata": {
        "id": "FGypNmxiEQOM"
      },
      "source": [
        "### CASE 2 : PASSWORD가 다른 경우"
      ]
    },
    {
      "cell_type": "code",
      "metadata": {
        "id": "MyCzLfbhEQxy"
      },
      "source": [
        "uid = 'ABC'\n",
        "pwd = 'asdf'\n",
        "cur.execute(sql, (uid,))\n",
        "result = cur.fetchone()\n",
        "result"
      ],
      "execution_count": null,
      "outputs": []
    },
    {
      "cell_type": "code",
      "metadata": {
        "id": "_iw_SQ5WIkmn"
      },
      "source": [
        "db_pwd = result[1]\n",
        "hashed_pwd = gen_pwd(pwd)\n",
        "if db_pwd == hashed_pwd:\n",
        "    print('LOGIN')\n",
        "else:\n",
        "    print('INCORRECT PASSWORD')"
      ],
      "execution_count": null,
      "outputs": []
    },
    {
      "cell_type": "markdown",
      "metadata": {
        "id": "RTUj0BaRERET"
      },
      "source": [
        "### CASE 3 : OK"
      ]
    },
    {
      "cell_type": "code",
      "metadata": {
        "id": "jFnyMy_TERmG"
      },
      "source": [
        "uid = 'ABC'\n",
        "pwd = '1234'\n",
        "cur.execute(sql, (uid,))\n",
        "result = cur.fetchone()\n",
        "db_pwd = result[1]\n",
        "hashed_pwd = gen_pwd(pwd)\n",
        "if db_pwd == hashed_pwd:\n",
        "    print('LOGIN')\n",
        "else:\n",
        "    print('INCORRECT PASSWORD')"
      ],
      "execution_count": null,
      "outputs": []
    },
    {
      "cell_type": "markdown",
      "metadata": {
        "id": "dHzVEbJIJS4u"
      },
      "source": [
        "### 통합 코드"
      ]
    },
    {
      "cell_type": "code",
      "metadata": {
        "id": "vaGKq4YcJVdW"
      },
      "source": [
        "sql = 'SELECT uid, pwd FROM users WHERE uid=%s AND is_deleted=0;'\n",
        "uid = 'ABC'\n",
        "pwd = '1234'\n",
        "cur.execute(sql, (uid,))\n",
        "result = cur.fetchone()\n",
        "if result:\n",
        "    db_pwd = result[1]\n",
        "    hashed_pwd = gen_pwd(pwd)\n",
        "    if db_pwd == hashed_pwd:\n",
        "        print('LOGIN')\n",
        "    else:\n",
        "        print('INCORRECT PASSWORD')\n",
        "else:\n",
        "    print('INCORRECT ID')"
      ],
      "execution_count": null,
      "outputs": []
    },
    {
      "cell_type": "markdown",
      "metadata": {
        "id": "b6GY5ybVKR6b"
      },
      "source": [
        "### 예외처리 이용"
      ]
    },
    {
      "cell_type": "code",
      "metadata": {
        "id": "itIQcT3NKTsE"
      },
      "source": [
        "sql = 'SELECT uid, pwd FROM users WHERE uid=%s AND is_deleted=0;'\n",
        "uid = 'ABC'\n",
        "pwd = '1234'\n",
        "cur.execute(sql, (uid,))\n",
        "result = cur.fetchone()\n",
        "try:\n",
        "    db_pwd = result[1]\n",
        "    hashed_pwd = gen_pwd(pwd)\n",
        "    if db_pwd == hashed_pwd:\n",
        "        print('LOGIN')\n",
        "    else:\n",
        "        print('INCORRECT PASSWORD')\n",
        "except:\n",
        "    print('INCORRECT ID')"
      ],
      "execution_count": null,
      "outputs": []
    },
    {
      "cell_type": "markdown",
      "metadata": {
        "id": "U6w0RwMCJ9nS"
      },
      "source": [
        "## 종료"
      ]
    },
    {
      "cell_type": "code",
      "metadata": {
        "id": "vlHO8GAHJ-2S"
      },
      "source": [
        "cur.close()\n",
        "conn.close()"
      ],
      "execution_count": null,
      "outputs": []
    }
  ]
}