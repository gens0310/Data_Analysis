{
  "nbformat": 4,
  "nbformat_minor": 0,
  "metadata": {
    "colab": {
      "name": "sales.ipynb",
      "provenance": [],
      "collapsed_sections": []
    },
    "kernelspec": {
      "name": "python3",
      "display_name": "Python 3"
    },
    "language_info": {
      "name": "python"
    }
  },
  "cells": [
    {
      "cell_type": "code",
      "metadata": {
        "id": "_ny-bbkkzrc_"
      },
      "source": [
        "!pip install pymysql > /dev/null\n",
        "!apt-get install -y fonts-nanum > /dev/null\n",
        "!fc-cache -fv > /dev/null\n",
        "!rm -rf ~/.cache/matplotlib > /dev/null"
      ],
      "execution_count": 1,
      "outputs": []
    },
    {
      "cell_type": "code",
      "metadata": {
        "id": "_E2-O9K727ti",
        "colab": {
          "resources": {
            "http://localhost:8080/nbextensions/google.colab/files.js": {
              "data": "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",
              "ok": true,
              "headers": [
                [
                  "content-type",
                  "application/javascript"
                ]
              ],
              "status": 200,
              "status_text": ""
            }
          },
          "base_uri": "https://localhost:8080/",
          "height": 76
        },
        "outputId": "289621da-8676-420e-cae0-cc9a549615c1"
      },
      "source": [
        "from google.colab import files\n",
        "uploaded = files.upload()\n",
        "filename = list(uploaded.keys())[0]"
      ],
      "execution_count": 1,
      "outputs": [
        {
          "output_type": "display_data",
          "data": {
            "text/html": [
              "\n",
              "     <input type=\"file\" id=\"files-63ce7b0d-f4cb-4d90-9609-57eb5f3e9bdd\" name=\"files[]\" multiple disabled\n",
              "        style=\"border:none\" />\n",
              "     <output id=\"result-63ce7b0d-f4cb-4d90-9609-57eb5f3e9bdd\">\n",
              "      Upload widget is only available when the cell has been executed in the\n",
              "      current browser session. Please rerun this cell to enable.\n",
              "      </output>\n",
              "      <script src=\"/nbextensions/google.colab/files.js\"></script> "
            ],
            "text/plain": [
              "<IPython.core.display.HTML object>"
            ]
          },
          "metadata": {}
        },
        {
          "output_type": "stream",
          "text": [
            "Saving mysql.json to mysql.json\n"
          ],
          "name": "stdout"
        }
      ]
    },
    {
      "cell_type": "code",
      "metadata": {
        "id": "__I2vSq8277q"
      },
      "source": [
        "import json\n",
        "with open(filename) as fp:\n",
        "    config_str = fp.read()\n",
        "config = json.loads(config_str)"
      ],
      "execution_count": 2,
      "outputs": []
    },
    {
      "cell_type": "code",
      "metadata": {
        "id": "8j-YuHAM2yh3"
      },
      "source": [
        "import numpy as np\n",
        "import pandas as pd\n",
        "import matplotlib as mpl\n",
        "import matplotlib.pyplot as plt\n",
        "mpl.rcParams['axes.unicode_minus'] = False\n",
        "plt.rc('font', family='NanumBarunGothic')"
      ],
      "execution_count": 3,
      "outputs": []
    },
    {
      "cell_type": "markdown",
      "metadata": {
        "id": "jmm-uy1kFs8_"
      },
      "source": [
        "### UPLOAD db_module.py"
      ]
    },
    {
      "cell_type": "code",
      "metadata": {
        "id": "lSMEMVy9BX4J"
      },
      "source": [
        "import db_module as dm"
      ],
      "execution_count": 4,
      "outputs": []
    },
    {
      "cell_type": "code",
      "metadata": {
        "colab": {
          "base_uri": "https://localhost:8080/"
        },
        "id": "4aLEn_xZBcLC",
        "outputId": "f4a26526-cd26-4050-9dc0-70ab43b157f1"
      },
      "source": [
        "!ls -la"
      ],
      "execution_count": 5,
      "outputs": [
        {
          "output_type": "stream",
          "text": [
            "total 28\n",
            "drwxr-xr-x 1 root root 4096 Aug 26 08:42 .\n",
            "drwxr-xr-x 1 root root 4096 Aug 26 08:38 ..\n",
            "drwxr-xr-x 4 root root 4096 Aug 13 13:34 .config\n",
            "-rw-r--r-- 1 root root 1972 Aug 26 08:42 db_module.py\n",
            "-rw-r--r-- 1 root root  116 Aug 26 08:41 mysql.json\n",
            "drwxr-xr-x 2 root root 4096 Aug 26 08:42 __pycache__\n",
            "drwxr-xr-x 1 root root 4096 Aug 13 13:35 sample_data\n"
          ],
          "name": "stdout"
        }
      ]
    },
    {
      "cell_type": "markdown",
      "metadata": {
        "id": "SQdjSXQUWo6R"
      },
      "source": [
        "## 월별 매출/이익"
      ]
    },
    {
      "cell_type": "code",
      "metadata": {
        "id": "eFz10kdeOUMT",
        "colab": {
          "base_uri": "https://localhost:8080/",
          "height": 452
        },
        "outputId": "3580f449-66ac-4d4c-ad93-8f8286875f2c"
      },
      "source": [
        "results = dm.get_monthly_data(config)\n",
        "df = pd.DataFrame(results, columns=['월', '매출', '이익'])\n",
        "df.set_index('월', inplace=True)\n",
        "df['매출'] = df.매출.astype(int)\n",
        "df['이익'] = df.이익.astype(int)\n",
        "df"
      ],
      "execution_count": 6,
      "outputs": [
        {
          "output_type": "execute_result",
          "data": {
            "text/html": [
              "<div>\n",
              "<style scoped>\n",
              "    .dataframe tbody tr th:only-of-type {\n",
              "        vertical-align: middle;\n",
              "    }\n",
              "\n",
              "    .dataframe tbody tr th {\n",
              "        vertical-align: top;\n",
              "    }\n",
              "\n",
              "    .dataframe thead th {\n",
              "        text-align: right;\n",
              "    }\n",
              "</style>\n",
              "<table border=\"1\" class=\"dataframe\">\n",
              "  <thead>\n",
              "    <tr style=\"text-align: right;\">\n",
              "      <th></th>\n",
              "      <th>매출</th>\n",
              "      <th>이익</th>\n",
              "    </tr>\n",
              "    <tr>\n",
              "      <th>월</th>\n",
              "      <th></th>\n",
              "      <th></th>\n",
              "    </tr>\n",
              "  </thead>\n",
              "  <tbody>\n",
              "    <tr>\n",
              "      <th>01</th>\n",
              "      <td>5042600</td>\n",
              "      <td>367020</td>\n",
              "    </tr>\n",
              "    <tr>\n",
              "      <th>02</th>\n",
              "      <td>6756500</td>\n",
              "      <td>614320</td>\n",
              "    </tr>\n",
              "    <tr>\n",
              "      <th>03</th>\n",
              "      <td>5464100</td>\n",
              "      <td>548740</td>\n",
              "    </tr>\n",
              "    <tr>\n",
              "      <th>04</th>\n",
              "      <td>6445400</td>\n",
              "      <td>380780</td>\n",
              "    </tr>\n",
              "    <tr>\n",
              "      <th>05</th>\n",
              "      <td>5405300</td>\n",
              "      <td>564760</td>\n",
              "    </tr>\n",
              "    <tr>\n",
              "      <th>06</th>\n",
              "      <td>4118000</td>\n",
              "      <td>290770</td>\n",
              "    </tr>\n",
              "    <tr>\n",
              "      <th>07</th>\n",
              "      <td>4915900</td>\n",
              "      <td>546920</td>\n",
              "    </tr>\n",
              "    <tr>\n",
              "      <th>08</th>\n",
              "      <td>3070600</td>\n",
              "      <td>338140</td>\n",
              "    </tr>\n",
              "    <tr>\n",
              "      <th>09</th>\n",
              "      <td>7263400</td>\n",
              "      <td>527250</td>\n",
              "    </tr>\n",
              "    <tr>\n",
              "      <th>10</th>\n",
              "      <td>6566700</td>\n",
              "      <td>463820</td>\n",
              "    </tr>\n",
              "    <tr>\n",
              "      <th>11</th>\n",
              "      <td>5600700</td>\n",
              "      <td>353690</td>\n",
              "    </tr>\n",
              "    <tr>\n",
              "      <th>12</th>\n",
              "      <td>5129400</td>\n",
              "      <td>357290</td>\n",
              "    </tr>\n",
              "  </tbody>\n",
              "</table>\n",
              "</div>"
            ],
            "text/plain": [
              "         매출      이익\n",
              "월                  \n",
              "01  5042600  367020\n",
              "02  6756500  614320\n",
              "03  5464100  548740\n",
              "04  6445400  380780\n",
              "05  5405300  564760\n",
              "06  4118000  290770\n",
              "07  4915900  546920\n",
              "08  3070600  338140\n",
              "09  7263400  527250\n",
              "10  6566700  463820\n",
              "11  5600700  353690\n",
              "12  5129400  357290"
            ]
          },
          "metadata": {},
          "execution_count": 6
        }
      ]
    },
    {
      "cell_type": "markdown",
      "metadata": {
        "id": "w5aYyb-57oTR"
      },
      "source": [
        "### 표"
      ]
    },
    {
      "cell_type": "code",
      "metadata": {
        "colab": {
          "base_uri": "https://localhost:8080/",
          "height": 165
        },
        "id": "eOl02s1j7qKt",
        "outputId": "eb01653c-91ad-448a-fccc-f99790217b8e"
      },
      "source": [
        "tdf = df.T\n",
        "tdf['계'] = [df.매출.sum(), df.이익.sum()]\n",
        "tdf"
      ],
      "execution_count": 7,
      "outputs": [
        {
          "output_type": "execute_result",
          "data": {
            "text/html": [
              "<div>\n",
              "<style scoped>\n",
              "    .dataframe tbody tr th:only-of-type {\n",
              "        vertical-align: middle;\n",
              "    }\n",
              "\n",
              "    .dataframe tbody tr th {\n",
              "        vertical-align: top;\n",
              "    }\n",
              "\n",
              "    .dataframe thead th {\n",
              "        text-align: right;\n",
              "    }\n",
              "</style>\n",
              "<table border=\"1\" class=\"dataframe\">\n",
              "  <thead>\n",
              "    <tr style=\"text-align: right;\">\n",
              "      <th>월</th>\n",
              "      <th>01</th>\n",
              "      <th>02</th>\n",
              "      <th>03</th>\n",
              "      <th>04</th>\n",
              "      <th>05</th>\n",
              "      <th>06</th>\n",
              "      <th>07</th>\n",
              "      <th>08</th>\n",
              "      <th>09</th>\n",
              "      <th>10</th>\n",
              "      <th>11</th>\n",
              "      <th>12</th>\n",
              "      <th>계</th>\n",
              "    </tr>\n",
              "  </thead>\n",
              "  <tbody>\n",
              "    <tr>\n",
              "      <th>매출</th>\n",
              "      <td>5042600</td>\n",
              "      <td>6756500</td>\n",
              "      <td>5464100</td>\n",
              "      <td>6445400</td>\n",
              "      <td>5405300</td>\n",
              "      <td>4118000</td>\n",
              "      <td>4915900</td>\n",
              "      <td>3070600</td>\n",
              "      <td>7263400</td>\n",
              "      <td>6566700</td>\n",
              "      <td>5600700</td>\n",
              "      <td>5129400</td>\n",
              "      <td>65778600</td>\n",
              "    </tr>\n",
              "    <tr>\n",
              "      <th>이익</th>\n",
              "      <td>367020</td>\n",
              "      <td>614320</td>\n",
              "      <td>548740</td>\n",
              "      <td>380780</td>\n",
              "      <td>564760</td>\n",
              "      <td>290770</td>\n",
              "      <td>546920</td>\n",
              "      <td>338140</td>\n",
              "      <td>527250</td>\n",
              "      <td>463820</td>\n",
              "      <td>353690</td>\n",
              "      <td>357290</td>\n",
              "      <td>5353500</td>\n",
              "    </tr>\n",
              "  </tbody>\n",
              "</table>\n",
              "</div>"
            ],
            "text/plain": [
              "월        01       02       03       04  ...       10       11       12         계\n",
              "매출  5042600  6756500  5464100  6445400  ...  6566700  5600700  5129400  65778600\n",
              "이익   367020   614320   548740   380780  ...   463820   353690   357290   5353500\n",
              "\n",
              "[2 rows x 13 columns]"
            ]
          },
          "metadata": {},
          "execution_count": 7
        }
      ]
    },
    {
      "cell_type": "markdown",
      "metadata": {
        "id": "Y8OSE67x7qkm"
      },
      "source": [
        "### 그래프"
      ]
    },
    {
      "cell_type": "code",
      "metadata": {
        "colab": {
          "base_uri": "https://localhost:8080/",
          "height": 408
        },
        "id": "BC0_7Ywq7sJF",
        "outputId": "c4e1b671-5e94-48ba-d3dd-234b5538f72d"
      },
      "source": [
        "df.plot.bar(figsize=(10, 6))\n",
        "plt.title('월별 매출/이익', size=15)\n",
        "plt.grid()\n",
        "plt.show()"
      ],
      "execution_count": 8,
      "outputs": [
        {
          "output_type": "display_data",
          "data": {
            "image/png": "[encoded data removed]",
            "text/plain": [
              "<Figure size 720x432 with 1 Axes>"
            ]
          },
          "metadata": {
            "needs_background": "light"
          }
        }
      ]
    },
    {
      "cell_type": "markdown",
      "metadata": {
        "id": "ODecG5G0Wtnm"
      },
      "source": [
        "## 거래처별 매출/이익"
      ]
    },
    {
      "cell_type": "code",
      "metadata": {
        "id": "khdG6kamftn3"
      },
      "source": [
        "pd.options.display.float_format = '{:.2}'.format"
      ],
      "execution_count": 9,
      "outputs": []
    },
    {
      "cell_type": "markdown",
      "metadata": {
        "id": "bXQYL6YD7s2d"
      },
      "source": [
        "### 표"
      ]
    },
    {
      "cell_type": "code",
      "metadata": {
        "colab": {
          "base_uri": "https://localhost:8080/",
          "height": 235
        },
        "id": "S3eU80kxW-_2",
        "outputId": "d161ec42-f114-477e-934d-de8a0e9c533c"
      },
      "source": [
        "results = dm.get_data_by_company(config)\n",
        "df = pd.DataFrame(results, columns=['판매처', '매출', '이익'])\n",
        "df.set_index('판매처', inplace=True)\n",
        "df['매출'] = df.매출.astype(int)\n",
        "df['이익'] = df.이익.astype(int)\n",
        "df['이익율'] = df.이익 / df.매출 * 100\n",
        "df"
      ],
      "execution_count": 10,
      "outputs": [
        {
          "output_type": "execute_result",
          "data": {
            "text/html": [
              "<div>\n",
              "<style scoped>\n",
              "    .dataframe tbody tr th:only-of-type {\n",
              "        vertical-align: middle;\n",
              "    }\n",
              "\n",
              "    .dataframe tbody tr th {\n",
              "        vertical-align: top;\n",
              "    }\n",
              "\n",
              "    .dataframe thead th {\n",
              "        text-align: right;\n",
              "    }\n",
              "</style>\n",
              "<table border=\"1\" class=\"dataframe\">\n",
              "  <thead>\n",
              "    <tr style=\"text-align: right;\">\n",
              "      <th></th>\n",
              "      <th>매출</th>\n",
              "      <th>이익</th>\n",
              "      <th>이익율</th>\n",
              "    </tr>\n",
              "    <tr>\n",
              "      <th>판매처</th>\n",
              "      <th></th>\n",
              "      <th></th>\n",
              "      <th></th>\n",
              "    </tr>\n",
              "  </thead>\n",
              "  <tbody>\n",
              "    <tr>\n",
              "      <th>INTEL</th>\n",
              "      <td>16746000</td>\n",
              "      <td>1615050</td>\n",
              "      <td>9.6</td>\n",
              "    </tr>\n",
              "    <tr>\n",
              "      <th>NVIDIA</th>\n",
              "      <td>16326400</td>\n",
              "      <td>1346060</td>\n",
              "      <td>8.2</td>\n",
              "    </tr>\n",
              "    <tr>\n",
              "      <th>SAMSUNG</th>\n",
              "      <td>13939800</td>\n",
              "      <td>1076360</td>\n",
              "      <td>7.7</td>\n",
              "    </tr>\n",
              "    <tr>\n",
              "      <th>TSMC</th>\n",
              "      <td>11519400</td>\n",
              "      <td>689180</td>\n",
              "      <td>6.0</td>\n",
              "    </tr>\n",
              "    <tr>\n",
              "      <th>AMD</th>\n",
              "      <td>7247000</td>\n",
              "      <td>626850</td>\n",
              "      <td>8.6</td>\n",
              "    </tr>\n",
              "  </tbody>\n",
              "</table>\n",
              "</div>"
            ],
            "text/plain": [
              "               매출       이익  이익율\n",
              "판매처                            \n",
              "INTEL    16746000  1615050  9.6\n",
              "NVIDIA   16326400  1346060  8.2\n",
              "SAMSUNG  13939800  1076360  7.7\n",
              "TSMC     11519400   689180  6.0\n",
              "AMD       7247000   626850  8.6"
            ]
          },
          "metadata": {},
          "execution_count": 10
        }
      ]
    },
    {
      "cell_type": "markdown",
      "metadata": {
        "id": "g4rkvkhh7tme"
      },
      "source": [
        "### 그래프"
      ]
    },
    {
      "cell_type": "code",
      "metadata": {
        "colab": {
          "base_uri": "https://localhost:8080/",
          "height": 291
        },
        "id": "koj24-wD7t5x",
        "outputId": "2b5797a9-d37d-466e-b884-bfb0da632df5"
      },
      "source": [
        "df[['매출', '이익']].plot.barh(rot=0, figsize=(10, 4))\n",
        "plt.title('거래처별 매출/이익', size=15)\n",
        "plt.grid()\n",
        "plt.show()"
      ],
      "execution_count": 11,
      "outputs": [
        {
          "output_type": "display_data",
          "data": {
            "image/png": "[encoded data removed]",
            "text/plain": [
              "<Figure size 720x288 with 1 Axes>"
            ]
          },
          "metadata": {
            "needs_background": "light"
          }
        }
      ]
    },
    {
      "cell_type": "code",
      "metadata": {
        "colab": {
          "base_uri": "https://localhost:8080/",
          "height": 278
        },
        "id": "1xRyQ11YmvON",
        "outputId": "85e690db-61c7-4d24-bb53-6593a3a1ee71"
      },
      "source": [
        "df['이익율'].plot.barh(rot=0, figsize=(10, 4))\n",
        "plt.title('거래처별 이익율(%)', size=15)\n",
        "plt.grid()\n",
        "plt.show()"
      ],
      "execution_count": 12,
      "outputs": [
        {
          "output_type": "display_data",
          "data": {
            "image/png": "[encoded data removed]",
            "text/plain": [
              "<Figure size 720x288 with 1 Axes>"
            ]
          },
          "metadata": {
            "needs_background": "light"
          }
        }
      ]
    },
    {
      "cell_type": "markdown",
      "metadata": {
        "id": "JMal-_3vWv9J"
      },
      "source": [
        "## 거래처별 판매제품/수량"
      ]
    },
    {
      "cell_type": "markdown",
      "metadata": {
        "id": "2NVP-Sl67xEq"
      },
      "source": [
        "### 표"
      ]
    },
    {
      "cell_type": "code",
      "metadata": {
        "colab": {
          "base_uri": "https://localhost:8080/",
          "height": 450
        },
        "id": "ta0DurSKW_S9",
        "outputId": "c970bbe0-350e-4d48-f29a-3b1e4c4d3c5e"
      },
      "source": [
        "results = dm.get_products_by_company(config)\n",
        "df = pd.DataFrame(results, columns=['판매처', '상품', '수량'])\n",
        "df.set_index(['판매처', '상품'], inplace=True)\n",
        "df['수량'] = df.수량.astype(int)\n",
        "df"
      ],
      "execution_count": 13,
      "outputs": [
        {
          "output_type": "execute_result",
          "data": {
            "text/html": [
              "<div>\n",
              "<style scoped>\n",
              "    .dataframe tbody tr th:only-of-type {\n",
              "        vertical-align: middle;\n",
              "    }\n",
              "\n",
              "    .dataframe tbody tr th {\n",
              "        vertical-align: top;\n",
              "    }\n",
              "\n",
              "    .dataframe thead th {\n",
              "        text-align: right;\n",
              "    }\n",
              "</style>\n",
              "<table border=\"1\" class=\"dataframe\">\n",
              "  <thead>\n",
              "    <tr style=\"text-align: right;\">\n",
              "      <th></th>\n",
              "      <th></th>\n",
              "      <th>수량</th>\n",
              "    </tr>\n",
              "    <tr>\n",
              "      <th>판매처</th>\n",
              "      <th>상품</th>\n",
              "      <th></th>\n",
              "    </tr>\n",
              "  </thead>\n",
              "  <tbody>\n",
              "    <tr>\n",
              "      <th rowspan=\"5\" valign=\"top\">AMD</th>\n",
              "      <th>1700X</th>\n",
              "      <td>6</td>\n",
              "    </tr>\n",
              "    <tr>\n",
              "      <th>2700X</th>\n",
              "      <td>2</td>\n",
              "    </tr>\n",
              "    <tr>\n",
              "      <th>3800X</th>\n",
              "      <td>22</td>\n",
              "    </tr>\n",
              "    <tr>\n",
              "      <th>5600X</th>\n",
              "      <td>10</td>\n",
              "    </tr>\n",
              "    <tr>\n",
              "      <th>990FX</th>\n",
              "      <td>3</td>\n",
              "    </tr>\n",
              "    <tr>\n",
              "      <th>...</th>\n",
              "      <th>...</th>\n",
              "      <td>...</td>\n",
              "    </tr>\n",
              "    <tr>\n",
              "      <th rowspan=\"5\" valign=\"top\">TSMC</th>\n",
              "      <th>FX-8300</th>\n",
              "      <td>16</td>\n",
              "    </tr>\n",
              "    <tr>\n",
              "      <th>RX580</th>\n",
              "      <td>27</td>\n",
              "    </tr>\n",
              "    <tr>\n",
              "      <th>RX6800</th>\n",
              "      <td>3</td>\n",
              "    </tr>\n",
              "    <tr>\n",
              "      <th>RX6900XT</th>\n",
              "      <td>13</td>\n",
              "    </tr>\n",
              "    <tr>\n",
              "      <th>X570</th>\n",
              "      <td>31</td>\n",
              "    </tr>\n",
              "  </tbody>\n",
              "</table>\n",
              "<p>78 rows × 1 columns</p>\n",
              "</div>"
            ],
            "text/plain": [
              "               수량\n",
              "판매처  상품          \n",
              "AMD  1700X      6\n",
              "     2700X      2\n",
              "     3800X     22\n",
              "     5600X     10\n",
              "     990FX      3\n",
              "...            ..\n",
              "TSMC FX-8300   16\n",
              "     RX580     27\n",
              "     RX6800     3\n",
              "     RX6900XT  13\n",
              "     X570      31\n",
              "\n",
              "[78 rows x 1 columns]"
            ]
          },
          "metadata": {},
          "execution_count": 13
        }
      ]
    },
    {
      "cell_type": "code",
      "metadata": {
        "colab": {
          "base_uri": "https://localhost:8080/"
        },
        "id": "EEehlmqJnARl",
        "outputId": "05e44c93-2ea0-4f31-e582-c9274be8b1b5"
      },
      "source": [
        "df.reset_index()['판매처'].unique()"
      ],
      "execution_count": 14,
      "outputs": [
        {
          "output_type": "execute_result",
          "data": {
            "text/plain": [
              "array(['AMD', 'INTEL', 'NVIDIA', 'SAMSUNG', 'TSMC'], dtype=object)"
            ]
          },
          "metadata": {},
          "execution_count": 14
        }
      ]
    },
    {
      "cell_type": "markdown",
      "metadata": {
        "id": "BMsEbkpO7xwV"
      },
      "source": [
        "### 그래프"
      ]
    },
    {
      "cell_type": "code",
      "metadata": {
        "colab": {
          "base_uri": "https://localhost:8080/",
          "height": 1000
        },
        "id": "_I2E-i787yTI",
        "outputId": "b0cecdc2-b1d7-4602-db62-c4b2c5e58913"
      },
      "source": [
        "for company in df.reset_index()['판매처'].unique():\n",
        "    sdf=df.loc[(company,)]\n",
        "    sdf.sort_values(by='수량').plot.barh(figsize=(10, 6))\n",
        "    plt.title(f'{company}에 판매된 상품', size=15)\n",
        "    plt.grid()\n",
        "    plt.show()"
      ],
      "execution_count": 15,
      "outputs": [
        {
          "output_type": "display_data",
          "data": {
            "image/png": "[encoded data removed]",
            "text/plain": [
              "<Figure size 720x432 with 1 Axes>"
            ]
          },
          "metadata": {
            "needs_background": "light"
          }
        },
        {
          "output_type": "display_data",
          "data": {
            "image/png": "[encoded data removed]",
            "text/plain": [
              "<Figure size 720x432 with 1 Axes>"
            ]
          },
          "metadata": {
            "needs_background": "light"
          }
        },
        {
          "output_type": "display_data",
          "data": {
            "image/png": "[encoded data removed]",
            "text/plain": [
              "<Figure size 720x432 with 1 Axes>"
            ]
          },
          "metadata": {
            "needs_background": "light"
          }
        },
        {
          "output_type": "display_data",
          "data": {
            "image/png": "[encoded data removed]",
            "text/plain": [
              "<Figure size 720x432 with 1 Axes>"
            ]
          },
          "metadata": {
            "needs_background": "light"
          }
        },
        {
          "output_type": "display_data",
          "data": {
            "image/png": "[encoded data removed]",
            "text/plain": [
              "<Figure size 720x432 with 1 Axes>"
            ]
          },
          "metadata": {
            "needs_background": "light"
          }
        }
      ]
    },
    {
      "cell_type": "markdown",
      "metadata": {
        "id": "XMlobs-SWzGZ"
      },
      "source": [
        "## 제품별 판매수량/매출/이익"
      ]
    },
    {
      "cell_type": "markdown",
      "metadata": {
        "id": "lloA4v3_71zJ"
      },
      "source": [
        "### 표"
      ]
    },
    {
      "cell_type": "code",
      "metadata": {
        "colab": {
          "base_uri": "https://localhost:8080/",
          "height": 979
        },
        "id": "pgY3wPNCW_qw",
        "outputId": "6c61832c-43b8-4013-f8d3-d0e53a84ab42"
      },
      "source": [
        "results = dm.get_data_by_products(config)\n",
        "df = pd.DataFrame(results, columns=['상품', '수량', '매출', '이익'])\n",
        "df.set_index('상품', inplace=True)\n",
        "df['수량'] = df.수량.astype(int)\n",
        "df['매출'] = df.매출.astype(int)\n",
        "df['이익'] = df.이익.astype(int)\n",
        "df"
      ],
      "execution_count": 16,
      "outputs": [
        {
          "output_type": "execute_result",
          "data": {
            "text/html": [
              "<div>\n",
              "<style scoped>\n",
              "    .dataframe tbody tr th:only-of-type {\n",
              "        vertical-align: middle;\n",
              "    }\n",
              "\n",
              "    .dataframe tbody tr th {\n",
              "        vertical-align: top;\n",
              "    }\n",
              "\n",
              "    .dataframe thead th {\n",
              "        text-align: right;\n",
              "    }\n",
              "</style>\n",
              "<table border=\"1\" class=\"dataframe\">\n",
              "  <thead>\n",
              "    <tr style=\"text-align: right;\">\n",
              "      <th></th>\n",
              "      <th>수량</th>\n",
              "      <th>매출</th>\n",
              "      <th>이익</th>\n",
              "    </tr>\n",
              "    <tr>\n",
              "      <th>상품</th>\n",
              "      <th></th>\n",
              "      <th></th>\n",
              "      <th></th>\n",
              "    </tr>\n",
              "  </thead>\n",
              "  <tbody>\n",
              "    <tr>\n",
              "      <th>1050T</th>\n",
              "      <td>35</td>\n",
              "      <td>3346000</td>\n",
              "      <td>301000</td>\n",
              "    </tr>\n",
              "    <tr>\n",
              "      <th>FX-8300</th>\n",
              "      <td>46</td>\n",
              "      <td>4498800</td>\n",
              "      <td>224940</td>\n",
              "    </tr>\n",
              "    <tr>\n",
              "      <th>FX-9590</th>\n",
              "      <td>56</td>\n",
              "      <td>3679200</td>\n",
              "      <td>404880</td>\n",
              "    </tr>\n",
              "    <tr>\n",
              "      <th>1700X</th>\n",
              "      <td>77</td>\n",
              "      <td>2718100</td>\n",
              "      <td>135520</td>\n",
              "    </tr>\n",
              "    <tr>\n",
              "      <th>2700X</th>\n",
              "      <td>44</td>\n",
              "      <td>594000</td>\n",
              "      <td>47520</td>\n",
              "    </tr>\n",
              "    <tr>\n",
              "      <th>3300X</th>\n",
              "      <td>34</td>\n",
              "      <td>1989000</td>\n",
              "      <td>119340</td>\n",
              "    </tr>\n",
              "    <tr>\n",
              "      <th>3700X</th>\n",
              "      <td>35</td>\n",
              "      <td>577500</td>\n",
              "      <td>57750</td>\n",
              "    </tr>\n",
              "    <tr>\n",
              "      <th>3800X</th>\n",
              "      <td>45</td>\n",
              "      <td>1692000</td>\n",
              "      <td>186300</td>\n",
              "    </tr>\n",
              "    <tr>\n",
              "      <th>5600X</th>\n",
              "      <td>46</td>\n",
              "      <td>2695600</td>\n",
              "      <td>377200</td>\n",
              "    </tr>\n",
              "    <tr>\n",
              "      <th>5900X</th>\n",
              "      <td>22</td>\n",
              "      <td>583000</td>\n",
              "      <td>75680</td>\n",
              "    </tr>\n",
              "    <tr>\n",
              "      <th>RX560</th>\n",
              "      <td>34</td>\n",
              "      <td>3226600</td>\n",
              "      <td>484160</td>\n",
              "    </tr>\n",
              "    <tr>\n",
              "      <th>RX570</th>\n",
              "      <td>2</td>\n",
              "      <td>172200</td>\n",
              "      <td>24100</td>\n",
              "    </tr>\n",
              "    <tr>\n",
              "      <th>RX580</th>\n",
              "      <td>49</td>\n",
              "      <td>3866100</td>\n",
              "      <td>154840</td>\n",
              "    </tr>\n",
              "    <tr>\n",
              "      <th>RX590</th>\n",
              "      <td>97</td>\n",
              "      <td>6402000</td>\n",
              "      <td>704220</td>\n",
              "    </tr>\n",
              "    <tr>\n",
              "      <th>RX5600</th>\n",
              "      <td>37</td>\n",
              "      <td>562400</td>\n",
              "      <td>39220</td>\n",
              "    </tr>\n",
              "    <tr>\n",
              "      <th>RX5600XT</th>\n",
              "      <td>10</td>\n",
              "      <td>946000</td>\n",
              "      <td>47300</td>\n",
              "    </tr>\n",
              "    <tr>\n",
              "      <th>RX5700XT</th>\n",
              "      <td>66</td>\n",
              "      <td>3814800</td>\n",
              "      <td>533940</td>\n",
              "    </tr>\n",
              "    <tr>\n",
              "      <th>RX6700XT</th>\n",
              "      <td>38</td>\n",
              "      <td>1155200</td>\n",
              "      <td>69160</td>\n",
              "    </tr>\n",
              "    <tr>\n",
              "      <th>RX6800</th>\n",
              "      <td>33</td>\n",
              "      <td>2475000</td>\n",
              "      <td>198000</td>\n",
              "    </tr>\n",
              "    <tr>\n",
              "      <th>RX6900XT</th>\n",
              "      <td>55</td>\n",
              "      <td>4141500</td>\n",
              "      <td>83050</td>\n",
              "    </tr>\n",
              "    <tr>\n",
              "      <th>970A</th>\n",
              "      <td>39</td>\n",
              "      <td>1505400</td>\n",
              "      <td>105300</td>\n",
              "    </tr>\n",
              "    <tr>\n",
              "      <th>990FX</th>\n",
              "      <td>15</td>\n",
              "      <td>667500</td>\n",
              "      <td>33300</td>\n",
              "    </tr>\n",
              "    <tr>\n",
              "      <th>A320</th>\n",
              "      <td>52</td>\n",
              "      <td>2501200</td>\n",
              "      <td>74880</td>\n",
              "    </tr>\n",
              "    <tr>\n",
              "      <th>A520</th>\n",
              "      <td>56</td>\n",
              "      <td>2822400</td>\n",
              "      <td>113120</td>\n",
              "    </tr>\n",
              "    <tr>\n",
              "      <th>B350</th>\n",
              "      <td>76</td>\n",
              "      <td>1634000</td>\n",
              "      <td>196080</td>\n",
              "    </tr>\n",
              "    <tr>\n",
              "      <th>B450</th>\n",
              "      <td>57</td>\n",
              "      <td>1983600</td>\n",
              "      <td>158460</td>\n",
              "    </tr>\n",
              "    <tr>\n",
              "      <th>B550</th>\n",
              "      <td>19</td>\n",
              "      <td>1050700</td>\n",
              "      <td>83980</td>\n",
              "    </tr>\n",
              "    <tr>\n",
              "      <th>X370</th>\n",
              "      <td>58</td>\n",
              "      <td>1264400</td>\n",
              "      <td>63220</td>\n",
              "    </tr>\n",
              "    <tr>\n",
              "      <th>X570</th>\n",
              "      <td>56</td>\n",
              "      <td>3214400</td>\n",
              "      <td>257040</td>\n",
              "    </tr>\n",
              "  </tbody>\n",
              "</table>\n",
              "</div>"
            ],
            "text/plain": [
              "          수량       매출      이익\n",
              "상품                           \n",
              "1050T     35  3346000  301000\n",
              "FX-8300   46  4498800  224940\n",
              "FX-9590   56  3679200  404880\n",
              "1700X     77  2718100  135520\n",
              "2700X     44   594000   47520\n",
              "3300X     34  1989000  119340\n",
              "3700X     35   577500   57750\n",
              "3800X     45  1692000  186300\n",
              "5600X     46  2695600  377200\n",
              "5900X     22   583000   75680\n",
              "RX560     34  3226600  484160\n",
              "RX570      2   172200   24100\n",
              "RX580     49  3866100  154840\n",
              "RX590     97  6402000  704220\n",
              "RX5600    37   562400   39220\n",
              "RX5600XT  10   946000   47300\n",
              "RX5700XT  66  3814800  533940\n",
              "RX6700XT  38  1155200   69160\n",
              "RX6800    33  2475000  198000\n",
              "RX6900XT  55  4141500   83050\n",
              "970A      39  1505400  105300\n",
              "990FX     15   667500   33300\n",
              "A320      52  2501200   74880\n",
              "A520      56  2822400  113120\n",
              "B350      76  1634000  196080\n",
              "B450      57  1983600  158460\n",
              "B550      19  1050700   83980\n",
              "X370      58  1264400   63220\n",
              "X570      56  3214400  257040"
            ]
          },
          "metadata": {},
          "execution_count": 16
        }
      ]
    },
    {
      "cell_type": "markdown",
      "metadata": {
        "id": "mb6toTar72c0"
      },
      "source": [
        "### 그래프"
      ]
    },
    {
      "cell_type": "code",
      "metadata": {
        "colab": {
          "base_uri": "https://localhost:8080/",
          "height": 612
        },
        "id": "W6Vl_ktE720M",
        "outputId": "7c3e3966-6acf-4d17-de03-72c987c5633a"
      },
      "source": [
        "df[['매출', '이익']].sort_values(by='매출').plot.barh(rot=0, figsize=(10,10))\n",
        "plt.title('제품별 판매수량/매출/이익', size=15)\n",
        "plt.grid()\n",
        "plt.show()"
      ],
      "execution_count": 17,
      "outputs": [
        {
          "output_type": "display_data",
          "data": {
            "image/png": "[encoded data removed]",
            "text/plain": [
              "<Figure size 720x720 with 1 Axes>"
            ]
          },
          "metadata": {
            "needs_background": "light"
          }
        }
      ]
    },
    {
      "cell_type": "markdown",
      "metadata": {
        "id": "KeIUEr5kW1lE"
      },
      "source": [
        "## 카테고리별 매출/이익"
      ]
    },
    {
      "cell_type": "markdown",
      "metadata": {
        "id": "dbFbvL-fW5EY"
      },
      "source": [
        "### 표"
      ]
    },
    {
      "cell_type": "code",
      "metadata": {
        "colab": {
          "base_uri": "https://localhost:8080/",
          "height": 173
        },
        "id": "WqFLYDugXARx",
        "outputId": "a17c7a31-8d20-4d89-b84f-69fced6a84ff"
      },
      "source": [
        "results = dm.get_data_by_category(config)\n",
        "df = pd.DataFrame(results, columns=['카테고리', '매출', '이익'])\n",
        "df.set_index('카테고리', inplace=True)\n",
        "df['매출'] = df.매출.astype(int)\n",
        "df['이익'] = df.이익.astype(int)\n",
        "df['이익율'] = df.이익 / df.매출 * 100\n",
        "df"
      ],
      "execution_count": 18,
      "outputs": [
        {
          "output_type": "execute_result",
          "data": {
            "text/html": [
              "<div>\n",
              "<style scoped>\n",
              "    .dataframe tbody tr th:only-of-type {\n",
              "        vertical-align: middle;\n",
              "    }\n",
              "\n",
              "    .dataframe tbody tr th {\n",
              "        vertical-align: top;\n",
              "    }\n",
              "\n",
              "    .dataframe thead th {\n",
              "        text-align: right;\n",
              "    }\n",
              "</style>\n",
              "<table border=\"1\" class=\"dataframe\">\n",
              "  <thead>\n",
              "    <tr style=\"text-align: right;\">\n",
              "      <th></th>\n",
              "      <th>매출</th>\n",
              "      <th>이익</th>\n",
              "      <th>이익율</th>\n",
              "    </tr>\n",
              "    <tr>\n",
              "      <th>카테고리</th>\n",
              "      <th></th>\n",
              "      <th></th>\n",
              "      <th></th>\n",
              "    </tr>\n",
              "  </thead>\n",
              "  <tbody>\n",
              "    <tr>\n",
              "      <th>CPU</th>\n",
              "      <td>22373200</td>\n",
              "      <td>1930130</td>\n",
              "      <td>8.6</td>\n",
              "    </tr>\n",
              "    <tr>\n",
              "      <th>GPU</th>\n",
              "      <td>26761800</td>\n",
              "      <td>2337990</td>\n",
              "      <td>8.7</td>\n",
              "    </tr>\n",
              "    <tr>\n",
              "      <th>MB</th>\n",
              "      <td>16643600</td>\n",
              "      <td>1085380</td>\n",
              "      <td>6.5</td>\n",
              "    </tr>\n",
              "  </tbody>\n",
              "</table>\n",
              "</div>"
            ],
            "text/plain": [
              "            매출       이익  이익율\n",
              "카테고리                        \n",
              "CPU   22373200  1930130  8.6\n",
              "GPU   26761800  2337990  8.7\n",
              "MB    16643600  1085380  6.5"
            ]
          },
          "metadata": {},
          "execution_count": 18
        }
      ]
    },
    {
      "cell_type": "markdown",
      "metadata": {
        "id": "hpfwjLi8W6Z_"
      },
      "source": [
        "### 그래프"
      ]
    },
    {
      "cell_type": "code",
      "metadata": {
        "colab": {
          "base_uri": "https://localhost:8080/",
          "height": 296
        },
        "id": "5ocs7T7DXBTX",
        "outputId": "eb19b6af-03fb-40dc-9df1-189e93397ef4"
      },
      "source": [
        "df[['매출', '이익']].plot.barh(rot=0, figsize=(10,4))\n",
        "plt.title('카테고리별 매출/이익', size=15)\n",
        "plt.grid()\n",
        "plt.show()"
      ],
      "execution_count": 19,
      "outputs": [
        {
          "output_type": "display_data",
          "data": {
            "image/png": "[encoded data removed]",
            "text/plain": [
              "<Figure size 720x288 with 1 Axes>"
            ]
          },
          "metadata": {
            "needs_background": "light"
          }
        }
      ]
    }
  ]
}