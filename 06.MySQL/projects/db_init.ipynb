{
  "nbformat": 4,
  "nbformat_minor": 0,
  "metadata": {
    "colab": {
      "name": "db_init.ipynb",
      "provenance": [],
      "collapsed_sections": []
    },
    "kernelspec": {
      "name": "python3",
      "display_name": "Python 3"
    },
    "language_info": {
      "name": "python"
    }
  },
  "cells": [
    {
      "cell_type": "code",
      "metadata": {
        "id": "yAHc7p7XzliL"
      },
      "source": [
        "!pip install pymysql > /dev/null"
      ],
      "execution_count": 1,
      "outputs": []
    },
    {
      "cell_type": "code",
      "metadata": {
        "colab": {
          "resources": {
            "http://localhost:8080/nbextensions/google.colab/files.js": {
              "data": "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",
              "ok": true,
              "headers": [
                [
                  "content-type",
                  "application/javascript"
                ]
              ],
              "status": 200,
              "status_text": ""
            }
          },
          "base_uri": "https://localhost:8080/",
          "height": 76
        },
        "id": "lKUcVrK-03Wq",
        "outputId": "5d63eb96-1b37-48cd-e465-762af59b3af7"
      },
      "source": [
        "from google.colab import files\n",
        "uploaded = files.upload()\n",
        "filename = list(uploaded.keys())[0]"
      ],
      "execution_count": 2,
      "outputs": [
        {
          "output_type": "display_data",
          "data": {
            "text/html": [
              "\n",
              "     <input type=\"file\" id=\"files-894f4c70-7147-4470-b356-12a3e8ba56ed\" name=\"files[]\" multiple disabled\n",
              "        style=\"border:none\" />\n",
              "     <output id=\"result-894f4c70-7147-4470-b356-12a3e8ba56ed\">\n",
              "      Upload widget is only available when the cell has been executed in the\n",
              "      current browser session. Please rerun this cell to enable.\n",
              "      </output>\n",
              "      <script src=\"/nbextensions/google.colab/files.js\"></script> "
            ],
            "text/plain": [
              "<IPython.core.display.HTML object>"
            ]
          },
          "metadata": {}
        },
        {
          "output_type": "stream",
          "text": [
            "Saving mysql.json to mysql.json\n"
          ],
          "name": "stdout"
        }
      ]
    },
    {
      "cell_type": "code",
      "metadata": {
        "id": "dYq4-or0039K"
      },
      "source": [
        "import json\n",
        "with open(filename) as fp:\n",
        "    config_str = fp.read()\n",
        "config = json.loads(config_str)"
      ],
      "execution_count": 3,
      "outputs": []
    },
    {
      "cell_type": "code",
      "metadata": {
        "id": "HABjCRo104Rc"
      },
      "source": [
        "import pymysql\n",
        "conn = pymysql.connect(**config)"
      ],
      "execution_count": 4,
      "outputs": []
    },
    {
      "cell_type": "code",
      "metadata": {
        "id": "jh2Z2zpqMgmd"
      },
      "source": [
        "import random\n",
        "random.seed(2021)"
      ],
      "execution_count": 5,
      "outputs": []
    },
    {
      "cell_type": "markdown",
      "metadata": {
        "id": "OT2bFiwXQIcI"
      },
      "source": [
        "## Products Table"
      ]
    },
    {
      "cell_type": "code",
      "metadata": {
        "id": "p2WoadxmMmhw"
      },
      "source": [
        "sql = '''\n",
        "CREATE TABLE if NOT EXISTS products(\n",
        "    pid INT PRIMARY KEY AUTO_INCREMENT,\n",
        "    pname VARCHAR(40) NOT NULL,\n",
        "    pprice INT UNSIGNED NOT NULL,\n",
        "    pcategory VARCHAR(20) NOT NULL,\n",
        "    pcost INT UNSIGNED NOT NULL\n",
        ") AUTO_INCREMENT=11;\n",
        "'''"
      ],
      "execution_count": 6,
      "outputs": []
    },
    {
      "cell_type": "code",
      "metadata": {
        "colab": {
          "base_uri": "https://localhost:8080/"
        },
        "id": "NTmNQcygQPh3",
        "outputId": "5890e44d-2970-4310-91f1-d9c58ef30015"
      },
      "source": [
        "cur = conn.cursor()\n",
        "cur.execute(sql)"
      ],
      "execution_count": 7,
      "outputs": [
        {
          "output_type": "execute_result",
          "data": {
            "text/plain": [
              "0"
            ]
          },
          "metadata": {},
          "execution_count": 7
        }
      ]
    },
    {
      "cell_type": "code",
      "metadata": {
        "id": "NkRBc4duQR8v"
      },
      "source": [
        "cpu_goods = ['1050T', 'FX-8300', 'FX-9590', '1700X', '2700X',\n",
        "             '3300X', '3700X', '3800X', '5600X', '5900X']\n",
        "gpu_goods = ['RX560', 'RX570', 'RX580', 'RX590', 'RX5600',\n",
        "             'RX5600XT', 'RX5700XT', 'RX6700XT', 'RX6800', 'RX6900XT']\n",
        "mb_goods = ['970A', '990FX', 'A320', 'A520', 'B350',\n",
        "            'B450', 'B550', 'X370', 'X470', 'X570']\n",
        "ctg_names = ['CPU', 'GPU', 'MB']"
      ],
      "execution_count": 8,
      "outputs": []
    },
    {
      "cell_type": "code",
      "metadata": {
        "id": "JeKOkTpaTNWz"
      },
      "source": [
        "sql = '''\n",
        "INSERT INTO products(pname, pprice, pcategory, pcost)\n",
        "VALUES(%s, %s, %s, %s);\n",
        "'''"
      ],
      "execution_count": 9,
      "outputs": []
    },
    {
      "cell_type": "code",
      "metadata": {
        "id": "D8b5hdqITdQ2"
      },
      "source": [
        "for i, item_list in enumerate([cpu_goods, gpu_goods, mb_goods]):\n",
        "    for item in item_list:\n",
        "        price = random.randint(100, 999) * 100\n",
        "        rate = random.randint(85, 98)\n",
        "        cost = int(round(price * rate / 1000) * 10)\n",
        "        cur.execute(sql, (item, price, ctg_names[i], cost))\n",
        "conn.commit()"
      ],
      "execution_count": 10,
      "outputs": []
    },
    {
      "cell_type": "markdown",
      "metadata": {
        "id": "3wtwKBlVUCMG"
      },
      "source": [
        "## Sales Table"
      ]
    },
    {
      "cell_type": "code",
      "metadata": {
        "id": "9OLusNP4Mpu2"
      },
      "source": [
        "sql = '''\n",
        "CREATE TABLE if NOT EXISTS sales(\n",
        "    sid INT PRIMARY KEY AUTO_INCREMENT,\n",
        "    sdate DATE NOT NULL,\n",
        "    scompany VARCHAR(20) NOT NULL,\n",
        "    spid INT NOT NULL,\n",
        "    sunit INT NOT NULL,\n",
        "    FOREIGN KEY(spid) REFERENCES products(pid)\n",
        ") AUTO_INCREMENT=101;\n",
        "'''"
      ],
      "execution_count": 11,
      "outputs": []
    },
    {
      "cell_type": "code",
      "metadata": {
        "colab": {
          "base_uri": "https://localhost:8080/"
        },
        "id": "aifFcs09ZZPm",
        "outputId": "3243b114-1693-471d-d9d6-4c353ebdca09"
      },
      "source": [
        "cur = conn.cursor()\n",
        "cur.execute(sql)"
      ],
      "execution_count": 12,
      "outputs": [
        {
          "output_type": "execute_result",
          "data": {
            "text/plain": [
              "0"
            ]
          },
          "metadata": {},
          "execution_count": 12
        }
      ]
    },
    {
      "cell_type": "code",
      "metadata": {
        "id": "pDuLujXUUQkc"
      },
      "source": [
        "calender = {1:31, 2:29, 3:31, 4:30, 5:31, 6:30, 7:31, 8:31, 9:30, 10:31, 11:30, 12:31}\n",
        "company_list = ['AMD', 'INTEL', 'SAMSUNG', 'TSMC', 'NVIDIA']"
      ],
      "execution_count": 13,
      "outputs": []
    },
    {
      "cell_type": "code",
      "metadata": {
        "colab": {
          "base_uri": "https://localhost:8080/"
        },
        "id": "0ba1WIu-9z_p",
        "outputId": "780eaeed-6937-42d0-c324-6fa70a24d236"
      },
      "source": [
        "for i in range(10):\n",
        "    date = f'2020-1-{random.randint(1, 31)}'\n",
        "    company = company_list[random.randint(0, 4)]\n",
        "    pid = random.randint(11, 40)\n",
        "    unit = random.randint(1, 20)\n",
        "    print(date, company, pid, unit)"
      ],
      "execution_count": 14,
      "outputs": [
        {
          "output_type": "stream",
          "text": [
            "2020-1-10 INTEL 19 1\n",
            "2020-1-1 NVIDIA 35 8\n",
            "2020-1-7 INTEL 37 8\n",
            "2020-1-13 TSMC 29 12\n",
            "2020-1-23 SAMSUNG 12 9\n",
            "2020-1-3 AMD 16 19\n",
            "2020-1-15 INTEL 29 5\n",
            "2020-1-21 TSMC 23 9\n",
            "2020-1-14 INTEL 31 14\n",
            "2020-1-5 NVIDIA 37 16\n"
          ],
          "name": "stdout"
        }
      ]
    },
    {
      "cell_type": "code",
      "metadata": {
        "id": "7P3VayAc98Hr"
      },
      "source": [
        "sql = '''\n",
        "INSERT INTO sales VALUES(default, %s, %s, %s, %s);\n",
        "'''"
      ],
      "execution_count": 15,
      "outputs": []
    },
    {
      "cell_type": "code",
      "metadata": {
        "id": "hwEf0G421iQG"
      },
      "source": [
        "for month, day in calender.items():\n",
        "    for i in range(10):\n",
        "        date = f'2020-{month}-{random.randint(1, day)}'\n",
        "        company = company_list[random.randint(0, 4)]\n",
        "        pid = random.randint(11, 40)\n",
        "        unit = random.randint(1, 20)\n",
        "        cur.execute(sql, (date, company, pid, unit))\n",
        "conn.commit()"
      ],
      "execution_count": 16,
      "outputs": []
    },
    {
      "cell_type": "markdown",
      "metadata": {
        "id": "XjUszhP2-pJK"
      },
      "source": [
        "## Products Table <- Join -> Sales Table (View)"
      ]
    },
    {
      "cell_type": "code",
      "metadata": {
        "id": "rBNmTSmu-pj9"
      },
      "source": [
        "sql = '''\n",
        "CREATE VIEW sales_book AS\n",
        "SELECT sid, sdate, scompany, pid, pname, pcategory,\n",
        "pprice, sunit, pcost, pprice*sunit AS revenue,\n",
        "(pprice-pcost)*sunit AS profit\n",
        "FROM sales\n",
        "JOIN products\n",
        "ON sales.spid = products.pid\n",
        "ORDER BY sdate;\n",
        "'''"
      ],
      "execution_count": 17,
      "outputs": []
    },
    {
      "cell_type": "code",
      "metadata": {
        "colab": {
          "base_uri": "https://localhost:8080/"
        },
        "id": "atzqFTu6_abT",
        "outputId": "b0e96bf7-8c33-46c3-ada5-86ddaed4f7d1"
      },
      "source": [
        "cur = conn.cursor()\n",
        "cur.execute(sql)"
      ],
      "execution_count": 18,
      "outputs": [
        {
          "output_type": "execute_result",
          "data": {
            "text/plain": [
              "0"
            ]
          },
          "metadata": {},
          "execution_count": 18
        }
      ]
    },
    {
      "cell_type": "markdown",
      "metadata": {
        "id": "VavcqDnK_hV-"
      },
      "source": [
        "### sales_book.csv"
      ]
    },
    {
      "cell_type": "code",
      "metadata": {
        "id": "E7PUwyqb_j-d"
      },
      "source": [
        "sql = '''\n",
        "SELECT * FROM sales_book;\n",
        "'''\n",
        "cur.execute(sql)\n",
        "results = cur.fetchall()"
      ],
      "execution_count": 19,
      "outputs": []
    },
    {
      "cell_type": "code",
      "metadata": {
        "colab": {
          "base_uri": "https://localhost:8080/",
          "height": 204
        },
        "id": "BvN6oHPx_2oc",
        "outputId": "63cf63d7-2a9c-4d64-9883-de4b73e137ab"
      },
      "source": [
        "import pandas as pd\n",
        "df = pd.DataFrame(results)\n",
        "df.head()"
      ],
      "execution_count": 20,
      "outputs": [
        {
          "output_type": "execute_result",
          "data": {
            "text/html": [
              "<div>\n",
              "<style scoped>\n",
              "    .dataframe tbody tr th:only-of-type {\n",
              "        vertical-align: middle;\n",
              "    }\n",
              "\n",
              "    .dataframe tbody tr th {\n",
              "        vertical-align: top;\n",
              "    }\n",
              "\n",
              "    .dataframe thead th {\n",
              "        text-align: right;\n",
              "    }\n",
              "</style>\n",
              "<table border=\"1\" class=\"dataframe\">\n",
              "  <thead>\n",
              "    <tr style=\"text-align: right;\">\n",
              "      <th></th>\n",
              "      <th>0</th>\n",
              "      <th>1</th>\n",
              "      <th>2</th>\n",
              "      <th>3</th>\n",
              "      <th>4</th>\n",
              "      <th>5</th>\n",
              "      <th>6</th>\n",
              "      <th>7</th>\n",
              "      <th>8</th>\n",
              "      <th>9</th>\n",
              "      <th>10</th>\n",
              "    </tr>\n",
              "  </thead>\n",
              "  <tbody>\n",
              "    <tr>\n",
              "      <th>0</th>\n",
              "      <td>108</td>\n",
              "      <td>2020-01-01</td>\n",
              "      <td>SAMSUNG</td>\n",
              "      <td>34</td>\n",
              "      <td>A520</td>\n",
              "      <td>MB</td>\n",
              "      <td>50400</td>\n",
              "      <td>11</td>\n",
              "      <td>48380</td>\n",
              "      <td>554400</td>\n",
              "      <td>22220</td>\n",
              "    </tr>\n",
              "    <tr>\n",
              "      <th>1</th>\n",
              "      <td>102</td>\n",
              "      <td>2020-01-01</td>\n",
              "      <td>TSMC</td>\n",
              "      <td>40</td>\n",
              "      <td>X570</td>\n",
              "      <td>MB</td>\n",
              "      <td>57400</td>\n",
              "      <td>18</td>\n",
              "      <td>52810</td>\n",
              "      <td>1033200</td>\n",
              "      <td>82620</td>\n",
              "    </tr>\n",
              "    <tr>\n",
              "      <th>2</th>\n",
              "      <td>104</td>\n",
              "      <td>2020-01-03</td>\n",
              "      <td>NVIDIA</td>\n",
              "      <td>13</td>\n",
              "      <td>FX-9590</td>\n",
              "      <td>CPU</td>\n",
              "      <td>65700</td>\n",
              "      <td>14</td>\n",
              "      <td>58470</td>\n",
              "      <td>919800</td>\n",
              "      <td>101220</td>\n",
              "    </tr>\n",
              "    <tr>\n",
              "      <th>3</th>\n",
              "      <td>106</td>\n",
              "      <td>2020-01-06</td>\n",
              "      <td>TSMC</td>\n",
              "      <td>16</td>\n",
              "      <td>3300X</td>\n",
              "      <td>CPU</td>\n",
              "      <td>58500</td>\n",
              "      <td>12</td>\n",
              "      <td>54990</td>\n",
              "      <td>702000</td>\n",
              "      <td>42120</td>\n",
              "    </tr>\n",
              "    <tr>\n",
              "      <th>4</th>\n",
              "      <td>107</td>\n",
              "      <td>2020-01-07</td>\n",
              "      <td>INTEL</td>\n",
              "      <td>13</td>\n",
              "      <td>FX-9590</td>\n",
              "      <td>CPU</td>\n",
              "      <td>65700</td>\n",
              "      <td>4</td>\n",
              "      <td>58470</td>\n",
              "      <td>262800</td>\n",
              "      <td>28920</td>\n",
              "    </tr>\n",
              "  </tbody>\n",
              "</table>\n",
              "</div>"
            ],
            "text/plain": [
              "    0           1        2   3        4   ...     6   7      8        9       10\n",
              "0  108  2020-01-01  SAMSUNG  34     A520  ...  50400  11  48380   554400   22220\n",
              "1  102  2020-01-01     TSMC  40     X570  ...  57400  18  52810  1033200   82620\n",
              "2  104  2020-01-03   NVIDIA  13  FX-9590  ...  65700  14  58470   919800  101220\n",
              "3  106  2020-01-06     TSMC  16    3300X  ...  58500  12  54990   702000   42120\n",
              "4  107  2020-01-07    INTEL  13  FX-9590  ...  65700   4  58470   262800   28920\n",
              "\n",
              "[5 rows x 11 columns]"
            ]
          },
          "metadata": {},
          "execution_count": 20
        }
      ]
    },
    {
      "cell_type": "code",
      "metadata": {
        "id": "hlyAeP9MACUx"
      },
      "source": [
        "del df[0]\n",
        "del df[3]"
      ],
      "execution_count": 21,
      "outputs": []
    },
    {
      "cell_type": "code",
      "metadata": {
        "colab": {
          "base_uri": "https://localhost:8080/",
          "height": 204
        },
        "id": "y0c_3E88AF_g",
        "outputId": "324a40f5-68e4-43f5-b1b2-17cb6fcf0309"
      },
      "source": [
        "df.columns = ['판매일자', '판매처', '상품명', '카테고리',\n",
        "              '단가', '수량', '원가', '매출액', '이익']\n",
        "df.head()"
      ],
      "execution_count": 22,
      "outputs": [
        {
          "output_type": "execute_result",
          "data": {
            "text/html": [
              "<div>\n",
              "<style scoped>\n",
              "    .dataframe tbody tr th:only-of-type {\n",
              "        vertical-align: middle;\n",
              "    }\n",
              "\n",
              "    .dataframe tbody tr th {\n",
              "        vertical-align: top;\n",
              "    }\n",
              "\n",
              "    .dataframe thead th {\n",
              "        text-align: right;\n",
              "    }\n",
              "</style>\n",
              "<table border=\"1\" class=\"dataframe\">\n",
              "  <thead>\n",
              "    <tr style=\"text-align: right;\">\n",
              "      <th></th>\n",
              "      <th>판매일자</th>\n",
              "      <th>판매처</th>\n",
              "      <th>상품명</th>\n",
              "      <th>카테고리</th>\n",
              "      <th>단가</th>\n",
              "      <th>수량</th>\n",
              "      <th>원가</th>\n",
              "      <th>매출액</th>\n",
              "      <th>이익</th>\n",
              "    </tr>\n",
              "  </thead>\n",
              "  <tbody>\n",
              "    <tr>\n",
              "      <th>0</th>\n",
              "      <td>2020-01-01</td>\n",
              "      <td>SAMSUNG</td>\n",
              "      <td>A520</td>\n",
              "      <td>MB</td>\n",
              "      <td>50400</td>\n",
              "      <td>11</td>\n",
              "      <td>48380</td>\n",
              "      <td>554400</td>\n",
              "      <td>22220</td>\n",
              "    </tr>\n",
              "    <tr>\n",
              "      <th>1</th>\n",
              "      <td>2020-01-01</td>\n",
              "      <td>TSMC</td>\n",
              "      <td>X570</td>\n",
              "      <td>MB</td>\n",
              "      <td>57400</td>\n",
              "      <td>18</td>\n",
              "      <td>52810</td>\n",
              "      <td>1033200</td>\n",
              "      <td>82620</td>\n",
              "    </tr>\n",
              "    <tr>\n",
              "      <th>2</th>\n",
              "      <td>2020-01-03</td>\n",
              "      <td>NVIDIA</td>\n",
              "      <td>FX-9590</td>\n",
              "      <td>CPU</td>\n",
              "      <td>65700</td>\n",
              "      <td>14</td>\n",
              "      <td>58470</td>\n",
              "      <td>919800</td>\n",
              "      <td>101220</td>\n",
              "    </tr>\n",
              "    <tr>\n",
              "      <th>3</th>\n",
              "      <td>2020-01-06</td>\n",
              "      <td>TSMC</td>\n",
              "      <td>3300X</td>\n",
              "      <td>CPU</td>\n",
              "      <td>58500</td>\n",
              "      <td>12</td>\n",
              "      <td>54990</td>\n",
              "      <td>702000</td>\n",
              "      <td>42120</td>\n",
              "    </tr>\n",
              "    <tr>\n",
              "      <th>4</th>\n",
              "      <td>2020-01-07</td>\n",
              "      <td>INTEL</td>\n",
              "      <td>FX-9590</td>\n",
              "      <td>CPU</td>\n",
              "      <td>65700</td>\n",
              "      <td>4</td>\n",
              "      <td>58470</td>\n",
              "      <td>262800</td>\n",
              "      <td>28920</td>\n",
              "    </tr>\n",
              "  </tbody>\n",
              "</table>\n",
              "</div>"
            ],
            "text/plain": [
              "         판매일자      판매처      상품명 카테고리     단가  수량     원가      매출액      이익\n",
              "0  2020-01-01  SAMSUNG     A520   MB  50400  11  48380   554400   22220\n",
              "1  2020-01-01     TSMC     X570   MB  57400  18  52810  1033200   82620\n",
              "2  2020-01-03   NVIDIA  FX-9590  CPU  65700  14  58470   919800  101220\n",
              "3  2020-01-06     TSMC    3300X  CPU  58500  12  54990   702000   42120\n",
              "4  2020-01-07    INTEL  FX-9590  CPU  65700   4  58470   262800   28920"
            ]
          },
          "metadata": {},
          "execution_count": 22
        }
      ]
    },
    {
      "cell_type": "code",
      "metadata": {
        "id": "xQ4lxvJdAZHX"
      },
      "source": [
        "df.to_csv('sales_book.csv', index=False)"
      ],
      "execution_count": 23,
      "outputs": []
    },
    {
      "cell_type": "code",
      "metadata": {
        "id": "OlQ0_HQTAgol"
      },
      "source": [
        "cur.close()\n",
        "conn.close()"
      ],
      "execution_count": 24,
      "outputs": []
    }
  ]
}