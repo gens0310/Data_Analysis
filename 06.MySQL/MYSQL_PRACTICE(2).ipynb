{
  "nbformat": 4,
  "nbformat_minor": 0,
  "metadata": {
    "colab": {
      "name": "MYSQL_PRACTICE(2).ipynb",
      "provenance": [],
      "collapsed_sections": []
    },
    "kernelspec": {
      "name": "python3",
      "display_name": "Python 3"
    },
    "language_info": {
      "name": "python"
    }
  },
  "cells": [
    {
      "cell_type": "markdown",
      "metadata": {
        "id": "DnO9IrHpy7XW"
      },
      "source": [
        "# MYSQL PRACTICE"
      ]
    },
    {
      "cell_type": "code",
      "metadata": {
        "id": "gcFAhTY4yq7t"
      },
      "source": [
        "!pip install pymysql > /dev/null"
      ],
      "execution_count": null,
      "outputs": []
    },
    {
      "cell_type": "code",
      "metadata": {
        "id": "V3Drpx6JzJnf"
      },
      "source": [
        "from google.colab import files\n",
        "uploaded = files.upload()\n",
        "filename = list(uploaded.keys())[0]"
      ],
      "execution_count": null,
      "outputs": []
    },
    {
      "cell_type": "code",
      "metadata": {
        "id": "9DCWfadvzN0R"
      },
      "source": [
        "import json\n",
        "with open(filename) as fp:\n",
        "    config_str = fp.read()\n",
        "config = json.loads(config_str)"
      ],
      "execution_count": null,
      "outputs": []
    },
    {
      "cell_type": "code",
      "metadata": {
        "id": "boqJhAi4zNtF"
      },
      "source": [
        "import pymysql\n",
        "conn = pymysql.connect(\n",
        "    host = config['host'],\n",
        "    user = config['user'],\n",
        "    password = config['password'],\n",
        "    database = config['database'],\n",
        "    port = config['port']\n",
        ")"
      ],
      "execution_count": null,
      "outputs": []
    },
    {
      "cell_type": "markdown",
      "metadata": {
        "id": "R2w7AKLGzS5c"
      },
      "source": [
        "## 데이터 조회"
      ]
    },
    {
      "cell_type": "code",
      "metadata": {
        "id": "2CNpKY6tzRct"
      },
      "source": [
        "sql = \"\"\"\n",
        "SELECT uid, uname, email,\n",
        "date_format(reg_date, '%Y-%m-%d %H:%i:%s') AS reg_date\n",
        "FROM users where is_deleted = 0 ORDER BY reg_date;\n",
        "\"\"\""
      ],
      "execution_count": null,
      "outputs": []
    },
    {
      "cell_type": "code",
      "metadata": {
        "id": "j0RdEmnx5FOI"
      },
      "source": [
        "cur = conn.cursor()\n",
        "cur.execute(sql)\n",
        "row = cur.fetchone()\n",
        "row"
      ],
      "execution_count": null,
      "outputs": []
    },
    {
      "cell_type": "code",
      "metadata": {
        "id": "CATI-2v25QoP"
      },
      "source": [
        "row = cur.fetchone()\n",
        "row"
      ],
      "execution_count": null,
      "outputs": []
    },
    {
      "cell_type": "markdown",
      "metadata": {
        "id": "yB-ZRTv-5R85"
      },
      "source": [
        "### 여러 건의 데이터 조회"
      ]
    },
    {
      "cell_type": "code",
      "metadata": {
        "id": "E3bJewvU5T7i"
      },
      "source": [
        "cur = conn.cursor()\n",
        "cur.execute(sql)\n",
        "rows = cur.fetchmany(3)\n",
        "rows"
      ],
      "execution_count": null,
      "outputs": []
    },
    {
      "cell_type": "markdown",
      "metadata": {
        "id": "4WtCYYob5YmL"
      },
      "source": [
        "### 모두 조회"
      ]
    },
    {
      "cell_type": "code",
      "metadata": {
        "id": "4BappTpN5a5J"
      },
      "source": [
        "cur = conn.cursor()\n",
        "cur.execute(sql)\n",
        "rows = cur.fetchall()\n",
        "rows"
      ],
      "execution_count": null,
      "outputs": []
    },
    {
      "cell_type": "markdown",
      "metadata": {
        "id": "MiYgMkE35ftQ"
      },
      "source": [
        "### 반복문 이용 조회"
      ]
    },
    {
      "cell_type": "code",
      "metadata": {
        "id": "TYuXjAmC5sMZ"
      },
      "source": [
        "cur = conn.cursor()\n",
        "cur.execute(sql)\n",
        "for row in cur:\n",
        "    print(row)"
      ],
      "execution_count": null,
      "outputs": []
    },
    {
      "cell_type": "markdown",
      "metadata": {
        "id": "1ELiFS80z4ZD"
      },
      "source": [
        "## 데이터 검색"
      ]
    },
    {
      "cell_type": "code",
      "metadata": {
        "id": "BFy95KSQz6I2"
      },
      "source": [
        "uid = 'ABC'\n",
        "sql = \"\"\"\n",
        "SELECT uid, uname, email,\n",
        "date_format(reg_date, '%%Y-%%m-%%d %%H:%%i:%%s') AS reg_date\n",
        "FROM users where is_deleted = 0 AND uid=%s;\n",
        "\"\"\""
      ],
      "execution_count": null,
      "outputs": []
    },
    {
      "cell_type": "code",
      "metadata": {
        "id": "UmLsJPsn6Bp9"
      },
      "source": [
        "cur = conn.cursor()\n",
        "cur.execute(sql_search, (uid,))\n",
        "result = cur.fetchone()\n",
        "result"
      ],
      "execution_count": null,
      "outputs": []
    },
    {
      "cell_type": "markdown",
      "metadata": {
        "id": "3F789OGn6IeX"
      },
      "source": [
        "### 데이터가 없는 경우"
      ]
    },
    {
      "cell_type": "code",
      "metadata": {
        "id": "bLyi27F36KaB"
      },
      "source": [
        "uid = 'park'\n",
        "cur = conn.cursor()\n",
        "cur.execute(sql_search, (uid,))\n",
        "result = cur.fetchone()"
      ],
      "execution_count": null,
      "outputs": []
    },
    {
      "cell_type": "code",
      "metadata": {
        "id": "nfBI6sZ_6MpN"
      },
      "source": [
        "if result:\n",
        "    print(result)\n",
        "else:\n",
        "    print(f'uid={uid}인 사용자는 없음')"
      ],
      "execution_count": null,
      "outputs": []
    },
    {
      "cell_type": "markdown",
      "metadata": {
        "id": "R6JryhjEzeTM"
      },
      "source": [
        "## 종료"
      ]
    },
    {
      "cell_type": "code",
      "metadata": {
        "id": "ieyunPqgzfh9"
      },
      "source": [
        "cur.close()\n",
        "conn.close()"
      ],
      "execution_count": null,
      "outputs": []
    }
  ]
}