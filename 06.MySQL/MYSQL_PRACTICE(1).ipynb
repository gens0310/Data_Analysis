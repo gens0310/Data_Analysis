{
  "nbformat": 4,
  "nbformat_minor": 0,
  "metadata": {
    "colab": {
      "name": "MYSQL_PRACTICE(1).ipynb",
      "provenance": [],
      "collapsed_sections": []
    },
    "kernelspec": {
      "name": "python3",
      "display_name": "Python 3"
    },
    "language_info": {
      "name": "python"
    }
  },
  "cells": [
    {
      "cell_type": "markdown",
      "metadata": {
        "id": "6piNW6y7gGAH"
      },
      "source": [
        "# MYSQL PRACTICE"
      ]
    },
    {
      "cell_type": "code",
      "metadata": {
        "id": "Xv-SDTF8fwTt"
      },
      "source": [
        "!pip install pymysql > /dev/null"
      ],
      "execution_count": null,
      "outputs": []
    },
    {
      "cell_type": "code",
      "metadata": {
        "id": "6W-sL0dxzLiT"
      },
      "source": [
        "from google.colab import files\n",
        "uploaded = files.upload()\n",
        "filename = list(uploaded.keys())[0]"
      ],
      "execution_count": null,
      "outputs": []
    },
    {
      "cell_type": "code",
      "metadata": {
        "id": "QEAxe6VlgLXw"
      },
      "source": [
        "import json\n",
        "with open(filename) as fp:\n",
        "    config_str = fp.read()\n",
        "config = json.loads(config_str)"
      ],
      "execution_count": null,
      "outputs": []
    },
    {
      "cell_type": "code",
      "metadata": {
        "id": "bRU6cxtSgM_b"
      },
      "source": [
        "import pymysql\n",
        "conn = pymysql.connect(\n",
        "    host = config['host'],\n",
        "    user = config['user'],\n",
        "    password = config['password'],\n",
        "    database = config['database'],\n",
        "    port = config['port']\n",
        ")"
      ],
      "execution_count": null,
      "outputs": []
    },
    {
      "cell_type": "markdown",
      "metadata": {
        "id": "nYFcXgedgGsB"
      },
      "source": [
        "## 테이블 생성"
      ]
    },
    {
      "cell_type": "code",
      "metadata": {
        "id": "JaUg1Kq8gHCF"
      },
      "source": [
        "cur = conn.cursor()\n",
        "sql_create_table = '''\n",
        "CREATE TABLE if NOT EXISTS users(\n",
        "    uid VARCHAR(20) NOT NULL PRIMARY KEY,\n",
        "    pwd CHAR(44) NOT NULL,\n",
        "    uname VARCHAR(20) NOT NULL,\n",
        "    email VARCHAR(40),\n",
        "    reg_date DATETIME DEFAULT CURRENT_TIMESTAMP,\n",
        "    is_deleted INT DEFAULT 0\n",
        ");\n",
        "'''\n",
        "cur.execute(sql_create_table)"
      ],
      "execution_count": null,
      "outputs": []
    },
    {
      "cell_type": "markdown",
      "metadata": {
        "id": "ahvM_33mgWKk"
      },
      "source": [
        "## 테이블 구조/이름 변경"
      ]
    },
    {
      "cell_type": "code",
      "metadata": {
        "id": "PN6s5I4uzpf5"
      },
      "source": [
        "cur.execute('ALTER TABLE users ADD COLUMN sns VARCHAR(40)')"
      ],
      "execution_count": null,
      "outputs": []
    },
    {
      "cell_type": "markdown",
      "metadata": {
        "id": "4oGBTPwTgdKb"
      },
      "source": [
        "## 테이블 삭제"
      ]
    },
    {
      "cell_type": "code",
      "metadata": {
        "id": "2hBbIJtbzr_V"
      },
      "source": [
        "cur.execute('DROP TABLE users')"
      ],
      "execution_count": null,
      "outputs": []
    },
    {
      "cell_type": "markdown",
      "metadata": {
        "id": "vbkqjKpJghGv"
      },
      "source": [
        "## 데이터 추가"
      ]
    },
    {
      "cell_type": "code",
      "metadata": {
        "id": "74wINuUkimIh"
      },
      "source": [
        "cur = conn.cursor()\n",
        "sql = '''\n",
        "CREATE TABLE if NOT EXISTS users(\n",
        "    uid VARCHAR(20) NOT NULL PRIMARY KEY,\n",
        "    pwd CHAR(44) NOT NULL,\n",
        "    uname VARCHAR(20) NOT NULL,\n",
        "    email VARCHAR(40),\n",
        "    reg_date DATETIME DEFAULT CURRENT_TIMESTAMP,\n",
        "    is_deleted INT DEFAULT 0\n",
        ");\n",
        "'''\n",
        "cur.execute(sql)"
      ],
      "execution_count": null,
      "outputs": []
    },
    {
      "cell_type": "code",
      "metadata": {
        "id": "Ws0soADNghbG"
      },
      "source": [
        "cur = conn.cursor()\n",
        "sql = \"INSERT INTO users(uid, uname, pwd) VALUES('admin', '관리자', '1234');\"\n",
        "cur.execute(sql)"
      ],
      "execution_count": null,
      "outputs": []
    },
    {
      "cell_type": "code",
      "metadata": {
        "id": "6JwkC514vuPc"
      },
      "source": [
        "sql = 'SELECT * FROM users;'\n",
        "cur.execute(sql)\n",
        "row = cur.fetchone()\n",
        "row"
      ],
      "execution_count": null,
      "outputs": []
    },
    {
      "cell_type": "code",
      "metadata": {
        "id": "ItUA1-Jdv8m_"
      },
      "source": [
        "conn.commit()"
      ],
      "execution_count": null,
      "outputs": []
    },
    {
      "cell_type": "markdown",
      "metadata": {
        "id": "187qz0YGwlQQ"
      },
      "source": [
        "### 여러 건의 데이터 추가"
      ]
    },
    {
      "cell_type": "code",
      "metadata": {
        "id": "mpMFW8ADwnx2"
      },
      "source": [
        "sql = \"\"\"\n",
        "INSERT INTO users(uid, uname, pwd) VALUES\n",
        "('ABC', '철수', '1234'),\n",
        "('DEF', '영희', '5678');\n",
        "\"\"\"\n",
        "cur.execute(sql)"
      ],
      "execution_count": null,
      "outputs": []
    },
    {
      "cell_type": "code",
      "metadata": {
        "id": "R5R1l4M9woIe"
      },
      "source": [
        "conn.commit()"
      ],
      "execution_count": null,
      "outputs": []
    },
    {
      "cell_type": "markdown",
      "metadata": {
        "id": "Ovb1bNF4xSVH"
      },
      "source": [
        "### Place Holder"
      ]
    },
    {
      "cell_type": "code",
      "metadata": {
        "id": "pNhbqQnVxU34"
      },
      "source": [
        "uid = 'GHI'\n",
        "uname = '동철'\n",
        "sql = \"INSERT INTO users(uid, uname, pwd) VALUES(%s, %s, '0000');\"\n",
        "cur.execute(sql, (uid, uname))"
      ],
      "execution_count": null,
      "outputs": []
    },
    {
      "cell_type": "code",
      "metadata": {
        "id": "Q10BsJs0xZyw"
      },
      "source": [
        "conn.commit()"
      ],
      "execution_count": null,
      "outputs": []
    },
    {
      "cell_type": "markdown",
      "metadata": {
        "id": "-czDKPqDx0wQ"
      },
      "source": [
        "#### 여러 건의 데이터를 Place Holder로 추가"
      ]
    },
    {
      "cell_type": "code",
      "metadata": {
        "id": "OjEvJ5-lx6es"
      },
      "source": [
        "users = (('JKL', '미연'), ('MNO', '재희'))\n",
        "sql = \"INSERT INTO users(uid, uname, pwd) VALUES(%s, %s, '9999');\"\n",
        "cur.executemany(sql, users)"
      ],
      "execution_count": null,
      "outputs": []
    },
    {
      "cell_type": "code",
      "metadata": {
        "id": "JevoL5_-yWe5"
      },
      "source": [
        "conn.commit()"
      ],
      "execution_count": null,
      "outputs": []
    },
    {
      "cell_type": "markdown",
      "metadata": {
        "id": "hHwx9RF5x7Sh"
      },
      "source": [
        "##### 추천 방법"
      ]
    },
    {
      "cell_type": "code",
      "metadata": {
        "id": "sA3wYt1Vx6-m"
      },
      "source": [
        "users = (('JKL', '미연'), ('MNO', '재희'))\n",
        "sql = \"INSERT INTO users(uid, uname, pwd) VALUES(%s, %s, '9999');\"\n",
        "for user in users:\n",
        "    cur.execute(sql, user)"
      ],
      "execution_count": null,
      "outputs": []
    },
    {
      "cell_type": "code",
      "metadata": {
        "id": "SVvFnCfpya9O"
      },
      "source": [
        "conn.commit()"
      ],
      "execution_count": null,
      "outputs": []
    },
    {
      "cell_type": "markdown",
      "metadata": {
        "id": "TS4fDm1qy2jG"
      },
      "source": [
        "## 종료"
      ]
    },
    {
      "cell_type": "code",
      "metadata": {
        "id": "rAKyOTowy2-H"
      },
      "source": [
        "cur.close()\n",
        "conn.close()"
      ],
      "execution_count": null,
      "outputs": []
    }
  ]
}